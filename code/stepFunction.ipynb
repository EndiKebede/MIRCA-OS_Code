{
 "cells": [
  {
   "cell_type": "code",
   "execution_count": 50,
   "id": "08211880-c294-4f71-804c-7c735cc8dd40",
   "metadata": {},
   "outputs": [],
   "source": [
    "import os\n",
    "import glob\n",
    "import calendar\n",
    "\n",
    "import numpy as np\n",
    "# %load_extcudf.pandas\n",
    "import pandas as pd\n",
    "import geopandas as gpd\n",
    "\n",
    "from shapely.geometry import  mapping #shape, \n",
    "import rasterio\n",
    "# from rasterio.mask import mask\n",
    "from rasterio.features import geometry_mask\n",
    "# from contextlib import contextmanager\n",
    "\n",
    "from osgeo import gdal #, osr, ogr"
   ]
  },
  {
   "cell_type": "code",
   "execution_count": 3,
   "id": "5e3bce23-3820-4593-810e-ac0343cf9db7",
   "metadata": {},
   "outputs": [],
   "source": [
    "# @contextmanager\n",
    "# def open_tiff_file(filepath):\n",
    "#     with rasterio.open(filepath) as src:\n",
    "#         array = src.read(1)\n",
    "#         no_data_value = src.nodata\n",
    "#         if no_data_value is not None:\n",
    "#             array = np.where(array == no_data_value, 0, array)\n",
    "#         yield array\n",
    "# def get_unit_codes(root_folder):\n",
    "#     unit_codes = []\n",
    "#     for subfolder in os.listdir(root_folder):\n",
    "#         subfolder_path = os.path.join(root_folder, subfolder)\n",
    "#         if os.path.isdir(subfolder_path):\n",
    "#             for tiff_file in os.listdir(subfolder_path):\n",
    "#                 if tiff_file.endswith('.tif'):\n",
    "#                     unit_codes.append(int(tiff_file[:-4]))\n",
    "                    \n",
    "                \n",
    "#     # return sorted(unit_codes)\n",
    "\n",
    "# def read_tiff_file(subfolder_path, unit_code):\n",
    "#     tiff_file = f\"{unit_code}.tif\"\n",
    "#     tiff_file_path = os.path.join(subfolder_path, tiff_file)\n",
    "#     if os.path.exists(tiff_file_path):\n",
    "#         with open_tiff_file(tiff_file_path) as array:\n",
    "#             array = np.where(np.logical_or(np.isnan(array), np.isinf(array)), 0, array)\n",
    "#             return array\n",
    "#     else:\n",
    "#         return None\n",
    "\n",
    "\n",
    "# def read_tiff_file0(tiff_file_path):\n",
    "#     # tiff_file = f\"{unit_code}.tif\"\n",
    "#     # tiff_file_path = os.path.join(subfolder_path, tiff_file)\n",
    "#     if os.path.exists(tiff_file_path):\n",
    "#         with open_tiff_file(tiff_file_path) as array:\n",
    "#             array = np.where(np.logical_or(np.isnan(array), np.isinf(array)), 0, array)\n",
    "#             return array\n",
    "#     else:\n",
    "#         return None\n",
    "\n",
    "def createList(r1, r2):\n",
    "    # Create a list of the months betweeen planting and maturity\n",
    "    return np.arange(r1, r2+1)\n",
    "\n",
    "def getListcom(p, m):\n",
    "    # check if planting and maturity are in the same year\n",
    "    if np.any(p < m):\n",
    "        return createList(p, m)\n",
    "    else:\n",
    "        return np.concatenate((createList(p, 12), createList(1, m)))"
   ]
  },
  {
   "cell_type": "code",
   "execution_count": 4,
   "id": "c341af1c-f0af-4629-9113-efe2d5f41480",
   "metadata": {},
   "outputs": [
    {
     "data": {
      "text/html": [
       "<div>\n",
       "<style scoped>\n",
       "    .dataframe tbody tr th:only-of-type {\n",
       "        vertical-align: middle;\n",
       "    }\n",
       "\n",
       "    .dataframe tbody tr th {\n",
       "        vertical-align: top;\n",
       "    }\n",
       "\n",
       "    .dataframe thead th {\n",
       "        text-align: right;\n",
       "    }\n",
       "</style>\n",
       "<table border=\"1\" class=\"dataframe\">\n",
       "  <thead>\n",
       "    <tr style=\"text-align: right;\">\n",
       "      <th></th>\n",
       "      <th>Country</th>\n",
       "      <th>State</th>\n",
       "      <th>District</th>\n",
       "      <th>unit_code</th>\n",
       "      <th>Crop</th>\n",
       "      <th>Subcrop</th>\n",
       "      <th>Type</th>\n",
       "      <th>Growing_area</th>\n",
       "      <th>Planting_Month</th>\n",
       "      <th>Maturity_Month</th>\n",
       "    </tr>\n",
       "  </thead>\n",
       "  <tbody>\n",
       "    <tr>\n",
       "      <th>0</th>\n",
       "      <td>India</td>\n",
       "      <td>Andaman and Nicobar</td>\n",
       "      <td>Nicobar</td>\n",
       "      <td>3560001</td>\n",
       "      <td>Barley</td>\n",
       "      <td>1</td>\n",
       "      <td>Annual</td>\n",
       "      <td>0</td>\n",
       "      <td>7</td>\n",
       "      <td>11</td>\n",
       "    </tr>\n",
       "    <tr>\n",
       "      <th>1</th>\n",
       "      <td>India</td>\n",
       "      <td>Andaman and Nicobar</td>\n",
       "      <td>North &amp; Middle Andaman</td>\n",
       "      <td>3560002</td>\n",
       "      <td>Barley</td>\n",
       "      <td>1</td>\n",
       "      <td>Annual</td>\n",
       "      <td>0</td>\n",
       "      <td>7</td>\n",
       "      <td>11</td>\n",
       "    </tr>\n",
       "    <tr>\n",
       "      <th>2</th>\n",
       "      <td>India</td>\n",
       "      <td>Andaman and Nicobar</td>\n",
       "      <td>South Andaman</td>\n",
       "      <td>3560003</td>\n",
       "      <td>Barley</td>\n",
       "      <td>1</td>\n",
       "      <td>Annual</td>\n",
       "      <td>0</td>\n",
       "      <td>7</td>\n",
       "      <td>11</td>\n",
       "    </tr>\n",
       "    <tr>\n",
       "      <th>3</th>\n",
       "      <td>India</td>\n",
       "      <td>Andhra Pradesh</td>\n",
       "      <td>Adilabad</td>\n",
       "      <td>3560004</td>\n",
       "      <td>Barley</td>\n",
       "      <td>1</td>\n",
       "      <td>Annual</td>\n",
       "      <td>0</td>\n",
       "      <td>7</td>\n",
       "      <td>11</td>\n",
       "    </tr>\n",
       "    <tr>\n",
       "      <th>4</th>\n",
       "      <td>India</td>\n",
       "      <td>Andhra Pradesh</td>\n",
       "      <td>Anantapur</td>\n",
       "      <td>3560005</td>\n",
       "      <td>Barley</td>\n",
       "      <td>1</td>\n",
       "      <td>Annual</td>\n",
       "      <td>0</td>\n",
       "      <td>7</td>\n",
       "      <td>11</td>\n",
       "    </tr>\n",
       "    <tr>\n",
       "      <th>...</th>\n",
       "      <td>...</td>\n",
       "      <td>...</td>\n",
       "      <td>...</td>\n",
       "      <td>...</td>\n",
       "      <td>...</td>\n",
       "      <td>...</td>\n",
       "      <td>...</td>\n",
       "      <td>...</td>\n",
       "      <td>...</td>\n",
       "      <td>...</td>\n",
       "    </tr>\n",
       "    <tr>\n",
       "      <th>16830</th>\n",
       "      <td>India</td>\n",
       "      <td>Uttarakhand</td>\n",
       "      <td>Pithoragarh</td>\n",
       "      <td>3560618</td>\n",
       "      <td>Rice3</td>\n",
       "      <td>3</td>\n",
       "      <td>Annual</td>\n",
       "      <td>1498</td>\n",
       "      <td>12</td>\n",
       "      <td>3</td>\n",
       "    </tr>\n",
       "    <tr>\n",
       "      <th>16831</th>\n",
       "      <td>India</td>\n",
       "      <td>Uttarakhand</td>\n",
       "      <td>Rudraprayag</td>\n",
       "      <td>3560619</td>\n",
       "      <td>Rice3</td>\n",
       "      <td>3</td>\n",
       "      <td>Annual</td>\n",
       "      <td>948</td>\n",
       "      <td>12</td>\n",
       "      <td>3</td>\n",
       "    </tr>\n",
       "    <tr>\n",
       "      <th>16832</th>\n",
       "      <td>India</td>\n",
       "      <td>Uttarakhand</td>\n",
       "      <td>Tehri Garhwal</td>\n",
       "      <td>3560620</td>\n",
       "      <td>Rice3</td>\n",
       "      <td>3</td>\n",
       "      <td>Annual</td>\n",
       "      <td>3032</td>\n",
       "      <td>12</td>\n",
       "      <td>3</td>\n",
       "    </tr>\n",
       "    <tr>\n",
       "      <th>16833</th>\n",
       "      <td>India</td>\n",
       "      <td>Uttarakhand</td>\n",
       "      <td>Udham Singh Nagar</td>\n",
       "      <td>3560621</td>\n",
       "      <td>Rice3</td>\n",
       "      <td>3</td>\n",
       "      <td>Annual</td>\n",
       "      <td>32259</td>\n",
       "      <td>12</td>\n",
       "      <td>3</td>\n",
       "    </tr>\n",
       "    <tr>\n",
       "      <th>16834</th>\n",
       "      <td>India</td>\n",
       "      <td>Uttarakhand</td>\n",
       "      <td>Uttarkashi</td>\n",
       "      <td>3560622</td>\n",
       "      <td>Rice3</td>\n",
       "      <td>3</td>\n",
       "      <td>Annual</td>\n",
       "      <td>1464</td>\n",
       "      <td>12</td>\n",
       "      <td>3</td>\n",
       "    </tr>\n",
       "  </tbody>\n",
       "</table>\n",
       "<p>16835 rows × 10 columns</p>\n",
       "</div>"
      ],
      "text/plain": [
       "      Country                State                District  unit_code    Crop  \\\n",
       "0       India  Andaman and Nicobar                 Nicobar    3560001  Barley   \n",
       "1       India  Andaman and Nicobar  North & Middle Andaman    3560002  Barley   \n",
       "2       India  Andaman and Nicobar           South Andaman    3560003  Barley   \n",
       "3       India       Andhra Pradesh                Adilabad    3560004  Barley   \n",
       "4       India       Andhra Pradesh               Anantapur    3560005  Barley   \n",
       "...       ...                  ...                     ...        ...     ...   \n",
       "16830   India          Uttarakhand             Pithoragarh    3560618   Rice3   \n",
       "16831   India          Uttarakhand             Rudraprayag    3560619   Rice3   \n",
       "16832   India          Uttarakhand           Tehri Garhwal    3560620   Rice3   \n",
       "16833   India          Uttarakhand       Udham Singh Nagar    3560621   Rice3   \n",
       "16834   India          Uttarakhand              Uttarkashi    3560622   Rice3   \n",
       "\n",
       "       Subcrop    Type  Growing_area  Planting_Month  Maturity_Month  \n",
       "0            1  Annual             0               7              11  \n",
       "1            1  Annual             0               7              11  \n",
       "2            1  Annual             0               7              11  \n",
       "3            1  Annual             0               7              11  \n",
       "4            1  Annual             0               7              11  \n",
       "...        ...     ...           ...             ...             ...  \n",
       "16830        3  Annual          1498              12               3  \n",
       "16831        3  Annual           948              12               3  \n",
       "16832        3  Annual          3032              12               3  \n",
       "16833        3  Annual         32259              12               3  \n",
       "16834        3  Annual          1464              12               3  \n",
       "\n",
       "[16835 rows x 10 columns]"
      ]
     },
     "execution_count": 4,
     "metadata": {},
     "output_type": "execute_result"
    }
   ],
   "source": [
    "# cCropCal = pd.read_csv(\"step1/hypothetical_ccc3.csv\")\n",
    "cCropCal = pd.read_csv(\"../data/CropCalender/2000_ir.csv\")\n",
    "\n",
    "cCropCal"
   ]
  },
  {
   "cell_type": "code",
   "execution_count": 5,
   "id": "9d0e7ec6-18e8-4db3-a2dd-3684591f0d72",
   "metadata": {},
   "outputs": [
    {
     "name": "stderr",
     "output_type": "stream",
     "text": [
      "/tmp/ipykernel_55/1745104835.py:11: DeprecationWarning: DataFrameGroupBy.apply operated on the grouping columns. This behavior is deprecated, and in a future version of pandas the grouping columns will be excluded from the operation. Either pass `include_groups=False` to exclude the groupings or explicitly select the grouping columns after groupby to silence this warning.\n",
      "  .apply(rank_crops) \\\n"
     ]
    },
    {
     "data": {
      "text/html": [
       "<div>\n",
       "<style scoped>\n",
       "    .dataframe tbody tr th:only-of-type {\n",
       "        vertical-align: middle;\n",
       "    }\n",
       "\n",
       "    .dataframe tbody tr th {\n",
       "        vertical-align: top;\n",
       "    }\n",
       "\n",
       "    .dataframe thead th {\n",
       "        text-align: right;\n",
       "    }\n",
       "</style>\n",
       "<table border=\"1\" class=\"dataframe\">\n",
       "  <thead>\n",
       "    <tr style=\"text-align: right;\">\n",
       "      <th></th>\n",
       "      <th>rank</th>\n",
       "      <th>Country</th>\n",
       "      <th>State</th>\n",
       "      <th>District</th>\n",
       "      <th>unit_code</th>\n",
       "      <th>Crop</th>\n",
       "      <th>Subcrop</th>\n",
       "      <th>Type</th>\n",
       "      <th>Growing_area</th>\n",
       "      <th>Planting_Month</th>\n",
       "      <th>Maturity_Month</th>\n",
       "    </tr>\n",
       "  </thead>\n",
       "  <tbody>\n",
       "    <tr>\n",
       "      <th>0</th>\n",
       "      <td>1</td>\n",
       "      <td>India</td>\n",
       "      <td>Andaman and Nicobar</td>\n",
       "      <td>Nicobar</td>\n",
       "      <td>3560001</td>\n",
       "      <td>Barley</td>\n",
       "      <td>1</td>\n",
       "      <td>Annual</td>\n",
       "      <td>0</td>\n",
       "      <td>7</td>\n",
       "      <td>11</td>\n",
       "    </tr>\n",
       "    <tr>\n",
       "      <th>1</th>\n",
       "      <td>2</td>\n",
       "      <td>India</td>\n",
       "      <td>Andaman and Nicobar</td>\n",
       "      <td>Nicobar</td>\n",
       "      <td>3560001</td>\n",
       "      <td>Cassava</td>\n",
       "      <td>1</td>\n",
       "      <td>Annual</td>\n",
       "      <td>0</td>\n",
       "      <td>11</td>\n",
       "      <td>3</td>\n",
       "    </tr>\n",
       "    <tr>\n",
       "      <th>2</th>\n",
       "      <td>3</td>\n",
       "      <td>India</td>\n",
       "      <td>Andaman and Nicobar</td>\n",
       "      <td>Nicobar</td>\n",
       "      <td>3560001</td>\n",
       "      <td>Wheat1</td>\n",
       "      <td>1</td>\n",
       "      <td>Annual</td>\n",
       "      <td>0</td>\n",
       "      <td>12</td>\n",
       "      <td>4</td>\n",
       "    </tr>\n",
       "    <tr>\n",
       "      <th>3</th>\n",
       "      <td>4</td>\n",
       "      <td>India</td>\n",
       "      <td>Andaman and Nicobar</td>\n",
       "      <td>Nicobar</td>\n",
       "      <td>3560001</td>\n",
       "      <td>Sunflower</td>\n",
       "      <td>1</td>\n",
       "      <td>Annual</td>\n",
       "      <td>0</td>\n",
       "      <td>7</td>\n",
       "      <td>11</td>\n",
       "    </tr>\n",
       "    <tr>\n",
       "      <th>4</th>\n",
       "      <td>5</td>\n",
       "      <td>India</td>\n",
       "      <td>Andaman and Nicobar</td>\n",
       "      <td>Nicobar</td>\n",
       "      <td>3560001</td>\n",
       "      <td>Sugar cane</td>\n",
       "      <td>1</td>\n",
       "      <td>Perennial</td>\n",
       "      <td>0</td>\n",
       "      <td>1</td>\n",
       "      <td>12</td>\n",
       "    </tr>\n",
       "    <tr>\n",
       "      <th>...</th>\n",
       "      <td>...</td>\n",
       "      <td>...</td>\n",
       "      <td>...</td>\n",
       "      <td>...</td>\n",
       "      <td>...</td>\n",
       "      <td>...</td>\n",
       "      <td>...</td>\n",
       "      <td>...</td>\n",
       "      <td>...</td>\n",
       "      <td>...</td>\n",
       "      <td>...</td>\n",
       "    </tr>\n",
       "    <tr>\n",
       "      <th>16830</th>\n",
       "      <td>22</td>\n",
       "      <td>India</td>\n",
       "      <td>West Bengal</td>\n",
       "      <td>Uttar Dinajpur</td>\n",
       "      <td>3560641</td>\n",
       "      <td>Fodder</td>\n",
       "      <td>1</td>\n",
       "      <td>Fodder</td>\n",
       "      <td>0</td>\n",
       "      <td>1</td>\n",
       "      <td>12</td>\n",
       "    </tr>\n",
       "    <tr>\n",
       "      <th>16831</th>\n",
       "      <td>23</td>\n",
       "      <td>India</td>\n",
       "      <td>West Bengal</td>\n",
       "      <td>Uttar Dinajpur</td>\n",
       "      <td>3560641</td>\n",
       "      <td>Cotton</td>\n",
       "      <td>1</td>\n",
       "      <td>Annual</td>\n",
       "      <td>0</td>\n",
       "      <td>10</td>\n",
       "      <td>7</td>\n",
       "    </tr>\n",
       "    <tr>\n",
       "      <th>16832</th>\n",
       "      <td>24</td>\n",
       "      <td>India</td>\n",
       "      <td>West Bengal</td>\n",
       "      <td>Uttar Dinajpur</td>\n",
       "      <td>3560641</td>\n",
       "      <td>Coffee</td>\n",
       "      <td>1</td>\n",
       "      <td>Perennial</td>\n",
       "      <td>0</td>\n",
       "      <td>1</td>\n",
       "      <td>12</td>\n",
       "    </tr>\n",
       "    <tr>\n",
       "      <th>16833</th>\n",
       "      <td>25</td>\n",
       "      <td>India</td>\n",
       "      <td>West Bengal</td>\n",
       "      <td>Uttar Dinajpur</td>\n",
       "      <td>3560641</td>\n",
       "      <td>Cocoa</td>\n",
       "      <td>1</td>\n",
       "      <td>Perennial</td>\n",
       "      <td>0</td>\n",
       "      <td>1</td>\n",
       "      <td>12</td>\n",
       "    </tr>\n",
       "    <tr>\n",
       "      <th>16834</th>\n",
       "      <td>26</td>\n",
       "      <td>India</td>\n",
       "      <td>West Bengal</td>\n",
       "      <td>Uttar Dinajpur</td>\n",
       "      <td>3560641</td>\n",
       "      <td>Wheat2</td>\n",
       "      <td>1</td>\n",
       "      <td>Annual</td>\n",
       "      <td>0</td>\n",
       "      <td>11</td>\n",
       "      <td>3</td>\n",
       "    </tr>\n",
       "  </tbody>\n",
       "</table>\n",
       "<p>16835 rows × 11 columns</p>\n",
       "</div>"
      ],
      "text/plain": [
       "       rank Country                State        District  unit_code  \\\n",
       "0         1   India  Andaman and Nicobar         Nicobar    3560001   \n",
       "1         2   India  Andaman and Nicobar         Nicobar    3560001   \n",
       "2         3   India  Andaman and Nicobar         Nicobar    3560001   \n",
       "3         4   India  Andaman and Nicobar         Nicobar    3560001   \n",
       "4         5   India  Andaman and Nicobar         Nicobar    3560001   \n",
       "...     ...     ...                  ...             ...        ...   \n",
       "16830    22   India          West Bengal  Uttar Dinajpur    3560641   \n",
       "16831    23   India          West Bengal  Uttar Dinajpur    3560641   \n",
       "16832    24   India          West Bengal  Uttar Dinajpur    3560641   \n",
       "16833    25   India          West Bengal  Uttar Dinajpur    3560641   \n",
       "16834    26   India          West Bengal  Uttar Dinajpur    3560641   \n",
       "\n",
       "             Crop  Subcrop       Type  Growing_area  Planting_Month  \\\n",
       "0          Barley        1     Annual             0               7   \n",
       "1         Cassava        1     Annual             0              11   \n",
       "2          Wheat1        1     Annual             0              12   \n",
       "3       Sunflower        1     Annual             0               7   \n",
       "4      Sugar cane        1  Perennial             0               1   \n",
       "...           ...      ...        ...           ...             ...   \n",
       "16830      Fodder        1     Fodder             0               1   \n",
       "16831      Cotton        1     Annual             0              10   \n",
       "16832      Coffee        1  Perennial             0               1   \n",
       "16833       Cocoa        1  Perennial             0               1   \n",
       "16834      Wheat2        1     Annual             0              11   \n",
       "\n",
       "       Maturity_Month  \n",
       "0                  11  \n",
       "1                   3  \n",
       "2                   4  \n",
       "3                  11  \n",
       "4                  12  \n",
       "...               ...  \n",
       "16830              12  \n",
       "16831               7  \n",
       "16832              12  \n",
       "16833              12  \n",
       "16834               3  \n",
       "\n",
       "[16835 rows x 11 columns]"
      ]
     },
     "execution_count": 5,
     "metadata": {},
     "output_type": "execute_result"
    }
   ],
   "source": [
    "# rank each by crop area in each unit code\n",
    "def rank_crops(df_area):\n",
    "#     print(df_area)\n",
    "    df_area = df_area.sort_values('Growing_area', ascending=False)\n",
    "    df_area['rank'] = range(1, len(df_area) + 1)\n",
    "#     print(df_area)\n",
    "    return df_area.set_index('rank')\n",
    "    \n",
    "ranked_df = cCropCal.sort_values(['unit_code', 'Crop']) \\\n",
    "    .groupby('unit_code') \\\n",
    "    .apply(rank_crops) \\\n",
    "    .reset_index(level=0, drop=True) \\\n",
    "    .reset_index() \\\n",
    "    .sort_values(['unit_code', 'rank'], ignore_index=True)\n",
    "\n",
    "ranked_df\n"
   ]
  },
  {
   "cell_type": "code",
   "execution_count": 6,
   "id": "ffc5545c-e874-415e-9f83-0b143a59a513",
   "metadata": {},
   "outputs": [
    {
     "data": {
      "text/plain": [
       "['../data/Ras_shape_out/Rasters/CC/bar_ir_ggcmi_crop_calendar_phase3_v1.01.nc4',\n",
       " '../data/Ras_shape_out/Rasters/CC/bar_rf_ggcmi_crop_calendar_phase3_v1.01.nc4',\n",
       " '../data/Ras_shape_out/Rasters/CC/bea_ir_ggcmi_crop_calendar_phase3_v1.01.nc4',\n",
       " '../data/Ras_shape_out/Rasters/CC/bea_rf_ggcmi_crop_calendar_phase3_v1.01.nc4',\n",
       " '../data/Ras_shape_out/Rasters/CC/cas_ir_ggcmi_crop_calendar_phase3_v1.01.nc4',\n",
       " '../data/Ras_shape_out/Rasters/CC/cas_rf_ggcmi_crop_calendar_phase3_v1.01.nc4',\n",
       " '../data/Ras_shape_out/Rasters/CC/cot_ir_ggcmi_crop_calendar_phase3_v1.01.nc4',\n",
       " '../data/Ras_shape_out/Rasters/CC/cot_rf_ggcmi_crop_calendar_phase3_v1.01.nc4',\n",
       " '../data/Ras_shape_out/Rasters/CC/mai_ir_ggcmi_crop_calendar_phase3_v1.01.nc4',\n",
       " '../data/Ras_shape_out/Rasters/CC/mai_rf_ggcmi_crop_calendar_phase3_v1.01.nc4',\n",
       " '../data/Ras_shape_out/Rasters/CC/mil_ir_ggcmi_crop_calendar_phase3_v1.01.nc4',\n",
       " '../data/Ras_shape_out/Rasters/CC/mil_rf_ggcmi_crop_calendar_phase3_v1.01.nc4',\n",
       " '../data/Ras_shape_out/Rasters/CC/nut_ir_ggcmi_crop_calendar_phase3_v1.01.nc4',\n",
       " '../data/Ras_shape_out/Rasters/CC/nut_rf_ggcmi_crop_calendar_phase3_v1.01.nc4',\n",
       " '../data/Ras_shape_out/Rasters/CC/pea_ir_ggcmi_crop_calendar_phase3_v1.01.nc4',\n",
       " '../data/Ras_shape_out/Rasters/CC/pea_rf_ggcmi_crop_calendar_phase3_v1.01.nc4',\n",
       " '../data/Ras_shape_out/Rasters/CC/pot_ir_ggcmi_crop_calendar_phase3_v1.01.nc4',\n",
       " '../data/Ras_shape_out/Rasters/CC/pot_rf_ggcmi_crop_calendar_phase3_v1.01.nc4',\n",
       " '../data/Ras_shape_out/Rasters/CC/rap_ir_ggcmi_crop_calendar_phase3_v1.01.nc4',\n",
       " '../data/Ras_shape_out/Rasters/CC/rap_rf_ggcmi_crop_calendar_phase3_v1.01.nc4',\n",
       " '../data/Ras_shape_out/Rasters/CC/ri1_ir_ggcmi_crop_calendar_phase3_v1.01.nc4',\n",
       " '../data/Ras_shape_out/Rasters/CC/ri1_rf_ggcmi_crop_calendar_phase3_v1.01.nc4',\n",
       " '../data/Ras_shape_out/Rasters/CC/ri2_ir_ggcmi_crop_calendar_phase3_v1.01.nc4',\n",
       " '../data/Ras_shape_out/Rasters/CC/ri2_rf_ggcmi_crop_calendar_phase3_v1.01.nc4',\n",
       " '../data/Ras_shape_out/Rasters/CC/rye_ir_ggcmi_crop_calendar_phase3_v1.01.nc4',\n",
       " '../data/Ras_shape_out/Rasters/CC/rye_rf_ggcmi_crop_calendar_phase3_v1.01.nc4',\n",
       " '../data/Ras_shape_out/Rasters/CC/sgb_ir_ggcmi_crop_calendar_phase3_v1.01.nc4',\n",
       " '../data/Ras_shape_out/Rasters/CC/sgb_rf_ggcmi_crop_calendar_phase3_v1.01.nc4',\n",
       " '../data/Ras_shape_out/Rasters/CC/sgc_ir_ggcmi_crop_calendar_phase3_v1.01.nc4',\n",
       " '../data/Ras_shape_out/Rasters/CC/sgc_rf_ggcmi_crop_calendar_phase3_v1.01.nc4',\n",
       " '../data/Ras_shape_out/Rasters/CC/sor_ir_ggcmi_crop_calendar_phase3_v1.01.nc4',\n",
       " '../data/Ras_shape_out/Rasters/CC/sor_rf_ggcmi_crop_calendar_phase3_v1.01.nc4',\n",
       " '../data/Ras_shape_out/Rasters/CC/soy_rf_ggcmi_crop_calendar_phase3_v1.01.nc4',\n",
       " '../data/Ras_shape_out/Rasters/CC/sun_ir_ggcmi_crop_calendar_phase3_v1.01.nc4',\n",
       " '../data/Ras_shape_out/Rasters/CC/swh_ir_ggcmi_crop_calendar_phase3_v1.01.nc4',\n",
       " '../data/Ras_shape_out/Rasters/CC/swh_rf_ggcmi_crop_calendar_phase3_v1.01.nc4',\n",
       " '../data/Ras_shape_out/Rasters/CC/wwh_ir_ggcmi_crop_calendar_phase3_v1.01.nc4',\n",
       " '../data/Ras_shape_out/Rasters/CC/wwh_rf_ggcmi_crop_calendar_phase3_v1.01.nc4']"
      ]
     },
     "execution_count": 6,
     "metadata": {},
     "output_type": "execute_result"
    }
   ],
   "source": [
    "raster_folder = \"../data/Ras_shape_out/Rasters\"\n",
    "AEI = '../data/Ras_shape_out/Rasters/AEI/AEI_10.tif'\n",
    "Area = '../data/Ras_shape_out/Rasters/Area/ara_10.tif'\n",
    "AH = '../data/Ras_shape_out/Rasters/AH'\n",
    "\n",
    "# ROOT FOLDER CONTAINS SHOULD CONTAIN CROP SUBFOLDERS WITH CLIPPED AREAS TIFF\n",
    "root_folder = \"data/Clipped_2000\"\n",
    "\n",
    "# Load the unit code files\n",
    "tiff_files = glob.glob(\"{}/**/*.tif\".format(raster_folder), recursive=True)\n",
    "tiff_files\n",
    "# # CLE crop land extent\n",
    "\n",
    "# Load the unit code files\n",
    "tiff_files = glob.glob(\"{}/**/*.nc4\".format(raster_folder), recursive=True)\n",
    "tiff_files"
   ]
  },
  {
   "cell_type": "code",
   "execution_count": 7,
   "id": "2ffe6dad-89c6-47e0-b056-ee3c5241c6d8",
   "metadata": {},
   "outputs": [],
   "source": [
    "dataset = gdal.Open(\"../data/Clipped_2000/AEI_00/3560001.tif\", gdal.GA_ReadOnly)"
   ]
  },
  {
   "cell_type": "code",
   "execution_count": 8,
   "id": "06d1edbf-eece-463b-aea7-195440cf92f6",
   "metadata": {},
   "outputs": [
    {
     "data": {
      "text/plain": [
       "(20,\n",
       " 83,\n",
       " 1,\n",
       " <osgeo.gdal.Band; proxy of <Swig Object of type 'GDALRasterBandShadow *' at 0x7fc8d0148a20> >)"
      ]
     },
     "execution_count": 8,
     "metadata": {},
     "output_type": "execute_result"
    }
   ],
   "source": [
    "dataset.RasterXSize, dataset.RasterYSize, dataset.RasterCount, dataset.GetRasterBand(1)"
   ]
  },
  {
   "cell_type": "code",
   "execution_count": 9,
   "id": "ed2d19bd-bd14-4ff2-88cc-bb59ab97b75c",
   "metadata": {},
   "outputs": [
    {
     "data": {
      "text/plain": [
       "array([[0., 0., 0., ..., 0., 0., 0.],\n",
       "       [0., 0., 0., ..., 0., 0., 0.],\n",
       "       [0., 0., 0., ..., 0., 0., 0.],\n",
       "       ...,\n",
       "       [0., 0., 0., ..., 0., 0., 0.],\n",
       "       [0., 0., 0., ..., 0., 0., 0.],\n",
       "       [0., 0., 0., ..., 0., 0., 0.]], dtype=float32)"
      ]
     },
     "execution_count": 9,
     "metadata": {},
     "output_type": "execute_result"
    }
   ],
   "source": [
    "raster_band = dataset.GetRasterBand(1)\n",
    "raster_band.ReadAsArray()"
   ]
  },
  {
   "cell_type": "code",
   "execution_count": 10,
   "id": "9ec2b786-bdc3-4fdd-98f0-0a35e40e26f8",
   "metadata": {},
   "outputs": [
    {
     "data": {
      "text/plain": [
       "['../data/Ras_shape_out/Rasters/AEI/AEI_10.tif',\n",
       " '../data/Ras_shape_out/Rasters/Area/ara_10.tif',\n",
       " '../data/Ras_shape_out/Rasters/Crops/Bar_10.tif',\n",
       " '../data/Ras_shape_out/Rasters/Crops/Cas_10.tif',\n",
       " '../data/Ras_shape_out/Rasters/Crops/Cot_10.tif',\n",
       " '../data/Ras_shape_out/Rasters/Crops/Fod_10.tif',\n",
       " '../data/Ras_shape_out/Rasters/Crops/Gro_10.tif',\n",
       " '../data/Ras_shape_out/Rasters/Crops/Maz_10.tif',\n",
       " '../data/Ras_shape_out/Rasters/Crops/Mil_10.tif',\n",
       " '../data/Ras_shape_out/Rasters/Crops/Olp_10.tif',\n",
       " '../data/Ras_shape_out/Rasters/Crops/Otha.tif',\n",
       " '../data/Ras_shape_out/Rasters/Crops/Otha_00.tif',\n",
       " '../data/Ras_shape_out/Rasters/Crops/Pot_10.tif',\n",
       " '../data/Ras_shape_out/Rasters/Crops/Pul_10.tif',\n",
       " '../data/Ras_shape_out/Rasters/Crops/Rap_10.tif',\n",
       " '../data/Ras_shape_out/Rasters/Crops/Ric_10.tif',\n",
       " '../data/Ras_shape_out/Rasters/Crops/Sorg_10.tif',\n",
       " '../data/Ras_shape_out/Rasters/Crops/Soy_10.tif',\n",
       " '../data/Ras_shape_out/Rasters/Crops/Sub_10.tif',\n",
       " '../data/Ras_shape_out/Rasters/Crops/Sug_10.tif',\n",
       " '../data/Ras_shape_out/Rasters/Crops/Sun_10.tif',\n",
       " '../data/Ras_shape_out/Rasters/Crops/Whe_10.tif']"
      ]
     },
     "execution_count": 10,
     "metadata": {},
     "output_type": "execute_result"
    }
   ],
   "source": [
    "# Load the unit code files\n",
    "tiff_files = glob.glob(\"{}/**/*.tif\".format(raster_folder), recursive=True)\n",
    "tiff_files"
   ]
  },
  {
   "cell_type": "code",
   "execution_count": 11,
   "id": "f5ee6010-e1aa-4f18-b9e9-bfc7ffadd723",
   "metadata": {},
   "outputs": [
    {
     "data": {
      "text/plain": [
       "['../data/Ras_shape_out/Shapefiles/India/gadm41_IND_2.shp']"
      ]
     },
     "execution_count": 11,
     "metadata": {},
     "output_type": "execute_result"
    }
   ],
   "source": [
    "shp_folder = \"../data/Ras_shape_out/Shapefiles\"\n",
    "shpfiles = glob.glob(\"{}/**/*.shp\".format(shp_folder), recursive=True)\n",
    "shpfiles"
   ]
  },
  {
   "cell_type": "code",
   "execution_count": 12,
   "id": "670b58f9-df0a-4aa3-87d1-7d30155755a1",
   "metadata": {},
   "outputs": [
    {
     "data": {
      "text/plain": [
       "<Axes: >"
      ]
     },
     "execution_count": 12,
     "metadata": {},
     "output_type": "execute_result"
    },
    {
     "data": {
      "image/png": "[encoded data removed]",
      "text/plain": [
       "<Figure size 640x480 with 1 Axes>"
      ]
     },
     "metadata": {},
     "output_type": "display_data"
    }
   ],
   "source": [
    "os.listdir(shp_folder)\n",
    "# gdf = gpd.read_file(shpfiles[0])\n",
    "gdf = gpd.read_file(shpfiles[0]).iloc[:5]\n",
    "gdf.plot()"
   ]
  },
  {
   "cell_type": "code",
   "execution_count": 13,
   "id": "ff9b8a15-b484-4c4e-acef-c85bca281b4a",
   "metadata": {},
   "outputs": [
    {
     "data": {
      "text/plain": [
       "{0: array([[False, False, False, ..., False, False, False],\n",
       "        [False, False, False, ..., False, False, False],\n",
       "        [False, False, False, ..., False, False, False],\n",
       "        ...,\n",
       "        [False, False, False, ..., False, False, False],\n",
       "        [False, False, False, ..., False, False, False],\n",
       "        [False, False, False, ..., False, False, False]]),\n",
       " 1: array([[False, False, False, ..., False, False, False],\n",
       "        [False, False, False, ..., False, False, False],\n",
       "        [False, False, False, ..., False, False, False],\n",
       "        ...,\n",
       "        [False, False, False, ..., False, False, False],\n",
       "        [False, False, False, ..., False, False, False],\n",
       "        [False, False, False, ..., False, False, False]]),\n",
       " 2: array([[False, False, False, ..., False, False, False],\n",
       "        [False, False, False, ..., False, False, False],\n",
       "        [False, False, False, ..., False, False, False],\n",
       "        ...,\n",
       "        [False, False, False, ..., False, False, False],\n",
       "        [False, False, False, ..., False, False, False],\n",
       "        [False, False, False, ..., False, False, False]]),\n",
       " 3: array([[False, False, False, ..., False, False, False],\n",
       "        [False, False, False, ..., False, False, False],\n",
       "        [False, False, False, ..., False, False, False],\n",
       "        ...,\n",
       "        [False, False, False, ..., False, False, False],\n",
       "        [False, False, False, ..., False, False, False],\n",
       "        [False, False, False, ..., False, False, False]]),\n",
       " 4: array([[False, False, False, ..., False, False, False],\n",
       "        [False, False, False, ..., False, False, False],\n",
       "        [False, False, False, ..., False, False, False],\n",
       "        ...,\n",
       "        [False, False, False, ..., False, False, False],\n",
       "        [False, False, False, ..., False, False, False],\n",
       "        [False, False, False, ..., False, False, False]])}"
      ]
     },
     "execution_count": 13,
     "metadata": {},
     "output_type": "execute_result"
    }
   ],
   "source": [
    "def gdfmask(gdf, raster_path, all_touched=True):\n",
    "  \"\"\" returns a raster mask of the gdf\n",
    "  \n",
    "  Parameters\n",
    "    ----------\n",
    "    gdf : geopandasdataframe object\n",
    "        Country\n",
    "    raster : path to tiff raster\n",
    "        Administration level\n",
    "\n",
    "    Returns\n",
    "    -------\n",
    "    dictionary of geopandas dataframe's rasters with characteristics of given raster\n",
    "  \n",
    "  \n",
    "  \"\"\"\n",
    "  \n",
    "  with rasterio.open(raster_path) as src:\n",
    "    # Read the raster data into a NumPy array\n",
    "    raster_shape = src.read(1).shape\n",
    "    raster_crs = src.crs\n",
    "    raster_transform = src.transform\n",
    "\n",
    "  gdf0 = gdf.to_crs(src.crs)\n",
    "  gdf_masks = {}\n",
    "  for index, row in gdf0.iterrows():\n",
    "    # print(shapely_geometry)\n",
    "    gdf_masks[index] = geometry_mask([mapping(row['geometry'])],\n",
    "                                     out_shape=raster_shape,\n",
    "                                     transform=raster_transform,\n",
    "                                     all_touched=all_touched, \n",
    "                                     invert=True)\n",
    "  return(gdf_masks)\n",
    "gdfmask(gdf=gdf, raster_path = AEI)\n",
    "gdfmask(gdf=gdf, raster_path = Area)"
   ]
  },
  {
   "cell_type": "code",
   "execution_count": 14,
   "id": "7cd94cd7-b163-410b-93e8-c33609adcf0a",
   "metadata": {},
   "outputs": [],
   "source": [
    "# mask0 = gdfmask(gdf=gdf, raster_path = AEI)\n",
    "# # mask0 = gdfmask(gdf=gdf, raster_path = Area)\n",
    "# mask0[0].sum(), mask0[0].shape, mask0[1].sum(), mask0[1].shape"
   ]
  },
  {
   "cell_type": "code",
   "execution_count": 15,
   "id": "ce7f7f5b-b5b2-4bf1-82d0-1a9b332cd666",
   "metadata": {},
   "outputs": [],
   "source": [
    "# AEI\n",
    "# gdal.Open(AEI, gdal.GA_ReadOnly).ReadAsArray()[mask0[3]]"
   ]
  },
  {
   "cell_type": "code",
   "execution_count": 16,
   "id": "82f0dff2-a012-49e3-a26d-cf050a12b9d3",
   "metadata": {},
   "outputs": [],
   "source": [
    "# with rasterio.open(AEI) as src:\n",
    "#     # Read the raster data into a NumPy array\n",
    "#     r = AEI*int(mask0[4])\n",
    "\n",
    "\n",
    "# r"
   ]
  },
  {
   "cell_type": "code",
   "execution_count": 17,
   "id": "4e15cf73-58d1-42d6-a195-e4d3c433227b",
   "metadata": {},
   "outputs": [],
   "source": [
    "# r[r > 0]"
   ]
  },
  {
   "cell_type": "code",
   "execution_count": 18,
   "id": "ad6a1492-b7ba-4d5a-95ae-74f6963d6df0",
   "metadata": {},
   "outputs": [],
   "source": [
    "# def open_tiff_file(filepath):\n",
    "#     with rasterio.open(filepath) as src:\n",
    "#         array = src.read(1)\n",
    "#         no_data_value = src.nodata\n",
    "#         if no_data_value is not None:\n",
    "#             array = np.where(array == no_data_value, 0, array)\n",
    "#         yield array"
   ]
  },
  {
   "cell_type": "code",
   "execution_count": 19,
   "id": "722644ae-23c7-4e44-afa9-9940d63ea8b7",
   "metadata": {},
   "outputs": [],
   "source": [
    "# np.unique(np.array(ranked_df.Crop.tolist()))"
   ]
  },
  {
   "cell_type": "code",
   "execution_count": 48,
   "id": "0068f582-6532-43e9-8254-5b4b9ac482a7",
   "metadata": {},
   "outputs": [],
   "source": [
    "def step00(step, ranked_df_rank, dist_array, AH_array, AD_area,\n",
    "           c_s=None, r_s=None,\n",
    "           df_mon=None, df_tot = None, TAD_12=None, df_cumulative=None, ATS_2=None, verbose=False,\n",
    "           template_tiff= None):\n",
    "\n",
    "\n",
    "    \n",
    "  p = ranked_df_rank.Planting_Month.tolist()[0]\n",
    "  m = ranked_df_rank.Maturity_Month.tolist()[0]\n",
    "  listcom = getListcom(p, m)\n",
    "\n",
    "  # If step 1\n",
    "  if step in [1]:\n",
    "    # CALCULATE AD\n",
    "    AD_area = np.where(dist_array[\"dist_array_ara\"] > 0,\n",
    "                      (AH_array * dist_array[\"dist_array_aei\"]) / dist_array[\"dist_array_ara\"], 0)\n",
    "    \n",
    "    # ADJUST AD IF MORE THAN ONE CROP\n",
    "    if ranked_df_rank.Subcrop.tolist()[0] > 1: \n",
    "        AD_area = AD_area/ranked_df_rank.Subcrop.tolist()[0] \n",
    "\n",
    "\n",
    "######################################################################\n",
    "\n",
    "\n",
    "  if step in [2, 3, 4]:\n",
    "    # Filter the total dataframe for a month in which crop grow\n",
    "    df_max_filt = df_tot[df_tot[\"Month\"].isin(listcom)]\n",
    "      \n",
    "    # Group the cell values\n",
    "    n = len(df_max_filt) // (r_s * c_s)\n",
    "\n",
    "    # Select the maximum total area assigned for the month in which this crop grow\n",
    "    df_max = df_max_filt.groupby(np.arange(len(df_max_filt)) // n).max()\n",
    "    \n",
    "    # Change it to array\n",
    "    max_step2 = np.array(df_max[\"Total_st1\"]).reshape(r_s, c_s)\n",
    "\n",
    "    \n",
    "    # Determine the free AEI cell\n",
    "    AEI_fr_ce_2 = np.where(dist_array[\"dist_array_aei\"] > max_step2, \n",
    "                           (dist_array[\"dist_array_aei\"]-max_step2), 0)\n",
    "\n",
    "    if step in [2]:\n",
    "      # Determine the AH_free_cell\n",
    "      AH_fr_ce_2 = np.maximum(AH_array - AD_area, 0)\n",
    "      \n",
    "      # Potential area to be distributed in this step\n",
    "      Pot_ATS2 = np.minimum(AEI_fr_ce_2, AH_fr_ce_2)\n",
    "        \n",
    "    if step in [3]:\n",
    "            \n",
    "      Pot_ATS2 = np.where(dist_array[\"dist_array_cle\"]>0, AEI_fr_ce_2, 0)\n",
    "        \n",
    "    if step in [4]:\n",
    "            \n",
    "      Pot_ATS2 = np.where(dist_array[\"dist_array_cle\"] == 0, AEI_fr_ce_2, 0)\n",
    "\n",
    "\n",
    "    # Determine the distribution ratio as the ratio of ATS and Pot_ATS\n",
    "    with np.errstate(divide='ignore'):\n",
    "      AD_ra2 = np.where(ATS_2<np.sum(Pot_ATS2),(ATS_2/np.sum(Pot_ATS2)), 1)\n",
    "    \n",
    "    # Exact area to be distributed at this step\n",
    "    if ATS_2>0:\n",
    "      AD_area2=Pot_ATS2*AD_ra2\n",
    "      #Area to be distributed in step 1 and 2\n",
    "                \n",
    "    else:\n",
    "      AD_area2=Pot_ATS2*0\n",
    "      #Area to be distributed in step 1 and 2\n",
    "      #                 TAD_12=AD_area1\n",
    "\n",
    "    # TAD_12=AD_area + AD_area2\n",
    "    AD_area=AD_area + AD_area2\n",
    "\n",
    "\n",
    "\n",
    "\n",
    "  if step in [1, 2]: #, 2\n",
    "    if round(np.sum(AD_area),2) <= (ranked_df_rank.Growing_area.tolist()[0]):\n",
    "    # if round(np.sum(TAD_12),2) < (ranked_df_rank.Growing_area.tolist()[0]):\n",
    "      ATS_2= (ranked_df_rank.Growing_area.tolist()[0])-round(np.sum(AD_area),2)\n",
    "      # ATS_3= (ranked_df_rank.Growing_area.tolist()[0])-round(np.sum(TAD_12),2)\n",
    "      AD_area=AD_area\n",
    "      # AD_area2=TAD_12\n",
    "      if verbose:\n",
    "        print(\"Area distributed after step {}:\".format(step), round(np.sum(AD_area),2))\n",
    "        print(\"Iteration continues\")\n",
    "      if round(np.sum(AD_area),2)==(ranked_df_rank.Growing_area.tolist()[0]):\n",
    "        if verbose:\n",
    "          print(\"Area to be distributed in next step (step {}):\".format(step+1), ATS_2)\n",
    "          print(\"Iteration completed \")\n",
    "    else:\n",
    "      ATS_2= 0\n",
    "      # ATS_3= 0\n",
    "      if ranked_df_rank.Growing_area.tolist()[0] >0:\n",
    "        if verbose:\n",
    "          print(\"Error check your code!\")\n",
    "          print(\"More area available than the growing area\")\n",
    "        ratio= ranked_df_rank.Growing_area.tolist()[0]/np.sum(AD_area)\n",
    "    #                             print(ratio)\n",
    "        AD_area=AD_area*ratio\n",
    "        # AD_area2=TAD_12*ratio\n",
    "          \n",
    "        if verbose:\n",
    "          print(\"Iteration completed\")\n",
    "          print(\"Area distributed in step {}:\".format(step),round( np.sum(AD_area),2))\n",
    "      if ranked_df_rank.Growing_area.tolist()[0]== 0:\n",
    "        AD_area=AD_area*0\n",
    "        # AD_area2=TAD_12*0\n",
    "        if verbose:\n",
    "          print(\"No area will be distributed in step {} (Zero harvested area)\".format(step))\n",
    "\n",
    "\n",
    "\n",
    "  if step in [1, 2, 3, 4]: \n",
    "    # Call the array (area) to be distributed monthly\n",
    "    arr1 = AD_area\n",
    "    arr1_re = np.repeat(arr1, 12)\n",
    "    c_s = len(arr1[0])\n",
    "    r_s = len(arr1)\n",
    "  \n",
    "    \n",
    "  # Call the array to be distributed in step1 and convert it to dataframe\n",
    "  array_name = \"Array_\" + ranked_df.Crop.tolist()[0][:3] + ranked_df.Crop.tolist()[0][-1] + \"1\"\n",
    "    \n",
    "  # Create a new dataframe in which we will iterate each cell value for each month according to the crop calendar\n",
    "  #             crop_sum = 0\n",
    "  df_month = pd.DataFrame(np.arange(1, 13), columns=['Month'])\n",
    "  df_mon = pd.concat([df_month] * c_s * r_s, ignore_index=True)\n",
    "    \n",
    "  # Change the array to dataframe\n",
    "  df_1 = pd.DataFrame(arr1_re, index=np.arange(len(df_mon)), columns=[array_name])\n",
    "  # Merge the month and array dataframe\n",
    "  df_area1 = pd.concat([df_mon, df_1], axis=1)\n",
    "  # Filter the month in which the crop grows according to the crop calendar\n",
    "  crop_1 = df_area1[(df_area1[\"Month\"].isin(listcom))]\n",
    "  # Filter the month in which the crop didn't grow according to the crop calendar\n",
    "  crop_not = df_area1[(~df_area1[\"Month\"].isin(listcom))]\n",
    "  # Set the value of the array to 0 for months when the crop doesn't grow\n",
    "  crop_not[array_name].values[:] = 0\n",
    "  # Merge the two dataframes and sort it based on index\n",
    "  df_name = ranked_df.Crop.tolist()[0][:3] + ranked_df.Crop.tolist()[0][-1] + \"_step1\"\n",
    "  df_name = pd.concat([crop_1, crop_not])\n",
    "  df_name = df_name.sort_index()\n",
    "#             df_name = np.minimum(df_name, dist_array_aei)\n",
    "\n",
    "    \n",
    "  # Assign the area to be distributed in this step for each month according to crop calendar\n",
    "  df_list = []\n",
    "  df_list.append(df_name[array_name])\n",
    "\n",
    "  Step_1 = pd.concat(df_list, axis=1).sum(axis=1)\n",
    "\n",
    "  if df_cumulative is None:\n",
    "    df_cumulative = pd.Series(np.zeros(len(Step_1)), index=Step_1.index)\n",
    "#             if 'df_cumulative_st1' not in locals() or df_cumulative_st1.empty:\n",
    "#                 df_cumulative_st1 = Step_1.copy()  \n",
    "#             else:\n",
    "    \n",
    "  df_cumulative += Step_1\n",
    "  if step in [4]:\n",
    "    df_irrigaed=pd.concat([df_mon, Step_1], axis=1)\n",
    "    df_irrigaed.columns = ['Month', 'Total_st1']\n",
    "    \n",
    "  df_tot = pd.concat([df_mon, df_cumulative], axis=1)\n",
    "  df_tot.columns = ['Month', 'Total_st1']\n",
    "    \n",
    "      \n",
    "\n",
    "  if step in [4]:\n",
    "    if round(np.sum(AD_area)) < (ranked_df_rank.Growing_area.tolist()[0]):\n",
    "      print(\"Error Check Your Code! (full area not assigned)\")\n",
    "      print(\"Area distributed after step 4:\", round(np.sum(AD_area)))\n",
    "    elif round(np.sum(AD_area))==(ranked_df_rank.Growing_area.tolist()[0]):\n",
    "      print(\"Iteration completed \")\n",
    "      print(\"Area distributed after step 4:\", round(np.sum(AD_area)))\n",
    "    else:\n",
    "      # # RAINFED CHECK FIX\n",
    "      # if (round(np.sum(AD_area)) - (ranked_df_rf.Growing_area.tolist()[0]))<1:\n",
    "      #   print(\"Iteration completed \")\n",
    "      #   print(\"Area distributed after step4\", round(np.sum(AD_area)))\n",
    "      if ranked_df_rank.Growing_area.tolist()[0] > 0:\n",
    "        output_folder = \"../scratch\"\n",
    "\n",
    "        # Open the existing file to get geotransform and projection\n",
    "        template_tiff_dataset = gdal.Open(template_tiff)\n",
    "\n",
    "        # Get geotransform and projection from the input dataset\n",
    "        geotransform = template_tiff_dataset.GetGeoTransform()\n",
    "        projection = template_tiff_dataset.GetProjection()\n",
    "          \n",
    "        # # Set up the output file\n",
    "        print(listcom)\n",
    "        for k in listcom:\n",
    "          df_max_filt4 = df_irrigaed[(df_irrigaed[\"Month\"] == int(k))]\n",
    "          arr_filenam = np.array(df_max_filt4[\"Total_st1\"]).reshape(r_s, c_s)\n",
    "          mask = np.logical_or(np.isnan(arr_filenam), np.logical_or(np.isinf(arr_filenam), arr_filenam == np.NINF))\n",
    "          arr_filenam = np.where(mask, 0, arr_filenam)\n",
    "          \n",
    "            \n",
    "          output_tiff_path = \"{0}/{1}/District/{2}/{3}/{4}/{5}.tiff\".format(output_folder, \n",
    "                                                   \"Irrigated\",\n",
    "                                                   year,\n",
    "                                                   unit_code,\n",
    "                                                   crop_name,\n",
    "                                                   calendar.month_name[k]               \n",
    "                                                   )\n",
    "          print(output_tiff_path)\n",
    "         \n",
    "          # Create the output directory if it doesn't exist\n",
    "          output_directory = os.path.dirname(output_tiff_path)\n",
    "          if not os.path.exists(output_directory):\n",
    "            os.makedirs(output_directory)\n",
    "\n",
    "            \n",
    "          driver = gdal.GetDriverByName(\"GTiff\")\n",
    "          out_tiff = driver.Create(output_tiff_path, arr_filenam.shape[1], \n",
    "                                   arr_filenam.shape[0], 1, gdal.GDT_Byte)\n",
    "          print(out_tiff)\n",
    "          # Set the geotransform and projection\n",
    "          out_tiff.SetGeoTransform(geotransform)\n",
    "          out_tiff.SetProjection(projection)\n",
    "\n",
    "          # Write the array to the TIFF file\n",
    "          out_band = out_tiff.GetRasterBand(1)\n",
    "          out_band.WriteArray(arr_filenam)\n",
    "\n",
    "          # Flush data to disk and close the file\n",
    "          out_band.FlushCache()\n",
    "          out_tiff = None\n",
    "          print(\"TIFF file saved successfully @ {}\".format(output_tiff_path))\n",
    "\n",
    "    \n",
    "  \n",
    "  return {\"df_cumulative\":df_cumulative, \"AD_area\" : AD_area, \n",
    "          'df_mon':df_mon, \"ATS_2\": ATS_2, \"df_tot\":df_tot,\n",
    "          \"c_s\":c_s, \"r_s\":r_s}"
   ]
  },
  {
   "cell_type": "code",
   "execution_count": 51,
   "id": "bee58a34-633c-4bb5-8566-1cd645e9a606",
   "metadata": {},
   "outputs": [
    {
     "name": "stdout",
     "output_type": "stream",
     "text": [
      "3560001\n",
      "Iteration completed \n",
      "Area distributed after step 4: 0\n"
     ]
    },
    {
     "name": "stderr",
     "output_type": "stream",
     "text": [
      "/tmp/ipykernel_55/3896315690.py:62: RuntimeWarning: invalid value encountered in scalar divide\n",
      "  AD_ra2 = np.where(ATS_2<np.sum(Pot_ATS2),(ATS_2/np.sum(Pot_ATS2)), 1)\n",
      "/tmp/ipykernel_55/3896315690.py:62: RuntimeWarning: invalid value encountered in scalar divide\n",
      "  AD_ra2 = np.where(ATS_2<np.sum(Pot_ATS2),(ATS_2/np.sum(Pot_ATS2)), 1)\n",
      "/tmp/ipykernel_55/3896315690.py:62: RuntimeWarning: invalid value encountered in scalar divide\n",
      "  AD_ra2 = np.where(ATS_2<np.sum(Pot_ATS2),(ATS_2/np.sum(Pot_ATS2)), 1)\n",
      "/tmp/ipykernel_55/3896315690.py:62: RuntimeWarning: invalid value encountered in scalar divide\n",
      "  AD_ra2 = np.where(ATS_2<np.sum(Pot_ATS2),(ATS_2/np.sum(Pot_ATS2)), 1)\n",
      "/tmp/ipykernel_55/3896315690.py:62: RuntimeWarning: invalid value encountered in scalar divide\n",
      "  AD_ra2 = np.where(ATS_2<np.sum(Pot_ATS2),(ATS_2/np.sum(Pot_ATS2)), 1)\n",
      "/tmp/ipykernel_55/3896315690.py:62: RuntimeWarning: invalid value encountered in scalar divide\n",
      "  AD_ra2 = np.where(ATS_2<np.sum(Pot_ATS2),(ATS_2/np.sum(Pot_ATS2)), 1)\n"
     ]
    },
    {
     "name": "stdout",
     "output_type": "stream",
     "text": [
      "Iteration completed \n",
      "Area distributed after step 4: 0\n",
      "Iteration completed \n",
      "Area distributed after step 4: 0\n"
     ]
    },
    {
     "name": "stderr",
     "output_type": "stream",
     "text": [
      "/tmp/ipykernel_55/3896315690.py:62: RuntimeWarning: invalid value encountered in scalar divide\n",
      "  AD_ra2 = np.where(ATS_2<np.sum(Pot_ATS2),(ATS_2/np.sum(Pot_ATS2)), 1)\n",
      "/tmp/ipykernel_55/3896315690.py:62: RuntimeWarning: invalid value encountered in scalar divide\n",
      "  AD_ra2 = np.where(ATS_2<np.sum(Pot_ATS2),(ATS_2/np.sum(Pot_ATS2)), 1)\n",
      "/tmp/ipykernel_55/3896315690.py:62: RuntimeWarning: invalid value encountered in scalar divide\n",
      "  AD_ra2 = np.where(ATS_2<np.sum(Pot_ATS2),(ATS_2/np.sum(Pot_ATS2)), 1)\n",
      "/tmp/ipykernel_55/3896315690.py:62: RuntimeWarning: invalid value encountered in scalar divide\n",
      "  AD_ra2 = np.where(ATS_2<np.sum(Pot_ATS2),(ATS_2/np.sum(Pot_ATS2)), 1)\n",
      "/tmp/ipykernel_55/3896315690.py:62: RuntimeWarning: invalid value encountered in scalar divide\n",
      "  AD_ra2 = np.where(ATS_2<np.sum(Pot_ATS2),(ATS_2/np.sum(Pot_ATS2)), 1)\n",
      "/tmp/ipykernel_55/3896315690.py:62: RuntimeWarning: invalid value encountered in scalar divide\n",
      "  AD_ra2 = np.where(ATS_2<np.sum(Pot_ATS2),(ATS_2/np.sum(Pot_ATS2)), 1)\n"
     ]
    },
    {
     "name": "stdout",
     "output_type": "stream",
     "text": [
      "Iteration completed \n",
      "Area distributed after step 4: 0\n",
      "Iteration completed \n",
      "Area distributed after step 4: 0\n"
     ]
    },
    {
     "name": "stderr",
     "output_type": "stream",
     "text": [
      "/tmp/ipykernel_55/3896315690.py:62: RuntimeWarning: invalid value encountered in scalar divide\n",
      "  AD_ra2 = np.where(ATS_2<np.sum(Pot_ATS2),(ATS_2/np.sum(Pot_ATS2)), 1)\n",
      "/tmp/ipykernel_55/3896315690.py:62: RuntimeWarning: invalid value encountered in scalar divide\n",
      "  AD_ra2 = np.where(ATS_2<np.sum(Pot_ATS2),(ATS_2/np.sum(Pot_ATS2)), 1)\n",
      "/tmp/ipykernel_55/3896315690.py:62: RuntimeWarning: invalid value encountered in scalar divide\n",
      "  AD_ra2 = np.where(ATS_2<np.sum(Pot_ATS2),(ATS_2/np.sum(Pot_ATS2)), 1)\n",
      "/tmp/ipykernel_55/3896315690.py:62: RuntimeWarning: invalid value encountered in scalar divide\n",
      "  AD_ra2 = np.where(ATS_2<np.sum(Pot_ATS2),(ATS_2/np.sum(Pot_ATS2)), 1)\n",
      "/tmp/ipykernel_55/3896315690.py:62: RuntimeWarning: invalid value encountered in scalar divide\n",
      "  AD_ra2 = np.where(ATS_2<np.sum(Pot_ATS2),(ATS_2/np.sum(Pot_ATS2)), 1)\n",
      "/tmp/ipykernel_55/3896315690.py:62: RuntimeWarning: invalid value encountered in scalar divide\n",
      "  AD_ra2 = np.where(ATS_2<np.sum(Pot_ATS2),(ATS_2/np.sum(Pot_ATS2)), 1)\n"
     ]
    },
    {
     "name": "stdout",
     "output_type": "stream",
     "text": [
      "Iteration completed \n",
      "Area distributed after step 4: 0\n",
      "Iteration completed \n",
      "Area distributed after step 4: 0\n"
     ]
    },
    {
     "name": "stderr",
     "output_type": "stream",
     "text": [
      "/tmp/ipykernel_55/3896315690.py:62: RuntimeWarning: invalid value encountered in scalar divide\n",
      "  AD_ra2 = np.where(ATS_2<np.sum(Pot_ATS2),(ATS_2/np.sum(Pot_ATS2)), 1)\n",
      "/tmp/ipykernel_55/3896315690.py:62: RuntimeWarning: invalid value encountered in scalar divide\n",
      "  AD_ra2 = np.where(ATS_2<np.sum(Pot_ATS2),(ATS_2/np.sum(Pot_ATS2)), 1)\n",
      "/tmp/ipykernel_55/3896315690.py:62: RuntimeWarning: invalid value encountered in scalar divide\n",
      "  AD_ra2 = np.where(ATS_2<np.sum(Pot_ATS2),(ATS_2/np.sum(Pot_ATS2)), 1)\n",
      "/tmp/ipykernel_55/3896315690.py:62: RuntimeWarning: invalid value encountered in scalar divide\n",
      "  AD_ra2 = np.where(ATS_2<np.sum(Pot_ATS2),(ATS_2/np.sum(Pot_ATS2)), 1)\n",
      "/tmp/ipykernel_55/3896315690.py:62: RuntimeWarning: invalid value encountered in scalar divide\n",
      "  AD_ra2 = np.where(ATS_2<np.sum(Pot_ATS2),(ATS_2/np.sum(Pot_ATS2)), 1)\n",
      "/tmp/ipykernel_55/3896315690.py:62: RuntimeWarning: invalid value encountered in scalar divide\n",
      "  AD_ra2 = np.where(ATS_2<np.sum(Pot_ATS2),(ATS_2/np.sum(Pot_ATS2)), 1)\n",
      "/tmp/ipykernel_55/3896315690.py:62: RuntimeWarning: invalid value encountered in scalar divide\n",
      "  AD_ra2 = np.where(ATS_2<np.sum(Pot_ATS2),(ATS_2/np.sum(Pot_ATS2)), 1)\n"
     ]
    },
    {
     "name": "stdout",
     "output_type": "stream",
     "text": [
      "Iteration completed \n",
      "Area distributed after step 4: 0\n",
      "Iteration completed \n",
      "Area distributed after step 4: 0\n",
      "Iteration completed \n",
      "Area distributed after step 4: 0\n"
     ]
    },
    {
     "name": "stderr",
     "output_type": "stream",
     "text": [
      "/tmp/ipykernel_55/3896315690.py:62: RuntimeWarning: invalid value encountered in scalar divide\n",
      "  AD_ra2 = np.where(ATS_2<np.sum(Pot_ATS2),(ATS_2/np.sum(Pot_ATS2)), 1)\n",
      "/tmp/ipykernel_55/3896315690.py:62: RuntimeWarning: invalid value encountered in scalar divide\n",
      "  AD_ra2 = np.where(ATS_2<np.sum(Pot_ATS2),(ATS_2/np.sum(Pot_ATS2)), 1)\n",
      "/tmp/ipykernel_55/3896315690.py:62: RuntimeWarning: invalid value encountered in scalar divide\n",
      "  AD_ra2 = np.where(ATS_2<np.sum(Pot_ATS2),(ATS_2/np.sum(Pot_ATS2)), 1)\n",
      "/tmp/ipykernel_55/3896315690.py:62: RuntimeWarning: invalid value encountered in scalar divide\n",
      "  AD_ra2 = np.where(ATS_2<np.sum(Pot_ATS2),(ATS_2/np.sum(Pot_ATS2)), 1)\n",
      "/tmp/ipykernel_55/3896315690.py:62: RuntimeWarning: invalid value encountered in scalar divide\n",
      "  AD_ra2 = np.where(ATS_2<np.sum(Pot_ATS2),(ATS_2/np.sum(Pot_ATS2)), 1)\n",
      "/tmp/ipykernel_55/3896315690.py:62: RuntimeWarning: invalid value encountered in scalar divide\n",
      "  AD_ra2 = np.where(ATS_2<np.sum(Pot_ATS2),(ATS_2/np.sum(Pot_ATS2)), 1)\n",
      "/tmp/ipykernel_55/3896315690.py:62: RuntimeWarning: invalid value encountered in scalar divide\n",
      "  AD_ra2 = np.where(ATS_2<np.sum(Pot_ATS2),(ATS_2/np.sum(Pot_ATS2)), 1)\n",
      "/tmp/ipykernel_55/3896315690.py:62: RuntimeWarning: invalid value encountered in scalar divide\n",
      "  AD_ra2 = np.where(ATS_2<np.sum(Pot_ATS2),(ATS_2/np.sum(Pot_ATS2)), 1)\n",
      "/tmp/ipykernel_55/3896315690.py:62: RuntimeWarning: invalid value encountered in scalar divide\n",
      "  AD_ra2 = np.where(ATS_2<np.sum(Pot_ATS2),(ATS_2/np.sum(Pot_ATS2)), 1)\n",
      "/tmp/ipykernel_55/3896315690.py:62: RuntimeWarning: invalid value encountered in scalar divide\n",
      "  AD_ra2 = np.where(ATS_2<np.sum(Pot_ATS2),(ATS_2/np.sum(Pot_ATS2)), 1)\n",
      "/tmp/ipykernel_55/3896315690.py:62: RuntimeWarning: invalid value encountered in scalar divide\n",
      "  AD_ra2 = np.where(ATS_2<np.sum(Pot_ATS2),(ATS_2/np.sum(Pot_ATS2)), 1)\n",
      "/tmp/ipykernel_55/3896315690.py:62: RuntimeWarning: invalid value encountered in scalar divide\n",
      "  AD_ra2 = np.where(ATS_2<np.sum(Pot_ATS2),(ATS_2/np.sum(Pot_ATS2)), 1)\n",
      "/tmp/ipykernel_55/3896315690.py:62: RuntimeWarning: invalid value encountered in scalar divide\n",
      "  AD_ra2 = np.where(ATS_2<np.sum(Pot_ATS2),(ATS_2/np.sum(Pot_ATS2)), 1)\n",
      "/tmp/ipykernel_55/3896315690.py:62: RuntimeWarning: invalid value encountered in scalar divide\n",
      "  AD_ra2 = np.where(ATS_2<np.sum(Pot_ATS2),(ATS_2/np.sum(Pot_ATS2)), 1)\n"
     ]
    },
    {
     "name": "stdout",
     "output_type": "stream",
     "text": [
      "Iteration completed \n",
      "Area distributed after step 4: 0\n",
      "Iteration completed \n",
      "Area distributed after step 4: 0\n",
      "Iteration completed \n",
      "Area distributed after step 4: 0\n"
     ]
    },
    {
     "name": "stderr",
     "output_type": "stream",
     "text": [
      "/tmp/ipykernel_55/3896315690.py:62: RuntimeWarning: invalid value encountered in scalar divide\n",
      "  AD_ra2 = np.where(ATS_2<np.sum(Pot_ATS2),(ATS_2/np.sum(Pot_ATS2)), 1)\n",
      "/tmp/ipykernel_55/3896315690.py:62: RuntimeWarning: invalid value encountered in scalar divide\n",
      "  AD_ra2 = np.where(ATS_2<np.sum(Pot_ATS2),(ATS_2/np.sum(Pot_ATS2)), 1)\n",
      "/tmp/ipykernel_55/3896315690.py:62: RuntimeWarning: invalid value encountered in scalar divide\n",
      "  AD_ra2 = np.where(ATS_2<np.sum(Pot_ATS2),(ATS_2/np.sum(Pot_ATS2)), 1)\n",
      "/tmp/ipykernel_55/3896315690.py:62: RuntimeWarning: invalid value encountered in scalar divide\n",
      "  AD_ra2 = np.where(ATS_2<np.sum(Pot_ATS2),(ATS_2/np.sum(Pot_ATS2)), 1)\n",
      "/tmp/ipykernel_55/3896315690.py:62: RuntimeWarning: invalid value encountered in scalar divide\n",
      "  AD_ra2 = np.where(ATS_2<np.sum(Pot_ATS2),(ATS_2/np.sum(Pot_ATS2)), 1)\n",
      "/tmp/ipykernel_55/3896315690.py:62: RuntimeWarning: invalid value encountered in scalar divide\n",
      "  AD_ra2 = np.where(ATS_2<np.sum(Pot_ATS2),(ATS_2/np.sum(Pot_ATS2)), 1)\n",
      "/tmp/ipykernel_55/3896315690.py:62: RuntimeWarning: invalid value encountered in scalar divide\n",
      "  AD_ra2 = np.where(ATS_2<np.sum(Pot_ATS2),(ATS_2/np.sum(Pot_ATS2)), 1)\n"
     ]
    },
    {
     "name": "stdout",
     "output_type": "stream",
     "text": [
      "Iteration completed \n",
      "Area distributed after step 4: 0\n",
      "Iteration completed \n",
      "Area distributed after step 4: 0\n",
      "Iteration completed \n",
      "Area distributed after step 4: 0\n"
     ]
    },
    {
     "name": "stderr",
     "output_type": "stream",
     "text": [
      "/tmp/ipykernel_55/3896315690.py:62: RuntimeWarning: invalid value encountered in scalar divide\n",
      "  AD_ra2 = np.where(ATS_2<np.sum(Pot_ATS2),(ATS_2/np.sum(Pot_ATS2)), 1)\n",
      "/tmp/ipykernel_55/3896315690.py:62: RuntimeWarning: invalid value encountered in scalar divide\n",
      "  AD_ra2 = np.where(ATS_2<np.sum(Pot_ATS2),(ATS_2/np.sum(Pot_ATS2)), 1)\n",
      "/tmp/ipykernel_55/3896315690.py:62: RuntimeWarning: invalid value encountered in scalar divide\n",
      "  AD_ra2 = np.where(ATS_2<np.sum(Pot_ATS2),(ATS_2/np.sum(Pot_ATS2)), 1)\n",
      "/tmp/ipykernel_55/3896315690.py:62: RuntimeWarning: invalid value encountered in scalar divide\n",
      "  AD_ra2 = np.where(ATS_2<np.sum(Pot_ATS2),(ATS_2/np.sum(Pot_ATS2)), 1)\n",
      "/tmp/ipykernel_55/3896315690.py:62: RuntimeWarning: invalid value encountered in scalar divide\n",
      "  AD_ra2 = np.where(ATS_2<np.sum(Pot_ATS2),(ATS_2/np.sum(Pot_ATS2)), 1)\n",
      "/tmp/ipykernel_55/3896315690.py:62: RuntimeWarning: invalid value encountered in scalar divide\n",
      "  AD_ra2 = np.where(ATS_2<np.sum(Pot_ATS2),(ATS_2/np.sum(Pot_ATS2)), 1)\n",
      "/tmp/ipykernel_55/3896315690.py:62: RuntimeWarning: invalid value encountered in scalar divide\n",
      "  AD_ra2 = np.where(ATS_2<np.sum(Pot_ATS2),(ATS_2/np.sum(Pot_ATS2)), 1)\n"
     ]
    },
    {
     "name": "stdout",
     "output_type": "stream",
     "text": [
      "Iteration completed \n",
      "Area distributed after step 4: 0\n",
      "Iteration completed \n",
      "Area distributed after step 4: 0\n"
     ]
    },
    {
     "name": "stderr",
     "output_type": "stream",
     "text": [
      "/tmp/ipykernel_55/3896315690.py:62: RuntimeWarning: invalid value encountered in scalar divide\n",
      "  AD_ra2 = np.where(ATS_2<np.sum(Pot_ATS2),(ATS_2/np.sum(Pot_ATS2)), 1)\n",
      "/tmp/ipykernel_55/3896315690.py:62: RuntimeWarning: invalid value encountered in scalar divide\n",
      "  AD_ra2 = np.where(ATS_2<np.sum(Pot_ATS2),(ATS_2/np.sum(Pot_ATS2)), 1)\n",
      "/tmp/ipykernel_55/3896315690.py:62: RuntimeWarning: invalid value encountered in scalar divide\n",
      "  AD_ra2 = np.where(ATS_2<np.sum(Pot_ATS2),(ATS_2/np.sum(Pot_ATS2)), 1)\n",
      "/tmp/ipykernel_55/3896315690.py:62: RuntimeWarning: invalid value encountered in scalar divide\n",
      "  AD_ra2 = np.where(ATS_2<np.sum(Pot_ATS2),(ATS_2/np.sum(Pot_ATS2)), 1)\n",
      "/tmp/ipykernel_55/3896315690.py:62: RuntimeWarning: invalid value encountered in scalar divide\n",
      "  AD_ra2 = np.where(ATS_2<np.sum(Pot_ATS2),(ATS_2/np.sum(Pot_ATS2)), 1)\n"
     ]
    },
    {
     "name": "stdout",
     "output_type": "stream",
     "text": [
      "Iteration completed \n",
      "Area distributed after step 4: 0\n",
      "Iteration completed \n",
      "Area distributed after step 4: 0\n"
     ]
    },
    {
     "name": "stderr",
     "output_type": "stream",
     "text": [
      "/tmp/ipykernel_55/3896315690.py:62: RuntimeWarning: invalid value encountered in scalar divide\n",
      "  AD_ra2 = np.where(ATS_2<np.sum(Pot_ATS2),(ATS_2/np.sum(Pot_ATS2)), 1)\n",
      "/tmp/ipykernel_55/3896315690.py:62: RuntimeWarning: invalid value encountered in scalar divide\n",
      "  AD_ra2 = np.where(ATS_2<np.sum(Pot_ATS2),(ATS_2/np.sum(Pot_ATS2)), 1)\n",
      "/tmp/ipykernel_55/3896315690.py:62: RuntimeWarning: invalid value encountered in scalar divide\n",
      "  AD_ra2 = np.where(ATS_2<np.sum(Pot_ATS2),(ATS_2/np.sum(Pot_ATS2)), 1)\n",
      "/tmp/ipykernel_55/3896315690.py:62: RuntimeWarning: invalid value encountered in scalar divide\n",
      "  AD_ra2 = np.where(ATS_2<np.sum(Pot_ATS2),(ATS_2/np.sum(Pot_ATS2)), 1)\n",
      "/tmp/ipykernel_55/3896315690.py:62: RuntimeWarning: invalid value encountered in scalar divide\n",
      "  AD_ra2 = np.where(ATS_2<np.sum(Pot_ATS2),(ATS_2/np.sum(Pot_ATS2)), 1)\n",
      "/tmp/ipykernel_55/3896315690.py:62: RuntimeWarning: invalid value encountered in scalar divide\n",
      "  AD_ra2 = np.where(ATS_2<np.sum(Pot_ATS2),(ATS_2/np.sum(Pot_ATS2)), 1)\n",
      "/tmp/ipykernel_55/3896315690.py:62: RuntimeWarning: invalid value encountered in scalar divide\n",
      "  AD_ra2 = np.where(ATS_2<np.sum(Pot_ATS2),(ATS_2/np.sum(Pot_ATS2)), 1)\n"
     ]
    },
    {
     "name": "stdout",
     "output_type": "stream",
     "text": [
      "Iteration completed \n",
      "Area distributed after step 4: 0\n",
      "Iteration completed \n",
      "Area distributed after step 4: 0\n"
     ]
    },
    {
     "name": "stderr",
     "output_type": "stream",
     "text": [
      "/tmp/ipykernel_55/3896315690.py:62: RuntimeWarning: invalid value encountered in scalar divide\n",
      "  AD_ra2 = np.where(ATS_2<np.sum(Pot_ATS2),(ATS_2/np.sum(Pot_ATS2)), 1)\n",
      "/tmp/ipykernel_55/3896315690.py:62: RuntimeWarning: invalid value encountered in scalar divide\n",
      "  AD_ra2 = np.where(ATS_2<np.sum(Pot_ATS2),(ATS_2/np.sum(Pot_ATS2)), 1)\n",
      "/tmp/ipykernel_55/3896315690.py:62: RuntimeWarning: invalid value encountered in scalar divide\n",
      "  AD_ra2 = np.where(ATS_2<np.sum(Pot_ATS2),(ATS_2/np.sum(Pot_ATS2)), 1)\n",
      "/tmp/ipykernel_55/3896315690.py:62: RuntimeWarning: invalid value encountered in scalar divide\n",
      "  AD_ra2 = np.where(ATS_2<np.sum(Pot_ATS2),(ATS_2/np.sum(Pot_ATS2)), 1)\n"
     ]
    },
    {
     "name": "stdout",
     "output_type": "stream",
     "text": [
      "Iteration completed \n",
      "Area distributed after step 4: 0\n",
      "Iteration completed \n",
      "Area distributed after step 4: 0\n"
     ]
    },
    {
     "name": "stderr",
     "output_type": "stream",
     "text": [
      "/tmp/ipykernel_55/3896315690.py:62: RuntimeWarning: invalid value encountered in scalar divide\n",
      "  AD_ra2 = np.where(ATS_2<np.sum(Pot_ATS2),(ATS_2/np.sum(Pot_ATS2)), 1)\n",
      "/tmp/ipykernel_55/3896315690.py:62: RuntimeWarning: invalid value encountered in scalar divide\n",
      "  AD_ra2 = np.where(ATS_2<np.sum(Pot_ATS2),(ATS_2/np.sum(Pot_ATS2)), 1)\n",
      "/tmp/ipykernel_55/3896315690.py:62: RuntimeWarning: invalid value encountered in scalar divide\n",
      "  AD_ra2 = np.where(ATS_2<np.sum(Pot_ATS2),(ATS_2/np.sum(Pot_ATS2)), 1)\n",
      "/tmp/ipykernel_55/3896315690.py:62: RuntimeWarning: invalid value encountered in scalar divide\n",
      "  AD_ra2 = np.where(ATS_2<np.sum(Pot_ATS2),(ATS_2/np.sum(Pot_ATS2)), 1)\n",
      "/tmp/ipykernel_55/3896315690.py:62: RuntimeWarning: invalid value encountered in scalar divide\n",
      "  AD_ra2 = np.where(ATS_2<np.sum(Pot_ATS2),(ATS_2/np.sum(Pot_ATS2)), 1)\n",
      "/tmp/ipykernel_55/3896315690.py:62: RuntimeWarning: invalid value encountered in scalar divide\n",
      "  AD_ra2 = np.where(ATS_2<np.sum(Pot_ATS2),(ATS_2/np.sum(Pot_ATS2)), 1)\n"
     ]
    },
    {
     "name": "stdout",
     "output_type": "stream",
     "text": [
      "Iteration completed \n",
      "Area distributed after step 4: 0\n",
      "Iteration completed \n",
      "Area distributed after step 4: 0\n",
      "3560002\n"
     ]
    },
    {
     "name": "stderr",
     "output_type": "stream",
     "text": [
      "/tmp/ipykernel_55/3896315690.py:62: RuntimeWarning: invalid value encountered in scalar divide\n",
      "  AD_ra2 = np.where(ATS_2<np.sum(Pot_ATS2),(ATS_2/np.sum(Pot_ATS2)), 1)\n",
      "/tmp/ipykernel_55/3896315690.py:62: RuntimeWarning: invalid value encountered in scalar divide\n",
      "  AD_ra2 = np.where(ATS_2<np.sum(Pot_ATS2),(ATS_2/np.sum(Pot_ATS2)), 1)\n",
      "/tmp/ipykernel_55/3896315690.py:62: RuntimeWarning: invalid value encountered in scalar divide\n",
      "  AD_ra2 = np.where(ATS_2<np.sum(Pot_ATS2),(ATS_2/np.sum(Pot_ATS2)), 1)\n",
      "/tmp/ipykernel_55/3896315690.py:62: RuntimeWarning: invalid value encountered in scalar divide\n",
      "  AD_ra2 = np.where(ATS_2<np.sum(Pot_ATS2),(ATS_2/np.sum(Pot_ATS2)), 1)\n",
      "/tmp/ipykernel_55/3896315690.py:62: RuntimeWarning: invalid value encountered in scalar divide\n",
      "  AD_ra2 = np.where(ATS_2<np.sum(Pot_ATS2),(ATS_2/np.sum(Pot_ATS2)), 1)\n"
     ]
    },
    {
     "name": "stdout",
     "output_type": "stream",
     "text": [
      "Iteration completed \n",
      "Area distributed after step 4: 0\n"
     ]
    },
    {
     "name": "stderr",
     "output_type": "stream",
     "text": [
      "/tmp/ipykernel_55/3896315690.py:62: RuntimeWarning: invalid value encountered in scalar divide\n",
      "  AD_ra2 = np.where(ATS_2<np.sum(Pot_ATS2),(ATS_2/np.sum(Pot_ATS2)), 1)\n"
     ]
    },
    {
     "name": "stdout",
     "output_type": "stream",
     "text": [
      "Iteration completed \n",
      "Area distributed after step 4: 0\n"
     ]
    },
    {
     "name": "stderr",
     "output_type": "stream",
     "text": [
      "/tmp/ipykernel_55/3896315690.py:62: RuntimeWarning: invalid value encountered in scalar divide\n",
      "  AD_ra2 = np.where(ATS_2<np.sum(Pot_ATS2),(ATS_2/np.sum(Pot_ATS2)), 1)\n"
     ]
    },
    {
     "name": "stdout",
     "output_type": "stream",
     "text": [
      "Iteration completed \n",
      "Area distributed after step 4: 0\n"
     ]
    },
    {
     "name": "stderr",
     "output_type": "stream",
     "text": [
      "/tmp/ipykernel_55/3896315690.py:62: RuntimeWarning: invalid value encountered in scalar divide\n",
      "  AD_ra2 = np.where(ATS_2<np.sum(Pot_ATS2),(ATS_2/np.sum(Pot_ATS2)), 1)\n"
     ]
    },
    {
     "name": "stdout",
     "output_type": "stream",
     "text": [
      "Iteration completed \n",
      "Area distributed after step 4: 0\n"
     ]
    },
    {
     "name": "stderr",
     "output_type": "stream",
     "text": [
      "/tmp/ipykernel_55/3896315690.py:62: RuntimeWarning: invalid value encountered in scalar divide\n",
      "  AD_ra2 = np.where(ATS_2<np.sum(Pot_ATS2),(ATS_2/np.sum(Pot_ATS2)), 1)\n"
     ]
    },
    {
     "name": "stdout",
     "output_type": "stream",
     "text": [
      "Iteration completed \n",
      "Area distributed after step 4: 0\n"
     ]
    },
    {
     "name": "stderr",
     "output_type": "stream",
     "text": [
      "/tmp/ipykernel_55/3896315690.py:62: RuntimeWarning: invalid value encountered in scalar divide\n",
      "  AD_ra2 = np.where(ATS_2<np.sum(Pot_ATS2),(ATS_2/np.sum(Pot_ATS2)), 1)\n",
      "/tmp/ipykernel_55/3896315690.py:62: RuntimeWarning: invalid value encountered in scalar divide\n",
      "  AD_ra2 = np.where(ATS_2<np.sum(Pot_ATS2),(ATS_2/np.sum(Pot_ATS2)), 1)\n"
     ]
    },
    {
     "name": "stdout",
     "output_type": "stream",
     "text": [
      "Iteration completed \n",
      "Area distributed after step 4: 0\n"
     ]
    },
    {
     "name": "stderr",
     "output_type": "stream",
     "text": [
      "/tmp/ipykernel_55/3896315690.py:62: RuntimeWarning: invalid value encountered in scalar divide\n",
      "  AD_ra2 = np.where(ATS_2<np.sum(Pot_ATS2),(ATS_2/np.sum(Pot_ATS2)), 1)\n"
     ]
    },
    {
     "name": "stdout",
     "output_type": "stream",
     "text": [
      "Iteration completed \n",
      "Area distributed after step 4: 0\n"
     ]
    },
    {
     "name": "stderr",
     "output_type": "stream",
     "text": [
      "/tmp/ipykernel_55/3896315690.py:62: RuntimeWarning: invalid value encountered in scalar divide\n",
      "  AD_ra2 = np.where(ATS_2<np.sum(Pot_ATS2),(ATS_2/np.sum(Pot_ATS2)), 1)\n"
     ]
    },
    {
     "name": "stdout",
     "output_type": "stream",
     "text": [
      "Iteration completed \n",
      "Area distributed after step 4: 0\n"
     ]
    },
    {
     "name": "stderr",
     "output_type": "stream",
     "text": [
      "/tmp/ipykernel_55/3896315690.py:62: RuntimeWarning: invalid value encountered in scalar divide\n",
      "  AD_ra2 = np.where(ATS_2<np.sum(Pot_ATS2),(ATS_2/np.sum(Pot_ATS2)), 1)\n"
     ]
    },
    {
     "name": "stdout",
     "output_type": "stream",
     "text": [
      "Iteration completed \n",
      "Area distributed after step 4: 0\n"
     ]
    },
    {
     "name": "stderr",
     "output_type": "stream",
     "text": [
      "/tmp/ipykernel_55/3896315690.py:62: RuntimeWarning: invalid value encountered in scalar divide\n",
      "  AD_ra2 = np.where(ATS_2<np.sum(Pot_ATS2),(ATS_2/np.sum(Pot_ATS2)), 1)\n"
     ]
    },
    {
     "name": "stdout",
     "output_type": "stream",
     "text": [
      "Iteration completed \n",
      "Area distributed after step 4: 0\n"
     ]
    },
    {
     "name": "stderr",
     "output_type": "stream",
     "text": [
      "/tmp/ipykernel_55/3896315690.py:62: RuntimeWarning: invalid value encountered in scalar divide\n",
      "  AD_ra2 = np.where(ATS_2<np.sum(Pot_ATS2),(ATS_2/np.sum(Pot_ATS2)), 1)\n",
      "/tmp/ipykernel_55/3896315690.py:62: RuntimeWarning: invalid value encountered in scalar divide\n",
      "  AD_ra2 = np.where(ATS_2<np.sum(Pot_ATS2),(ATS_2/np.sum(Pot_ATS2)), 1)\n"
     ]
    },
    {
     "name": "stdout",
     "output_type": "stream",
     "text": [
      "Iteration completed \n",
      "Area distributed after step 4: 0\n"
     ]
    },
    {
     "name": "stderr",
     "output_type": "stream",
     "text": [
      "/tmp/ipykernel_55/3896315690.py:62: RuntimeWarning: invalid value encountered in scalar divide\n",
      "  AD_ra2 = np.where(ATS_2<np.sum(Pot_ATS2),(ATS_2/np.sum(Pot_ATS2)), 1)\n"
     ]
    },
    {
     "name": "stdout",
     "output_type": "stream",
     "text": [
      "Iteration completed \n",
      "Area distributed after step 4: 0\n"
     ]
    },
    {
     "name": "stderr",
     "output_type": "stream",
     "text": [
      "/tmp/ipykernel_55/3896315690.py:62: RuntimeWarning: invalid value encountered in scalar divide\n",
      "  AD_ra2 = np.where(ATS_2<np.sum(Pot_ATS2),(ATS_2/np.sum(Pot_ATS2)), 1)\n"
     ]
    },
    {
     "name": "stdout",
     "output_type": "stream",
     "text": [
      "Iteration completed \n",
      "Area distributed after step 4: 0\n"
     ]
    },
    {
     "name": "stderr",
     "output_type": "stream",
     "text": [
      "/tmp/ipykernel_55/3896315690.py:62: RuntimeWarning: invalid value encountered in scalar divide\n",
      "  AD_ra2 = np.where(ATS_2<np.sum(Pot_ATS2),(ATS_2/np.sum(Pot_ATS2)), 1)\n"
     ]
    },
    {
     "name": "stdout",
     "output_type": "stream",
     "text": [
      "Iteration completed \n",
      "Area distributed after step 4: 0\n"
     ]
    },
    {
     "name": "stderr",
     "output_type": "stream",
     "text": [
      "/tmp/ipykernel_55/3896315690.py:62: RuntimeWarning: invalid value encountered in scalar divide\n",
      "  AD_ra2 = np.where(ATS_2<np.sum(Pot_ATS2),(ATS_2/np.sum(Pot_ATS2)), 1)\n"
     ]
    },
    {
     "name": "stdout",
     "output_type": "stream",
     "text": [
      "Iteration completed \n",
      "Area distributed after step 4: 0\n"
     ]
    },
    {
     "name": "stderr",
     "output_type": "stream",
     "text": [
      "/tmp/ipykernel_55/3896315690.py:62: RuntimeWarning: invalid value encountered in scalar divide\n",
      "  AD_ra2 = np.where(ATS_2<np.sum(Pot_ATS2),(ATS_2/np.sum(Pot_ATS2)), 1)\n"
     ]
    },
    {
     "name": "stdout",
     "output_type": "stream",
     "text": [
      "Iteration completed \n",
      "Area distributed after step 4: 0\n"
     ]
    },
    {
     "name": "stderr",
     "output_type": "stream",
     "text": [
      "/tmp/ipykernel_55/3896315690.py:62: RuntimeWarning: invalid value encountered in scalar divide\n",
      "  AD_ra2 = np.where(ATS_2<np.sum(Pot_ATS2),(ATS_2/np.sum(Pot_ATS2)), 1)\n"
     ]
    },
    {
     "name": "stdout",
     "output_type": "stream",
     "text": [
      "Iteration completed \n",
      "Area distributed after step 4: 0\n"
     ]
    },
    {
     "name": "stderr",
     "output_type": "stream",
     "text": [
      "/tmp/ipykernel_55/3896315690.py:62: RuntimeWarning: invalid value encountered in scalar divide\n",
      "  AD_ra2 = np.where(ATS_2<np.sum(Pot_ATS2),(ATS_2/np.sum(Pot_ATS2)), 1)\n",
      "/tmp/ipykernel_55/3896315690.py:62: RuntimeWarning: invalid value encountered in scalar divide\n",
      "  AD_ra2 = np.where(ATS_2<np.sum(Pot_ATS2),(ATS_2/np.sum(Pot_ATS2)), 1)\n"
     ]
    },
    {
     "name": "stdout",
     "output_type": "stream",
     "text": [
      "Iteration completed \n",
      "Area distributed after step 4: 0\n"
     ]
    },
    {
     "name": "stderr",
     "output_type": "stream",
     "text": [
      "/tmp/ipykernel_55/3896315690.py:62: RuntimeWarning: invalid value encountered in scalar divide\n",
      "  AD_ra2 = np.where(ATS_2<np.sum(Pot_ATS2),(ATS_2/np.sum(Pot_ATS2)), 1)\n"
     ]
    },
    {
     "name": "stdout",
     "output_type": "stream",
     "text": [
      "Iteration completed \n",
      "Area distributed after step 4: 0\n"
     ]
    },
    {
     "name": "stderr",
     "output_type": "stream",
     "text": [
      "/tmp/ipykernel_55/3896315690.py:62: RuntimeWarning: invalid value encountered in scalar divide\n",
      "  AD_ra2 = np.where(ATS_2<np.sum(Pot_ATS2),(ATS_2/np.sum(Pot_ATS2)), 1)\n"
     ]
    },
    {
     "name": "stdout",
     "output_type": "stream",
     "text": [
      "Iteration completed \n",
      "Area distributed after step 4: 0\n"
     ]
    },
    {
     "name": "stderr",
     "output_type": "stream",
     "text": [
      "/tmp/ipykernel_55/3896315690.py:62: RuntimeWarning: invalid value encountered in scalar divide\n",
      "  AD_ra2 = np.where(ATS_2<np.sum(Pot_ATS2),(ATS_2/np.sum(Pot_ATS2)), 1)\n"
     ]
    },
    {
     "name": "stdout",
     "output_type": "stream",
     "text": [
      "Iteration completed \n",
      "Area distributed after step 4: 0\n"
     ]
    },
    {
     "name": "stderr",
     "output_type": "stream",
     "text": [
      "/tmp/ipykernel_55/3896315690.py:62: RuntimeWarning: invalid value encountered in scalar divide\n",
      "  AD_ra2 = np.where(ATS_2<np.sum(Pot_ATS2),(ATS_2/np.sum(Pot_ATS2)), 1)\n"
     ]
    },
    {
     "name": "stdout",
     "output_type": "stream",
     "text": [
      "Iteration completed \n",
      "Area distributed after step 4: 0\n"
     ]
    },
    {
     "name": "stderr",
     "output_type": "stream",
     "text": [
      "/tmp/ipykernel_55/3896315690.py:62: RuntimeWarning: invalid value encountered in scalar divide\n",
      "  AD_ra2 = np.where(ATS_2<np.sum(Pot_ATS2),(ATS_2/np.sum(Pot_ATS2)), 1)\n"
     ]
    },
    {
     "name": "stdout",
     "output_type": "stream",
     "text": [
      "Iteration completed \n",
      "Area distributed after step 4: 0\n"
     ]
    },
    {
     "name": "stderr",
     "output_type": "stream",
     "text": [
      "/tmp/ipykernel_55/3896315690.py:62: RuntimeWarning: invalid value encountered in scalar divide\n",
      "  AD_ra2 = np.where(ATS_2<np.sum(Pot_ATS2),(ATS_2/np.sum(Pot_ATS2)), 1)\n"
     ]
    },
    {
     "name": "stdout",
     "output_type": "stream",
     "text": [
      "Iteration completed \n",
      "Area distributed after step 4: 0\n"
     ]
    },
    {
     "name": "stderr",
     "output_type": "stream",
     "text": [
      "/tmp/ipykernel_55/3896315690.py:62: RuntimeWarning: invalid value encountered in scalar divide\n",
      "  AD_ra2 = np.where(ATS_2<np.sum(Pot_ATS2),(ATS_2/np.sum(Pot_ATS2)), 1)\n"
     ]
    },
    {
     "name": "stdout",
     "output_type": "stream",
     "text": [
      "Iteration completed \n",
      "Area distributed after step 4: 0\n"
     ]
    },
    {
     "name": "stderr",
     "output_type": "stream",
     "text": [
      "/tmp/ipykernel_55/3896315690.py:62: RuntimeWarning: invalid value encountered in scalar divide\n",
      "  AD_ra2 = np.where(ATS_2<np.sum(Pot_ATS2),(ATS_2/np.sum(Pot_ATS2)), 1)\n"
     ]
    },
    {
     "name": "stdout",
     "output_type": "stream",
     "text": [
      "Iteration completed \n",
      "Area distributed after step 4: 0\n",
      "3560003\n",
      "Iteration completed \n",
      "Area distributed after step 4: 5\n"
     ]
    },
    {
     "name": "stderr",
     "output_type": "stream",
     "text": [
      "/tmp/ipykernel_55/3896315690.py:62: RuntimeWarning: invalid value encountered in scalar divide\n",
      "  AD_ra2 = np.where(ATS_2<np.sum(Pot_ATS2),(ATS_2/np.sum(Pot_ATS2)), 1)\n",
      "/tmp/ipykernel_55/3896315690.py:62: RuntimeWarning: invalid value encountered in scalar divide\n",
      "  AD_ra2 = np.where(ATS_2<np.sum(Pot_ATS2),(ATS_2/np.sum(Pot_ATS2)), 1)\n"
     ]
    },
    {
     "name": "stdout",
     "output_type": "stream",
     "text": [
      "Iteration completed \n",
      "Area distributed after step 4: 5\n",
      "Iteration completed \n",
      "Area distributed after step 4: 0\n"
     ]
    },
    {
     "name": "stderr",
     "output_type": "stream",
     "text": [
      "/tmp/ipykernel_55/3896315690.py:62: RuntimeWarning: invalid value encountered in scalar divide\n",
      "  AD_ra2 = np.where(ATS_2<np.sum(Pot_ATS2),(ATS_2/np.sum(Pot_ATS2)), 1)\n",
      "/tmp/ipykernel_55/3896315690.py:62: RuntimeWarning: invalid value encountered in scalar divide\n",
      "  AD_ra2 = np.where(ATS_2<np.sum(Pot_ATS2),(ATS_2/np.sum(Pot_ATS2)), 1)\n",
      "/tmp/ipykernel_55/3896315690.py:62: RuntimeWarning: invalid value encountered in scalar divide\n",
      "  AD_ra2 = np.where(ATS_2<np.sum(Pot_ATS2),(ATS_2/np.sum(Pot_ATS2)), 1)\n"
     ]
    },
    {
     "name": "stdout",
     "output_type": "stream",
     "text": [
      "Iteration completed \n",
      "Area distributed after step 4: 0\n",
      "Iteration completed \n",
      "Area distributed after step 4: 0\n"
     ]
    },
    {
     "name": "stderr",
     "output_type": "stream",
     "text": [
      "/tmp/ipykernel_55/3896315690.py:62: RuntimeWarning: invalid value encountered in scalar divide\n",
      "  AD_ra2 = np.where(ATS_2<np.sum(Pot_ATS2),(ATS_2/np.sum(Pot_ATS2)), 1)\n",
      "/tmp/ipykernel_55/3896315690.py:62: RuntimeWarning: invalid value encountered in scalar divide\n",
      "  AD_ra2 = np.where(ATS_2<np.sum(Pot_ATS2),(ATS_2/np.sum(Pot_ATS2)), 1)\n",
      "/tmp/ipykernel_55/3896315690.py:62: RuntimeWarning: invalid value encountered in scalar divide\n",
      "  AD_ra2 = np.where(ATS_2<np.sum(Pot_ATS2),(ATS_2/np.sum(Pot_ATS2)), 1)\n"
     ]
    },
    {
     "name": "stdout",
     "output_type": "stream",
     "text": [
      "Iteration completed \n",
      "Area distributed after step 4: 0\n",
      "Iteration completed \n",
      "Area distributed after step 4: 0\n"
     ]
    },
    {
     "name": "stderr",
     "output_type": "stream",
     "text": [
      "/tmp/ipykernel_55/3896315690.py:62: RuntimeWarning: invalid value encountered in scalar divide\n",
      "  AD_ra2 = np.where(ATS_2<np.sum(Pot_ATS2),(ATS_2/np.sum(Pot_ATS2)), 1)\n",
      "/tmp/ipykernel_55/3896315690.py:62: RuntimeWarning: invalid value encountered in scalar divide\n",
      "  AD_ra2 = np.where(ATS_2<np.sum(Pot_ATS2),(ATS_2/np.sum(Pot_ATS2)), 1)\n"
     ]
    },
    {
     "name": "stdout",
     "output_type": "stream",
     "text": [
      "Iteration completed \n",
      "Area distributed after step 4: 0\n",
      "Iteration completed \n",
      "Area distributed after step 4: 0\n"
     ]
    },
    {
     "name": "stderr",
     "output_type": "stream",
     "text": [
      "/tmp/ipykernel_55/3896315690.py:62: RuntimeWarning: invalid value encountered in scalar divide\n",
      "  AD_ra2 = np.where(ATS_2<np.sum(Pot_ATS2),(ATS_2/np.sum(Pot_ATS2)), 1)\n",
      "/tmp/ipykernel_55/3896315690.py:62: RuntimeWarning: invalid value encountered in scalar divide\n",
      "  AD_ra2 = np.where(ATS_2<np.sum(Pot_ATS2),(ATS_2/np.sum(Pot_ATS2)), 1)\n"
     ]
    },
    {
     "name": "stdout",
     "output_type": "stream",
     "text": [
      "Iteration completed \n",
      "Area distributed after step 4: 0\n",
      "Iteration completed \n",
      "Area distributed after step 4: 0\n"
     ]
    },
    {
     "name": "stderr",
     "output_type": "stream",
     "text": [
      "/tmp/ipykernel_55/3896315690.py:62: RuntimeWarning: invalid value encountered in scalar divide\n",
      "  AD_ra2 = np.where(ATS_2<np.sum(Pot_ATS2),(ATS_2/np.sum(Pot_ATS2)), 1)\n",
      "/tmp/ipykernel_55/3896315690.py:62: RuntimeWarning: invalid value encountered in scalar divide\n",
      "  AD_ra2 = np.where(ATS_2<np.sum(Pot_ATS2),(ATS_2/np.sum(Pot_ATS2)), 1)\n"
     ]
    },
    {
     "name": "stdout",
     "output_type": "stream",
     "text": [
      "Iteration completed \n",
      "Area distributed after step 4: 0\n",
      "Iteration completed \n",
      "Area distributed after step 4: 0\n"
     ]
    },
    {
     "name": "stderr",
     "output_type": "stream",
     "text": [
      "/tmp/ipykernel_55/3896315690.py:62: RuntimeWarning: invalid value encountered in scalar divide\n",
      "  AD_ra2 = np.where(ATS_2<np.sum(Pot_ATS2),(ATS_2/np.sum(Pot_ATS2)), 1)\n",
      "/tmp/ipykernel_55/3896315690.py:62: RuntimeWarning: invalid value encountered in scalar divide\n",
      "  AD_ra2 = np.where(ATS_2<np.sum(Pot_ATS2),(ATS_2/np.sum(Pot_ATS2)), 1)\n"
     ]
    },
    {
     "name": "stdout",
     "output_type": "stream",
     "text": [
      "Iteration completed \n",
      "Area distributed after step 4: 0\n",
      "Iteration completed \n",
      "Area distributed after step 4: 0\n"
     ]
    },
    {
     "name": "stderr",
     "output_type": "stream",
     "text": [
      "/tmp/ipykernel_55/3896315690.py:62: RuntimeWarning: invalid value encountered in scalar divide\n",
      "  AD_ra2 = np.where(ATS_2<np.sum(Pot_ATS2),(ATS_2/np.sum(Pot_ATS2)), 1)\n",
      "/tmp/ipykernel_55/3896315690.py:62: RuntimeWarning: invalid value encountered in scalar divide\n",
      "  AD_ra2 = np.where(ATS_2<np.sum(Pot_ATS2),(ATS_2/np.sum(Pot_ATS2)), 1)\n"
     ]
    },
    {
     "name": "stdout",
     "output_type": "stream",
     "text": [
      "Iteration completed \n",
      "Area distributed after step 4: 0\n",
      "Iteration completed \n",
      "Area distributed after step 4: 0\n"
     ]
    },
    {
     "name": "stderr",
     "output_type": "stream",
     "text": [
      "/tmp/ipykernel_55/3896315690.py:62: RuntimeWarning: invalid value encountered in scalar divide\n",
      "  AD_ra2 = np.where(ATS_2<np.sum(Pot_ATS2),(ATS_2/np.sum(Pot_ATS2)), 1)\n",
      "/tmp/ipykernel_55/3896315690.py:62: RuntimeWarning: invalid value encountered in scalar divide\n",
      "  AD_ra2 = np.where(ATS_2<np.sum(Pot_ATS2),(ATS_2/np.sum(Pot_ATS2)), 1)\n"
     ]
    },
    {
     "name": "stdout",
     "output_type": "stream",
     "text": [
      "Iteration completed \n",
      "Area distributed after step 4: 0\n",
      "Iteration completed \n",
      "Area distributed after step 4: 0\n"
     ]
    },
    {
     "name": "stderr",
     "output_type": "stream",
     "text": [
      "/tmp/ipykernel_55/3896315690.py:62: RuntimeWarning: invalid value encountered in scalar divide\n",
      "  AD_ra2 = np.where(ATS_2<np.sum(Pot_ATS2),(ATS_2/np.sum(Pot_ATS2)), 1)\n",
      "/tmp/ipykernel_55/3896315690.py:62: RuntimeWarning: invalid value encountered in scalar divide\n",
      "  AD_ra2 = np.where(ATS_2<np.sum(Pot_ATS2),(ATS_2/np.sum(Pot_ATS2)), 1)\n",
      "/tmp/ipykernel_55/3896315690.py:62: RuntimeWarning: invalid value encountered in scalar divide\n",
      "  AD_ra2 = np.where(ATS_2<np.sum(Pot_ATS2),(ATS_2/np.sum(Pot_ATS2)), 1)\n"
     ]
    },
    {
     "name": "stdout",
     "output_type": "stream",
     "text": [
      "Iteration completed \n",
      "Area distributed after step 4: 0\n",
      "Iteration completed \n",
      "Area distributed after step 4: 0\n"
     ]
    },
    {
     "name": "stderr",
     "output_type": "stream",
     "text": [
      "/tmp/ipykernel_55/3896315690.py:62: RuntimeWarning: invalid value encountered in scalar divide\n",
      "  AD_ra2 = np.where(ATS_2<np.sum(Pot_ATS2),(ATS_2/np.sum(Pot_ATS2)), 1)\n",
      "/tmp/ipykernel_55/3896315690.py:62: RuntimeWarning: invalid value encountered in scalar divide\n",
      "  AD_ra2 = np.where(ATS_2<np.sum(Pot_ATS2),(ATS_2/np.sum(Pot_ATS2)), 1)\n"
     ]
    },
    {
     "name": "stdout",
     "output_type": "stream",
     "text": [
      "Iteration completed \n",
      "Area distributed after step 4: 0\n",
      "Iteration completed \n",
      "Area distributed after step 4: 0\n"
     ]
    },
    {
     "name": "stderr",
     "output_type": "stream",
     "text": [
      "/tmp/ipykernel_55/3896315690.py:62: RuntimeWarning: invalid value encountered in scalar divide\n",
      "  AD_ra2 = np.where(ATS_2<np.sum(Pot_ATS2),(ATS_2/np.sum(Pot_ATS2)), 1)\n",
      "/tmp/ipykernel_55/3896315690.py:62: RuntimeWarning: invalid value encountered in scalar divide\n",
      "  AD_ra2 = np.where(ATS_2<np.sum(Pot_ATS2),(ATS_2/np.sum(Pot_ATS2)), 1)\n"
     ]
    },
    {
     "name": "stdout",
     "output_type": "stream",
     "text": [
      "Iteration completed \n",
      "Area distributed after step 4: 0\n",
      "Iteration completed \n",
      "Area distributed after step 4: 0\n"
     ]
    },
    {
     "name": "stderr",
     "output_type": "stream",
     "text": [
      "/tmp/ipykernel_55/3896315690.py:62: RuntimeWarning: invalid value encountered in scalar divide\n",
      "  AD_ra2 = np.where(ATS_2<np.sum(Pot_ATS2),(ATS_2/np.sum(Pot_ATS2)), 1)\n"
     ]
    },
    {
     "name": "stdout",
     "output_type": "stream",
     "text": [
      "Iteration completed \n",
      "Area distributed after step 4: 0\n",
      "3560004\n"
     ]
    },
    {
     "name": "stderr",
     "output_type": "stream",
     "text": [
      "/tmp/ipykernel_55/3896315690.py:62: RuntimeWarning: invalid value encountered in scalar divide\n",
      "  AD_ra2 = np.where(ATS_2<np.sum(Pot_ATS2),(ATS_2/np.sum(Pot_ATS2)), 1)\n",
      "/tmp/ipykernel_55/3896315690.py:62: RuntimeWarning: invalid value encountered in scalar divide\n",
      "  AD_ra2 = np.where(ATS_2<np.sum(Pot_ATS2),(ATS_2/np.sum(Pot_ATS2)), 1)\n"
     ]
    },
    {
     "name": "stdout",
     "output_type": "stream",
     "text": [
      "Iteration completed \n",
      "Area distributed after step 4: 48526\n",
      "Iteration completed \n",
      "Area distributed after step 4: 48526\n"
     ]
    },
    {
     "name": "stderr",
     "output_type": "stream",
     "text": [
      "/tmp/ipykernel_55/3896315690.py:62: RuntimeWarning: invalid value encountered in scalar divide\n",
      "  AD_ra2 = np.where(ATS_2<np.sum(Pot_ATS2),(ATS_2/np.sum(Pot_ATS2)), 1)\n",
      "/tmp/ipykernel_55/3896315690.py:62: RuntimeWarning: invalid value encountered in scalar divide\n",
      "  AD_ra2 = np.where(ATS_2<np.sum(Pot_ATS2),(ATS_2/np.sum(Pot_ATS2)), 1)\n"
     ]
    },
    {
     "name": "stdout",
     "output_type": "stream",
     "text": [
      "Iteration completed \n",
      "Area distributed after step 4: 8850\n",
      "Iteration completed \n",
      "Area distributed after step 4: 8462\n"
     ]
    },
    {
     "name": "stderr",
     "output_type": "stream",
     "text": [
      "/tmp/ipykernel_55/3896315690.py:62: RuntimeWarning: invalid value encountered in scalar divide\n",
      "  AD_ra2 = np.where(ATS_2<np.sum(Pot_ATS2),(ATS_2/np.sum(Pot_ATS2)), 1)\n"
     ]
    },
    {
     "name": "stdout",
     "output_type": "stream",
     "text": [
      "Iteration completed \n",
      "Area distributed after step 4: 8109\n",
      "Iteration completed \n",
      "Area distributed after step 4: 2086\n"
     ]
    },
    {
     "name": "stderr",
     "output_type": "stream",
     "text": [
      "/tmp/ipykernel_55/3896315690.py:62: RuntimeWarning: invalid value encountered in scalar divide\n",
      "  AD_ra2 = np.where(ATS_2<np.sum(Pot_ATS2),(ATS_2/np.sum(Pot_ATS2)), 1)\n",
      "/tmp/ipykernel_55/3896315690.py:62: RuntimeWarning: invalid value encountered in scalar divide\n",
      "  AD_ra2 = np.where(ATS_2<np.sum(Pot_ATS2),(ATS_2/np.sum(Pot_ATS2)), 1)\n"
     ]
    },
    {
     "name": "stdout",
     "output_type": "stream",
     "text": [
      "Iteration completed \n",
      "Area distributed after step 4: 1581\n",
      "Iteration completed \n",
      "Area distributed after step 4: 1472\n"
     ]
    },
    {
     "name": "stderr",
     "output_type": "stream",
     "text": [
      "/tmp/ipykernel_55/3896315690.py:62: RuntimeWarning: invalid value encountered in scalar divide\n",
      "  AD_ra2 = np.where(ATS_2<np.sum(Pot_ATS2),(ATS_2/np.sum(Pot_ATS2)), 1)\n",
      "/tmp/ipykernel_55/3896315690.py:62: RuntimeWarning: invalid value encountered in scalar divide\n",
      "  AD_ra2 = np.where(ATS_2<np.sum(Pot_ATS2),(ATS_2/np.sum(Pot_ATS2)), 1)\n"
     ]
    },
    {
     "name": "stdout",
     "output_type": "stream",
     "text": [
      "Iteration completed \n",
      "Area distributed after step 4: 277\n"
     ]
    },
    {
     "name": "stderr",
     "output_type": "stream",
     "text": [
      "/tmp/ipykernel_55/3896315690.py:62: RuntimeWarning: invalid value encountered in scalar divide\n",
      "  AD_ra2 = np.where(ATS_2<np.sum(Pot_ATS2),(ATS_2/np.sum(Pot_ATS2)), 1)\n"
     ]
    },
    {
     "name": "stdout",
     "output_type": "stream",
     "text": [
      "Iteration completed \n",
      "Area distributed after step 4: 209\n",
      "Iteration completed \n",
      "Area distributed after step 4: 83\n"
     ]
    },
    {
     "name": "stderr",
     "output_type": "stream",
     "text": [
      "/tmp/ipykernel_55/3896315690.py:62: RuntimeWarning: invalid value encountered in scalar divide\n",
      "  AD_ra2 = np.where(ATS_2<np.sum(Pot_ATS2),(ATS_2/np.sum(Pot_ATS2)), 1)\n",
      "/tmp/ipykernel_55/3896315690.py:62: RuntimeWarning: invalid value encountered in scalar divide\n",
      "  AD_ra2 = np.where(ATS_2<np.sum(Pot_ATS2),(ATS_2/np.sum(Pot_ATS2)), 1)\n"
     ]
    },
    {
     "name": "stdout",
     "output_type": "stream",
     "text": [
      "Iteration completed \n",
      "Area distributed after step 4: 28\n",
      "Iteration completed \n",
      "Area distributed after step 4: 25\n"
     ]
    },
    {
     "name": "stderr",
     "output_type": "stream",
     "text": [
      "/tmp/ipykernel_55/3896315690.py:62: RuntimeWarning: invalid value encountered in scalar divide\n",
      "  AD_ra2 = np.where(ATS_2<np.sum(Pot_ATS2),(ATS_2/np.sum(Pot_ATS2)), 1)\n",
      "/tmp/ipykernel_55/3896315690.py:62: RuntimeWarning: invalid value encountered in scalar divide\n",
      "  AD_ra2 = np.where(ATS_2<np.sum(Pot_ATS2),(ATS_2/np.sum(Pot_ATS2)), 1)\n"
     ]
    },
    {
     "name": "stdout",
     "output_type": "stream",
     "text": [
      "Iteration completed \n",
      "Area distributed after step 4: 20\n",
      "Iteration completed \n",
      "Area distributed after step 4: 13\n"
     ]
    },
    {
     "name": "stderr",
     "output_type": "stream",
     "text": [
      "/tmp/ipykernel_55/3896315690.py:62: RuntimeWarning: invalid value encountered in scalar divide\n",
      "  AD_ra2 = np.where(ATS_2<np.sum(Pot_ATS2),(ATS_2/np.sum(Pot_ATS2)), 1)\n"
     ]
    },
    {
     "name": "stdout",
     "output_type": "stream",
     "text": [
      "Iteration completed \n",
      "Area distributed after step 4: 6\n"
     ]
    },
    {
     "name": "stderr",
     "output_type": "stream",
     "text": [
      "/tmp/ipykernel_55/3896315690.py:62: RuntimeWarning: invalid value encountered in scalar divide\n",
      "  AD_ra2 = np.where(ATS_2<np.sum(Pot_ATS2),(ATS_2/np.sum(Pot_ATS2)), 1)\n"
     ]
    },
    {
     "name": "stdout",
     "output_type": "stream",
     "text": [
      "Iteration completed \n",
      "Area distributed after step 4: 4\n"
     ]
    },
    {
     "name": "stderr",
     "output_type": "stream",
     "text": [
      "/tmp/ipykernel_55/3896315690.py:62: RuntimeWarning: invalid value encountered in scalar divide\n",
      "  AD_ra2 = np.where(ATS_2<np.sum(Pot_ATS2),(ATS_2/np.sum(Pot_ATS2)), 1)\n",
      "/tmp/ipykernel_55/3896315690.py:62: RuntimeWarning: invalid value encountered in scalar divide\n",
      "  AD_ra2 = np.where(ATS_2<np.sum(Pot_ATS2),(ATS_2/np.sum(Pot_ATS2)), 1)\n"
     ]
    },
    {
     "name": "stdout",
     "output_type": "stream",
     "text": [
      "Iteration completed \n",
      "Area distributed after step 4: 1\n"
     ]
    },
    {
     "name": "stderr",
     "output_type": "stream",
     "text": [
      "/tmp/ipykernel_55/3896315690.py:62: RuntimeWarning: invalid value encountered in scalar divide\n",
      "  AD_ra2 = np.where(ATS_2<np.sum(Pot_ATS2),(ATS_2/np.sum(Pot_ATS2)), 1)\n",
      "/tmp/ipykernel_55/3896315690.py:62: RuntimeWarning: invalid value encountered in scalar divide\n",
      "  AD_ra2 = np.where(ATS_2<np.sum(Pot_ATS2),(ATS_2/np.sum(Pot_ATS2)), 1)\n"
     ]
    },
    {
     "name": "stdout",
     "output_type": "stream",
     "text": [
      "Iteration completed \n",
      "Area distributed after step 4: 0\n",
      "Iteration completed \n",
      "Area distributed after step 4: 0\n"
     ]
    },
    {
     "name": "stderr",
     "output_type": "stream",
     "text": [
      "/tmp/ipykernel_55/3896315690.py:62: RuntimeWarning: invalid value encountered in scalar divide\n",
      "  AD_ra2 = np.where(ATS_2<np.sum(Pot_ATS2),(ATS_2/np.sum(Pot_ATS2)), 1)\n"
     ]
    },
    {
     "name": "stdout",
     "output_type": "stream",
     "text": [
      "Iteration completed \n",
      "Area distributed after step 4: 0\n"
     ]
    },
    {
     "name": "stderr",
     "output_type": "stream",
     "text": [
      "/tmp/ipykernel_55/3896315690.py:62: RuntimeWarning: invalid value encountered in scalar divide\n",
      "  AD_ra2 = np.where(ATS_2<np.sum(Pot_ATS2),(ATS_2/np.sum(Pot_ATS2)), 1)\n"
     ]
    },
    {
     "name": "stdout",
     "output_type": "stream",
     "text": [
      "Iteration completed \n",
      "Area distributed after step 4: 0\n"
     ]
    },
    {
     "name": "stderr",
     "output_type": "stream",
     "text": [
      "/tmp/ipykernel_55/3896315690.py:62: RuntimeWarning: invalid value encountered in scalar divide\n",
      "  AD_ra2 = np.where(ATS_2<np.sum(Pot_ATS2),(ATS_2/np.sum(Pot_ATS2)), 1)\n",
      "/tmp/ipykernel_55/3896315690.py:62: RuntimeWarning: invalid value encountered in scalar divide\n",
      "  AD_ra2 = np.where(ATS_2<np.sum(Pot_ATS2),(ATS_2/np.sum(Pot_ATS2)), 1)\n"
     ]
    },
    {
     "name": "stdout",
     "output_type": "stream",
     "text": [
      "Iteration completed \n",
      "Area distributed after step 4: 0\n",
      "Iteration completed \n",
      "Area distributed after step 4: 0\n"
     ]
    },
    {
     "name": "stderr",
     "output_type": "stream",
     "text": [
      "/tmp/ipykernel_55/3896315690.py:62: RuntimeWarning: invalid value encountered in scalar divide\n",
      "  AD_ra2 = np.where(ATS_2<np.sum(Pot_ATS2),(ATS_2/np.sum(Pot_ATS2)), 1)\n"
     ]
    },
    {
     "name": "stdout",
     "output_type": "stream",
     "text": [
      "Iteration completed \n",
      "Area distributed after step 4: 0\n"
     ]
    },
    {
     "name": "stderr",
     "output_type": "stream",
     "text": [
      "/tmp/ipykernel_55/3896315690.py:62: RuntimeWarning: invalid value encountered in scalar divide\n",
      "  AD_ra2 = np.where(ATS_2<np.sum(Pot_ATS2),(ATS_2/np.sum(Pot_ATS2)), 1)\n"
     ]
    },
    {
     "name": "stdout",
     "output_type": "stream",
     "text": [
      "Iteration completed \n",
      "Area distributed after step 4: 0\n",
      "3560005\n",
      "Iteration completed \n",
      "Area distributed after step 4: 33872\n",
      "Iteration completed \n",
      "Area distributed after step 4: 33872\n",
      "[ 7  8  9 10 11]\n",
      "../scratch/Irrigated/District/00/3560005/Groundnuts/July.tiff\n",
      "<osgeo.gdal.Dataset; proxy of <Swig Object of type 'GDALDatasetShadow *' at 0x7fc8c830d020> >\n",
      "TIFF file saved successfully @ ../scratch/Irrigated/District/00/3560005/Groundnuts/July.tiff\n",
      "../scratch/Irrigated/District/00/3560005/Groundnuts/August.tiff\n",
      "<osgeo.gdal.Dataset; proxy of <Swig Object of type 'GDALDatasetShadow *' at 0x7fc8c830fc90> >\n",
      "TIFF file saved successfully @ ../scratch/Irrigated/District/00/3560005/Groundnuts/August.tiff\n",
      "../scratch/Irrigated/District/00/3560005/Groundnuts/September.tiff\n",
      "<osgeo.gdal.Dataset; proxy of <Swig Object of type 'GDALDatasetShadow *' at 0x7fc8c830f8a0> >\n",
      "TIFF file saved successfully @ ../scratch/Irrigated/District/00/3560005/Groundnuts/September.tiff\n",
      "../scratch/Irrigated/District/00/3560005/Groundnuts/October.tiff\n",
      "<osgeo.gdal.Dataset; proxy of <Swig Object of type 'GDALDatasetShadow *' at 0x7fc8c830c8d0> >\n",
      "TIFF file saved successfully @ ../scratch/Irrigated/District/00/3560005/Groundnuts/October.tiff\n",
      "../scratch/Irrigated/District/00/3560005/Groundnuts/November.tiff\n",
      "<osgeo.gdal.Dataset; proxy of <Swig Object of type 'GDALDatasetShadow *' at 0x7fc8c830e7f0> >\n",
      "TIFF file saved successfully @ ../scratch/Irrigated/District/00/3560005/Groundnuts/November.tiff\n",
      "Iteration completed \n",
      "Area distributed after step 4: 21648\n",
      "[ 7  8  9 10 11]\n",
      "../scratch/Irrigated/District/00/3560005/Sunflower/July.tiff\n",
      "<osgeo.gdal.Dataset; proxy of <Swig Object of type 'GDALDatasetShadow *' at 0x7fc8c83200c0> >\n",
      "TIFF file saved successfully @ ../scratch/Irrigated/District/00/3560005/Sunflower/July.tiff\n",
      "../scratch/Irrigated/District/00/3560005/Sunflower/August.tiff\n",
      "<osgeo.gdal.Dataset; proxy of <Swig Object of type 'GDALDatasetShadow *' at 0x7fc8c83203f0> >\n",
      "TIFF file saved successfully @ ../scratch/Irrigated/District/00/3560005/Sunflower/August.tiff\n",
      "../scratch/Irrigated/District/00/3560005/Sunflower/September.tiff\n",
      "<osgeo.gdal.Dataset; proxy of <Swig Object of type 'GDALDatasetShadow *' at 0x7fc8c83219b0> >\n",
      "TIFF file saved successfully @ ../scratch/Irrigated/District/00/3560005/Sunflower/September.tiff\n",
      "../scratch/Irrigated/District/00/3560005/Sunflower/October.tiff\n",
      "<osgeo.gdal.Dataset; proxy of <Swig Object of type 'GDALDatasetShadow *' at 0x7fc8c8322d00> >\n",
      "TIFF file saved successfully @ ../scratch/Irrigated/District/00/3560005/Sunflower/October.tiff\n",
      "../scratch/Irrigated/District/00/3560005/Sunflower/November.tiff\n",
      "<osgeo.gdal.Dataset; proxy of <Swig Object of type 'GDALDatasetShadow *' at 0x7fc8c8323ed0> >\n",
      "TIFF file saved successfully @ ../scratch/Irrigated/District/00/3560005/Sunflower/November.tiff\n",
      "[6 7 8 9]\n",
      "../scratch/Irrigated/District/00/3560005/Millet/June.tiff\n",
      "<osgeo.gdal.Dataset; proxy of <Swig Object of type 'GDALDatasetShadow *' at 0x7fc8c81ed530> >\n",
      "TIFF file saved successfully @ ../scratch/Irrigated/District/00/3560005/Millet/June.tiff\n",
      "../scratch/Irrigated/District/00/3560005/Millet/July.tiff\n",
      "<osgeo.gdal.Dataset; proxy of <Swig Object of type 'GDALDatasetShadow *' at 0x7fc8c81ed2f0> >\n",
      "TIFF file saved successfully @ ../scratch/Irrigated/District/00/3560005/Millet/July.tiff\n",
      "../scratch/Irrigated/District/00/3560005/Millet/August.tiff\n",
      "<osgeo.gdal.Dataset; proxy of <Swig Object of type 'GDALDatasetShadow *' at 0x7fc8c81ec300> >\n",
      "TIFF file saved successfully @ ../scratch/Irrigated/District/00/3560005/Millet/August.tiff\n",
      "../scratch/Irrigated/District/00/3560005/Millet/September.tiff\n",
      "<osgeo.gdal.Dataset; proxy of <Swig Object of type 'GDALDatasetShadow *' at 0x7fc8c81ec930> >\n",
      "TIFF file saved successfully @ ../scratch/Irrigated/District/00/3560005/Millet/September.tiff\n",
      "Iteration completed \n",
      "Area distributed after step 4: 5158\n",
      "Iteration completed \n",
      "Area distributed after step 4: 4917\n",
      "Iteration completed \n",
      "Area distributed after step 4: 3432\n",
      "Iteration completed \n",
      "Area distributed after step 4: 3097\n",
      "Iteration completed \n",
      "Area distributed after step 4: 2314\n",
      "Iteration completed \n",
      "Area distributed after step 4: 818\n",
      "Iteration completed \n",
      "Area distributed after step 4: 97\n",
      "Iteration completed \n",
      "Area distributed after step 4: 89\n",
      "Iteration completed \n",
      "Area distributed after step 4: 48\n",
      "Iteration completed \n",
      "Area distributed after step 4: 41\n",
      "Iteration completed \n",
      "Area distributed after step 4: 0\n"
     ]
    },
    {
     "name": "stderr",
     "output_type": "stream",
     "text": [
      "/tmp/ipykernel_55/3896315690.py:62: RuntimeWarning: invalid value encountered in scalar divide\n",
      "  AD_ra2 = np.where(ATS_2<np.sum(Pot_ATS2),(ATS_2/np.sum(Pot_ATS2)), 1)\n"
     ]
    },
    {
     "name": "stdout",
     "output_type": "stream",
     "text": [
      "Iteration completed \n",
      "Area distributed after step 4: 0\n",
      "Iteration completed \n",
      "Area distributed after step 4: 0\n",
      "Iteration completed \n",
      "Area distributed after step 4: 0\n",
      "Iteration completed \n",
      "Area distributed after step 4: 0\n",
      "Iteration completed \n",
      "Area distributed after step 4: 0\n",
      "Iteration completed \n",
      "Area distributed after step 4: 0\n"
     ]
    },
    {
     "name": "stderr",
     "output_type": "stream",
     "text": [
      "/tmp/ipykernel_55/3896315690.py:62: RuntimeWarning: invalid value encountered in scalar divide\n",
      "  AD_ra2 = np.where(ATS_2<np.sum(Pot_ATS2),(ATS_2/np.sum(Pot_ATS2)), 1)\n"
     ]
    },
    {
     "name": "stdout",
     "output_type": "stream",
     "text": [
      "Iteration completed \n",
      "Area distributed after step 4: 0\n",
      "Iteration completed \n",
      "Area distributed after step 4: 0\n",
      "Iteration completed \n",
      "Area distributed after step 4: 0\n",
      "3560006\n",
      "Error Check Your Code! (full area not assigned)\n",
      "Area distributed after step 4: 1016\n",
      "Error Check Your Code! (full area not assigned)\n",
      "Area distributed after step 4: 994\n",
      "Error Check Your Code! (full area not assigned)\n",
      "Area distributed after step 4: 994\n",
      "Error Check Your Code! (full area not assigned)\n",
      "Area distributed after step 4: 1026\n",
      "Error Check Your Code! (full area not assigned)\n",
      "Area distributed after step 4: 1001\n",
      "Error Check Your Code! (full area not assigned)\n",
      "Area distributed after step 4: 998\n",
      "Error Check Your Code! (full area not assigned)\n",
      "Area distributed after step 4: 988\n",
      "Error Check Your Code! (full area not assigned)\n",
      "Area distributed after step 4: 1026\n",
      "Error Check Your Code! (full area not assigned)\n",
      "Area distributed after step 4: 956\n",
      "Iteration completed \n",
      "Area distributed after step 4: 885\n",
      "Iteration completed \n",
      "Area distributed after step 4: 734\n",
      "Iteration completed \n",
      "Area distributed after step 4: 287\n",
      "Iteration completed \n",
      "Area distributed after step 4: 32\n",
      "Iteration completed \n",
      "Area distributed after step 4: 21\n",
      "Iteration completed \n",
      "Area distributed after step 4: 17\n",
      "Iteration completed \n",
      "Area distributed after step 4: 16\n",
      "Iteration completed \n",
      "Area distributed after step 4: 8\n",
      "Iteration completed \n",
      "Area distributed after step 4: 4\n"
     ]
    },
    {
     "name": "stderr",
     "output_type": "stream",
     "text": [
      "/tmp/ipykernel_55/3896315690.py:62: RuntimeWarning: invalid value encountered in scalar divide\n",
      "  AD_ra2 = np.where(ATS_2<np.sum(Pot_ATS2),(ATS_2/np.sum(Pot_ATS2)), 1)\n",
      "/tmp/ipykernel_55/3896315690.py:62: RuntimeWarning: invalid value encountered in scalar divide\n",
      "  AD_ra2 = np.where(ATS_2<np.sum(Pot_ATS2),(ATS_2/np.sum(Pot_ATS2)), 1)\n",
      "/tmp/ipykernel_55/3896315690.py:62: RuntimeWarning: invalid value encountered in scalar divide\n",
      "  AD_ra2 = np.where(ATS_2<np.sum(Pot_ATS2),(ATS_2/np.sum(Pot_ATS2)), 1)\n",
      "/tmp/ipykernel_55/3896315690.py:62: RuntimeWarning: invalid value encountered in scalar divide\n",
      "  AD_ra2 = np.where(ATS_2<np.sum(Pot_ATS2),(ATS_2/np.sum(Pot_ATS2)), 1)\n",
      "/tmp/ipykernel_55/3896315690.py:62: RuntimeWarning: invalid value encountered in scalar divide\n",
      "  AD_ra2 = np.where(ATS_2<np.sum(Pot_ATS2),(ATS_2/np.sum(Pot_ATS2)), 1)\n",
      "/tmp/ipykernel_55/3896315690.py:62: RuntimeWarning: invalid value encountered in scalar divide\n",
      "  AD_ra2 = np.where(ATS_2<np.sum(Pot_ATS2),(ATS_2/np.sum(Pot_ATS2)), 1)\n",
      "/tmp/ipykernel_55/3896315690.py:62: RuntimeWarning: invalid value encountered in scalar divide\n",
      "  AD_ra2 = np.where(ATS_2<np.sum(Pot_ATS2),(ATS_2/np.sum(Pot_ATS2)), 1)\n",
      "/tmp/ipykernel_55/3896315690.py:62: RuntimeWarning: invalid value encountered in scalar divide\n",
      "  AD_ra2 = np.where(ATS_2<np.sum(Pot_ATS2),(ATS_2/np.sum(Pot_ATS2)), 1)\n",
      "/tmp/ipykernel_55/3896315690.py:62: RuntimeWarning: invalid value encountered in scalar divide\n",
      "  AD_ra2 = np.where(ATS_2<np.sum(Pot_ATS2),(ATS_2/np.sum(Pot_ATS2)), 1)\n",
      "/tmp/ipykernel_55/3896315690.py:62: RuntimeWarning: invalid value encountered in scalar divide\n",
      "  AD_ra2 = np.where(ATS_2<np.sum(Pot_ATS2),(ATS_2/np.sum(Pot_ATS2)), 1)\n",
      "/tmp/ipykernel_55/3896315690.py:62: RuntimeWarning: invalid value encountered in scalar divide\n",
      "  AD_ra2 = np.where(ATS_2<np.sum(Pot_ATS2),(ATS_2/np.sum(Pot_ATS2)), 1)\n"
     ]
    },
    {
     "name": "stdout",
     "output_type": "stream",
     "text": [
      "Iteration completed \n",
      "Area distributed after step 4: 4\n",
      "Iteration completed \n",
      "Area distributed after step 4: 0\n",
      "Iteration completed \n",
      "Area distributed after step 4: 0\n",
      "Iteration completed \n",
      "Area distributed after step 4: 0\n",
      "Iteration completed \n",
      "Area distributed after step 4: 0\n",
      "Iteration completed \n",
      "Area distributed after step 4: 0\n",
      "Iteration completed \n",
      "Area distributed after step 4: 0\n",
      "Iteration completed \n",
      "Area distributed after step 4: 0\n",
      "3560007\n",
      "Iteration completed \n",
      "Area distributed after step 4: 194394\n",
      "Iteration completed \n",
      "Area distributed after step 4: 194394\n",
      "Iteration completed \n",
      "Area distributed after step 4: 21798\n",
      "[ 1  2  3  4  5  6  7  8  9 10 11 12]\n",
      "../scratch/Irrigated/District/00/3560007/Sugar cane/January.tiff\n",
      "<osgeo.gdal.Dataset; proxy of <Swig Object of type 'GDALDatasetShadow *' at 0x7fc8c8321110> >\n",
      "TIFF file saved successfully @ ../scratch/Irrigated/District/00/3560007/Sugar cane/January.tiff\n",
      "../scratch/Irrigated/District/00/3560007/Sugar cane/February.tiff\n",
      "<osgeo.gdal.Dataset; proxy of <Swig Object of type 'GDALDatasetShadow *' at 0x7fc8c83219e0> >\n",
      "TIFF file saved successfully @ ../scratch/Irrigated/District/00/3560007/Sugar cane/February.tiff\n",
      "../scratch/Irrigated/District/00/3560007/Sugar cane/March.tiff\n",
      "<osgeo.gdal.Dataset; proxy of <Swig Object of type 'GDALDatasetShadow *' at 0x7fc8c8323210> >\n",
      "TIFF file saved successfully @ ../scratch/Irrigated/District/00/3560007/Sugar cane/March.tiff\n",
      "../scratch/Irrigated/District/00/3560007/Sugar cane/April.tiff\n",
      "<osgeo.gdal.Dataset; proxy of <Swig Object of type 'GDALDatasetShadow *' at 0x7fc8c83225e0> >\n",
      "TIFF file saved successfully @ ../scratch/Irrigated/District/00/3560007/Sugar cane/April.tiff\n",
      "../scratch/Irrigated/District/00/3560007/Sugar cane/May.tiff\n",
      "<osgeo.gdal.Dataset; proxy of <Swig Object of type 'GDALDatasetShadow *' at 0x7fc8c8321cb0> >\n",
      "TIFF file saved successfully @ ../scratch/Irrigated/District/00/3560007/Sugar cane/May.tiff\n",
      "../scratch/Irrigated/District/00/3560007/Sugar cane/June.tiff\n",
      "<osgeo.gdal.Dataset; proxy of <Swig Object of type 'GDALDatasetShadow *' at 0x7fc8c8322fa0> >\n",
      "TIFF file saved successfully @ ../scratch/Irrigated/District/00/3560007/Sugar cane/June.tiff\n",
      "../scratch/Irrigated/District/00/3560007/Sugar cane/July.tiff\n",
      "<osgeo.gdal.Dataset; proxy of <Swig Object of type 'GDALDatasetShadow *' at 0x7fc8c8320060> >\n",
      "TIFF file saved successfully @ ../scratch/Irrigated/District/00/3560007/Sugar cane/July.tiff\n",
      "../scratch/Irrigated/District/00/3560007/Sugar cane/August.tiff\n",
      "<osgeo.gdal.Dataset; proxy of <Swig Object of type 'GDALDatasetShadow *' at 0x7fc8c8323d50> >\n",
      "TIFF file saved successfully @ ../scratch/Irrigated/District/00/3560007/Sugar cane/August.tiff\n",
      "../scratch/Irrigated/District/00/3560007/Sugar cane/September.tiff\n",
      "<osgeo.gdal.Dataset; proxy of <Swig Object of type 'GDALDatasetShadow *' at 0x7fc8c83209c0> >\n",
      "TIFF file saved successfully @ ../scratch/Irrigated/District/00/3560007/Sugar cane/September.tiff\n",
      "../scratch/Irrigated/District/00/3560007/Sugar cane/October.tiff\n",
      "<osgeo.gdal.Dataset; proxy of <Swig Object of type 'GDALDatasetShadow *' at 0x7fc8c83209f0> >\n",
      "TIFF file saved successfully @ ../scratch/Irrigated/District/00/3560007/Sugar cane/October.tiff\n",
      "../scratch/Irrigated/District/00/3560007/Sugar cane/November.tiff\n",
      "<osgeo.gdal.Dataset; proxy of <Swig Object of type 'GDALDatasetShadow *' at 0x7fc8c83214d0> >\n",
      "TIFF file saved successfully @ ../scratch/Irrigated/District/00/3560007/Sugar cane/November.tiff\n",
      "../scratch/Irrigated/District/00/3560007/Sugar cane/December.tiff\n",
      "<osgeo.gdal.Dataset; proxy of <Swig Object of type 'GDALDatasetShadow *' at 0x7fc8c83226a0> >\n",
      "TIFF file saved successfully @ ../scratch/Irrigated/District/00/3560007/Sugar cane/December.tiff\n",
      "Iteration completed \n",
      "Area distributed after step 4: 5158\n",
      "[ 1  2  3  4  5  6  7  8  9 10 11 12]\n",
      "../scratch/Irrigated/District/00/3560007/Oil palm/January.tiff\n",
      "<osgeo.gdal.Dataset; proxy of <Swig Object of type 'GDALDatasetShadow *' at 0x7fc8c9832af0> >\n",
      "TIFF file saved successfully @ ../scratch/Irrigated/District/00/3560007/Oil palm/January.tiff\n",
      "../scratch/Irrigated/District/00/3560007/Oil palm/February.tiff\n",
      "<osgeo.gdal.Dataset; proxy of <Swig Object of type 'GDALDatasetShadow *' at 0x7fc8c9833c90> >\n",
      "TIFF file saved successfully @ ../scratch/Irrigated/District/00/3560007/Oil palm/February.tiff\n",
      "../scratch/Irrigated/District/00/3560007/Oil palm/March.tiff\n",
      "<osgeo.gdal.Dataset; proxy of <Swig Object of type 'GDALDatasetShadow *' at 0x7fc8c98313b0> >\n",
      "TIFF file saved successfully @ ../scratch/Irrigated/District/00/3560007/Oil palm/March.tiff\n",
      "../scratch/Irrigated/District/00/3560007/Oil palm/April.tiff\n",
      "<osgeo.gdal.Dataset; proxy of <Swig Object of type 'GDALDatasetShadow *' at 0x7fc8c98315c0> >\n",
      "TIFF file saved successfully @ ../scratch/Irrigated/District/00/3560007/Oil palm/April.tiff\n",
      "../scratch/Irrigated/District/00/3560007/Oil palm/May.tiff\n",
      "<osgeo.gdal.Dataset; proxy of <Swig Object of type 'GDALDatasetShadow *' at 0x7fc8c9833b70> >\n",
      "TIFF file saved successfully @ ../scratch/Irrigated/District/00/3560007/Oil palm/May.tiff\n",
      "../scratch/Irrigated/District/00/3560007/Oil palm/June.tiff\n",
      "<osgeo.gdal.Dataset; proxy of <Swig Object of type 'GDALDatasetShadow *' at 0x7fc8c9831890> >\n",
      "TIFF file saved successfully @ ../scratch/Irrigated/District/00/3560007/Oil palm/June.tiff\n",
      "../scratch/Irrigated/District/00/3560007/Oil palm/July.tiff\n",
      "<osgeo.gdal.Dataset; proxy of <Swig Object of type 'GDALDatasetShadow *' at 0x7fc8c9833fc0> >\n",
      "TIFF file saved successfully @ ../scratch/Irrigated/District/00/3560007/Oil palm/July.tiff\n",
      "../scratch/Irrigated/District/00/3560007/Oil palm/August.tiff\n",
      "<osgeo.gdal.Dataset; proxy of <Swig Object of type 'GDALDatasetShadow *' at 0x7fc8c9832880> >\n",
      "TIFF file saved successfully @ ../scratch/Irrigated/District/00/3560007/Oil palm/August.tiff\n",
      "../scratch/Irrigated/District/00/3560007/Oil palm/September.tiff\n",
      "<osgeo.gdal.Dataset; proxy of <Swig Object of type 'GDALDatasetShadow *' at 0x7fc8c9831470> >\n",
      "TIFF file saved successfully @ ../scratch/Irrigated/District/00/3560007/Oil palm/September.tiff\n",
      "../scratch/Irrigated/District/00/3560007/Oil palm/October.tiff\n",
      "<osgeo.gdal.Dataset; proxy of <Swig Object of type 'GDALDatasetShadow *' at 0x7fc8c9833ba0> >\n",
      "TIFF file saved successfully @ ../scratch/Irrigated/District/00/3560007/Oil palm/October.tiff\n",
      "../scratch/Irrigated/District/00/3560007/Oil palm/November.tiff\n",
      "<osgeo.gdal.Dataset; proxy of <Swig Object of type 'GDALDatasetShadow *' at 0x7fc8c9831f50> >\n",
      "TIFF file saved successfully @ ../scratch/Irrigated/District/00/3560007/Oil palm/November.tiff\n",
      "../scratch/Irrigated/District/00/3560007/Oil palm/December.tiff\n",
      "<osgeo.gdal.Dataset; proxy of <Swig Object of type 'GDALDatasetShadow *' at 0x7fc8c9832910> >\n",
      "TIFF file saved successfully @ ../scratch/Irrigated/District/00/3560007/Oil palm/December.tiff\n",
      "Iteration completed \n",
      "Area distributed after step 4: 1286\n",
      "Iteration completed \n",
      "Area distributed after step 4: 448\n",
      "Iteration completed \n",
      "Area distributed after step 4: 270\n",
      "Iteration completed \n",
      "Area distributed after step 4: 153\n",
      "Iteration completed \n",
      "Area distributed after step 4: 65\n",
      "Iteration completed \n",
      "Area distributed after step 4: 37\n",
      "Iteration completed \n",
      "Area distributed after step 4: 33\n",
      "Iteration completed \n",
      "Area distributed after step 4: 33\n",
      "Iteration completed \n",
      "Area distributed after step 4: 24\n",
      "Iteration completed \n",
      "Area distributed after step 4: 9\n"
     ]
    },
    {
     "name": "stderr",
     "output_type": "stream",
     "text": [
      "/tmp/ipykernel_55/3896315690.py:62: RuntimeWarning: invalid value encountered in scalar divide\n",
      "  AD_ra2 = np.where(ATS_2<np.sum(Pot_ATS2),(ATS_2/np.sum(Pot_ATS2)), 1)\n"
     ]
    },
    {
     "name": "stdout",
     "output_type": "stream",
     "text": [
      "Iteration completed \n",
      "Area distributed after step 4: 0\n",
      "Iteration completed \n",
      "Area distributed after step 4: 0\n",
      "Iteration completed \n",
      "Area distributed after step 4: 0\n",
      "Iteration completed \n",
      "Area distributed after step 4: 0\n",
      "Iteration completed \n",
      "Area distributed after step 4: 0\n",
      "Iteration completed \n",
      "Area distributed after step 4: 0\n",
      "Iteration completed \n",
      "Area distributed after step 4: 0\n",
      "Iteration completed \n",
      "Area distributed after step 4: 0\n",
      "Iteration completed \n",
      "Area distributed after step 4: 0\n",
      "Iteration completed \n",
      "Area distributed after step 4: 0\n",
      "3560008\n",
      "Error Check Your Code! (full area not assigned)\n",
      "Area distributed after step 4: 6612\n",
      "Error Check Your Code! (full area not assigned)\n",
      "Area distributed after step 4: 6612\n",
      "Error Check Your Code! (full area not assigned)\n",
      "Area distributed after step 4: 6654\n",
      "Error Check Your Code! (full area not assigned)\n",
      "Area distributed after step 4: 6704\n",
      "Error Check Your Code! (full area not assigned)\n",
      "Area distributed after step 4: 6735\n",
      "Iteration completed \n",
      "Area distributed after step 4: 5770\n",
      "Iteration completed \n",
      "Area distributed after step 4: 2073\n",
      "Iteration completed \n",
      "Area distributed after step 4: 1817\n",
      "Iteration completed \n",
      "Area distributed after step 4: 1556\n"
     ]
    },
    {
     "name": "stderr",
     "output_type": "stream",
     "text": [
      "/tmp/ipykernel_55/3896315690.py:62: RuntimeWarning: invalid value encountered in scalar divide\n",
      "  AD_ra2 = np.where(ATS_2<np.sum(Pot_ATS2),(ATS_2/np.sum(Pot_ATS2)), 1)\n",
      "/tmp/ipykernel_55/3896315690.py:62: RuntimeWarning: invalid value encountered in scalar divide\n",
      "  AD_ra2 = np.where(ATS_2<np.sum(Pot_ATS2),(ATS_2/np.sum(Pot_ATS2)), 1)\n",
      "/tmp/ipykernel_55/3896315690.py:62: RuntimeWarning: invalid value encountered in scalar divide\n",
      "  AD_ra2 = np.where(ATS_2<np.sum(Pot_ATS2),(ATS_2/np.sum(Pot_ATS2)), 1)\n",
      "/tmp/ipykernel_55/3896315690.py:62: RuntimeWarning: invalid value encountered in scalar divide\n",
      "  AD_ra2 = np.where(ATS_2<np.sum(Pot_ATS2),(ATS_2/np.sum(Pot_ATS2)), 1)\n",
      "/tmp/ipykernel_55/3896315690.py:62: RuntimeWarning: invalid value encountered in scalar divide\n",
      "  AD_ra2 = np.where(ATS_2<np.sum(Pot_ATS2),(ATS_2/np.sum(Pot_ATS2)), 1)\n",
      "/tmp/ipykernel_55/3896315690.py:62: RuntimeWarning: invalid value encountered in scalar divide\n",
      "  AD_ra2 = np.where(ATS_2<np.sum(Pot_ATS2),(ATS_2/np.sum(Pot_ATS2)), 1)\n",
      "/tmp/ipykernel_55/3896315690.py:62: RuntimeWarning: invalid value encountered in scalar divide\n",
      "  AD_ra2 = np.where(ATS_2<np.sum(Pot_ATS2),(ATS_2/np.sum(Pot_ATS2)), 1)\n"
     ]
    },
    {
     "name": "stdout",
     "output_type": "stream",
     "text": [
      "Iteration completed \n",
      "Area distributed after step 4: 280\n",
      "Iteration completed \n",
      "Area distributed after step 4: 208\n",
      "Iteration completed \n",
      "Area distributed after step 4: 43\n",
      "Iteration completed \n",
      "Area distributed after step 4: 19\n",
      "Iteration completed \n",
      "Area distributed after step 4: 14\n",
      "Iteration completed \n",
      "Area distributed after step 4: 9\n",
      "Iteration completed \n",
      "Area distributed after step 4: 5\n",
      "Iteration completed \n",
      "Area distributed after step 4: 4\n",
      "Iteration completed \n",
      "Area distributed after step 4: 0\n",
      "Iteration completed \n",
      "Area distributed after step 4: 0\n"
     ]
    },
    {
     "name": "stderr",
     "output_type": "stream",
     "text": [
      "/tmp/ipykernel_55/3896315690.py:62: RuntimeWarning: invalid value encountered in scalar divide\n",
      "  AD_ra2 = np.where(ATS_2<np.sum(Pot_ATS2),(ATS_2/np.sum(Pot_ATS2)), 1)\n",
      "/tmp/ipykernel_55/3896315690.py:62: RuntimeWarning: invalid value encountered in scalar divide\n",
      "  AD_ra2 = np.where(ATS_2<np.sum(Pot_ATS2),(ATS_2/np.sum(Pot_ATS2)), 1)\n",
      "/tmp/ipykernel_55/3896315690.py:62: RuntimeWarning: invalid value encountered in scalar divide\n",
      "  AD_ra2 = np.where(ATS_2<np.sum(Pot_ATS2),(ATS_2/np.sum(Pot_ATS2)), 1)\n",
      "/tmp/ipykernel_55/3896315690.py:62: RuntimeWarning: invalid value encountered in scalar divide\n",
      "  AD_ra2 = np.where(ATS_2<np.sum(Pot_ATS2),(ATS_2/np.sum(Pot_ATS2)), 1)\n",
      "/tmp/ipykernel_55/3896315690.py:62: RuntimeWarning: invalid value encountered in scalar divide\n",
      "  AD_ra2 = np.where(ATS_2<np.sum(Pot_ATS2),(ATS_2/np.sum(Pot_ATS2)), 1)\n",
      "/tmp/ipykernel_55/3896315690.py:62: RuntimeWarning: invalid value encountered in scalar divide\n",
      "  AD_ra2 = np.where(ATS_2<np.sum(Pot_ATS2),(ATS_2/np.sum(Pot_ATS2)), 1)\n",
      "/tmp/ipykernel_55/3896315690.py:62: RuntimeWarning: invalid value encountered in scalar divide\n",
      "  AD_ra2 = np.where(ATS_2<np.sum(Pot_ATS2),(ATS_2/np.sum(Pot_ATS2)), 1)\n",
      "/tmp/ipykernel_55/3896315690.py:62: RuntimeWarning: invalid value encountered in scalar divide\n",
      "  AD_ra2 = np.where(ATS_2<np.sum(Pot_ATS2),(ATS_2/np.sum(Pot_ATS2)), 1)\n",
      "/tmp/ipykernel_55/3896315690.py:62: RuntimeWarning: invalid value encountered in scalar divide\n",
      "  AD_ra2 = np.where(ATS_2<np.sum(Pot_ATS2),(ATS_2/np.sum(Pot_ATS2)), 1)\n",
      "/tmp/ipykernel_55/3896315690.py:62: RuntimeWarning: invalid value encountered in scalar divide\n",
      "  AD_ra2 = np.where(ATS_2<np.sum(Pot_ATS2),(ATS_2/np.sum(Pot_ATS2)), 1)\n",
      "/tmp/ipykernel_55/3896315690.py:62: RuntimeWarning: invalid value encountered in scalar divide\n",
      "  AD_ra2 = np.where(ATS_2<np.sum(Pot_ATS2),(ATS_2/np.sum(Pot_ATS2)), 1)\n",
      "/tmp/ipykernel_55/3896315690.py:62: RuntimeWarning: invalid value encountered in scalar divide\n",
      "  AD_ra2 = np.where(ATS_2<np.sum(Pot_ATS2),(ATS_2/np.sum(Pot_ATS2)), 1)\n",
      "/tmp/ipykernel_55/3896315690.py:62: RuntimeWarning: invalid value encountered in scalar divide\n",
      "  AD_ra2 = np.where(ATS_2<np.sum(Pot_ATS2),(ATS_2/np.sum(Pot_ATS2)), 1)\n",
      "/tmp/ipykernel_55/3896315690.py:62: RuntimeWarning: invalid value encountered in scalar divide\n",
      "  AD_ra2 = np.where(ATS_2<np.sum(Pot_ATS2),(ATS_2/np.sum(Pot_ATS2)), 1)\n"
     ]
    },
    {
     "name": "stdout",
     "output_type": "stream",
     "text": [
      "Iteration completed \n",
      "Area distributed after step 4: 0\n",
      "Iteration completed \n",
      "Area distributed after step 4: 0\n",
      "Iteration completed \n",
      "Area distributed after step 4: 0\n",
      "Iteration completed \n",
      "Area distributed after step 4: 0\n",
      "Iteration completed \n",
      "Area distributed after step 4: 0\n",
      "Iteration completed \n",
      "Area distributed after step 4: 0\n",
      "Iteration completed \n",
      "Area distributed after step 4: 0\n",
      "3560009\n",
      "Error Check Your Code! (full area not assigned)\n",
      "Area distributed after step 4: 0\n",
      "Error Check Your Code! (full area not assigned)\n",
      "Area distributed after step 4: 0\n",
      "Error Check Your Code! (full area not assigned)\n",
      "Area distributed after step 4: 0\n"
     ]
    },
    {
     "name": "stderr",
     "output_type": "stream",
     "text": [
      "/tmp/ipykernel_55/3896315690.py:62: RuntimeWarning: invalid value encountered in scalar divide\n",
      "  AD_ra2 = np.where(ATS_2<np.sum(Pot_ATS2),(ATS_2/np.sum(Pot_ATS2)), 1)\n",
      "/tmp/ipykernel_55/3896315690.py:62: RuntimeWarning: invalid value encountered in scalar divide\n",
      "  AD_ra2 = np.where(ATS_2<np.sum(Pot_ATS2),(ATS_2/np.sum(Pot_ATS2)), 1)\n",
      "/tmp/ipykernel_55/3896315690.py:62: RuntimeWarning: invalid value encountered in scalar divide\n",
      "  AD_ra2 = np.where(ATS_2<np.sum(Pot_ATS2),(ATS_2/np.sum(Pot_ATS2)), 1)\n",
      "/tmp/ipykernel_55/3896315690.py:62: RuntimeWarning: invalid value encountered in scalar divide\n",
      "  AD_ra2 = np.where(ATS_2<np.sum(Pot_ATS2),(ATS_2/np.sum(Pot_ATS2)), 1)\n",
      "/tmp/ipykernel_55/3896315690.py:62: RuntimeWarning: invalid value encountered in scalar divide\n",
      "  AD_ra2 = np.where(ATS_2<np.sum(Pot_ATS2),(ATS_2/np.sum(Pot_ATS2)), 1)\n",
      "/tmp/ipykernel_55/3896315690.py:62: RuntimeWarning: invalid value encountered in scalar divide\n",
      "  AD_ra2 = np.where(ATS_2<np.sum(Pot_ATS2),(ATS_2/np.sum(Pot_ATS2)), 1)\n",
      "/tmp/ipykernel_55/3896315690.py:62: RuntimeWarning: invalid value encountered in scalar divide\n",
      "  AD_ra2 = np.where(ATS_2<np.sum(Pot_ATS2),(ATS_2/np.sum(Pot_ATS2)), 1)\n",
      "/tmp/ipykernel_55/3896315690.py:62: RuntimeWarning: invalid value encountered in scalar divide\n",
      "  AD_ra2 = np.where(ATS_2<np.sum(Pot_ATS2),(ATS_2/np.sum(Pot_ATS2)), 1)\n",
      "/tmp/ipykernel_55/3896315690.py:62: RuntimeWarning: invalid value encountered in scalar divide\n",
      "  AD_ra2 = np.where(ATS_2<np.sum(Pot_ATS2),(ATS_2/np.sum(Pot_ATS2)), 1)\n",
      "/tmp/ipykernel_55/3896315690.py:62: RuntimeWarning: invalid value encountered in scalar divide\n",
      "  AD_ra2 = np.where(ATS_2<np.sum(Pot_ATS2),(ATS_2/np.sum(Pot_ATS2)), 1)\n",
      "/tmp/ipykernel_55/3896315690.py:62: RuntimeWarning: invalid value encountered in scalar divide\n",
      "  AD_ra2 = np.where(ATS_2<np.sum(Pot_ATS2),(ATS_2/np.sum(Pot_ATS2)), 1)\n",
      "/tmp/ipykernel_55/3896315690.py:62: RuntimeWarning: invalid value encountered in scalar divide\n",
      "  AD_ra2 = np.where(ATS_2<np.sum(Pot_ATS2),(ATS_2/np.sum(Pot_ATS2)), 1)\n",
      "/tmp/ipykernel_55/3896315690.py:62: RuntimeWarning: invalid value encountered in scalar divide\n",
      "  AD_ra2 = np.where(ATS_2<np.sum(Pot_ATS2),(ATS_2/np.sum(Pot_ATS2)), 1)\n",
      "/tmp/ipykernel_55/3896315690.py:62: RuntimeWarning: invalid value encountered in scalar divide\n",
      "  AD_ra2 = np.where(ATS_2<np.sum(Pot_ATS2),(ATS_2/np.sum(Pot_ATS2)), 1)\n",
      "/tmp/ipykernel_55/3896315690.py:62: RuntimeWarning: invalid value encountered in scalar divide\n",
      "  AD_ra2 = np.where(ATS_2<np.sum(Pot_ATS2),(ATS_2/np.sum(Pot_ATS2)), 1)\n",
      "/tmp/ipykernel_55/3896315690.py:62: RuntimeWarning: invalid value encountered in scalar divide\n",
      "  AD_ra2 = np.where(ATS_2<np.sum(Pot_ATS2),(ATS_2/np.sum(Pot_ATS2)), 1)\n",
      "/tmp/ipykernel_55/3896315690.py:62: RuntimeWarning: invalid value encountered in scalar divide\n",
      "  AD_ra2 = np.where(ATS_2<np.sum(Pot_ATS2),(ATS_2/np.sum(Pot_ATS2)), 1)\n",
      "/tmp/ipykernel_55/3896315690.py:62: RuntimeWarning: invalid value encountered in scalar divide\n",
      "  AD_ra2 = np.where(ATS_2<np.sum(Pot_ATS2),(ATS_2/np.sum(Pot_ATS2)), 1)\n",
      "/tmp/ipykernel_55/3896315690.py:62: RuntimeWarning: invalid value encountered in scalar divide\n",
      "  AD_ra2 = np.where(ATS_2<np.sum(Pot_ATS2),(ATS_2/np.sum(Pot_ATS2)), 1)\n",
      "/tmp/ipykernel_55/3896315690.py:62: RuntimeWarning: invalid value encountered in scalar divide\n",
      "  AD_ra2 = np.where(ATS_2<np.sum(Pot_ATS2),(ATS_2/np.sum(Pot_ATS2)), 1)\n",
      "/tmp/ipykernel_55/3896315690.py:62: RuntimeWarning: invalid value encountered in scalar divide\n",
      "  AD_ra2 = np.where(ATS_2<np.sum(Pot_ATS2),(ATS_2/np.sum(Pot_ATS2)), 1)\n",
      "/tmp/ipykernel_55/3896315690.py:62: RuntimeWarning: invalid value encountered in scalar divide\n",
      "  AD_ra2 = np.where(ATS_2<np.sum(Pot_ATS2),(ATS_2/np.sum(Pot_ATS2)), 1)\n",
      "/tmp/ipykernel_55/3896315690.py:62: RuntimeWarning: invalid value encountered in scalar divide\n",
      "  AD_ra2 = np.where(ATS_2<np.sum(Pot_ATS2),(ATS_2/np.sum(Pot_ATS2)), 1)\n",
      "/tmp/ipykernel_55/3896315690.py:62: RuntimeWarning: invalid value encountered in scalar divide\n",
      "  AD_ra2 = np.where(ATS_2<np.sum(Pot_ATS2),(ATS_2/np.sum(Pot_ATS2)), 1)\n",
      "/tmp/ipykernel_55/3896315690.py:62: RuntimeWarning: invalid value encountered in scalar divide\n",
      "  AD_ra2 = np.where(ATS_2<np.sum(Pot_ATS2),(ATS_2/np.sum(Pot_ATS2)), 1)\n",
      "/tmp/ipykernel_55/3896315690.py:62: RuntimeWarning: invalid value encountered in scalar divide\n",
      "  AD_ra2 = np.where(ATS_2<np.sum(Pot_ATS2),(ATS_2/np.sum(Pot_ATS2)), 1)\n",
      "/tmp/ipykernel_55/3896315690.py:62: RuntimeWarning: invalid value encountered in scalar divide\n",
      "  AD_ra2 = np.where(ATS_2<np.sum(Pot_ATS2),(ATS_2/np.sum(Pot_ATS2)), 1)\n",
      "/tmp/ipykernel_55/3896315690.py:62: RuntimeWarning: invalid value encountered in scalar divide\n",
      "  AD_ra2 = np.where(ATS_2<np.sum(Pot_ATS2),(ATS_2/np.sum(Pot_ATS2)), 1)\n",
      "/tmp/ipykernel_55/3896315690.py:62: RuntimeWarning: invalid value encountered in scalar divide\n",
      "  AD_ra2 = np.where(ATS_2<np.sum(Pot_ATS2),(ATS_2/np.sum(Pot_ATS2)), 1)\n"
     ]
    },
    {
     "name": "stdout",
     "output_type": "stream",
     "text": [
      "Iteration completed \n",
      "Area distributed after step 4: 0\n",
      "Iteration completed \n",
      "Area distributed after step 4: 0\n",
      "Iteration completed \n",
      "Area distributed after step 4: 0\n",
      "Iteration completed \n",
      "Area distributed after step 4: 0\n",
      "Iteration completed \n",
      "Area distributed after step 4: 0\n",
      "Iteration completed \n",
      "Area distributed after step 4: 0\n",
      "Iteration completed \n",
      "Area distributed after step 4: 0\n",
      "Iteration completed \n",
      "Area distributed after step 4: 0\n",
      "Iteration completed \n",
      "Area distributed after step 4: 0\n",
      "Iteration completed \n",
      "Area distributed after step 4: 0\n"
     ]
    },
    {
     "name": "stderr",
     "output_type": "stream",
     "text": [
      "/tmp/ipykernel_55/3896315690.py:62: RuntimeWarning: invalid value encountered in scalar divide\n",
      "  AD_ra2 = np.where(ATS_2<np.sum(Pot_ATS2),(ATS_2/np.sum(Pot_ATS2)), 1)\n",
      "/tmp/ipykernel_55/3896315690.py:62: RuntimeWarning: invalid value encountered in scalar divide\n",
      "  AD_ra2 = np.where(ATS_2<np.sum(Pot_ATS2),(ATS_2/np.sum(Pot_ATS2)), 1)\n",
      "/tmp/ipykernel_55/3896315690.py:62: RuntimeWarning: invalid value encountered in scalar divide\n",
      "  AD_ra2 = np.where(ATS_2<np.sum(Pot_ATS2),(ATS_2/np.sum(Pot_ATS2)), 1)\n",
      "/tmp/ipykernel_55/3896315690.py:62: RuntimeWarning: invalid value encountered in scalar divide\n",
      "  AD_ra2 = np.where(ATS_2<np.sum(Pot_ATS2),(ATS_2/np.sum(Pot_ATS2)), 1)\n",
      "/tmp/ipykernel_55/3896315690.py:62: RuntimeWarning: invalid value encountered in scalar divide\n",
      "  AD_ra2 = np.where(ATS_2<np.sum(Pot_ATS2),(ATS_2/np.sum(Pot_ATS2)), 1)\n",
      "/tmp/ipykernel_55/3896315690.py:62: RuntimeWarning: invalid value encountered in scalar divide\n",
      "  AD_ra2 = np.where(ATS_2<np.sum(Pot_ATS2),(ATS_2/np.sum(Pot_ATS2)), 1)\n",
      "/tmp/ipykernel_55/3896315690.py:62: RuntimeWarning: invalid value encountered in scalar divide\n",
      "  AD_ra2 = np.where(ATS_2<np.sum(Pot_ATS2),(ATS_2/np.sum(Pot_ATS2)), 1)\n",
      "/tmp/ipykernel_55/3896315690.py:62: RuntimeWarning: invalid value encountered in scalar divide\n",
      "  AD_ra2 = np.where(ATS_2<np.sum(Pot_ATS2),(ATS_2/np.sum(Pot_ATS2)), 1)\n",
      "/tmp/ipykernel_55/3896315690.py:62: RuntimeWarning: invalid value encountered in scalar divide\n",
      "  AD_ra2 = np.where(ATS_2<np.sum(Pot_ATS2),(ATS_2/np.sum(Pot_ATS2)), 1)\n",
      "/tmp/ipykernel_55/3896315690.py:62: RuntimeWarning: invalid value encountered in scalar divide\n",
      "  AD_ra2 = np.where(ATS_2<np.sum(Pot_ATS2),(ATS_2/np.sum(Pot_ATS2)), 1)\n",
      "/tmp/ipykernel_55/3896315690.py:62: RuntimeWarning: invalid value encountered in scalar divide\n",
      "  AD_ra2 = np.where(ATS_2<np.sum(Pot_ATS2),(ATS_2/np.sum(Pot_ATS2)), 1)\n",
      "/tmp/ipykernel_55/3896315690.py:62: RuntimeWarning: invalid value encountered in scalar divide\n",
      "  AD_ra2 = np.where(ATS_2<np.sum(Pot_ATS2),(ATS_2/np.sum(Pot_ATS2)), 1)\n",
      "/tmp/ipykernel_55/3896315690.py:62: RuntimeWarning: invalid value encountered in scalar divide\n",
      "  AD_ra2 = np.where(ATS_2<np.sum(Pot_ATS2),(ATS_2/np.sum(Pot_ATS2)), 1)\n",
      "/tmp/ipykernel_55/3896315690.py:62: RuntimeWarning: invalid value encountered in scalar divide\n",
      "  AD_ra2 = np.where(ATS_2<np.sum(Pot_ATS2),(ATS_2/np.sum(Pot_ATS2)), 1)\n",
      "/tmp/ipykernel_55/3896315690.py:62: RuntimeWarning: invalid value encountered in scalar divide\n",
      "  AD_ra2 = np.where(ATS_2<np.sum(Pot_ATS2),(ATS_2/np.sum(Pot_ATS2)), 1)\n",
      "/tmp/ipykernel_55/3896315690.py:62: RuntimeWarning: invalid value encountered in scalar divide\n",
      "  AD_ra2 = np.where(ATS_2<np.sum(Pot_ATS2),(ATS_2/np.sum(Pot_ATS2)), 1)\n",
      "/tmp/ipykernel_55/3896315690.py:62: RuntimeWarning: invalid value encountered in scalar divide\n",
      "  AD_ra2 = np.where(ATS_2<np.sum(Pot_ATS2),(ATS_2/np.sum(Pot_ATS2)), 1)\n",
      "/tmp/ipykernel_55/3896315690.py:62: RuntimeWarning: invalid value encountered in scalar divide\n",
      "  AD_ra2 = np.where(ATS_2<np.sum(Pot_ATS2),(ATS_2/np.sum(Pot_ATS2)), 1)\n",
      "/tmp/ipykernel_55/3896315690.py:62: RuntimeWarning: invalid value encountered in scalar divide\n",
      "  AD_ra2 = np.where(ATS_2<np.sum(Pot_ATS2),(ATS_2/np.sum(Pot_ATS2)), 1)\n",
      "/tmp/ipykernel_55/3896315690.py:62: RuntimeWarning: invalid value encountered in scalar divide\n",
      "  AD_ra2 = np.where(ATS_2<np.sum(Pot_ATS2),(ATS_2/np.sum(Pot_ATS2)), 1)\n",
      "/tmp/ipykernel_55/3896315690.py:62: RuntimeWarning: invalid value encountered in scalar divide\n",
      "  AD_ra2 = np.where(ATS_2<np.sum(Pot_ATS2),(ATS_2/np.sum(Pot_ATS2)), 1)\n",
      "/tmp/ipykernel_55/3896315690.py:62: RuntimeWarning: invalid value encountered in scalar divide\n",
      "  AD_ra2 = np.where(ATS_2<np.sum(Pot_ATS2),(ATS_2/np.sum(Pot_ATS2)), 1)\n",
      "/tmp/ipykernel_55/3896315690.py:62: RuntimeWarning: invalid value encountered in scalar divide\n",
      "  AD_ra2 = np.where(ATS_2<np.sum(Pot_ATS2),(ATS_2/np.sum(Pot_ATS2)), 1)\n",
      "/tmp/ipykernel_55/3896315690.py:62: RuntimeWarning: invalid value encountered in scalar divide\n",
      "  AD_ra2 = np.where(ATS_2<np.sum(Pot_ATS2),(ATS_2/np.sum(Pot_ATS2)), 1)\n",
      "/tmp/ipykernel_55/3896315690.py:62: RuntimeWarning: invalid value encountered in scalar divide\n",
      "  AD_ra2 = np.where(ATS_2<np.sum(Pot_ATS2),(ATS_2/np.sum(Pot_ATS2)), 1)\n",
      "/tmp/ipykernel_55/3896315690.py:62: RuntimeWarning: invalid value encountered in scalar divide\n",
      "  AD_ra2 = np.where(ATS_2<np.sum(Pot_ATS2),(ATS_2/np.sum(Pot_ATS2)), 1)\n",
      "/tmp/ipykernel_55/3896315690.py:62: RuntimeWarning: invalid value encountered in scalar divide\n",
      "  AD_ra2 = np.where(ATS_2<np.sum(Pot_ATS2),(ATS_2/np.sum(Pot_ATS2)), 1)\n",
      "/tmp/ipykernel_55/3896315690.py:62: RuntimeWarning: invalid value encountered in scalar divide\n",
      "  AD_ra2 = np.where(ATS_2<np.sum(Pot_ATS2),(ATS_2/np.sum(Pot_ATS2)), 1)\n",
      "/tmp/ipykernel_55/3896315690.py:62: RuntimeWarning: invalid value encountered in scalar divide\n",
      "  AD_ra2 = np.where(ATS_2<np.sum(Pot_ATS2),(ATS_2/np.sum(Pot_ATS2)), 1)\n",
      "/tmp/ipykernel_55/3896315690.py:62: RuntimeWarning: invalid value encountered in scalar divide\n",
      "  AD_ra2 = np.where(ATS_2<np.sum(Pot_ATS2),(ATS_2/np.sum(Pot_ATS2)), 1)\n",
      "/tmp/ipykernel_55/3896315690.py:62: RuntimeWarning: invalid value encountered in scalar divide\n",
      "  AD_ra2 = np.where(ATS_2<np.sum(Pot_ATS2),(ATS_2/np.sum(Pot_ATS2)), 1)\n"
     ]
    },
    {
     "name": "stdout",
     "output_type": "stream",
     "text": [
      "Iteration completed \n",
      "Area distributed after step 4: 0\n",
      "Iteration completed \n",
      "Area distributed after step 4: 0\n",
      "Iteration completed \n",
      "Area distributed after step 4: 0\n",
      "Iteration completed \n",
      "Area distributed after step 4: 0\n",
      "Iteration completed \n",
      "Area distributed after step 4: 0\n",
      "Iteration completed \n",
      "Area distributed after step 4: 0\n",
      "Iteration completed \n",
      "Area distributed after step 4: 0\n",
      "Iteration completed \n",
      "Area distributed after step 4: 0\n",
      "Iteration completed \n",
      "Area distributed after step 4: 0\n",
      "Iteration completed \n",
      "Area distributed after step 4: 0\n",
      "Iteration completed \n",
      "Area distributed after step 4: 0\n"
     ]
    },
    {
     "name": "stderr",
     "output_type": "stream",
     "text": [
      "/tmp/ipykernel_55/3896315690.py:62: RuntimeWarning: invalid value encountered in scalar divide\n",
      "  AD_ra2 = np.where(ATS_2<np.sum(Pot_ATS2),(ATS_2/np.sum(Pot_ATS2)), 1)\n",
      "/tmp/ipykernel_55/3896315690.py:62: RuntimeWarning: invalid value encountered in scalar divide\n",
      "  AD_ra2 = np.where(ATS_2<np.sum(Pot_ATS2),(ATS_2/np.sum(Pot_ATS2)), 1)\n",
      "/tmp/ipykernel_55/3896315690.py:62: RuntimeWarning: invalid value encountered in scalar divide\n",
      "  AD_ra2 = np.where(ATS_2<np.sum(Pot_ATS2),(ATS_2/np.sum(Pot_ATS2)), 1)\n",
      "/tmp/ipykernel_55/3896315690.py:62: RuntimeWarning: invalid value encountered in scalar divide\n",
      "  AD_ra2 = np.where(ATS_2<np.sum(Pot_ATS2),(ATS_2/np.sum(Pot_ATS2)), 1)\n",
      "/tmp/ipykernel_55/3896315690.py:62: RuntimeWarning: invalid value encountered in scalar divide\n",
      "  AD_ra2 = np.where(ATS_2<np.sum(Pot_ATS2),(ATS_2/np.sum(Pot_ATS2)), 1)\n",
      "/tmp/ipykernel_55/3896315690.py:62: RuntimeWarning: invalid value encountered in scalar divide\n",
      "  AD_ra2 = np.where(ATS_2<np.sum(Pot_ATS2),(ATS_2/np.sum(Pot_ATS2)), 1)\n",
      "/tmp/ipykernel_55/3896315690.py:62: RuntimeWarning: invalid value encountered in scalar divide\n",
      "  AD_ra2 = np.where(ATS_2<np.sum(Pot_ATS2),(ATS_2/np.sum(Pot_ATS2)), 1)\n",
      "/tmp/ipykernel_55/3896315690.py:62: RuntimeWarning: invalid value encountered in scalar divide\n",
      "  AD_ra2 = np.where(ATS_2<np.sum(Pot_ATS2),(ATS_2/np.sum(Pot_ATS2)), 1)\n",
      "/tmp/ipykernel_55/3896315690.py:62: RuntimeWarning: invalid value encountered in scalar divide\n",
      "  AD_ra2 = np.where(ATS_2<np.sum(Pot_ATS2),(ATS_2/np.sum(Pot_ATS2)), 1)\n"
     ]
    },
    {
     "name": "stdout",
     "output_type": "stream",
     "text": [
      "Iteration completed \n",
      "Area distributed after step 4: 0\n",
      "Iteration completed \n",
      "Area distributed after step 4: 0\n",
      "3560010\n",
      "Error Check Your Code! (full area not assigned)\n",
      "Area distributed after step 4: 34763\n",
      "Error Check Your Code! (full area not assigned)\n",
      "Area distributed after step 4: 34763\n",
      "Error Check Your Code! (full area not assigned)\n",
      "Area distributed after step 4: 36885\n",
      "Iteration completed \n",
      "Area distributed after step 4: 23499\n",
      "Iteration completed \n",
      "Area distributed after step 4: 19432\n",
      "Iteration completed \n",
      "Area distributed after step 4: 7442\n",
      "Iteration completed \n",
      "Area distributed after step 4: 4544\n"
     ]
    },
    {
     "name": "stderr",
     "output_type": "stream",
     "text": [
      "/tmp/ipykernel_55/3896315690.py:62: RuntimeWarning: invalid value encountered in scalar divide\n",
      "  AD_ra2 = np.where(ATS_2<np.sum(Pot_ATS2),(ATS_2/np.sum(Pot_ATS2)), 1)\n",
      "/tmp/ipykernel_55/3896315690.py:62: RuntimeWarning: invalid value encountered in scalar divide\n",
      "  AD_ra2 = np.where(ATS_2<np.sum(Pot_ATS2),(ATS_2/np.sum(Pot_ATS2)), 1)\n",
      "/tmp/ipykernel_55/3896315690.py:62: RuntimeWarning: invalid value encountered in scalar divide\n",
      "  AD_ra2 = np.where(ATS_2<np.sum(Pot_ATS2),(ATS_2/np.sum(Pot_ATS2)), 1)\n",
      "/tmp/ipykernel_55/3896315690.py:62: RuntimeWarning: invalid value encountered in scalar divide\n",
      "  AD_ra2 = np.where(ATS_2<np.sum(Pot_ATS2),(ATS_2/np.sum(Pot_ATS2)), 1)\n",
      "/tmp/ipykernel_55/3896315690.py:62: RuntimeWarning: invalid value encountered in scalar divide\n",
      "  AD_ra2 = np.where(ATS_2<np.sum(Pot_ATS2),(ATS_2/np.sum(Pot_ATS2)), 1)\n",
      "/tmp/ipykernel_55/3896315690.py:62: RuntimeWarning: invalid value encountered in scalar divide\n",
      "  AD_ra2 = np.where(ATS_2<np.sum(Pot_ATS2),(ATS_2/np.sum(Pot_ATS2)), 1)\n",
      "/tmp/ipykernel_55/3896315690.py:62: RuntimeWarning: invalid value encountered in scalar divide\n",
      "  AD_ra2 = np.where(ATS_2<np.sum(Pot_ATS2),(ATS_2/np.sum(Pot_ATS2)), 1)\n"
     ]
    },
    {
     "name": "stdout",
     "output_type": "stream",
     "text": [
      "Iteration completed \n",
      "Area distributed after step 4: 1758\n",
      "Iteration completed \n",
      "Area distributed after step 4: 877\n",
      "Iteration completed \n",
      "Area distributed after step 4: 722\n",
      "Iteration completed \n",
      "Area distributed after step 4: 203\n",
      "Iteration completed \n",
      "Area distributed after step 4: 188\n",
      "Iteration completed \n",
      "Area distributed after step 4: 116\n",
      "Iteration completed \n",
      "Area distributed after step 4: 78\n",
      "Iteration completed \n",
      "Area distributed after step 4: 8\n",
      "Iteration completed \n",
      "Area distributed after step 4: 8\n",
      "Iteration completed \n",
      "Area distributed after step 4: 3\n",
      "Iteration completed \n",
      "Area distributed after step 4: 1\n",
      "Iteration completed \n",
      "Area distributed after step 4: 0\n",
      "Iteration completed \n",
      "Area distributed after step 4: 0\n",
      "Iteration completed \n",
      "Area distributed after step 4: 0\n",
      "Iteration completed \n",
      "Area distributed after step 4: 0\n",
      "Iteration completed \n",
      "Area distributed after step 4: 0\n",
      "Iteration completed \n",
      "Area distributed after step 4: 0\n",
      "Iteration completed \n",
      "Area distributed after step 4: 0\n"
     ]
    },
    {
     "name": "stderr",
     "output_type": "stream",
     "text": [
      "/tmp/ipykernel_55/3896315690.py:62: RuntimeWarning: invalid value encountered in scalar divide\n",
      "  AD_ra2 = np.where(ATS_2<np.sum(Pot_ATS2),(ATS_2/np.sum(Pot_ATS2)), 1)\n",
      "/tmp/ipykernel_55/3896315690.py:62: RuntimeWarning: invalid value encountered in scalar divide\n",
      "  AD_ra2 = np.where(ATS_2<np.sum(Pot_ATS2),(ATS_2/np.sum(Pot_ATS2)), 1)\n",
      "/tmp/ipykernel_55/3896315690.py:62: RuntimeWarning: invalid value encountered in scalar divide\n",
      "  AD_ra2 = np.where(ATS_2<np.sum(Pot_ATS2),(ATS_2/np.sum(Pot_ATS2)), 1)\n",
      "/tmp/ipykernel_55/3896315690.py:62: RuntimeWarning: invalid value encountered in scalar divide\n",
      "  AD_ra2 = np.where(ATS_2<np.sum(Pot_ATS2),(ATS_2/np.sum(Pot_ATS2)), 1)\n",
      "/tmp/ipykernel_55/3896315690.py:62: RuntimeWarning: invalid value encountered in scalar divide\n",
      "  AD_ra2 = np.where(ATS_2<np.sum(Pot_ATS2),(ATS_2/np.sum(Pot_ATS2)), 1)\n",
      "/tmp/ipykernel_55/3896315690.py:62: RuntimeWarning: invalid value encountered in scalar divide\n",
      "  AD_ra2 = np.where(ATS_2<np.sum(Pot_ATS2),(ATS_2/np.sum(Pot_ATS2)), 1)\n",
      "/tmp/ipykernel_55/3896315690.py:62: RuntimeWarning: invalid value encountered in scalar divide\n",
      "  AD_ra2 = np.where(ATS_2<np.sum(Pot_ATS2),(ATS_2/np.sum(Pot_ATS2)), 1)\n",
      "/tmp/ipykernel_55/3896315690.py:62: RuntimeWarning: invalid value encountered in scalar divide\n",
      "  AD_ra2 = np.where(ATS_2<np.sum(Pot_ATS2),(ATS_2/np.sum(Pot_ATS2)), 1)\n",
      "/tmp/ipykernel_55/3896315690.py:62: RuntimeWarning: invalid value encountered in scalar divide\n",
      "  AD_ra2 = np.where(ATS_2<np.sum(Pot_ATS2),(ATS_2/np.sum(Pot_ATS2)), 1)\n",
      "/tmp/ipykernel_55/3896315690.py:62: RuntimeWarning: invalid value encountered in scalar divide\n",
      "  AD_ra2 = np.where(ATS_2<np.sum(Pot_ATS2),(ATS_2/np.sum(Pot_ATS2)), 1)\n",
      "/tmp/ipykernel_55/3896315690.py:62: RuntimeWarning: invalid value encountered in scalar divide\n",
      "  AD_ra2 = np.where(ATS_2<np.sum(Pot_ATS2),(ATS_2/np.sum(Pot_ATS2)), 1)\n"
     ]
    },
    {
     "name": "stdout",
     "output_type": "stream",
     "text": [
      "Iteration completed \n",
      "Area distributed after step 4: 0\n",
      "3560011\n",
      "Error Check Your Code! (full area not assigned)\n",
      "Area distributed after step 4: 21984\n",
      "Error Check Your Code! (full area not assigned)\n",
      "Area distributed after step 4: 21984\n",
      "Iteration completed \n",
      "Area distributed after step 4: 17348\n",
      "Iteration completed \n",
      "Area distributed after step 4: 12431\n",
      "Iteration completed \n",
      "Area distributed after step 4: 4483\n",
      "Iteration completed \n",
      "Area distributed after step 4: 4083\n",
      "Iteration completed \n",
      "Area distributed after step 4: 2898\n"
     ]
    },
    {
     "name": "stderr",
     "output_type": "stream",
     "text": [
      "/tmp/ipykernel_55/3896315690.py:62: RuntimeWarning: invalid value encountered in scalar divide\n",
      "  AD_ra2 = np.where(ATS_2<np.sum(Pot_ATS2),(ATS_2/np.sum(Pot_ATS2)), 1)\n",
      "/tmp/ipykernel_55/3896315690.py:62: RuntimeWarning: invalid value encountered in scalar divide\n",
      "  AD_ra2 = np.where(ATS_2<np.sum(Pot_ATS2),(ATS_2/np.sum(Pot_ATS2)), 1)\n",
      "/tmp/ipykernel_55/3896315690.py:62: RuntimeWarning: invalid value encountered in scalar divide\n",
      "  AD_ra2 = np.where(ATS_2<np.sum(Pot_ATS2),(ATS_2/np.sum(Pot_ATS2)), 1)\n",
      "/tmp/ipykernel_55/3896315690.py:62: RuntimeWarning: invalid value encountered in scalar divide\n",
      "  AD_ra2 = np.where(ATS_2<np.sum(Pot_ATS2),(ATS_2/np.sum(Pot_ATS2)), 1)\n",
      "/tmp/ipykernel_55/3896315690.py:62: RuntimeWarning: invalid value encountered in scalar divide\n",
      "  AD_ra2 = np.where(ATS_2<np.sum(Pot_ATS2),(ATS_2/np.sum(Pot_ATS2)), 1)\n"
     ]
    },
    {
     "name": "stdout",
     "output_type": "stream",
     "text": [
      "Iteration completed \n",
      "Area distributed after step 4: 2156\n",
      "Iteration completed \n",
      "Area distributed after step 4: 1013\n",
      "Iteration completed \n",
      "Area distributed after step 4: 282\n",
      "Iteration completed \n",
      "Area distributed after step 4: 74\n",
      "Iteration completed \n",
      "Area distributed after step 4: 58\n",
      "Iteration completed \n",
      "Area distributed after step 4: 40\n",
      "Iteration completed \n",
      "Area distributed after step 4: 8\n",
      "Iteration completed \n",
      "Area distributed after step 4: 5\n"
     ]
    },
    {
     "name": "stderr",
     "output_type": "stream",
     "text": [
      "/tmp/ipykernel_55/3896315690.py:62: RuntimeWarning: invalid value encountered in scalar divide\n",
      "  AD_ra2 = np.where(ATS_2<np.sum(Pot_ATS2),(ATS_2/np.sum(Pot_ATS2)), 1)\n",
      "/tmp/ipykernel_55/3896315690.py:62: RuntimeWarning: invalid value encountered in scalar divide\n",
      "  AD_ra2 = np.where(ATS_2<np.sum(Pot_ATS2),(ATS_2/np.sum(Pot_ATS2)), 1)\n",
      "/tmp/ipykernel_55/3896315690.py:62: RuntimeWarning: invalid value encountered in scalar divide\n",
      "  AD_ra2 = np.where(ATS_2<np.sum(Pot_ATS2),(ATS_2/np.sum(Pot_ATS2)), 1)\n",
      "/tmp/ipykernel_55/3896315690.py:62: RuntimeWarning: invalid value encountered in scalar divide\n",
      "  AD_ra2 = np.where(ATS_2<np.sum(Pot_ATS2),(ATS_2/np.sum(Pot_ATS2)), 1)\n",
      "/tmp/ipykernel_55/3896315690.py:62: RuntimeWarning: invalid value encountered in scalar divide\n",
      "  AD_ra2 = np.where(ATS_2<np.sum(Pot_ATS2),(ATS_2/np.sum(Pot_ATS2)), 1)\n",
      "/tmp/ipykernel_55/3896315690.py:62: RuntimeWarning: invalid value encountered in scalar divide\n",
      "  AD_ra2 = np.where(ATS_2<np.sum(Pot_ATS2),(ATS_2/np.sum(Pot_ATS2)), 1)\n",
      "/tmp/ipykernel_55/3896315690.py:62: RuntimeWarning: invalid value encountered in scalar divide\n",
      "  AD_ra2 = np.where(ATS_2<np.sum(Pot_ATS2),(ATS_2/np.sum(Pot_ATS2)), 1)\n",
      "/tmp/ipykernel_55/3896315690.py:62: RuntimeWarning: invalid value encountered in scalar divide\n",
      "  AD_ra2 = np.where(ATS_2<np.sum(Pot_ATS2),(ATS_2/np.sum(Pot_ATS2)), 1)\n"
     ]
    },
    {
     "name": "stdout",
     "output_type": "stream",
     "text": [
      "Iteration completed \n",
      "Area distributed after step 4: 2\n",
      "Iteration completed \n",
      "Area distributed after step 4: 2\n",
      "Iteration completed \n",
      "Area distributed after step 4: 1\n",
      "Iteration completed \n",
      "Area distributed after step 4: 0\n",
      "Iteration completed \n",
      "Area distributed after step 4: 0\n",
      "Iteration completed \n",
      "Area distributed after step 4: 0\n",
      "Iteration completed \n",
      "Area distributed after step 4: 0\n",
      "Iteration completed \n",
      "Area distributed after step 4: 0\n"
     ]
    },
    {
     "name": "stderr",
     "output_type": "stream",
     "text": [
      "/tmp/ipykernel_55/3896315690.py:62: RuntimeWarning: invalid value encountered in scalar divide\n",
      "  AD_ra2 = np.where(ATS_2<np.sum(Pot_ATS2),(ATS_2/np.sum(Pot_ATS2)), 1)\n",
      "/tmp/ipykernel_55/3896315690.py:62: RuntimeWarning: invalid value encountered in scalar divide\n",
      "  AD_ra2 = np.where(ATS_2<np.sum(Pot_ATS2),(ATS_2/np.sum(Pot_ATS2)), 1)\n",
      "/tmp/ipykernel_55/3896315690.py:62: RuntimeWarning: invalid value encountered in scalar divide\n",
      "  AD_ra2 = np.where(ATS_2<np.sum(Pot_ATS2),(ATS_2/np.sum(Pot_ATS2)), 1)\n",
      "/tmp/ipykernel_55/3896315690.py:62: RuntimeWarning: invalid value encountered in scalar divide\n",
      "  AD_ra2 = np.where(ATS_2<np.sum(Pot_ATS2),(ATS_2/np.sum(Pot_ATS2)), 1)\n",
      "/tmp/ipykernel_55/3896315690.py:62: RuntimeWarning: invalid value encountered in scalar divide\n",
      "  AD_ra2 = np.where(ATS_2<np.sum(Pot_ATS2),(ATS_2/np.sum(Pot_ATS2)), 1)\n",
      "/tmp/ipykernel_55/3896315690.py:62: RuntimeWarning: invalid value encountered in scalar divide\n",
      "  AD_ra2 = np.where(ATS_2<np.sum(Pot_ATS2),(ATS_2/np.sum(Pot_ATS2)), 1)\n"
     ]
    },
    {
     "name": "stdout",
     "output_type": "stream",
     "text": [
      "Iteration completed \n",
      "Area distributed after step 4: 0\n",
      "Iteration completed \n",
      "Area distributed after step 4: 0\n",
      "Iteration completed \n",
      "Area distributed after step 4: 0\n",
      "3560012\n",
      "Iteration completed \n",
      "Area distributed after step 4: 196006\n",
      "Iteration completed \n",
      "Area distributed after step 4: 196006\n"
     ]
    },
    {
     "name": "stderr",
     "output_type": "stream",
     "text": [
      "/tmp/ipykernel_55/3896315690.py:62: RuntimeWarning: invalid value encountered in scalar divide\n",
      "  AD_ra2 = np.where(ATS_2<np.sum(Pot_ATS2),(ATS_2/np.sum(Pot_ATS2)), 1)\n"
     ]
    },
    {
     "name": "stdout",
     "output_type": "stream",
     "text": [
      "Iteration completed \n",
      "Area distributed after step 4: 11898\n"
     ]
    },
    {
     "name": "stderr",
     "output_type": "stream",
     "text": [
      "/tmp/ipykernel_55/3896315690.py:62: RuntimeWarning: invalid value encountered in scalar divide\n",
      "  AD_ra2 = np.where(ATS_2<np.sum(Pot_ATS2),(ATS_2/np.sum(Pot_ATS2)), 1)\n"
     ]
    },
    {
     "name": "stdout",
     "output_type": "stream",
     "text": [
      "Iteration completed \n",
      "Area distributed after step 4: 11521\n"
     ]
    },
    {
     "name": "stderr",
     "output_type": "stream",
     "text": [
      "/tmp/ipykernel_55/3896315690.py:62: RuntimeWarning: invalid value encountered in scalar divide\n",
      "  AD_ra2 = np.where(ATS_2<np.sum(Pot_ATS2),(ATS_2/np.sum(Pot_ATS2)), 1)\n"
     ]
    },
    {
     "name": "stdout",
     "output_type": "stream",
     "text": [
      "Iteration completed \n",
      "Area distributed after step 4: 3657\n"
     ]
    },
    {
     "name": "stderr",
     "output_type": "stream",
     "text": [
      "/tmp/ipykernel_55/3896315690.py:62: RuntimeWarning: invalid value encountered in scalar divide\n",
      "  AD_ra2 = np.where(ATS_2<np.sum(Pot_ATS2),(ATS_2/np.sum(Pot_ATS2)), 1)\n"
     ]
    },
    {
     "name": "stdout",
     "output_type": "stream",
     "text": [
      "Iteration completed \n",
      "Area distributed after step 4: 2762\n"
     ]
    },
    {
     "name": "stderr",
     "output_type": "stream",
     "text": [
      "/tmp/ipykernel_55/3896315690.py:62: RuntimeWarning: invalid value encountered in scalar divide\n",
      "  AD_ra2 = np.where(ATS_2<np.sum(Pot_ATS2),(ATS_2/np.sum(Pot_ATS2)), 1)\n"
     ]
    },
    {
     "name": "stdout",
     "output_type": "stream",
     "text": [
      "Iteration completed \n",
      "Area distributed after step 4: 1269\n"
     ]
    },
    {
     "name": "stderr",
     "output_type": "stream",
     "text": [
      "/tmp/ipykernel_55/3896315690.py:62: RuntimeWarning: invalid value encountered in scalar divide\n",
      "  AD_ra2 = np.where(ATS_2<np.sum(Pot_ATS2),(ATS_2/np.sum(Pot_ATS2)), 1)\n"
     ]
    },
    {
     "name": "stdout",
     "output_type": "stream",
     "text": [
      "Iteration completed \n",
      "Area distributed after step 4: 454\n"
     ]
    },
    {
     "name": "stderr",
     "output_type": "stream",
     "text": [
      "/tmp/ipykernel_55/3896315690.py:62: RuntimeWarning: invalid value encountered in scalar divide\n",
      "  AD_ra2 = np.where(ATS_2<np.sum(Pot_ATS2),(ATS_2/np.sum(Pot_ATS2)), 1)\n"
     ]
    },
    {
     "name": "stdout",
     "output_type": "stream",
     "text": [
      "Iteration completed \n",
      "Area distributed after step 4: 407\n",
      "Iteration completed \n",
      "Area distributed after step 4: 307\n"
     ]
    },
    {
     "name": "stderr",
     "output_type": "stream",
     "text": [
      "/tmp/ipykernel_55/3896315690.py:62: RuntimeWarning: invalid value encountered in scalar divide\n",
      "  AD_ra2 = np.where(ATS_2<np.sum(Pot_ATS2),(ATS_2/np.sum(Pot_ATS2)), 1)\n"
     ]
    },
    {
     "name": "stdout",
     "output_type": "stream",
     "text": [
      "Iteration completed \n",
      "Area distributed after step 4: 111\n"
     ]
    },
    {
     "name": "stderr",
     "output_type": "stream",
     "text": [
      "/tmp/ipykernel_55/3896315690.py:62: RuntimeWarning: invalid value encountered in scalar divide\n",
      "  AD_ra2 = np.where(ATS_2<np.sum(Pot_ATS2),(ATS_2/np.sum(Pot_ATS2)), 1)\n"
     ]
    },
    {
     "name": "stdout",
     "output_type": "stream",
     "text": [
      "Iteration completed \n",
      "Area distributed after step 4: 86\n"
     ]
    },
    {
     "name": "stderr",
     "output_type": "stream",
     "text": [
      "/tmp/ipykernel_55/3896315690.py:62: RuntimeWarning: invalid value encountered in scalar divide\n",
      "  AD_ra2 = np.where(ATS_2<np.sum(Pot_ATS2),(ATS_2/np.sum(Pot_ATS2)), 1)\n"
     ]
    },
    {
     "name": "stdout",
     "output_type": "stream",
     "text": [
      "Iteration completed \n",
      "Area distributed after step 4: 58\n"
     ]
    },
    {
     "name": "stderr",
     "output_type": "stream",
     "text": [
      "/tmp/ipykernel_55/3896315690.py:62: RuntimeWarning: invalid value encountered in scalar divide\n",
      "  AD_ra2 = np.where(ATS_2<np.sum(Pot_ATS2),(ATS_2/np.sum(Pot_ATS2)), 1)\n"
     ]
    },
    {
     "name": "stdout",
     "output_type": "stream",
     "text": [
      "Iteration completed \n",
      "Area distributed after step 4: 58\n"
     ]
    },
    {
     "name": "stderr",
     "output_type": "stream",
     "text": [
      "/tmp/ipykernel_55/3896315690.py:62: RuntimeWarning: invalid value encountered in scalar divide\n",
      "  AD_ra2 = np.where(ATS_2<np.sum(Pot_ATS2),(ATS_2/np.sum(Pot_ATS2)), 1)\n"
     ]
    },
    {
     "name": "stdout",
     "output_type": "stream",
     "text": [
      "Iteration completed \n",
      "Area distributed after step 4: 34\n"
     ]
    },
    {
     "name": "stderr",
     "output_type": "stream",
     "text": [
      "/tmp/ipykernel_55/3896315690.py:62: RuntimeWarning: invalid value encountered in scalar divide\n",
      "  AD_ra2 = np.where(ATS_2<np.sum(Pot_ATS2),(ATS_2/np.sum(Pot_ATS2)), 1)\n"
     ]
    },
    {
     "name": "stdout",
     "output_type": "stream",
     "text": [
      "Iteration completed \n",
      "Area distributed after step 4: 6\n"
     ]
    },
    {
     "name": "stderr",
     "output_type": "stream",
     "text": [
      "/tmp/ipykernel_55/3896315690.py:62: RuntimeWarning: invalid value encountered in scalar divide\n",
      "  AD_ra2 = np.where(ATS_2<np.sum(Pot_ATS2),(ATS_2/np.sum(Pot_ATS2)), 1)\n"
     ]
    },
    {
     "name": "stdout",
     "output_type": "stream",
     "text": [
      "Iteration completed \n",
      "Area distributed after step 4: 3\n"
     ]
    },
    {
     "name": "stderr",
     "output_type": "stream",
     "text": [
      "/tmp/ipykernel_55/3896315690.py:62: RuntimeWarning: invalid value encountered in scalar divide\n",
      "  AD_ra2 = np.where(ATS_2<np.sum(Pot_ATS2),(ATS_2/np.sum(Pot_ATS2)), 1)\n"
     ]
    },
    {
     "name": "stdout",
     "output_type": "stream",
     "text": [
      "Iteration completed \n",
      "Area distributed after step 4: 2\n"
     ]
    },
    {
     "name": "stderr",
     "output_type": "stream",
     "text": [
      "/tmp/ipykernel_55/3896315690.py:62: RuntimeWarning: invalid value encountered in scalar divide\n",
      "  AD_ra2 = np.where(ATS_2<np.sum(Pot_ATS2),(ATS_2/np.sum(Pot_ATS2)), 1)\n"
     ]
    },
    {
     "name": "stdout",
     "output_type": "stream",
     "text": [
      "Iteration completed \n",
      "Area distributed after step 4: 1\n"
     ]
    },
    {
     "name": "stderr",
     "output_type": "stream",
     "text": [
      "/tmp/ipykernel_55/3896315690.py:62: RuntimeWarning: invalid value encountered in scalar divide\n",
      "  AD_ra2 = np.where(ATS_2<np.sum(Pot_ATS2),(ATS_2/np.sum(Pot_ATS2)), 1)\n",
      "/tmp/ipykernel_55/3896315690.py:62: RuntimeWarning: invalid value encountered in scalar divide\n",
      "  AD_ra2 = np.where(ATS_2<np.sum(Pot_ATS2),(ATS_2/np.sum(Pot_ATS2)), 1)\n"
     ]
    },
    {
     "name": "stdout",
     "output_type": "stream",
     "text": [
      "Iteration completed \n",
      "Area distributed after step 4: 1\n"
     ]
    },
    {
     "name": "stderr",
     "output_type": "stream",
     "text": [
      "/tmp/ipykernel_55/3896315690.py:62: RuntimeWarning: invalid value encountered in scalar divide\n",
      "  AD_ra2 = np.where(ATS_2<np.sum(Pot_ATS2),(ATS_2/np.sum(Pot_ATS2)), 1)\n"
     ]
    },
    {
     "name": "stdout",
     "output_type": "stream",
     "text": [
      "Iteration completed \n",
      "Area distributed after step 4: 0\n"
     ]
    },
    {
     "name": "stderr",
     "output_type": "stream",
     "text": [
      "/tmp/ipykernel_55/3896315690.py:62: RuntimeWarning: invalid value encountered in scalar divide\n",
      "  AD_ra2 = np.where(ATS_2<np.sum(Pot_ATS2),(ATS_2/np.sum(Pot_ATS2)), 1)\n"
     ]
    },
    {
     "name": "stdout",
     "output_type": "stream",
     "text": [
      "Iteration completed \n",
      "Area distributed after step 4: 0\n"
     ]
    },
    {
     "name": "stderr",
     "output_type": "stream",
     "text": [
      "/tmp/ipykernel_55/3896315690.py:62: RuntimeWarning: invalid value encountered in scalar divide\n",
      "  AD_ra2 = np.where(ATS_2<np.sum(Pot_ATS2),(ATS_2/np.sum(Pot_ATS2)), 1)\n"
     ]
    },
    {
     "name": "stdout",
     "output_type": "stream",
     "text": [
      "Iteration completed \n",
      "Area distributed after step 4: 0\n"
     ]
    },
    {
     "name": "stderr",
     "output_type": "stream",
     "text": [
      "/tmp/ipykernel_55/3896315690.py:62: RuntimeWarning: invalid value encountered in scalar divide\n",
      "  AD_ra2 = np.where(ATS_2<np.sum(Pot_ATS2),(ATS_2/np.sum(Pot_ATS2)), 1)\n"
     ]
    },
    {
     "name": "stdout",
     "output_type": "stream",
     "text": [
      "Iteration completed \n",
      "Area distributed after step 4: 0\n"
     ]
    },
    {
     "name": "stderr",
     "output_type": "stream",
     "text": [
      "/tmp/ipykernel_55/3896315690.py:62: RuntimeWarning: invalid value encountered in scalar divide\n",
      "  AD_ra2 = np.where(ATS_2<np.sum(Pot_ATS2),(ATS_2/np.sum(Pot_ATS2)), 1)\n"
     ]
    },
    {
     "name": "stdout",
     "output_type": "stream",
     "text": [
      "Iteration completed \n",
      "Area distributed after step 4: 0\n"
     ]
    },
    {
     "name": "stderr",
     "output_type": "stream",
     "text": [
      "/tmp/ipykernel_55/3896315690.py:62: RuntimeWarning: invalid value encountered in scalar divide\n",
      "  AD_ra2 = np.where(ATS_2<np.sum(Pot_ATS2),(ATS_2/np.sum(Pot_ATS2)), 1)\n",
      "/tmp/ipykernel_55/3896315690.py:62: RuntimeWarning: invalid value encountered in scalar divide\n",
      "  AD_ra2 = np.where(ATS_2<np.sum(Pot_ATS2),(ATS_2/np.sum(Pot_ATS2)), 1)\n"
     ]
    },
    {
     "name": "stdout",
     "output_type": "stream",
     "text": [
      "Iteration completed \n",
      "Area distributed after step 4: 0\n",
      "3560013\n",
      "Iteration completed \n",
      "Area distributed after step 4: 48947\n",
      "Iteration completed \n",
      "Area distributed after step 4: 48947\n"
     ]
    },
    {
     "name": "stderr",
     "output_type": "stream",
     "text": [
      "/tmp/ipykernel_55/3896315690.py:62: RuntimeWarning: invalid value encountered in scalar divide\n",
      "  AD_ra2 = np.where(ATS_2<np.sum(Pot_ATS2),(ATS_2/np.sum(Pot_ATS2)), 1)\n",
      "/tmp/ipykernel_55/3896315690.py:62: RuntimeWarning: invalid value encountered in scalar divide\n",
      "  AD_ra2 = np.where(ATS_2<np.sum(Pot_ATS2),(ATS_2/np.sum(Pot_ATS2)), 1)\n",
      "/tmp/ipykernel_55/3896315690.py:62: RuntimeWarning: invalid value encountered in scalar divide\n",
      "  AD_ra2 = np.where(ATS_2<np.sum(Pot_ATS2),(ATS_2/np.sum(Pot_ATS2)), 1)\n"
     ]
    },
    {
     "name": "stdout",
     "output_type": "stream",
     "text": [
      "Iteration completed \n",
      "Area distributed after step 4: 20693\n",
      "Iteration completed \n",
      "Area distributed after step 4: 14929\n",
      "Iteration completed \n",
      "Area distributed after step 4: 14389\n"
     ]
    },
    {
     "name": "stderr",
     "output_type": "stream",
     "text": [
      "/tmp/ipykernel_55/3896315690.py:62: RuntimeWarning: invalid value encountered in scalar divide\n",
      "  AD_ra2 = np.where(ATS_2<np.sum(Pot_ATS2),(ATS_2/np.sum(Pot_ATS2)), 1)\n"
     ]
    },
    {
     "name": "stdout",
     "output_type": "stream",
     "text": [
      "Iteration completed \n",
      "Area distributed after step 4: 12180\n",
      "Iteration completed \n",
      "Area distributed after step 4: 11398\n"
     ]
    },
    {
     "name": "stderr",
     "output_type": "stream",
     "text": [
      "/tmp/ipykernel_55/3896315690.py:62: RuntimeWarning: invalid value encountered in scalar divide\n",
      "  AD_ra2 = np.where(ATS_2<np.sum(Pot_ATS2),(ATS_2/np.sum(Pot_ATS2)), 1)\n",
      "/tmp/ipykernel_55/3896315690.py:62: RuntimeWarning: invalid value encountered in scalar divide\n",
      "  AD_ra2 = np.where(ATS_2<np.sum(Pot_ATS2),(ATS_2/np.sum(Pot_ATS2)), 1)\n",
      "/tmp/ipykernel_55/3896315690.py:62: RuntimeWarning: invalid value encountered in scalar divide\n",
      "  AD_ra2 = np.where(ATS_2<np.sum(Pot_ATS2),(ATS_2/np.sum(Pot_ATS2)), 1)\n"
     ]
    },
    {
     "name": "stdout",
     "output_type": "stream",
     "text": [
      "Iteration completed \n",
      "Area distributed after step 4: 3465\n",
      "Iteration completed \n",
      "Area distributed after step 4: 2182\n",
      "Iteration completed \n",
      "Area distributed after step 4: 1457\n",
      "Iteration completed \n",
      "Area distributed after step 4: 788\n",
      "Iteration completed \n",
      "Area distributed after step 4: 442\n",
      "Iteration completed \n",
      "Area distributed after step 4: 126\n"
     ]
    },
    {
     "name": "stderr",
     "output_type": "stream",
     "text": [
      "/tmp/ipykernel_55/3896315690.py:62: RuntimeWarning: invalid value encountered in scalar divide\n",
      "  AD_ra2 = np.where(ATS_2<np.sum(Pot_ATS2),(ATS_2/np.sum(Pot_ATS2)), 1)\n",
      "/tmp/ipykernel_55/3896315690.py:62: RuntimeWarning: invalid value encountered in scalar divide\n",
      "  AD_ra2 = np.where(ATS_2<np.sum(Pot_ATS2),(ATS_2/np.sum(Pot_ATS2)), 1)\n",
      "/tmp/ipykernel_55/3896315690.py:62: RuntimeWarning: invalid value encountered in scalar divide\n",
      "  AD_ra2 = np.where(ATS_2<np.sum(Pot_ATS2),(ATS_2/np.sum(Pot_ATS2)), 1)\n"
     ]
    },
    {
     "name": "stdout",
     "output_type": "stream",
     "text": [
      "Iteration completed \n",
      "Area distributed after step 4: 64\n",
      "Iteration completed \n",
      "Area distributed after step 4: 47\n"
     ]
    },
    {
     "name": "stderr",
     "output_type": "stream",
     "text": [
      "/tmp/ipykernel_55/3896315690.py:62: RuntimeWarning: invalid value encountered in scalar divide\n",
      "  AD_ra2 = np.where(ATS_2<np.sum(Pot_ATS2),(ATS_2/np.sum(Pot_ATS2)), 1)\n",
      "/tmp/ipykernel_55/3896315690.py:62: RuntimeWarning: invalid value encountered in scalar divide\n",
      "  AD_ra2 = np.where(ATS_2<np.sum(Pot_ATS2),(ATS_2/np.sum(Pot_ATS2)), 1)\n"
     ]
    },
    {
     "name": "stdout",
     "output_type": "stream",
     "text": [
      "Iteration completed \n",
      "Area distributed after step 4: 11\n",
      "Iteration completed \n",
      "Area distributed after step 4: 9\n",
      "Iteration completed \n",
      "Area distributed after step 4: 6\n"
     ]
    },
    {
     "name": "stderr",
     "output_type": "stream",
     "text": [
      "/tmp/ipykernel_55/3896315690.py:62: RuntimeWarning: invalid value encountered in scalar divide\n",
      "  AD_ra2 = np.where(ATS_2<np.sum(Pot_ATS2),(ATS_2/np.sum(Pot_ATS2)), 1)\n",
      "/tmp/ipykernel_55/3896315690.py:62: RuntimeWarning: invalid value encountered in scalar divide\n",
      "  AD_ra2 = np.where(ATS_2<np.sum(Pot_ATS2),(ATS_2/np.sum(Pot_ATS2)), 1)\n",
      "/tmp/ipykernel_55/3896315690.py:62: RuntimeWarning: invalid value encountered in scalar divide\n",
      "  AD_ra2 = np.where(ATS_2<np.sum(Pot_ATS2),(ATS_2/np.sum(Pot_ATS2)), 1)\n"
     ]
    },
    {
     "name": "stdout",
     "output_type": "stream",
     "text": [
      "Iteration completed \n",
      "Area distributed after step 4: 0\n",
      "Iteration completed \n",
      "Area distributed after step 4: 0\n",
      "Iteration completed \n",
      "Area distributed after step 4: 0\n"
     ]
    },
    {
     "name": "stderr",
     "output_type": "stream",
     "text": [
      "/tmp/ipykernel_55/3896315690.py:62: RuntimeWarning: invalid value encountered in scalar divide\n",
      "  AD_ra2 = np.where(ATS_2<np.sum(Pot_ATS2),(ATS_2/np.sum(Pot_ATS2)), 1)\n",
      "/tmp/ipykernel_55/3896315690.py:62: RuntimeWarning: invalid value encountered in scalar divide\n",
      "  AD_ra2 = np.where(ATS_2<np.sum(Pot_ATS2),(ATS_2/np.sum(Pot_ATS2)), 1)\n",
      "/tmp/ipykernel_55/3896315690.py:62: RuntimeWarning: invalid value encountered in scalar divide\n",
      "  AD_ra2 = np.where(ATS_2<np.sum(Pot_ATS2),(ATS_2/np.sum(Pot_ATS2)), 1)\n"
     ]
    },
    {
     "name": "stdout",
     "output_type": "stream",
     "text": [
      "Iteration completed \n",
      "Area distributed after step 4: 0\n",
      "Iteration completed \n",
      "Area distributed after step 4: 0\n"
     ]
    },
    {
     "name": "stderr",
     "output_type": "stream",
     "text": [
      "/tmp/ipykernel_55/3896315690.py:62: RuntimeWarning: invalid value encountered in scalar divide\n",
      "  AD_ra2 = np.where(ATS_2<np.sum(Pot_ATS2),(ATS_2/np.sum(Pot_ATS2)), 1)\n",
      "/tmp/ipykernel_55/3896315690.py:62: RuntimeWarning: invalid value encountered in scalar divide\n",
      "  AD_ra2 = np.where(ATS_2<np.sum(Pot_ATS2),(ATS_2/np.sum(Pot_ATS2)), 1)\n",
      "/tmp/ipykernel_55/3896315690.py:62: RuntimeWarning: invalid value encountered in scalar divide\n",
      "  AD_ra2 = np.where(ATS_2<np.sum(Pot_ATS2),(ATS_2/np.sum(Pot_ATS2)), 1)\n"
     ]
    },
    {
     "name": "stdout",
     "output_type": "stream",
     "text": [
      "Iteration completed \n",
      "Area distributed after step 4: 0\n",
      "Iteration completed \n",
      "Area distributed after step 4: 0\n",
      "Iteration completed \n",
      "Area distributed after step 4: 0\n",
      "3560014\n"
     ]
    },
    {
     "name": "stderr",
     "output_type": "stream",
     "text": [
      "/tmp/ipykernel_55/3896315690.py:62: RuntimeWarning: invalid value encountered in scalar divide\n",
      "  AD_ra2 = np.where(ATS_2<np.sum(Pot_ATS2),(ATS_2/np.sum(Pot_ATS2)), 1)\n",
      "/tmp/ipykernel_55/3896315690.py:62: RuntimeWarning: invalid value encountered in scalar divide\n",
      "  AD_ra2 = np.where(ATS_2<np.sum(Pot_ATS2),(ATS_2/np.sum(Pot_ATS2)), 1)\n",
      "/tmp/ipykernel_55/3896315690.py:62: RuntimeWarning: invalid value encountered in scalar divide\n",
      "  AD_ra2 = np.where(ATS_2<np.sum(Pot_ATS2),(ATS_2/np.sum(Pot_ATS2)), 1)\n"
     ]
    },
    {
     "name": "stdout",
     "output_type": "stream",
     "text": [
      "Iteration completed \n",
      "Area distributed after step 4: 61374\n",
      "Iteration completed \n",
      "Area distributed after step 4: 61374\n",
      "Iteration completed \n",
      "Area distributed after step 4: 14297\n"
     ]
    },
    {
     "name": "stderr",
     "output_type": "stream",
     "text": [
      "/tmp/ipykernel_55/3896315690.py:62: RuntimeWarning: invalid value encountered in scalar divide\n",
      "  AD_ra2 = np.where(ATS_2<np.sum(Pot_ATS2),(ATS_2/np.sum(Pot_ATS2)), 1)\n"
     ]
    },
    {
     "name": "stdout",
     "output_type": "stream",
     "text": [
      "Iteration completed \n",
      "Area distributed after step 4: 10135\n",
      "Iteration completed \n",
      "Area distributed after step 4: 5623\n",
      "Iteration completed \n",
      "Area distributed after step 4: 2692\n",
      "Iteration completed \n",
      "Area distributed after step 4: 2328\n"
     ]
    },
    {
     "name": "stderr",
     "output_type": "stream",
     "text": [
      "/tmp/ipykernel_55/3896315690.py:62: RuntimeWarning: invalid value encountered in scalar divide\n",
      "  AD_ra2 = np.where(ATS_2<np.sum(Pot_ATS2),(ATS_2/np.sum(Pot_ATS2)), 1)\n",
      "/tmp/ipykernel_55/3896315690.py:62: RuntimeWarning: invalid value encountered in scalar divide\n",
      "  AD_ra2 = np.where(ATS_2<np.sum(Pot_ATS2),(ATS_2/np.sum(Pot_ATS2)), 1)\n"
     ]
    },
    {
     "name": "stdout",
     "output_type": "stream",
     "text": [
      "Iteration completed \n",
      "Area distributed after step 4: 571\n",
      "Iteration completed \n",
      "Area distributed after step 4: 518\n",
      "Iteration completed \n",
      "Area distributed after step 4: 308\n"
     ]
    },
    {
     "name": "stderr",
     "output_type": "stream",
     "text": [
      "/tmp/ipykernel_55/3896315690.py:62: RuntimeWarning: invalid value encountered in scalar divide\n",
      "  AD_ra2 = np.where(ATS_2<np.sum(Pot_ATS2),(ATS_2/np.sum(Pot_ATS2)), 1)\n",
      "/tmp/ipykernel_55/3896315690.py:62: RuntimeWarning: invalid value encountered in scalar divide\n",
      "  AD_ra2 = np.where(ATS_2<np.sum(Pot_ATS2),(ATS_2/np.sum(Pot_ATS2)), 1)\n",
      "/tmp/ipykernel_55/3896315690.py:62: RuntimeWarning: invalid value encountered in scalar divide\n",
      "  AD_ra2 = np.where(ATS_2<np.sum(Pot_ATS2),(ATS_2/np.sum(Pot_ATS2)), 1)\n"
     ]
    },
    {
     "name": "stdout",
     "output_type": "stream",
     "text": [
      "Iteration completed \n",
      "Area distributed after step 4: 233\n",
      "Iteration completed \n",
      "Area distributed after step 4: 181\n"
     ]
    },
    {
     "name": "stderr",
     "output_type": "stream",
     "text": [
      "/tmp/ipykernel_55/3896315690.py:62: RuntimeWarning: invalid value encountered in scalar divide\n",
      "  AD_ra2 = np.where(ATS_2<np.sum(Pot_ATS2),(ATS_2/np.sum(Pot_ATS2)), 1)\n",
      "/tmp/ipykernel_55/3896315690.py:62: RuntimeWarning: invalid value encountered in scalar divide\n",
      "  AD_ra2 = np.where(ATS_2<np.sum(Pot_ATS2),(ATS_2/np.sum(Pot_ATS2)), 1)\n"
     ]
    },
    {
     "name": "stdout",
     "output_type": "stream",
     "text": [
      "Iteration completed \n",
      "Area distributed after step 4: 172\n"
     ]
    },
    {
     "name": "stderr",
     "output_type": "stream",
     "text": [
      "/tmp/ipykernel_55/3896315690.py:62: RuntimeWarning: invalid value encountered in scalar divide\n",
      "  AD_ra2 = np.where(ATS_2<np.sum(Pot_ATS2),(ATS_2/np.sum(Pot_ATS2)), 1)\n",
      "/tmp/ipykernel_55/3896315690.py:62: RuntimeWarning: invalid value encountered in scalar divide\n",
      "  AD_ra2 = np.where(ATS_2<np.sum(Pot_ATS2),(ATS_2/np.sum(Pot_ATS2)), 1)\n"
     ]
    },
    {
     "name": "stdout",
     "output_type": "stream",
     "text": [
      "Iteration completed \n",
      "Area distributed after step 4: 25\n",
      "Iteration completed \n",
      "Area distributed after step 4: 15\n"
     ]
    },
    {
     "name": "stderr",
     "output_type": "stream",
     "text": [
      "/tmp/ipykernel_55/3896315690.py:62: RuntimeWarning: invalid value encountered in scalar divide\n",
      "  AD_ra2 = np.where(ATS_2<np.sum(Pot_ATS2),(ATS_2/np.sum(Pot_ATS2)), 1)\n",
      "/tmp/ipykernel_55/3896315690.py:62: RuntimeWarning: invalid value encountered in scalar divide\n",
      "  AD_ra2 = np.where(ATS_2<np.sum(Pot_ATS2),(ATS_2/np.sum(Pot_ATS2)), 1)\n",
      "/tmp/ipykernel_55/3896315690.py:62: RuntimeWarning: invalid value encountered in scalar divide\n",
      "  AD_ra2 = np.where(ATS_2<np.sum(Pot_ATS2),(ATS_2/np.sum(Pot_ATS2)), 1)\n"
     ]
    },
    {
     "name": "stdout",
     "output_type": "stream",
     "text": [
      "Iteration completed \n",
      "Area distributed after step 4: 11\n",
      "Iteration completed \n",
      "Area distributed after step 4: 9\n",
      "Iteration completed \n",
      "Area distributed after step 4: 0\n",
      "Iteration completed \n",
      "Area distributed after step 4: 0\n"
     ]
    },
    {
     "name": "stderr",
     "output_type": "stream",
     "text": [
      "/tmp/ipykernel_55/3896315690.py:62: RuntimeWarning: invalid value encountered in scalar divide\n",
      "  AD_ra2 = np.where(ATS_2<np.sum(Pot_ATS2),(ATS_2/np.sum(Pot_ATS2)), 1)\n",
      "/tmp/ipykernel_55/3896315690.py:62: RuntimeWarning: invalid value encountered in scalar divide\n",
      "  AD_ra2 = np.where(ATS_2<np.sum(Pot_ATS2),(ATS_2/np.sum(Pot_ATS2)), 1)\n"
     ]
    },
    {
     "name": "stdout",
     "output_type": "stream",
     "text": [
      "Iteration completed \n",
      "Area distributed after step 4: 0\n",
      "Iteration completed \n",
      "Area distributed after step 4: 0\n"
     ]
    },
    {
     "name": "stderr",
     "output_type": "stream",
     "text": [
      "/tmp/ipykernel_55/3896315690.py:62: RuntimeWarning: invalid value encountered in scalar divide\n",
      "  AD_ra2 = np.where(ATS_2<np.sum(Pot_ATS2),(ATS_2/np.sum(Pot_ATS2)), 1)\n",
      "/tmp/ipykernel_55/3896315690.py:62: RuntimeWarning: invalid value encountered in scalar divide\n",
      "  AD_ra2 = np.where(ATS_2<np.sum(Pot_ATS2),(ATS_2/np.sum(Pot_ATS2)), 1)\n",
      "/tmp/ipykernel_55/3896315690.py:62: RuntimeWarning: invalid value encountered in scalar divide\n",
      "  AD_ra2 = np.where(ATS_2<np.sum(Pot_ATS2),(ATS_2/np.sum(Pot_ATS2)), 1)\n"
     ]
    },
    {
     "name": "stdout",
     "output_type": "stream",
     "text": [
      "Iteration completed \n",
      "Area distributed after step 4: 0\n",
      "Iteration completed \n",
      "Area distributed after step 4: 0\n"
     ]
    },
    {
     "name": "stderr",
     "output_type": "stream",
     "text": [
      "/tmp/ipykernel_55/3896315690.py:62: RuntimeWarning: invalid value encountered in scalar divide\n",
      "  AD_ra2 = np.where(ATS_2<np.sum(Pot_ATS2),(ATS_2/np.sum(Pot_ATS2)), 1)\n",
      "/tmp/ipykernel_55/3896315690.py:62: RuntimeWarning: invalid value encountered in scalar divide\n",
      "  AD_ra2 = np.where(ATS_2<np.sum(Pot_ATS2),(ATS_2/np.sum(Pot_ATS2)), 1)\n",
      "/tmp/ipykernel_55/3896315690.py:62: RuntimeWarning: invalid value encountered in scalar divide\n",
      "  AD_ra2 = np.where(ATS_2<np.sum(Pot_ATS2),(ATS_2/np.sum(Pot_ATS2)), 1)\n"
     ]
    },
    {
     "name": "stdout",
     "output_type": "stream",
     "text": [
      "Iteration completed \n",
      "Area distributed after step 4: 0\n",
      "Iteration completed \n",
      "Area distributed after step 4: 0\n",
      "Iteration completed \n",
      "Area distributed after step 4: 0\n",
      "3560015\n",
      "[12  1  2  3  4]\n",
      "../scratch/Irrigated/District/00/3560015/Rice2/December.tiff\n",
      "<osgeo.gdal.Dataset; proxy of <Swig Object of type 'GDALDatasetShadow *' at 0x7fc8c830cae0> >\n",
      "TIFF file saved successfully @ ../scratch/Irrigated/District/00/3560015/Rice2/December.tiff\n",
      "../scratch/Irrigated/District/00/3560015/Rice2/January.tiff\n",
      "<osgeo.gdal.Dataset; proxy of <Swig Object of type 'GDALDatasetShadow *' at 0x7fc8c830fba0> >\n",
      "TIFF file saved successfully @ ../scratch/Irrigated/District/00/3560015/Rice2/January.tiff\n",
      "../scratch/Irrigated/District/00/3560015/Rice2/February.tiff\n",
      "<osgeo.gdal.Dataset; proxy of <Swig Object of type 'GDALDatasetShadow *' at 0x7fc8c830de60> >\n",
      "TIFF file saved successfully @ ../scratch/Irrigated/District/00/3560015/Rice2/February.tiff\n",
      "../scratch/Irrigated/District/00/3560015/Rice2/March.tiff\n",
      "<osgeo.gdal.Dataset; proxy of <Swig Object of type 'GDALDatasetShadow *' at 0x7fc8c830ea00> >\n",
      "TIFF file saved successfully @ ../scratch/Irrigated/District/00/3560015/Rice2/March.tiff\n",
      "../scratch/Irrigated/District/00/3560015/Rice2/April.tiff\n",
      "<osgeo.gdal.Dataset; proxy of <Swig Object of type 'GDALDatasetShadow *' at 0x7fc8c830d380> >\n",
      "TIFF file saved successfully @ ../scratch/Irrigated/District/00/3560015/Rice2/April.tiff\n",
      "[ 7  8  9 10 11]\n",
      "../scratch/Irrigated/District/00/3560015/Rice1/July.tiff\n",
      "<osgeo.gdal.Dataset; proxy of <Swig Object of type 'GDALDatasetShadow *' at 0x7fc8c833d9e0> >\n",
      "TIFF file saved successfully @ ../scratch/Irrigated/District/00/3560015/Rice1/July.tiff\n",
      "../scratch/Irrigated/District/00/3560015/Rice1/August.tiff\n",
      "<osgeo.gdal.Dataset; proxy of <Swig Object of type 'GDALDatasetShadow *' at 0x7fc8c833cfc0> >\n",
      "TIFF file saved successfully @ ../scratch/Irrigated/District/00/3560015/Rice1/August.tiff\n",
      "../scratch/Irrigated/District/00/3560015/Rice1/September.tiff\n",
      "<osgeo.gdal.Dataset; proxy of <Swig Object of type 'GDALDatasetShadow *' at 0x7fc8c833d6b0> >\n",
      "TIFF file saved successfully @ ../scratch/Irrigated/District/00/3560015/Rice1/September.tiff\n",
      "../scratch/Irrigated/District/00/3560015/Rice1/October.tiff\n",
      "<osgeo.gdal.Dataset; proxy of <Swig Object of type 'GDALDatasetShadow *' at 0x7fc8c833d7d0> >\n",
      "TIFF file saved successfully @ ../scratch/Irrigated/District/00/3560015/Rice1/October.tiff\n",
      "../scratch/Irrigated/District/00/3560015/Rice1/November.tiff\n",
      "<osgeo.gdal.Dataset; proxy of <Swig Object of type 'GDALDatasetShadow *' at 0x7fc8c833cb40> >\n",
      "TIFF file saved successfully @ ../scratch/Irrigated/District/00/3560015/Rice1/November.tiff\n",
      "[ 1  2  3  4  5  6  7  8  9 10 11 12]\n",
      "../scratch/Irrigated/District/00/3560015/Sugar cane/January.tiff\n",
      "<osgeo.gdal.Dataset; proxy of <Swig Object of type 'GDALDatasetShadow *' at 0x7fc8c83217d0> >\n",
      "TIFF file saved successfully @ ../scratch/Irrigated/District/00/3560015/Sugar cane/January.tiff\n",
      "../scratch/Irrigated/District/00/3560015/Sugar cane/February.tiff\n",
      "<osgeo.gdal.Dataset; proxy of <Swig Object of type 'GDALDatasetShadow *' at 0x7fc8c84d7960> >\n",
      "TIFF file saved successfully @ ../scratch/Irrigated/District/00/3560015/Sugar cane/February.tiff\n",
      "../scratch/Irrigated/District/00/3560015/Sugar cane/March.tiff\n",
      "<osgeo.gdal.Dataset; proxy of <Swig Object of type 'GDALDatasetShadow *' at 0x7fc8c84d5230> >\n",
      "TIFF file saved successfully @ ../scratch/Irrigated/District/00/3560015/Sugar cane/March.tiff\n",
      "../scratch/Irrigated/District/00/3560015/Sugar cane/April.tiff\n",
      "<osgeo.gdal.Dataset; proxy of <Swig Object of type 'GDALDatasetShadow *' at 0x7fc8c84d6910> >\n",
      "TIFF file saved successfully @ ../scratch/Irrigated/District/00/3560015/Sugar cane/April.tiff\n",
      "../scratch/Irrigated/District/00/3560015/Sugar cane/May.tiff\n",
      "<osgeo.gdal.Dataset; proxy of <Swig Object of type 'GDALDatasetShadow *' at 0x7fc8c84d5770> >\n",
      "TIFF file saved successfully @ ../scratch/Irrigated/District/00/3560015/Sugar cane/May.tiff\n",
      "../scratch/Irrigated/District/00/3560015/Sugar cane/June.tiff\n",
      "<osgeo.gdal.Dataset; proxy of <Swig Object of type 'GDALDatasetShadow *' at 0x7fc8c84d7960> >\n",
      "TIFF file saved successfully @ ../scratch/Irrigated/District/00/3560015/Sugar cane/June.tiff\n",
      "../scratch/Irrigated/District/00/3560015/Sugar cane/July.tiff\n",
      "<osgeo.gdal.Dataset; proxy of <Swig Object of type 'GDALDatasetShadow *' at 0x7fc8c84d7cf0> >\n",
      "TIFF file saved successfully @ ../scratch/Irrigated/District/00/3560015/Sugar cane/July.tiff\n",
      "../scratch/Irrigated/District/00/3560015/Sugar cane/August.tiff\n",
      "<osgeo.gdal.Dataset; proxy of <Swig Object of type 'GDALDatasetShadow *' at 0x7fc8c84d4660> >\n",
      "TIFF file saved successfully @ ../scratch/Irrigated/District/00/3560015/Sugar cane/August.tiff\n",
      "../scratch/Irrigated/District/00/3560015/Sugar cane/September.tiff\n",
      "<osgeo.gdal.Dataset; proxy of <Swig Object of type 'GDALDatasetShadow *' at 0x7fc8c84d5230> >\n",
      "TIFF file saved successfully @ ../scratch/Irrigated/District/00/3560015/Sugar cane/September.tiff\n",
      "../scratch/Irrigated/District/00/3560015/Sugar cane/October.tiff\n",
      "<osgeo.gdal.Dataset; proxy of <Swig Object of type 'GDALDatasetShadow *' at 0x7fc8c84d5770> >\n",
      "TIFF file saved successfully @ ../scratch/Irrigated/District/00/3560015/Sugar cane/October.tiff\n",
      "../scratch/Irrigated/District/00/3560015/Sugar cane/November.tiff\n",
      "<osgeo.gdal.Dataset; proxy of <Swig Object of type 'GDALDatasetShadow *' at 0x7fc8c84d7cf0> >\n",
      "TIFF file saved successfully @ ../scratch/Irrigated/District/00/3560015/Sugar cane/November.tiff\n",
      "../scratch/Irrigated/District/00/3560015/Sugar cane/December.tiff\n",
      "<osgeo.gdal.Dataset; proxy of <Swig Object of type 'GDALDatasetShadow *' at 0x7fc8c84d4660> >\n",
      "TIFF file saved successfully @ ../scratch/Irrigated/District/00/3560015/Sugar cane/December.tiff\n",
      "[ 1  2  3  4  5  6  7  8  9 10 11 12]\n",
      "../scratch/Irrigated/District/00/3560015/Others perennial/January.tiff\n",
      "<osgeo.gdal.Dataset; proxy of <Swig Object of type 'GDALDatasetShadow *' at 0x7fc8c8320210> >\n",
      "TIFF file saved successfully @ ../scratch/Irrigated/District/00/3560015/Others perennial/January.tiff\n",
      "../scratch/Irrigated/District/00/3560015/Others perennial/February.tiff\n",
      "<osgeo.gdal.Dataset; proxy of <Swig Object of type 'GDALDatasetShadow *' at 0x7fc8c8320cc0> >\n",
      "TIFF file saved successfully @ ../scratch/Irrigated/District/00/3560015/Others perennial/February.tiff\n",
      "../scratch/Irrigated/District/00/3560015/Others perennial/March.tiff\n",
      "<osgeo.gdal.Dataset; proxy of <Swig Object of type 'GDALDatasetShadow *' at 0x7fc8c8322400> >\n",
      "TIFF file saved successfully @ ../scratch/Irrigated/District/00/3560015/Others perennial/March.tiff\n",
      "../scratch/Irrigated/District/00/3560015/Others perennial/April.tiff\n",
      "<osgeo.gdal.Dataset; proxy of <Swig Object of type 'GDALDatasetShadow *' at 0x7fc8c8322130> >\n",
      "TIFF file saved successfully @ ../scratch/Irrigated/District/00/3560015/Others perennial/April.tiff\n",
      "../scratch/Irrigated/District/00/3560015/Others perennial/May.tiff\n",
      "<osgeo.gdal.Dataset; proxy of <Swig Object of type 'GDALDatasetShadow *' at 0x7fc8c8321170> >\n",
      "TIFF file saved successfully @ ../scratch/Irrigated/District/00/3560015/Others perennial/May.tiff\n",
      "../scratch/Irrigated/District/00/3560015/Others perennial/June.tiff\n",
      "<osgeo.gdal.Dataset; proxy of <Swig Object of type 'GDALDatasetShadow *' at 0x7fc8c83207e0> >\n",
      "TIFF file saved successfully @ ../scratch/Irrigated/District/00/3560015/Others perennial/June.tiff\n",
      "../scratch/Irrigated/District/00/3560015/Others perennial/July.tiff\n",
      "<osgeo.gdal.Dataset; proxy of <Swig Object of type 'GDALDatasetShadow *' at 0x7fc8c8321140> >\n",
      "TIFF file saved successfully @ ../scratch/Irrigated/District/00/3560015/Others perennial/July.tiff\n",
      "../scratch/Irrigated/District/00/3560015/Others perennial/August.tiff\n",
      "<osgeo.gdal.Dataset; proxy of <Swig Object of type 'GDALDatasetShadow *' at 0x7fc8c8322ee0> >\n",
      "TIFF file saved successfully @ ../scratch/Irrigated/District/00/3560015/Others perennial/August.tiff\n",
      "../scratch/Irrigated/District/00/3560015/Others perennial/September.tiff\n",
      "<osgeo.gdal.Dataset; proxy of <Swig Object of type 'GDALDatasetShadow *' at 0x7fc8c8322220> >\n",
      "TIFF file saved successfully @ ../scratch/Irrigated/District/00/3560015/Others perennial/September.tiff\n",
      "../scratch/Irrigated/District/00/3560015/Others perennial/October.tiff\n",
      "<osgeo.gdal.Dataset; proxy of <Swig Object of type 'GDALDatasetShadow *' at 0x7fc8c8322a30> >\n",
      "TIFF file saved successfully @ ../scratch/Irrigated/District/00/3560015/Others perennial/October.tiff\n",
      "../scratch/Irrigated/District/00/3560015/Others perennial/November.tiff\n",
      "<osgeo.gdal.Dataset; proxy of <Swig Object of type 'GDALDatasetShadow *' at 0x7fc8c8320c90> >\n",
      "TIFF file saved successfully @ ../scratch/Irrigated/District/00/3560015/Others perennial/November.tiff\n",
      "../scratch/Irrigated/District/00/3560015/Others perennial/December.tiff\n",
      "<osgeo.gdal.Dataset; proxy of <Swig Object of type 'GDALDatasetShadow *' at 0x7fc8c8323b70> >\n",
      "TIFF file saved successfully @ ../scratch/Irrigated/District/00/3560015/Others perennial/December.tiff\n",
      "[ 7  8  9 10 11]\n",
      "../scratch/Irrigated/District/00/3560015/Maize/July.tiff\n",
      "<osgeo.gdal.Dataset; proxy of <Swig Object of type 'GDALDatasetShadow *' at 0x7fc8c835d290> >\n",
      "TIFF file saved successfully @ ../scratch/Irrigated/District/00/3560015/Maize/July.tiff\n",
      "../scratch/Irrigated/District/00/3560015/Maize/August.tiff\n",
      "<osgeo.gdal.Dataset; proxy of <Swig Object of type 'GDALDatasetShadow *' at 0x7fc8c835d3e0> >\n",
      "TIFF file saved successfully @ ../scratch/Irrigated/District/00/3560015/Maize/August.tiff\n",
      "../scratch/Irrigated/District/00/3560015/Maize/September.tiff\n",
      "<osgeo.gdal.Dataset; proxy of <Swig Object of type 'GDALDatasetShadow *' at 0x7fc8c835c9f0> >\n",
      "TIFF file saved successfully @ ../scratch/Irrigated/District/00/3560015/Maize/September.tiff\n",
      "../scratch/Irrigated/District/00/3560015/Maize/October.tiff\n",
      "<osgeo.gdal.Dataset; proxy of <Swig Object of type 'GDALDatasetShadow *' at 0x7fc8c835cc90> >\n",
      "TIFF file saved successfully @ ../scratch/Irrigated/District/00/3560015/Maize/October.tiff\n",
      "../scratch/Irrigated/District/00/3560015/Maize/November.tiff\n",
      "<osgeo.gdal.Dataset; proxy of <Swig Object of type 'GDALDatasetShadow *' at 0x7fc8c835cea0> >\n",
      "TIFF file saved successfully @ ../scratch/Irrigated/District/00/3560015/Maize/November.tiff\n",
      "[11 12  1  2  3]\n",
      "../scratch/Irrigated/District/00/3560015/Others annual1/November.tiff\n",
      "<osgeo.gdal.Dataset; proxy of <Swig Object of type 'GDALDatasetShadow *' at 0x7fc8c84fa250> >\n",
      "TIFF file saved successfully @ ../scratch/Irrigated/District/00/3560015/Others annual1/November.tiff\n",
      "../scratch/Irrigated/District/00/3560015/Others annual1/December.tiff\n",
      "<osgeo.gdal.Dataset; proxy of <Swig Object of type 'GDALDatasetShadow *' at 0x7fc8c84f9d70> >\n",
      "TIFF file saved successfully @ ../scratch/Irrigated/District/00/3560015/Others annual1/December.tiff\n",
      "../scratch/Irrigated/District/00/3560015/Others annual1/January.tiff\n",
      "<osgeo.gdal.Dataset; proxy of <Swig Object of type 'GDALDatasetShadow *' at 0x7fc8c84fbe40> >\n",
      "TIFF file saved successfully @ ../scratch/Irrigated/District/00/3560015/Others annual1/January.tiff\n",
      "../scratch/Irrigated/District/00/3560015/Others annual1/February.tiff\n",
      "<osgeo.gdal.Dataset; proxy of <Swig Object of type 'GDALDatasetShadow *' at 0x7fc8c84faf40> >\n",
      "TIFF file saved successfully @ ../scratch/Irrigated/District/00/3560015/Others annual1/February.tiff\n",
      "../scratch/Irrigated/District/00/3560015/Others annual1/March.tiff\n",
      "<osgeo.gdal.Dataset; proxy of <Swig Object of type 'GDALDatasetShadow *' at 0x7fc8c84fba80> >\n",
      "TIFF file saved successfully @ ../scratch/Irrigated/District/00/3560015/Others annual1/March.tiff\n",
      "[12  1  2  3  4]\n",
      "../scratch/Irrigated/District/00/3560015/Sorghum/December.tiff\n",
      "<osgeo.gdal.Dataset; proxy of <Swig Object of type 'GDALDatasetShadow *' at 0x7fc8c834db00> >\n",
      "TIFF file saved successfully @ ../scratch/Irrigated/District/00/3560015/Sorghum/December.tiff\n",
      "../scratch/Irrigated/District/00/3560015/Sorghum/January.tiff\n",
      "<osgeo.gdal.Dataset; proxy of <Swig Object of type 'GDALDatasetShadow *' at 0x7fc8c834cc60> >\n",
      "TIFF file saved successfully @ ../scratch/Irrigated/District/00/3560015/Sorghum/January.tiff\n",
      "../scratch/Irrigated/District/00/3560015/Sorghum/February.tiff\n",
      "<osgeo.gdal.Dataset; proxy of <Swig Object of type 'GDALDatasetShadow *' at 0x7fc8c834c870> >\n",
      "TIFF file saved successfully @ ../scratch/Irrigated/District/00/3560015/Sorghum/February.tiff\n",
      "../scratch/Irrigated/District/00/3560015/Sorghum/March.tiff\n",
      "<osgeo.gdal.Dataset; proxy of <Swig Object of type 'GDALDatasetShadow *' at 0x7fc8c834c900> >\n",
      "TIFF file saved successfully @ ../scratch/Irrigated/District/00/3560015/Sorghum/March.tiff\n",
      "../scratch/Irrigated/District/00/3560015/Sorghum/April.tiff\n",
      "<osgeo.gdal.Dataset; proxy of <Swig Object of type 'GDALDatasetShadow *' at 0x7fc8c834dd70> >\n",
      "TIFF file saved successfully @ ../scratch/Irrigated/District/00/3560015/Sorghum/April.tiff\n",
      "[ 7  8  9 10 11]\n",
      "../scratch/Irrigated/District/00/3560015/Groundnuts/July.tiff\n",
      "<osgeo.gdal.Dataset; proxy of <Swig Object of type 'GDALDatasetShadow *' at 0x7fc8c9830810> >\n",
      "TIFF file saved successfully @ ../scratch/Irrigated/District/00/3560015/Groundnuts/July.tiff\n",
      "../scratch/Irrigated/District/00/3560015/Groundnuts/August.tiff\n",
      "<osgeo.gdal.Dataset; proxy of <Swig Object of type 'GDALDatasetShadow *' at 0x7fc8c98322b0> >\n",
      "TIFF file saved successfully @ ../scratch/Irrigated/District/00/3560015/Groundnuts/August.tiff\n",
      "../scratch/Irrigated/District/00/3560015/Groundnuts/September.tiff\n",
      "<osgeo.gdal.Dataset; proxy of <Swig Object of type 'GDALDatasetShadow *' at 0x7fc8c9831d40> >\n",
      "TIFF file saved successfully @ ../scratch/Irrigated/District/00/3560015/Groundnuts/September.tiff\n",
      "../scratch/Irrigated/District/00/3560015/Groundnuts/October.tiff\n",
      "<osgeo.gdal.Dataset; proxy of <Swig Object of type 'GDALDatasetShadow *' at 0x7fc8c9832310> >\n",
      "TIFF file saved successfully @ ../scratch/Irrigated/District/00/3560015/Groundnuts/October.tiff\n",
      "../scratch/Irrigated/District/00/3560015/Groundnuts/November.tiff\n",
      "<osgeo.gdal.Dataset; proxy of <Swig Object of type 'GDALDatasetShadow *' at 0x7fc8c98328b0> >\n",
      "TIFF file saved successfully @ ../scratch/Irrigated/District/00/3560015/Groundnuts/November.tiff\n",
      "[ 7  8  9 10 11]\n",
      "../scratch/Irrigated/District/00/3560015/Sunflower/July.tiff\n",
      "<osgeo.gdal.Dataset; proxy of <Swig Object of type 'GDALDatasetShadow *' at 0x7fc8c835cb10> >\n",
      "TIFF file saved successfully @ ../scratch/Irrigated/District/00/3560015/Sunflower/July.tiff\n",
      "../scratch/Irrigated/District/00/3560015/Sunflower/August.tiff\n",
      "<osgeo.gdal.Dataset; proxy of <Swig Object of type 'GDALDatasetShadow *' at 0x7fc8c835cab0> >\n",
      "TIFF file saved successfully @ ../scratch/Irrigated/District/00/3560015/Sunflower/August.tiff\n",
      "../scratch/Irrigated/District/00/3560015/Sunflower/September.tiff\n",
      "<osgeo.gdal.Dataset; proxy of <Swig Object of type 'GDALDatasetShadow *' at 0x7fc8c835d9e0> >\n",
      "TIFF file saved successfully @ ../scratch/Irrigated/District/00/3560015/Sunflower/September.tiff\n",
      "../scratch/Irrigated/District/00/3560015/Sunflower/October.tiff\n",
      "<osgeo.gdal.Dataset; proxy of <Swig Object of type 'GDALDatasetShadow *' at 0x7fc8c835d890> >\n",
      "TIFF file saved successfully @ ../scratch/Irrigated/District/00/3560015/Sunflower/October.tiff\n",
      "../scratch/Irrigated/District/00/3560015/Sunflower/November.tiff\n",
      "<osgeo.gdal.Dataset; proxy of <Swig Object of type 'GDALDatasetShadow *' at 0x7fc8c835def0> >\n",
      "TIFF file saved successfully @ ../scratch/Irrigated/District/00/3560015/Sunflower/November.tiff\n",
      "[10 11 12  1  2]\n",
      "../scratch/Irrigated/District/00/3560015/Pulses/October.tiff\n",
      "<osgeo.gdal.Dataset; proxy of <Swig Object of type 'GDALDatasetShadow *' at 0x7fc8c81e99b0> >\n",
      "TIFF file saved successfully @ ../scratch/Irrigated/District/00/3560015/Pulses/October.tiff\n",
      "../scratch/Irrigated/District/00/3560015/Pulses/November.tiff\n",
      "<osgeo.gdal.Dataset; proxy of <Swig Object of type 'GDALDatasetShadow *' at 0x7fc8c81e8720> >\n",
      "TIFF file saved successfully @ ../scratch/Irrigated/District/00/3560015/Pulses/November.tiff\n",
      "../scratch/Irrigated/District/00/3560015/Pulses/December.tiff\n",
      "<osgeo.gdal.Dataset; proxy of <Swig Object of type 'GDALDatasetShadow *' at 0x7fc8c81e9170> >\n",
      "TIFF file saved successfully @ ../scratch/Irrigated/District/00/3560015/Pulses/December.tiff\n",
      "../scratch/Irrigated/District/00/3560015/Pulses/January.tiff\n",
      "<osgeo.gdal.Dataset; proxy of <Swig Object of type 'GDALDatasetShadow *' at 0x7fc8c81e8990> >\n",
      "TIFF file saved successfully @ ../scratch/Irrigated/District/00/3560015/Pulses/January.tiff\n",
      "../scratch/Irrigated/District/00/3560015/Pulses/February.tiff\n",
      "<osgeo.gdal.Dataset; proxy of <Swig Object of type 'GDALDatasetShadow *' at 0x7fc8c81e9ef0> >\n",
      "TIFF file saved successfully @ ../scratch/Irrigated/District/00/3560015/Pulses/February.tiff\n",
      "[12  1  2  3  4]\n",
      "../scratch/Irrigated/District/00/3560015/Wheat1/December.tiff\n",
      "<osgeo.gdal.Dataset; proxy of <Swig Object of type 'GDALDatasetShadow *' at 0x7fc8c84d6cd0> >\n",
      "TIFF file saved successfully @ ../scratch/Irrigated/District/00/3560015/Wheat1/December.tiff\n",
      "../scratch/Irrigated/District/00/3560015/Wheat1/January.tiff\n",
      "<osgeo.gdal.Dataset; proxy of <Swig Object of type 'GDALDatasetShadow *' at 0x7fc8c84d78d0> >\n",
      "TIFF file saved successfully @ ../scratch/Irrigated/District/00/3560015/Wheat1/January.tiff\n",
      "../scratch/Irrigated/District/00/3560015/Wheat1/February.tiff\n",
      "<osgeo.gdal.Dataset; proxy of <Swig Object of type 'GDALDatasetShadow *' at 0x7fc8c84d6a30> >\n",
      "TIFF file saved successfully @ ../scratch/Irrigated/District/00/3560015/Wheat1/February.tiff\n",
      "../scratch/Irrigated/District/00/3560015/Wheat1/March.tiff\n",
      "<osgeo.gdal.Dataset; proxy of <Swig Object of type 'GDALDatasetShadow *' at 0x7fc8c84d6c10> >\n",
      "TIFF file saved successfully @ ../scratch/Irrigated/District/00/3560015/Wheat1/March.tiff\n",
      "../scratch/Irrigated/District/00/3560015/Wheat1/April.tiff\n",
      "<osgeo.gdal.Dataset; proxy of <Swig Object of type 'GDALDatasetShadow *' at 0x7fc8c84d7630> >\n",
      "TIFF file saved successfully @ ../scratch/Irrigated/District/00/3560015/Wheat1/April.tiff\n",
      "[ 7  8  9 10 11]\n",
      "../scratch/Irrigated/District/00/3560015/Potatoes/July.tiff\n",
      "<osgeo.gdal.Dataset; proxy of <Swig Object of type 'GDALDatasetShadow *' at 0x7fc8c83b3ab0> >\n",
      "TIFF file saved successfully @ ../scratch/Irrigated/District/00/3560015/Potatoes/July.tiff\n",
      "../scratch/Irrigated/District/00/3560015/Potatoes/August.tiff\n",
      "<osgeo.gdal.Dataset; proxy of <Swig Object of type 'GDALDatasetShadow *' at 0x7fc8c83b1a70> >\n",
      "TIFF file saved successfully @ ../scratch/Irrigated/District/00/3560015/Potatoes/August.tiff\n",
      "../scratch/Irrigated/District/00/3560015/Potatoes/September.tiff\n",
      "<osgeo.gdal.Dataset; proxy of <Swig Object of type 'GDALDatasetShadow *' at 0x7fc8c83b1470> >\n",
      "TIFF file saved successfully @ ../scratch/Irrigated/District/00/3560015/Potatoes/September.tiff\n",
      "../scratch/Irrigated/District/00/3560015/Potatoes/October.tiff\n",
      "<osgeo.gdal.Dataset; proxy of <Swig Object of type 'GDALDatasetShadow *' at 0x7fc8c83b2e50> >\n",
      "TIFF file saved successfully @ ../scratch/Irrigated/District/00/3560015/Potatoes/October.tiff\n",
      "../scratch/Irrigated/District/00/3560015/Potatoes/November.tiff\n",
      "<osgeo.gdal.Dataset; proxy of <Swig Object of type 'GDALDatasetShadow *' at 0x7fc8c83b3780> >\n",
      "TIFF file saved successfully @ ../scratch/Irrigated/District/00/3560015/Potatoes/November.tiff\n",
      "[ 1  2  3  4  5  6  7  8  9 10 11 12]\n",
      "../scratch/Irrigated/District/00/3560015/Fodder/January.tiff\n",
      "<osgeo.gdal.Dataset; proxy of <Swig Object of type 'GDALDatasetShadow *' at 0x7fc8c81b8de0> >\n",
      "TIFF file saved successfully @ ../scratch/Irrigated/District/00/3560015/Fodder/January.tiff\n",
      "../scratch/Irrigated/District/00/3560015/Fodder/February.tiff\n",
      "<osgeo.gdal.Dataset; proxy of <Swig Object of type 'GDALDatasetShadow *' at 0x7fc8c81b93e0> >\n",
      "TIFF file saved successfully @ ../scratch/Irrigated/District/00/3560015/Fodder/February.tiff\n",
      "../scratch/Irrigated/District/00/3560015/Fodder/March.tiff\n",
      "<osgeo.gdal.Dataset; proxy of <Swig Object of type 'GDALDatasetShadow *' at 0x7fc8c81b9350> >\n",
      "TIFF file saved successfully @ ../scratch/Irrigated/District/00/3560015/Fodder/March.tiff\n",
      "../scratch/Irrigated/District/00/3560015/Fodder/April.tiff\n",
      "<osgeo.gdal.Dataset; proxy of <Swig Object of type 'GDALDatasetShadow *' at 0x7fc8c81b9da0> >\n",
      "TIFF file saved successfully @ ../scratch/Irrigated/District/00/3560015/Fodder/April.tiff\n",
      "../scratch/Irrigated/District/00/3560015/Fodder/May.tiff\n",
      "<osgeo.gdal.Dataset; proxy of <Swig Object of type 'GDALDatasetShadow *' at 0x7fc8c81ba160> >\n",
      "TIFF file saved successfully @ ../scratch/Irrigated/District/00/3560015/Fodder/May.tiff\n",
      "../scratch/Irrigated/District/00/3560015/Fodder/June.tiff\n",
      "<osgeo.gdal.Dataset; proxy of <Swig Object of type 'GDALDatasetShadow *' at 0x7fc8c81ba010> >\n",
      "TIFF file saved successfully @ ../scratch/Irrigated/District/00/3560015/Fodder/June.tiff\n",
      "../scratch/Irrigated/District/00/3560015/Fodder/July.tiff\n",
      "<osgeo.gdal.Dataset; proxy of <Swig Object of type 'GDALDatasetShadow *' at 0x7fc8c81b9fb0> >\n",
      "TIFF file saved successfully @ ../scratch/Irrigated/District/00/3560015/Fodder/July.tiff\n",
      "../scratch/Irrigated/District/00/3560015/Fodder/August.tiff\n",
      "<osgeo.gdal.Dataset; proxy of <Swig Object of type 'GDALDatasetShadow *' at 0x7fc8c81b9350> >\n",
      "TIFF file saved successfully @ ../scratch/Irrigated/District/00/3560015/Fodder/August.tiff\n",
      "../scratch/Irrigated/District/00/3560015/Fodder/September.tiff\n",
      "<osgeo.gdal.Dataset; proxy of <Swig Object of type 'GDALDatasetShadow *' at 0x7fc8c81ba0d0> >\n",
      "TIFF file saved successfully @ ../scratch/Irrigated/District/00/3560015/Fodder/September.tiff\n",
      "../scratch/Irrigated/District/00/3560015/Fodder/October.tiff\n",
      "<osgeo.gdal.Dataset; proxy of <Swig Object of type 'GDALDatasetShadow *' at 0x7fc8c81b9f20> >\n",
      "TIFF file saved successfully @ ../scratch/Irrigated/District/00/3560015/Fodder/October.tiff\n",
      "../scratch/Irrigated/District/00/3560015/Fodder/November.tiff\n",
      "<osgeo.gdal.Dataset; proxy of <Swig Object of type 'GDALDatasetShadow *' at 0x7fc8c81b9e90> >\n",
      "TIFF file saved successfully @ ../scratch/Irrigated/District/00/3560015/Fodder/November.tiff\n",
      "../scratch/Irrigated/District/00/3560015/Fodder/December.tiff\n",
      "<osgeo.gdal.Dataset; proxy of <Swig Object of type 'GDALDatasetShadow *' at 0x7fc8c81b9fb0> >\n",
      "TIFF file saved successfully @ ../scratch/Irrigated/District/00/3560015/Fodder/December.tiff\n",
      "[10 11 12  1  2]\n",
      "../scratch/Irrigated/District/00/3560015/Rapeseed/October.tiff\n",
      "<osgeo.gdal.Dataset; proxy of <Swig Object of type 'GDALDatasetShadow *' at 0x7fc8c8322dc0> >\n",
      "TIFF file saved successfully @ ../scratch/Irrigated/District/00/3560015/Rapeseed/October.tiff\n",
      "../scratch/Irrigated/District/00/3560015/Rapeseed/November.tiff\n",
      "<osgeo.gdal.Dataset; proxy of <Swig Object of type 'GDALDatasetShadow *' at 0x7fc8c8321e90> >\n",
      "TIFF file saved successfully @ ../scratch/Irrigated/District/00/3560015/Rapeseed/November.tiff\n",
      "../scratch/Irrigated/District/00/3560015/Rapeseed/December.tiff\n",
      "<osgeo.gdal.Dataset; proxy of <Swig Object of type 'GDALDatasetShadow *' at 0x7fc8c8321ec0> >\n",
      "TIFF file saved successfully @ ../scratch/Irrigated/District/00/3560015/Rapeseed/December.tiff\n",
      "../scratch/Irrigated/District/00/3560015/Rapeseed/January.tiff\n",
      "<osgeo.gdal.Dataset; proxy of <Swig Object of type 'GDALDatasetShadow *' at 0x7fc8c8322e80> >\n",
      "TIFF file saved successfully @ ../scratch/Irrigated/District/00/3560015/Rapeseed/January.tiff\n",
      "../scratch/Irrigated/District/00/3560015/Rapeseed/February.tiff\n",
      "<osgeo.gdal.Dataset; proxy of <Swig Object of type 'GDALDatasetShadow *' at 0x7fc8c83235d0> >\n",
      "TIFF file saved successfully @ ../scratch/Irrigated/District/00/3560015/Rapeseed/February.tiff\n",
      "[ 6  7  8  9 10 11 12]\n",
      "../scratch/Irrigated/District/00/3560015/Cotton/June.tiff\n",
      "<osgeo.gdal.Dataset; proxy of <Swig Object of type 'GDALDatasetShadow *' at 0x7fc8c81b50b0> >\n",
      "TIFF file saved successfully @ ../scratch/Irrigated/District/00/3560015/Cotton/June.tiff\n",
      "../scratch/Irrigated/District/00/3560015/Cotton/July.tiff\n",
      "<osgeo.gdal.Dataset; proxy of <Swig Object of type 'GDALDatasetShadow *' at 0x7fc8c81b4b40> >\n",
      "TIFF file saved successfully @ ../scratch/Irrigated/District/00/3560015/Cotton/July.tiff\n",
      "../scratch/Irrigated/District/00/3560015/Cotton/August.tiff\n",
      "<osgeo.gdal.Dataset; proxy of <Swig Object of type 'GDALDatasetShadow *' at 0x7fc8c81b4c00> >\n",
      "TIFF file saved successfully @ ../scratch/Irrigated/District/00/3560015/Cotton/August.tiff\n",
      "../scratch/Irrigated/District/00/3560015/Cotton/September.tiff\n",
      "<osgeo.gdal.Dataset; proxy of <Swig Object of type 'GDALDatasetShadow *' at 0x7fc8c81b52f0> >\n",
      "TIFF file saved successfully @ ../scratch/Irrigated/District/00/3560015/Cotton/September.tiff\n",
      "../scratch/Irrigated/District/00/3560015/Cotton/October.tiff\n",
      "<osgeo.gdal.Dataset; proxy of <Swig Object of type 'GDALDatasetShadow *' at 0x7fc8c81b56b0> >\n",
      "TIFF file saved successfully @ ../scratch/Irrigated/District/00/3560015/Cotton/October.tiff\n",
      "../scratch/Irrigated/District/00/3560015/Cotton/November.tiff\n",
      "<osgeo.gdal.Dataset; proxy of <Swig Object of type 'GDALDatasetShadow *' at 0x7fc8c81b5560> >\n",
      "TIFF file saved successfully @ ../scratch/Irrigated/District/00/3560015/Cotton/November.tiff\n",
      "../scratch/Irrigated/District/00/3560015/Cotton/December.tiff\n",
      "<osgeo.gdal.Dataset; proxy of <Swig Object of type 'GDALDatasetShadow *' at 0x7fc8c81b5500> >\n",
      "TIFF file saved successfully @ ../scratch/Irrigated/District/00/3560015/Cotton/December.tiff\n",
      "[12  1  2  3  4]\n",
      "../scratch/Irrigated/District/00/3560015/Millet/December.tiff\n",
      "<osgeo.gdal.Dataset; proxy of <Swig Object of type 'GDALDatasetShadow *' at 0x7fc8c84d4db0> >\n",
      "TIFF file saved successfully @ ../scratch/Irrigated/District/00/3560015/Millet/December.tiff\n",
      "../scratch/Irrigated/District/00/3560015/Millet/January.tiff\n",
      "<osgeo.gdal.Dataset; proxy of <Swig Object of type 'GDALDatasetShadow *' at 0x7fc8c84d6cd0> >\n",
      "TIFF file saved successfully @ ../scratch/Irrigated/District/00/3560015/Millet/January.tiff\n",
      "../scratch/Irrigated/District/00/3560015/Millet/February.tiff\n",
      "<osgeo.gdal.Dataset; proxy of <Swig Object of type 'GDALDatasetShadow *' at 0x7fc8c84d4420> >\n",
      "TIFF file saved successfully @ ../scratch/Irrigated/District/00/3560015/Millet/February.tiff\n",
      "../scratch/Irrigated/District/00/3560015/Millet/March.tiff\n",
      "<osgeo.gdal.Dataset; proxy of <Swig Object of type 'GDALDatasetShadow *' at 0x7fc8c84d6e20> >\n",
      "TIFF file saved successfully @ ../scratch/Irrigated/District/00/3560015/Millet/March.tiff\n",
      "../scratch/Irrigated/District/00/3560015/Millet/April.tiff\n",
      "<osgeo.gdal.Dataset; proxy of <Swig Object of type 'GDALDatasetShadow *' at 0x7fc8c84d7c90> >\n",
      "TIFF file saved successfully @ ../scratch/Irrigated/District/00/3560015/Millet/April.tiff\n",
      "[ 1  2  3  4  5  6  7  8  9 10 11 12]\n",
      "../scratch/Irrigated/District/00/3560015/Oil palm/January.tiff\n",
      "<osgeo.gdal.Dataset; proxy of <Swig Object of type 'GDALDatasetShadow *' at 0x7fc8c9831710> >\n",
      "TIFF file saved successfully @ ../scratch/Irrigated/District/00/3560015/Oil palm/January.tiff\n",
      "../scratch/Irrigated/District/00/3560015/Oil palm/February.tiff\n",
      "<osgeo.gdal.Dataset; proxy of <Swig Object of type 'GDALDatasetShadow *' at 0x7fc8c9832790> >\n",
      "TIFF file saved successfully @ ../scratch/Irrigated/District/00/3560015/Oil palm/February.tiff\n",
      "../scratch/Irrigated/District/00/3560015/Oil palm/March.tiff\n",
      "<osgeo.gdal.Dataset; proxy of <Swig Object of type 'GDALDatasetShadow *' at 0x7fc8c98315f0> >\n",
      "TIFF file saved successfully @ ../scratch/Irrigated/District/00/3560015/Oil palm/March.tiff\n",
      "../scratch/Irrigated/District/00/3560015/Oil palm/April.tiff\n",
      "<osgeo.gdal.Dataset; proxy of <Swig Object of type 'GDALDatasetShadow *' at 0x7fc8c98316b0> >\n",
      "TIFF file saved successfully @ ../scratch/Irrigated/District/00/3560015/Oil palm/April.tiff\n",
      "../scratch/Irrigated/District/00/3560015/Oil palm/May.tiff\n",
      "<osgeo.gdal.Dataset; proxy of <Swig Object of type 'GDALDatasetShadow *' at 0x7fc8c9833090> >\n",
      "TIFF file saved successfully @ ../scratch/Irrigated/District/00/3560015/Oil palm/May.tiff\n",
      "../scratch/Irrigated/District/00/3560015/Oil palm/June.tiff\n",
      "<osgeo.gdal.Dataset; proxy of <Swig Object of type 'GDALDatasetShadow *' at 0x7fc8c98327f0> >\n",
      "TIFF file saved successfully @ ../scratch/Irrigated/District/00/3560015/Oil palm/June.tiff\n",
      "../scratch/Irrigated/District/00/3560015/Oil palm/July.tiff\n",
      "<osgeo.gdal.Dataset; proxy of <Swig Object of type 'GDALDatasetShadow *' at 0x7fc8c9832bb0> >\n",
      "TIFF file saved successfully @ ../scratch/Irrigated/District/00/3560015/Oil palm/July.tiff\n",
      "../scratch/Irrigated/District/00/3560015/Oil palm/August.tiff\n",
      "<osgeo.gdal.Dataset; proxy of <Swig Object of type 'GDALDatasetShadow *' at 0x7fc8c98339f0> >\n",
      "TIFF file saved successfully @ ../scratch/Irrigated/District/00/3560015/Oil palm/August.tiff\n",
      "../scratch/Irrigated/District/00/3560015/Oil palm/September.tiff\n",
      "<osgeo.gdal.Dataset; proxy of <Swig Object of type 'GDALDatasetShadow *' at 0x7fc8c9832a30> >\n",
      "TIFF file saved successfully @ ../scratch/Irrigated/District/00/3560015/Oil palm/September.tiff\n",
      "../scratch/Irrigated/District/00/3560015/Oil palm/October.tiff\n",
      "<osgeo.gdal.Dataset; proxy of <Swig Object of type 'GDALDatasetShadow *' at 0x7fc8c9832910> >\n",
      "TIFF file saved successfully @ ../scratch/Irrigated/District/00/3560015/Oil palm/October.tiff\n",
      "../scratch/Irrigated/District/00/3560015/Oil palm/November.tiff\n",
      "<osgeo.gdal.Dataset; proxy of <Swig Object of type 'GDALDatasetShadow *' at 0x7fc8c98327f0> >\n",
      "TIFF file saved successfully @ ../scratch/Irrigated/District/00/3560015/Oil palm/November.tiff\n",
      "../scratch/Irrigated/District/00/3560015/Oil palm/December.tiff\n",
      "<osgeo.gdal.Dataset; proxy of <Swig Object of type 'GDALDatasetShadow *' at 0x7fc8c9833750> >\n",
      "TIFF file saved successfully @ ../scratch/Irrigated/District/00/3560015/Oil palm/December.tiff\n",
      "[11 12  1  2  3]\n",
      "../scratch/Irrigated/District/00/3560015/Cassava/November.tiff\n",
      "<osgeo.gdal.Dataset; proxy of <Swig Object of type 'GDALDatasetShadow *' at 0x7fc8c9831b60> >\n",
      "TIFF file saved successfully @ ../scratch/Irrigated/District/00/3560015/Cassava/November.tiff\n",
      "../scratch/Irrigated/District/00/3560015/Cassava/December.tiff\n",
      "<osgeo.gdal.Dataset; proxy of <Swig Object of type 'GDALDatasetShadow *' at 0x7fc8c9833720> >\n",
      "TIFF file saved successfully @ ../scratch/Irrigated/District/00/3560015/Cassava/December.tiff\n",
      "../scratch/Irrigated/District/00/3560015/Cassava/January.tiff\n",
      "<osgeo.gdal.Dataset; proxy of <Swig Object of type 'GDALDatasetShadow *' at 0x7fc8c9831a40> >\n",
      "TIFF file saved successfully @ ../scratch/Irrigated/District/00/3560015/Cassava/January.tiff\n",
      "../scratch/Irrigated/District/00/3560015/Cassava/February.tiff\n",
      "<osgeo.gdal.Dataset; proxy of <Swig Object of type 'GDALDatasetShadow *' at 0x7fc8c98326a0> >\n",
      "TIFF file saved successfully @ ../scratch/Irrigated/District/00/3560015/Cassava/February.tiff\n",
      "../scratch/Irrigated/District/00/3560015/Cassava/March.tiff\n",
      "<osgeo.gdal.Dataset; proxy of <Swig Object of type 'GDALDatasetShadow *' at 0x7fc8c98337b0> >\n",
      "TIFF file saved successfully @ ../scratch/Irrigated/District/00/3560015/Cassava/March.tiff\n"
     ]
    },
    {
     "name": "stderr",
     "output_type": "stream",
     "text": [
      "/tmp/ipykernel_55/3896315690.py:62: RuntimeWarning: invalid value encountered in scalar divide\n",
      "  AD_ra2 = np.where(ATS_2<np.sum(Pot_ATS2),(ATS_2/np.sum(Pot_ATS2)), 1)\n",
      "/tmp/ipykernel_55/3896315690.py:62: RuntimeWarning: invalid value encountered in scalar divide\n",
      "  AD_ra2 = np.where(ATS_2<np.sum(Pot_ATS2),(ATS_2/np.sum(Pot_ATS2)), 1)\n"
     ]
    },
    {
     "name": "stdout",
     "output_type": "stream",
     "text": [
      "Iteration completed \n",
      "Area distributed after step 4: 0\n",
      "Iteration completed \n",
      "Area distributed after step 4: 0\n",
      "Iteration completed \n",
      "Area distributed after step 4: 0\n"
     ]
    },
    {
     "name": "stderr",
     "output_type": "stream",
     "text": [
      "/tmp/ipykernel_55/3896315690.py:62: RuntimeWarning: invalid value encountered in scalar divide\n",
      "  AD_ra2 = np.where(ATS_2<np.sum(Pot_ATS2),(ATS_2/np.sum(Pot_ATS2)), 1)\n"
     ]
    },
    {
     "name": "stdout",
     "output_type": "stream",
     "text": [
      "Iteration completed \n",
      "Area distributed after step 4: 0\n",
      "Iteration completed \n",
      "Area distributed after step 4: 0\n",
      "Iteration completed \n",
      "Area distributed after step 4: 0\n"
     ]
    },
    {
     "name": "stderr",
     "output_type": "stream",
     "text": [
      "/tmp/ipykernel_55/3896315690.py:62: RuntimeWarning: invalid value encountered in scalar divide\n",
      "  AD_ra2 = np.where(ATS_2<np.sum(Pot_ATS2),(ATS_2/np.sum(Pot_ATS2)), 1)\n",
      "/tmp/ipykernel_55/3896315690.py:62: RuntimeWarning: invalid value encountered in scalar divide\n",
      "  AD_ra2 = np.where(ATS_2<np.sum(Pot_ATS2),(ATS_2/np.sum(Pot_ATS2)), 1)\n"
     ]
    },
    {
     "name": "stdout",
     "output_type": "stream",
     "text": [
      "Iteration completed \n",
      "Area distributed after step 4: 0\n"
     ]
    },
    {
     "name": "stderr",
     "output_type": "stream",
     "text": [
      "/tmp/ipykernel_55/3896315690.py:62: RuntimeWarning: invalid value encountered in scalar divide\n",
      "  AD_ra2 = np.where(ATS_2<np.sum(Pot_ATS2),(ATS_2/np.sum(Pot_ATS2)), 1)\n"
     ]
    },
    {
     "name": "stdout",
     "output_type": "stream",
     "text": [
      "Iteration completed \n",
      "Area distributed after step 4: 0\n",
      "3560016\n",
      "Iteration completed \n",
      "Area distributed after step 4: 139252\n",
      "Iteration completed \n",
      "Area distributed after step 4: 139252\n",
      "Iteration completed \n",
      "Area distributed after step 4: 14286\n",
      "Iteration completed \n",
      "Area distributed after step 4: 4886\n",
      "Iteration completed \n",
      "Area distributed after step 4: 4738\n",
      "Iteration completed \n",
      "Area distributed after step 4: 3019\n",
      "Iteration completed \n",
      "Area distributed after step 4: 1474\n",
      "Iteration completed \n",
      "Area distributed after step 4: 645\n",
      "Iteration completed \n",
      "Area distributed after step 4: 252\n",
      "Iteration completed \n",
      "Area distributed after step 4: 192\n",
      "Iteration completed \n",
      "Area distributed after step 4: 133\n",
      "Iteration completed \n",
      "Area distributed after step 4: 108\n",
      "Iteration completed \n",
      "Area distributed after step 4: 50\n",
      "Iteration completed \n",
      "Area distributed after step 4: 28\n",
      "Iteration completed \n",
      "Area distributed after step 4: 21\n",
      "[ 1  2  3  4  5  6  7  8  9 10 11 12]\n",
      "../scratch/Irrigated/District/00/3560016/Oil palm/January.tiff\n",
      "<osgeo.gdal.Dataset; proxy of <Swig Object of type 'GDALDatasetShadow *' at 0x7fc8c9831c80> >\n",
      "TIFF file saved successfully @ ../scratch/Irrigated/District/00/3560016/Oil palm/January.tiff\n",
      "../scratch/Irrigated/District/00/3560016/Oil palm/February.tiff\n",
      "<osgeo.gdal.Dataset; proxy of <Swig Object of type 'GDALDatasetShadow *' at 0x7fc8c98335d0> >\n",
      "TIFF file saved successfully @ ../scratch/Irrigated/District/00/3560016/Oil palm/February.tiff\n",
      "../scratch/Irrigated/District/00/3560016/Oil palm/March.tiff\n",
      "<osgeo.gdal.Dataset; proxy of <Swig Object of type 'GDALDatasetShadow *' at 0x7fc8c9833fc0> >\n",
      "TIFF file saved successfully @ ../scratch/Irrigated/District/00/3560016/Oil palm/March.tiff\n",
      "../scratch/Irrigated/District/00/3560016/Oil palm/April.tiff\n",
      "<osgeo.gdal.Dataset; proxy of <Swig Object of type 'GDALDatasetShadow *' at 0x7fc8c9833990> >\n",
      "TIFF file saved successfully @ ../scratch/Irrigated/District/00/3560016/Oil palm/April.tiff\n",
      "../scratch/Irrigated/District/00/3560016/Oil palm/May.tiff\n",
      "<osgeo.gdal.Dataset; proxy of <Swig Object of type 'GDALDatasetShadow *' at 0x7fc8c9831ec0> >\n",
      "TIFF file saved successfully @ ../scratch/Irrigated/District/00/3560016/Oil palm/May.tiff\n",
      "../scratch/Irrigated/District/00/3560016/Oil palm/June.tiff\n",
      "<osgeo.gdal.Dataset; proxy of <Swig Object of type 'GDALDatasetShadow *' at 0x7fc8c9830a80> >\n",
      "TIFF file saved successfully @ ../scratch/Irrigated/District/00/3560016/Oil palm/June.tiff\n",
      "../scratch/Irrigated/District/00/3560016/Oil palm/July.tiff\n",
      "<osgeo.gdal.Dataset; proxy of <Swig Object of type 'GDALDatasetShadow *' at 0x7fc8c9832a90> >\n",
      "TIFF file saved successfully @ ../scratch/Irrigated/District/00/3560016/Oil palm/July.tiff\n",
      "../scratch/Irrigated/District/00/3560016/Oil palm/August.tiff\n",
      "<osgeo.gdal.Dataset; proxy of <Swig Object of type 'GDALDatasetShadow *' at 0x7fc8c98312f0> >\n",
      "TIFF file saved successfully @ ../scratch/Irrigated/District/00/3560016/Oil palm/August.tiff\n",
      "../scratch/Irrigated/District/00/3560016/Oil palm/September.tiff\n",
      "<osgeo.gdal.Dataset; proxy of <Swig Object of type 'GDALDatasetShadow *' at 0x7fc8c9832730> >\n",
      "TIFF file saved successfully @ ../scratch/Irrigated/District/00/3560016/Oil palm/September.tiff\n",
      "../scratch/Irrigated/District/00/3560016/Oil palm/October.tiff\n",
      "<osgeo.gdal.Dataset; proxy of <Swig Object of type 'GDALDatasetShadow *' at 0x7fc8c9833720> >\n",
      "TIFF file saved successfully @ ../scratch/Irrigated/District/00/3560016/Oil palm/October.tiff\n",
      "../scratch/Irrigated/District/00/3560016/Oil palm/November.tiff\n",
      "<osgeo.gdal.Dataset; proxy of <Swig Object of type 'GDALDatasetShadow *' at 0x7fc8c98339f0> >\n",
      "TIFF file saved successfully @ ../scratch/Irrigated/District/00/3560016/Oil palm/November.tiff\n",
      "../scratch/Irrigated/District/00/3560016/Oil palm/December.tiff\n",
      "<osgeo.gdal.Dataset; proxy of <Swig Object of type 'GDALDatasetShadow *' at 0x7fc8c9833c30> >\n",
      "TIFF file saved successfully @ ../scratch/Irrigated/District/00/3560016/Oil palm/December.tiff\n",
      "Iteration completed \n",
      "Area distributed after step 4: 6\n"
     ]
    },
    {
     "name": "stderr",
     "output_type": "stream",
     "text": [
      "/tmp/ipykernel_55/3896315690.py:62: RuntimeWarning: invalid value encountered in scalar divide\n",
      "  AD_ra2 = np.where(ATS_2<np.sum(Pot_ATS2),(ATS_2/np.sum(Pot_ATS2)), 1)\n"
     ]
    },
    {
     "name": "stdout",
     "output_type": "stream",
     "text": [
      "Iteration completed \n",
      "Area distributed after step 4: 0\n",
      "Iteration completed \n",
      "Area distributed after step 4: 0\n",
      "Iteration completed \n",
      "Area distributed after step 4: 0\n",
      "Iteration completed \n",
      "Area distributed after step 4: 0\n",
      "Iteration completed \n",
      "Area distributed after step 4: 0\n",
      "Iteration completed \n",
      "Area distributed after step 4: 0\n",
      "Iteration completed \n",
      "Area distributed after step 4: 0\n",
      "Iteration completed \n",
      "Area distributed after step 4: 0\n",
      "Iteration completed \n",
      "Area distributed after step 4: 0\n",
      "3560017\n"
     ]
    },
    {
     "name": "stderr",
     "output_type": "stream",
     "text": [
      "/tmp/ipykernel_55/3896315690.py:62: RuntimeWarning: invalid value encountered in scalar divide\n",
      "  AD_ra2 = np.where(ATS_2<np.sum(Pot_ATS2),(ATS_2/np.sum(Pot_ATS2)), 1)\n"
     ]
    },
    {
     "name": "stdout",
     "output_type": "stream",
     "text": [
      "Iteration completed \n",
      "Area distributed after step 4: 100247\n"
     ]
    },
    {
     "name": "stderr",
     "output_type": "stream",
     "text": [
      "/tmp/ipykernel_55/3896315690.py:62: RuntimeWarning: invalid value encountered in scalar divide\n",
      "  AD_ra2 = np.where(ATS_2<np.sum(Pot_ATS2),(ATS_2/np.sum(Pot_ATS2)), 1)\n"
     ]
    },
    {
     "name": "stdout",
     "output_type": "stream",
     "text": [
      "Iteration completed \n",
      "Area distributed after step 4: 100247\n"
     ]
    },
    {
     "name": "stderr",
     "output_type": "stream",
     "text": [
      "/tmp/ipykernel_55/3896315690.py:62: RuntimeWarning: invalid value encountered in scalar divide\n",
      "  AD_ra2 = np.where(ATS_2<np.sum(Pot_ATS2),(ATS_2/np.sum(Pot_ATS2)), 1)\n"
     ]
    },
    {
     "name": "stdout",
     "output_type": "stream",
     "text": [
      "Iteration completed \n",
      "Area distributed after step 4: 31464\n"
     ]
    },
    {
     "name": "stderr",
     "output_type": "stream",
     "text": [
      "/tmp/ipykernel_55/3896315690.py:62: RuntimeWarning: invalid value encountered in scalar divide\n",
      "  AD_ra2 = np.where(ATS_2<np.sum(Pot_ATS2),(ATS_2/np.sum(Pot_ATS2)), 1)\n"
     ]
    },
    {
     "name": "stdout",
     "output_type": "stream",
     "text": [
      "Iteration completed \n",
      "Area distributed after step 4: 20147\n"
     ]
    },
    {
     "name": "stderr",
     "output_type": "stream",
     "text": [
      "/tmp/ipykernel_55/3896315690.py:62: RuntimeWarning: invalid value encountered in scalar divide\n",
      "  AD_ra2 = np.where(ATS_2<np.sum(Pot_ATS2),(ATS_2/np.sum(Pot_ATS2)), 1)\n"
     ]
    },
    {
     "name": "stdout",
     "output_type": "stream",
     "text": [
      "Iteration completed \n",
      "Area distributed after step 4: 10263\n"
     ]
    },
    {
     "name": "stderr",
     "output_type": "stream",
     "text": [
      "/tmp/ipykernel_55/3896315690.py:62: RuntimeWarning: invalid value encountered in scalar divide\n",
      "  AD_ra2 = np.where(ATS_2<np.sum(Pot_ATS2),(ATS_2/np.sum(Pot_ATS2)), 1)\n"
     ]
    },
    {
     "name": "stdout",
     "output_type": "stream",
     "text": [
      "Iteration completed \n",
      "Area distributed after step 4: 9350\n"
     ]
    },
    {
     "name": "stderr",
     "output_type": "stream",
     "text": [
      "/tmp/ipykernel_55/3896315690.py:62: RuntimeWarning: invalid value encountered in scalar divide\n",
      "  AD_ra2 = np.where(ATS_2<np.sum(Pot_ATS2),(ATS_2/np.sum(Pot_ATS2)), 1)\n"
     ]
    },
    {
     "name": "stdout",
     "output_type": "stream",
     "text": [
      "Iteration completed \n",
      "Area distributed after step 4: 4895\n"
     ]
    },
    {
     "name": "stderr",
     "output_type": "stream",
     "text": [
      "/tmp/ipykernel_55/3896315690.py:62: RuntimeWarning: invalid value encountered in scalar divide\n",
      "  AD_ra2 = np.where(ATS_2<np.sum(Pot_ATS2),(ATS_2/np.sum(Pot_ATS2)), 1)\n"
     ]
    },
    {
     "name": "stdout",
     "output_type": "stream",
     "text": [
      "Iteration completed \n",
      "Area distributed after step 4: 3425\n"
     ]
    },
    {
     "name": "stderr",
     "output_type": "stream",
     "text": [
      "/tmp/ipykernel_55/3896315690.py:62: RuntimeWarning: invalid value encountered in scalar divide\n",
      "  AD_ra2 = np.where(ATS_2<np.sum(Pot_ATS2),(ATS_2/np.sum(Pot_ATS2)), 1)\n"
     ]
    },
    {
     "name": "stdout",
     "output_type": "stream",
     "text": [
      "Iteration completed \n",
      "Area distributed after step 4: 2431\n"
     ]
    },
    {
     "name": "stderr",
     "output_type": "stream",
     "text": [
      "/tmp/ipykernel_55/3896315690.py:62: RuntimeWarning: invalid value encountered in scalar divide\n",
      "  AD_ra2 = np.where(ATS_2<np.sum(Pot_ATS2),(ATS_2/np.sum(Pot_ATS2)), 1)\n"
     ]
    },
    {
     "name": "stdout",
     "output_type": "stream",
     "text": [
      "Iteration completed \n",
      "Area distributed after step 4: 1122\n"
     ]
    },
    {
     "name": "stderr",
     "output_type": "stream",
     "text": [
      "/tmp/ipykernel_55/3896315690.py:62: RuntimeWarning: invalid value encountered in scalar divide\n",
      "  AD_ra2 = np.where(ATS_2<np.sum(Pot_ATS2),(ATS_2/np.sum(Pot_ATS2)), 1)\n"
     ]
    },
    {
     "name": "stdout",
     "output_type": "stream",
     "text": [
      "Iteration completed \n",
      "Area distributed after step 4: 511\n"
     ]
    },
    {
     "name": "stderr",
     "output_type": "stream",
     "text": [
      "/tmp/ipykernel_55/3896315690.py:62: RuntimeWarning: invalid value encountered in scalar divide\n",
      "  AD_ra2 = np.where(ATS_2<np.sum(Pot_ATS2),(ATS_2/np.sum(Pot_ATS2)), 1)\n"
     ]
    },
    {
     "name": "stdout",
     "output_type": "stream",
     "text": [
      "Iteration completed \n",
      "Area distributed after step 4: 321\n"
     ]
    },
    {
     "name": "stderr",
     "output_type": "stream",
     "text": [
      "/tmp/ipykernel_55/3896315690.py:62: RuntimeWarning: invalid value encountered in scalar divide\n",
      "  AD_ra2 = np.where(ATS_2<np.sum(Pot_ATS2),(ATS_2/np.sum(Pot_ATS2)), 1)\n"
     ]
    },
    {
     "name": "stdout",
     "output_type": "stream",
     "text": [
      "Iteration completed \n",
      "Area distributed after step 4: 84\n"
     ]
    },
    {
     "name": "stderr",
     "output_type": "stream",
     "text": [
      "/tmp/ipykernel_55/3896315690.py:62: RuntimeWarning: invalid value encountered in scalar divide\n",
      "  AD_ra2 = np.where(ATS_2<np.sum(Pot_ATS2),(ATS_2/np.sum(Pot_ATS2)), 1)\n"
     ]
    },
    {
     "name": "stdout",
     "output_type": "stream",
     "text": [
      "Iteration completed \n",
      "Area distributed after step 4: 23\n",
      "Iteration completed \n",
      "Area distributed after step 4: 15\n"
     ]
    },
    {
     "name": "stderr",
     "output_type": "stream",
     "text": [
      "/tmp/ipykernel_55/3896315690.py:62: RuntimeWarning: invalid value encountered in scalar divide\n",
      "  AD_ra2 = np.where(ATS_2<np.sum(Pot_ATS2),(ATS_2/np.sum(Pot_ATS2)), 1)\n"
     ]
    },
    {
     "name": "stdout",
     "output_type": "stream",
     "text": [
      "Iteration completed \n",
      "Area distributed after step 4: 10\n"
     ]
    },
    {
     "name": "stderr",
     "output_type": "stream",
     "text": [
      "/tmp/ipykernel_55/3896315690.py:62: RuntimeWarning: invalid value encountered in scalar divide\n",
      "  AD_ra2 = np.where(ATS_2<np.sum(Pot_ATS2),(ATS_2/np.sum(Pot_ATS2)), 1)\n"
     ]
    },
    {
     "name": "stdout",
     "output_type": "stream",
     "text": [
      "Iteration completed \n",
      "Area distributed after step 4: 8\n"
     ]
    },
    {
     "name": "stderr",
     "output_type": "stream",
     "text": [
      "/tmp/ipykernel_55/3896315690.py:62: RuntimeWarning: invalid value encountered in scalar divide\n",
      "  AD_ra2 = np.where(ATS_2<np.sum(Pot_ATS2),(ATS_2/np.sum(Pot_ATS2)), 1)\n"
     ]
    },
    {
     "name": "stdout",
     "output_type": "stream",
     "text": [
      "Iteration completed \n",
      "Area distributed after step 4: 3\n",
      "Iteration completed \n",
      "Area distributed after step 4: 3\n"
     ]
    },
    {
     "name": "stderr",
     "output_type": "stream",
     "text": [
      "/tmp/ipykernel_55/3896315690.py:62: RuntimeWarning: invalid value encountered in scalar divide\n",
      "  AD_ra2 = np.where(ATS_2<np.sum(Pot_ATS2),(ATS_2/np.sum(Pot_ATS2)), 1)\n",
      "/tmp/ipykernel_55/3896315690.py:62: RuntimeWarning: invalid value encountered in scalar divide\n",
      "  AD_ra2 = np.where(ATS_2<np.sum(Pot_ATS2),(ATS_2/np.sum(Pot_ATS2)), 1)\n"
     ]
    },
    {
     "name": "stdout",
     "output_type": "stream",
     "text": [
      "Iteration completed \n",
      "Area distributed after step 4: 0\n"
     ]
    },
    {
     "name": "stderr",
     "output_type": "stream",
     "text": [
      "/tmp/ipykernel_55/3896315690.py:62: RuntimeWarning: invalid value encountered in scalar divide\n",
      "  AD_ra2 = np.where(ATS_2<np.sum(Pot_ATS2),(ATS_2/np.sum(Pot_ATS2)), 1)\n",
      "/tmp/ipykernel_55/3896315690.py:62: RuntimeWarning: invalid value encountered in scalar divide\n",
      "  AD_ra2 = np.where(ATS_2<np.sum(Pot_ATS2),(ATS_2/np.sum(Pot_ATS2)), 1)\n"
     ]
    },
    {
     "name": "stdout",
     "output_type": "stream",
     "text": [
      "Iteration completed \n",
      "Area distributed after step 4: 0\n"
     ]
    },
    {
     "name": "stderr",
     "output_type": "stream",
     "text": [
      "/tmp/ipykernel_55/3896315690.py:62: RuntimeWarning: invalid value encountered in scalar divide\n",
      "  AD_ra2 = np.where(ATS_2<np.sum(Pot_ATS2),(ATS_2/np.sum(Pot_ATS2)), 1)\n"
     ]
    },
    {
     "name": "stdout",
     "output_type": "stream",
     "text": [
      "Iteration completed \n",
      "Area distributed after step 4: 0\n"
     ]
    },
    {
     "name": "stderr",
     "output_type": "stream",
     "text": [
      "/tmp/ipykernel_55/3896315690.py:62: RuntimeWarning: invalid value encountered in scalar divide\n",
      "  AD_ra2 = np.where(ATS_2<np.sum(Pot_ATS2),(ATS_2/np.sum(Pot_ATS2)), 1)\n"
     ]
    },
    {
     "name": "stdout",
     "output_type": "stream",
     "text": [
      "Iteration completed \n",
      "Area distributed after step 4: 0\n"
     ]
    },
    {
     "name": "stderr",
     "output_type": "stream",
     "text": [
      "/tmp/ipykernel_55/3896315690.py:62: RuntimeWarning: invalid value encountered in scalar divide\n",
      "  AD_ra2 = np.where(ATS_2<np.sum(Pot_ATS2),(ATS_2/np.sum(Pot_ATS2)), 1)\n"
     ]
    },
    {
     "name": "stdout",
     "output_type": "stream",
     "text": [
      "Iteration completed \n",
      "Area distributed after step 4: 0\n"
     ]
    },
    {
     "name": "stderr",
     "output_type": "stream",
     "text": [
      "/tmp/ipykernel_55/3896315690.py:62: RuntimeWarning: invalid value encountered in scalar divide\n",
      "  AD_ra2 = np.where(ATS_2<np.sum(Pot_ATS2),(ATS_2/np.sum(Pot_ATS2)), 1)\n"
     ]
    },
    {
     "name": "stdout",
     "output_type": "stream",
     "text": [
      "Iteration completed \n",
      "Area distributed after step 4: 0\n"
     ]
    },
    {
     "name": "stderr",
     "output_type": "stream",
     "text": [
      "/tmp/ipykernel_55/3896315690.py:62: RuntimeWarning: invalid value encountered in scalar divide\n",
      "  AD_ra2 = np.where(ATS_2<np.sum(Pot_ATS2),(ATS_2/np.sum(Pot_ATS2)), 1)\n"
     ]
    },
    {
     "name": "stdout",
     "output_type": "stream",
     "text": [
      "Iteration completed \n",
      "Area distributed after step 4: 0\n",
      "3560018\n",
      "Iteration completed \n",
      "Area distributed after step 4: 67940\n",
      "Iteration completed \n",
      "Area distributed after step 4: 67940\n",
      "[ 1  2  3  4  5  6  7  8  9 10 11 12]\n",
      "../scratch/Irrigated/District/00/3560018/Others perennial/January.tiff\n",
      "<osgeo.gdal.Dataset; proxy of <Swig Object of type 'GDALDatasetShadow *' at 0x7fc8c8321f80> >\n",
      "TIFF file saved successfully @ ../scratch/Irrigated/District/00/3560018/Others perennial/January.tiff\n",
      "../scratch/Irrigated/District/00/3560018/Others perennial/February.tiff\n",
      "<osgeo.gdal.Dataset; proxy of <Swig Object of type 'GDALDatasetShadow *' at 0x7fc8c8322a90> >\n",
      "TIFF file saved successfully @ ../scratch/Irrigated/District/00/3560018/Others perennial/February.tiff\n",
      "../scratch/Irrigated/District/00/3560018/Others perennial/March.tiff\n",
      "<osgeo.gdal.Dataset; proxy of <Swig Object of type 'GDALDatasetShadow *' at 0x7fc8c8322f70> >\n",
      "TIFF file saved successfully @ ../scratch/Irrigated/District/00/3560018/Others perennial/March.tiff\n",
      "../scratch/Irrigated/District/00/3560018/Others perennial/April.tiff\n",
      "<osgeo.gdal.Dataset; proxy of <Swig Object of type 'GDALDatasetShadow *' at 0x7fc8c8320f90> >\n",
      "TIFF file saved successfully @ ../scratch/Irrigated/District/00/3560018/Others perennial/April.tiff\n",
      "../scratch/Irrigated/District/00/3560018/Others perennial/May.tiff\n",
      "<osgeo.gdal.Dataset; proxy of <Swig Object of type 'GDALDatasetShadow *' at 0x7fc8c8320840> >\n",
      "TIFF file saved successfully @ ../scratch/Irrigated/District/00/3560018/Others perennial/May.tiff\n",
      "../scratch/Irrigated/District/00/3560018/Others perennial/June.tiff\n",
      "<osgeo.gdal.Dataset; proxy of <Swig Object of type 'GDALDatasetShadow *' at 0x7fc8c83202d0> >\n",
      "TIFF file saved successfully @ ../scratch/Irrigated/District/00/3560018/Others perennial/June.tiff\n",
      "../scratch/Irrigated/District/00/3560018/Others perennial/July.tiff\n",
      "<osgeo.gdal.Dataset; proxy of <Swig Object of type 'GDALDatasetShadow *' at 0x7fc8c83234e0> >\n",
      "TIFF file saved successfully @ ../scratch/Irrigated/District/00/3560018/Others perennial/July.tiff\n",
      "../scratch/Irrigated/District/00/3560018/Others perennial/August.tiff\n",
      "<osgeo.gdal.Dataset; proxy of <Swig Object of type 'GDALDatasetShadow *' at 0x7fc8c83233c0> >\n",
      "TIFF file saved successfully @ ../scratch/Irrigated/District/00/3560018/Others perennial/August.tiff\n",
      "../scratch/Irrigated/District/00/3560018/Others perennial/September.tiff\n",
      "<osgeo.gdal.Dataset; proxy of <Swig Object of type 'GDALDatasetShadow *' at 0x7fc8c83203f0> >\n",
      "TIFF file saved successfully @ ../scratch/Irrigated/District/00/3560018/Others perennial/September.tiff\n",
      "../scratch/Irrigated/District/00/3560018/Others perennial/October.tiff\n",
      "<osgeo.gdal.Dataset; proxy of <Swig Object of type 'GDALDatasetShadow *' at 0x7fc8c8321ad0> >\n",
      "TIFF file saved successfully @ ../scratch/Irrigated/District/00/3560018/Others perennial/October.tiff\n",
      "../scratch/Irrigated/District/00/3560018/Others perennial/November.tiff\n",
      "<osgeo.gdal.Dataset; proxy of <Swig Object of type 'GDALDatasetShadow *' at 0x7fc8c8320e70> >\n",
      "TIFF file saved successfully @ ../scratch/Irrigated/District/00/3560018/Others perennial/November.tiff\n",
      "../scratch/Irrigated/District/00/3560018/Others perennial/December.tiff\n",
      "<osgeo.gdal.Dataset; proxy of <Swig Object of type 'GDALDatasetShadow *' at 0x7fc8c8320cf0> >\n",
      "TIFF file saved successfully @ ../scratch/Irrigated/District/00/3560018/Others perennial/December.tiff\n",
      "[ 7  8  9 10 11 12  1]\n",
      "../scratch/Irrigated/District/00/3560018/Cotton/July.tiff\n",
      "<osgeo.gdal.Dataset; proxy of <Swig Object of type 'GDALDatasetShadow *' at 0x7fc8c81ad8f0> >\n",
      "TIFF file saved successfully @ ../scratch/Irrigated/District/00/3560018/Cotton/July.tiff\n",
      "../scratch/Irrigated/District/00/3560018/Cotton/August.tiff\n",
      "<osgeo.gdal.Dataset; proxy of <Swig Object of type 'GDALDatasetShadow *' at 0x7fc8c81ad920> >\n",
      "TIFF file saved successfully @ ../scratch/Irrigated/District/00/3560018/Cotton/August.tiff\n",
      "../scratch/Irrigated/District/00/3560018/Cotton/September.tiff\n",
      "<osgeo.gdal.Dataset; proxy of <Swig Object of type 'GDALDatasetShadow *' at 0x7fc8c81ac6c0> >\n",
      "TIFF file saved successfully @ ../scratch/Irrigated/District/00/3560018/Cotton/September.tiff\n",
      "../scratch/Irrigated/District/00/3560018/Cotton/October.tiff\n",
      "<osgeo.gdal.Dataset; proxy of <Swig Object of type 'GDALDatasetShadow *' at 0x7fc8c81aca80> >\n",
      "TIFF file saved successfully @ ../scratch/Irrigated/District/00/3560018/Cotton/October.tiff\n",
      "../scratch/Irrigated/District/00/3560018/Cotton/November.tiff\n",
      "<osgeo.gdal.Dataset; proxy of <Swig Object of type 'GDALDatasetShadow *' at 0x7fc8c81ac900> >\n",
      "TIFF file saved successfully @ ../scratch/Irrigated/District/00/3560018/Cotton/November.tiff\n",
      "../scratch/Irrigated/District/00/3560018/Cotton/December.tiff\n",
      "<osgeo.gdal.Dataset; proxy of <Swig Object of type 'GDALDatasetShadow *' at 0x7fc8c81ac510> >\n",
      "TIFF file saved successfully @ ../scratch/Irrigated/District/00/3560018/Cotton/December.tiff\n",
      "../scratch/Irrigated/District/00/3560018/Cotton/January.tiff\n",
      "<osgeo.gdal.Dataset; proxy of <Swig Object of type 'GDALDatasetShadow *' at 0x7fc8c81ac960> >\n",
      "TIFF file saved successfully @ ../scratch/Irrigated/District/00/3560018/Cotton/January.tiff\n",
      "[6 7 8 9]\n",
      "../scratch/Irrigated/District/00/3560018/Millet/June.tiff\n",
      "<osgeo.gdal.Dataset; proxy of <Swig Object of type 'GDALDatasetShadow *' at 0x7fc8c84d4120> >\n",
      "TIFF file saved successfully @ ../scratch/Irrigated/District/00/3560018/Millet/June.tiff\n",
      "../scratch/Irrigated/District/00/3560018/Millet/July.tiff\n",
      "<osgeo.gdal.Dataset; proxy of <Swig Object of type 'GDALDatasetShadow *' at 0x7fc8c84d5ce0> >\n",
      "TIFF file saved successfully @ ../scratch/Irrigated/District/00/3560018/Millet/July.tiff\n",
      "../scratch/Irrigated/District/00/3560018/Millet/August.tiff\n",
      "<osgeo.gdal.Dataset; proxy of <Swig Object of type 'GDALDatasetShadow *' at 0x7fc8c84d6700> >\n",
      "TIFF file saved successfully @ ../scratch/Irrigated/District/00/3560018/Millet/August.tiff\n",
      "../scratch/Irrigated/District/00/3560018/Millet/September.tiff\n",
      "<osgeo.gdal.Dataset; proxy of <Swig Object of type 'GDALDatasetShadow *' at 0x7fc8c84d5200> >\n",
      "TIFF file saved successfully @ ../scratch/Irrigated/District/00/3560018/Millet/September.tiff\n",
      "Iteration completed \n",
      "Area distributed after step 4: 5060\n",
      "[ 7  8  9 10 11]\n",
      "../scratch/Irrigated/District/00/3560018/Sunflower/July.tiff\n",
      "<osgeo.gdal.Dataset; proxy of <Swig Object of type 'GDALDatasetShadow *' at 0x7fc8c83b0a50> >\n",
      "TIFF file saved successfully @ ../scratch/Irrigated/District/00/3560018/Sunflower/July.tiff\n",
      "../scratch/Irrigated/District/00/3560018/Sunflower/August.tiff\n",
      "<osgeo.gdal.Dataset; proxy of <Swig Object of type 'GDALDatasetShadow *' at 0x7fc8c83b10b0> >\n",
      "TIFF file saved successfully @ ../scratch/Irrigated/District/00/3560018/Sunflower/August.tiff\n",
      "../scratch/Irrigated/District/00/3560018/Sunflower/September.tiff\n",
      "<osgeo.gdal.Dataset; proxy of <Swig Object of type 'GDALDatasetShadow *' at 0x7fc8c83b3780> >\n",
      "TIFF file saved successfully @ ../scratch/Irrigated/District/00/3560018/Sunflower/September.tiff\n",
      "../scratch/Irrigated/District/00/3560018/Sunflower/October.tiff\n",
      "<osgeo.gdal.Dataset; proxy of <Swig Object of type 'GDALDatasetShadow *' at 0x7fc8c83b0810> >\n",
      "TIFF file saved successfully @ ../scratch/Irrigated/District/00/3560018/Sunflower/October.tiff\n",
      "../scratch/Irrigated/District/00/3560018/Sunflower/November.tiff\n",
      "<osgeo.gdal.Dataset; proxy of <Swig Object of type 'GDALDatasetShadow *' at 0x7fc8c83b1ef0> >\n",
      "TIFF file saved successfully @ ../scratch/Irrigated/District/00/3560018/Sunflower/November.tiff\n",
      "Iteration completed \n",
      "Area distributed after step 4: 3622\n",
      "Iteration completed \n",
      "Area distributed after step 4: 2585\n",
      "Iteration completed \n",
      "Area distributed after step 4: 130\n",
      "Iteration completed \n",
      "Area distributed after step 4: 83\n",
      "Iteration completed \n",
      "Area distributed after step 4: 75\n",
      "Iteration completed \n",
      "Area distributed after step 4: 74\n",
      "[12  1  2  3  4]\n",
      "../scratch/Irrigated/District/00/3560018/Wheat1/December.tiff\n",
      "<osgeo.gdal.Dataset; proxy of <Swig Object of type 'GDALDatasetShadow *' at 0x7fc8c833daa0> >\n",
      "TIFF file saved successfully @ ../scratch/Irrigated/District/00/3560018/Wheat1/December.tiff\n",
      "../scratch/Irrigated/District/00/3560018/Wheat1/January.tiff\n",
      "<osgeo.gdal.Dataset; proxy of <Swig Object of type 'GDALDatasetShadow *' at 0x7fc8c833dbf0> >\n",
      "TIFF file saved successfully @ ../scratch/Irrigated/District/00/3560018/Wheat1/January.tiff\n",
      "../scratch/Irrigated/District/00/3560018/Wheat1/February.tiff\n",
      "<osgeo.gdal.Dataset; proxy of <Swig Object of type 'GDALDatasetShadow *' at 0x7fc8c833c3c0> >\n",
      "TIFF file saved successfully @ ../scratch/Irrigated/District/00/3560018/Wheat1/February.tiff\n",
      "../scratch/Irrigated/District/00/3560018/Wheat1/March.tiff\n",
      "<osgeo.gdal.Dataset; proxy of <Swig Object of type 'GDALDatasetShadow *' at 0x7fc8c833d8c0> >\n",
      "TIFF file saved successfully @ ../scratch/Irrigated/District/00/3560018/Wheat1/March.tiff\n",
      "../scratch/Irrigated/District/00/3560018/Wheat1/April.tiff\n",
      "<osgeo.gdal.Dataset; proxy of <Swig Object of type 'GDALDatasetShadow *' at 0x7fc8c833d0b0> >\n",
      "TIFF file saved successfully @ ../scratch/Irrigated/District/00/3560018/Wheat1/April.tiff\n",
      "Iteration completed \n",
      "Area distributed after step 4: 39\n",
      "Iteration completed \n",
      "Area distributed after step 4: 36\n",
      "[ 1  2  3  4  5  6  7  8  9 10 11 12]\n",
      "../scratch/Irrigated/District/00/3560018/Oil palm/January.tiff\n",
      "<osgeo.gdal.Dataset; proxy of <Swig Object of type 'GDALDatasetShadow *' at 0x7fc8c83a5ec0> >\n",
      "TIFF file saved successfully @ ../scratch/Irrigated/District/00/3560018/Oil palm/January.tiff\n",
      "../scratch/Irrigated/District/00/3560018/Oil palm/February.tiff\n",
      "<osgeo.gdal.Dataset; proxy of <Swig Object of type 'GDALDatasetShadow *' at 0x7fc8c83a4ab0> >\n",
      "TIFF file saved successfully @ ../scratch/Irrigated/District/00/3560018/Oil palm/February.tiff\n",
      "../scratch/Irrigated/District/00/3560018/Oil palm/March.tiff\n",
      "<osgeo.gdal.Dataset; proxy of <Swig Object of type 'GDALDatasetShadow *' at 0x7fc8c83a4750> >\n",
      "TIFF file saved successfully @ ../scratch/Irrigated/District/00/3560018/Oil palm/March.tiff\n",
      "../scratch/Irrigated/District/00/3560018/Oil palm/April.tiff\n",
      "<osgeo.gdal.Dataset; proxy of <Swig Object of type 'GDALDatasetShadow *' at 0x7fc8c83a5920> >\n",
      "TIFF file saved successfully @ ../scratch/Irrigated/District/00/3560018/Oil palm/April.tiff\n",
      "../scratch/Irrigated/District/00/3560018/Oil palm/May.tiff\n",
      "<osgeo.gdal.Dataset; proxy of <Swig Object of type 'GDALDatasetShadow *' at 0x7fc8c83a61f0> >\n",
      "TIFF file saved successfully @ ../scratch/Irrigated/District/00/3560018/Oil palm/May.tiff\n",
      "../scratch/Irrigated/District/00/3560018/Oil palm/June.tiff\n",
      "<osgeo.gdal.Dataset; proxy of <Swig Object of type 'GDALDatasetShadow *' at 0x7fc8c83a5530> >\n",
      "TIFF file saved successfully @ ../scratch/Irrigated/District/00/3560018/Oil palm/June.tiff\n",
      "../scratch/Irrigated/District/00/3560018/Oil palm/July.tiff\n",
      "<osgeo.gdal.Dataset; proxy of <Swig Object of type 'GDALDatasetShadow *' at 0x7fc8c83a5a40> >\n",
      "TIFF file saved successfully @ ../scratch/Irrigated/District/00/3560018/Oil palm/July.tiff\n",
      "../scratch/Irrigated/District/00/3560018/Oil palm/August.tiff\n",
      "<osgeo.gdal.Dataset; proxy of <Swig Object of type 'GDALDatasetShadow *' at 0x7fc8c83a4c30> >\n",
      "TIFF file saved successfully @ ../scratch/Irrigated/District/00/3560018/Oil palm/August.tiff\n",
      "../scratch/Irrigated/District/00/3560018/Oil palm/September.tiff\n",
      "<osgeo.gdal.Dataset; proxy of <Swig Object of type 'GDALDatasetShadow *' at 0x7fc8c83a5f80> >\n",
      "TIFF file saved successfully @ ../scratch/Irrigated/District/00/3560018/Oil palm/September.tiff\n",
      "../scratch/Irrigated/District/00/3560018/Oil palm/October.tiff\n",
      "<osgeo.gdal.Dataset; proxy of <Swig Object of type 'GDALDatasetShadow *' at 0x7fc8c83a5ce0> >\n",
      "TIFF file saved successfully @ ../scratch/Irrigated/District/00/3560018/Oil palm/October.tiff\n",
      "../scratch/Irrigated/District/00/3560018/Oil palm/November.tiff\n",
      "<osgeo.gdal.Dataset; proxy of <Swig Object of type 'GDALDatasetShadow *' at 0x7fc8c83a5cb0> >\n",
      "TIFF file saved successfully @ ../scratch/Irrigated/District/00/3560018/Oil palm/November.tiff\n",
      "../scratch/Irrigated/District/00/3560018/Oil palm/December.tiff\n",
      "<osgeo.gdal.Dataset; proxy of <Swig Object of type 'GDALDatasetShadow *' at 0x7fc8c83a54a0> >\n",
      "TIFF file saved successfully @ ../scratch/Irrigated/District/00/3560018/Oil palm/December.tiff\n",
      "[11 12  1  2  3]\n",
      "../scratch/Irrigated/District/00/3560018/Rapeseed/November.tiff\n",
      "<osgeo.gdal.Dataset; proxy of <Swig Object of type 'GDALDatasetShadow *' at 0x7fc8c9832ca0> >\n",
      "TIFF file saved successfully @ ../scratch/Irrigated/District/00/3560018/Rapeseed/November.tiff\n",
      "../scratch/Irrigated/District/00/3560018/Rapeseed/December.tiff\n",
      "<osgeo.gdal.Dataset; proxy of <Swig Object of type 'GDALDatasetShadow *' at 0x7fc8c98335a0> >\n",
      "TIFF file saved successfully @ ../scratch/Irrigated/District/00/3560018/Rapeseed/December.tiff\n",
      "../scratch/Irrigated/District/00/3560018/Rapeseed/January.tiff\n",
      "<osgeo.gdal.Dataset; proxy of <Swig Object of type 'GDALDatasetShadow *' at 0x7fc8c9832250> >\n",
      "TIFF file saved successfully @ ../scratch/Irrigated/District/00/3560018/Rapeseed/January.tiff\n",
      "../scratch/Irrigated/District/00/3560018/Rapeseed/February.tiff\n",
      "<osgeo.gdal.Dataset; proxy of <Swig Object of type 'GDALDatasetShadow *' at 0x7fc8c9832eb0> >\n",
      "TIFF file saved successfully @ ../scratch/Irrigated/District/00/3560018/Rapeseed/February.tiff\n",
      "../scratch/Irrigated/District/00/3560018/Rapeseed/March.tiff\n",
      "<osgeo.gdal.Dataset; proxy of <Swig Object of type 'GDALDatasetShadow *' at 0x7fc8c98321f0> >\n",
      "TIFF file saved successfully @ ../scratch/Irrigated/District/00/3560018/Rapeseed/March.tiff\n",
      "Iteration completed \n",
      "Area distributed after step 4: 0\n",
      "Iteration completed \n",
      "Area distributed after step 4: 0\n"
     ]
    },
    {
     "name": "stderr",
     "output_type": "stream",
     "text": [
      "/tmp/ipykernel_55/3896315690.py:62: RuntimeWarning: invalid value encountered in scalar divide\n",
      "  AD_ra2 = np.where(ATS_2<np.sum(Pot_ATS2),(ATS_2/np.sum(Pot_ATS2)), 1)\n",
      "/tmp/ipykernel_55/3896315690.py:62: RuntimeWarning: invalid value encountered in scalar divide\n",
      "  AD_ra2 = np.where(ATS_2<np.sum(Pot_ATS2),(ATS_2/np.sum(Pot_ATS2)), 1)\n"
     ]
    },
    {
     "name": "stdout",
     "output_type": "stream",
     "text": [
      "Iteration completed \n",
      "Area distributed after step 4: 0\n",
      "Iteration completed \n",
      "Area distributed after step 4: 0\n",
      "Iteration completed \n",
      "Area distributed after step 4: 0\n",
      "Iteration completed \n",
      "Area distributed after step 4: 0\n",
      "Iteration completed \n",
      "Area distributed after step 4: 0\n",
      "Iteration completed \n",
      "Area distributed after step 4: 0\n",
      "3560019\n",
      "Error Check Your Code! (full area not assigned)\n",
      "Area distributed after step 4: 0\n",
      "Error Check Your Code! (full area not assigned)\n",
      "Area distributed after step 4: 0\n",
      "Error Check Your Code! (full area not assigned)\n",
      "Area distributed after step 4: 0\n",
      "Error Check Your Code! (full area not assigned)\n",
      "Area distributed after step 4: 0\n",
      "Error Check Your Code! (full area not assigned)\n",
      "Area distributed after step 4: 0\n",
      "Error Check Your Code! (full area not assigned)\n",
      "Area distributed after step 4: 0\n",
      "Error Check Your Code! (full area not assigned)\n",
      "Area distributed after step 4: 0\n",
      "Error Check Your Code! (full area not assigned)\n",
      "Area distributed after step 4: 0\n",
      "Error Check Your Code! (full area not assigned)\n",
      "Area distributed after step 4: 0\n",
      "Error Check Your Code! (full area not assigned)\n",
      "Area distributed after step 4: 0\n",
      "Error Check Your Code! (full area not assigned)\n",
      "Area distributed after step 4: 0\n",
      "Error Check Your Code! (full area not assigned)\n",
      "Area distributed after step 4: 0\n",
      "Error Check Your Code! (full area not assigned)\n",
      "Area distributed after step 4: 0\n",
      "Error Check Your Code! (full area not assigned)\n",
      "Area distributed after step 4: 0\n",
      "Error Check Your Code! (full area not assigned)\n",
      "Area distributed after step 4: 0\n",
      "Error Check Your Code! (full area not assigned)\n",
      "Area distributed after step 4: 0\n",
      "Error Check Your Code! (full area not assigned)\n",
      "Area distributed after step 4: 0\n",
      "Error Check Your Code! (full area not assigned)\n",
      "Area distributed after step 4: 0\n",
      "Iteration completed \n",
      "Area distributed after step 4: 0\n",
      "Iteration completed \n",
      "Area distributed after step 4: 0\n",
      "Iteration completed \n",
      "Area distributed after step 4: 0\n"
     ]
    },
    {
     "name": "stderr",
     "output_type": "stream",
     "text": [
      "/tmp/ipykernel_55/3896315690.py:62: RuntimeWarning: invalid value encountered in scalar divide\n",
      "  AD_ra2 = np.where(ATS_2<np.sum(Pot_ATS2),(ATS_2/np.sum(Pot_ATS2)), 1)\n",
      "/tmp/ipykernel_55/3896315690.py:62: RuntimeWarning: invalid value encountered in scalar divide\n",
      "  AD_ra2 = np.where(ATS_2<np.sum(Pot_ATS2),(ATS_2/np.sum(Pot_ATS2)), 1)\n",
      "/tmp/ipykernel_55/3896315690.py:62: RuntimeWarning: invalid value encountered in scalar divide\n",
      "  AD_ra2 = np.where(ATS_2<np.sum(Pot_ATS2),(ATS_2/np.sum(Pot_ATS2)), 1)\n",
      "/tmp/ipykernel_55/3896315690.py:62: RuntimeWarning: invalid value encountered in scalar divide\n",
      "  AD_ra2 = np.where(ATS_2<np.sum(Pot_ATS2),(ATS_2/np.sum(Pot_ATS2)), 1)\n",
      "/tmp/ipykernel_55/3896315690.py:62: RuntimeWarning: invalid value encountered in scalar divide\n",
      "  AD_ra2 = np.where(ATS_2<np.sum(Pot_ATS2),(ATS_2/np.sum(Pot_ATS2)), 1)\n",
      "/tmp/ipykernel_55/3896315690.py:62: RuntimeWarning: invalid value encountered in scalar divide\n",
      "  AD_ra2 = np.where(ATS_2<np.sum(Pot_ATS2),(ATS_2/np.sum(Pot_ATS2)), 1)\n",
      "/tmp/ipykernel_55/3896315690.py:62: RuntimeWarning: invalid value encountered in scalar divide\n",
      "  AD_ra2 = np.where(ATS_2<np.sum(Pot_ATS2),(ATS_2/np.sum(Pot_ATS2)), 1)\n",
      "/tmp/ipykernel_55/3896315690.py:62: RuntimeWarning: invalid value encountered in scalar divide\n",
      "  AD_ra2 = np.where(ATS_2<np.sum(Pot_ATS2),(ATS_2/np.sum(Pot_ATS2)), 1)\n",
      "/tmp/ipykernel_55/3896315690.py:62: RuntimeWarning: invalid value encountered in scalar divide\n",
      "  AD_ra2 = np.where(ATS_2<np.sum(Pot_ATS2),(ATS_2/np.sum(Pot_ATS2)), 1)\n",
      "/tmp/ipykernel_55/3896315690.py:62: RuntimeWarning: invalid value encountered in scalar divide\n",
      "  AD_ra2 = np.where(ATS_2<np.sum(Pot_ATS2),(ATS_2/np.sum(Pot_ATS2)), 1)\n",
      "/tmp/ipykernel_55/3896315690.py:62: RuntimeWarning: invalid value encountered in scalar divide\n",
      "  AD_ra2 = np.where(ATS_2<np.sum(Pot_ATS2),(ATS_2/np.sum(Pot_ATS2)), 1)\n",
      "/tmp/ipykernel_55/3896315690.py:62: RuntimeWarning: invalid value encountered in scalar divide\n",
      "  AD_ra2 = np.where(ATS_2<np.sum(Pot_ATS2),(ATS_2/np.sum(Pot_ATS2)), 1)\n"
     ]
    },
    {
     "name": "stdout",
     "output_type": "stream",
     "text": [
      "Iteration completed \n",
      "Area distributed after step 4: 0\n",
      "Iteration completed \n",
      "Area distributed after step 4: 0\n",
      "Iteration completed \n",
      "Area distributed after step 4: 0\n",
      "Iteration completed \n",
      "Area distributed after step 4: 0\n"
     ]
    },
    {
     "name": "stderr",
     "output_type": "stream",
     "text": [
      "/tmp/ipykernel_55/3896315690.py:62: RuntimeWarning: invalid value encountered in scalar divide\n",
      "  AD_ra2 = np.where(ATS_2<np.sum(Pot_ATS2),(ATS_2/np.sum(Pot_ATS2)), 1)\n",
      "/tmp/ipykernel_55/3896315690.py:62: RuntimeWarning: invalid value encountered in scalar divide\n",
      "  AD_ra2 = np.where(ATS_2<np.sum(Pot_ATS2),(ATS_2/np.sum(Pot_ATS2)), 1)\n",
      "/tmp/ipykernel_55/3896315690.py:62: RuntimeWarning: invalid value encountered in scalar divide\n",
      "  AD_ra2 = np.where(ATS_2<np.sum(Pot_ATS2),(ATS_2/np.sum(Pot_ATS2)), 1)\n",
      "/tmp/ipykernel_55/3896315690.py:62: RuntimeWarning: invalid value encountered in scalar divide\n",
      "  AD_ra2 = np.where(ATS_2<np.sum(Pot_ATS2),(ATS_2/np.sum(Pot_ATS2)), 1)\n",
      "/tmp/ipykernel_55/3896315690.py:62: RuntimeWarning: invalid value encountered in scalar divide\n",
      "  AD_ra2 = np.where(ATS_2<np.sum(Pot_ATS2),(ATS_2/np.sum(Pot_ATS2)), 1)\n",
      "/tmp/ipykernel_55/3896315690.py:62: RuntimeWarning: invalid value encountered in scalar divide\n",
      "  AD_ra2 = np.where(ATS_2<np.sum(Pot_ATS2),(ATS_2/np.sum(Pot_ATS2)), 1)\n",
      "/tmp/ipykernel_55/3896315690.py:62: RuntimeWarning: invalid value encountered in scalar divide\n",
      "  AD_ra2 = np.where(ATS_2<np.sum(Pot_ATS2),(ATS_2/np.sum(Pot_ATS2)), 1)\n",
      "/tmp/ipykernel_55/3896315690.py:62: RuntimeWarning: invalid value encountered in scalar divide\n",
      "  AD_ra2 = np.where(ATS_2<np.sum(Pot_ATS2),(ATS_2/np.sum(Pot_ATS2)), 1)\n",
      "/tmp/ipykernel_55/3896315690.py:62: RuntimeWarning: invalid value encountered in scalar divide\n",
      "  AD_ra2 = np.where(ATS_2<np.sum(Pot_ATS2),(ATS_2/np.sum(Pot_ATS2)), 1)\n",
      "/tmp/ipykernel_55/3896315690.py:62: RuntimeWarning: invalid value encountered in scalar divide\n",
      "  AD_ra2 = np.where(ATS_2<np.sum(Pot_ATS2),(ATS_2/np.sum(Pot_ATS2)), 1)\n",
      "/tmp/ipykernel_55/3896315690.py:62: RuntimeWarning: invalid value encountered in scalar divide\n",
      "  AD_ra2 = np.where(ATS_2<np.sum(Pot_ATS2),(ATS_2/np.sum(Pot_ATS2)), 1)\n",
      "/tmp/ipykernel_55/3896315690.py:62: RuntimeWarning: invalid value encountered in scalar divide\n",
      "  AD_ra2 = np.where(ATS_2<np.sum(Pot_ATS2),(ATS_2/np.sum(Pot_ATS2)), 1)\n"
     ]
    },
    {
     "name": "stdout",
     "output_type": "stream",
     "text": [
      "Iteration completed \n",
      "Area distributed after step 4: 0\n",
      "3560020\n",
      "Iteration completed \n",
      "Area distributed after step 4: 105371\n",
      "Iteration completed \n",
      "Area distributed after step 4: 105371\n",
      "Iteration completed \n",
      "Area distributed after step 4: 37691\n",
      "Iteration completed \n",
      "Area distributed after step 4: 6553\n",
      "Iteration completed \n",
      "Area distributed after step 4: 6432\n",
      "Iteration completed \n",
      "Area distributed after step 4: 4757\n",
      "Iteration completed \n",
      "Area distributed after step 4: 3859\n",
      "Iteration completed \n",
      "Area distributed after step 4: 1514\n",
      "Iteration completed \n",
      "Area distributed after step 4: 1105\n",
      "[ 1  2  3  4  5  6  7  8  9 10 11 12]\n",
      "../scratch/Irrigated/District/00/3560020/Oil palm/January.tiff\n",
      "<osgeo.gdal.Dataset; proxy of <Swig Object of type 'GDALDatasetShadow *' at 0x7fc8c83b0f60> >\n",
      "TIFF file saved successfully @ ../scratch/Irrigated/District/00/3560020/Oil palm/January.tiff\n",
      "../scratch/Irrigated/District/00/3560020/Oil palm/February.tiff\n",
      "<osgeo.gdal.Dataset; proxy of <Swig Object of type 'GDALDatasetShadow *' at 0x7fc8c83b39c0> >\n",
      "TIFF file saved successfully @ ../scratch/Irrigated/District/00/3560020/Oil palm/February.tiff\n",
      "../scratch/Irrigated/District/00/3560020/Oil palm/March.tiff\n",
      "<osgeo.gdal.Dataset; proxy of <Swig Object of type 'GDALDatasetShadow *' at 0x7fc8c83b1b30> >\n",
      "TIFF file saved successfully @ ../scratch/Irrigated/District/00/3560020/Oil palm/March.tiff\n",
      "../scratch/Irrigated/District/00/3560020/Oil palm/April.tiff\n",
      "<osgeo.gdal.Dataset; proxy of <Swig Object of type 'GDALDatasetShadow *' at 0x7fc8c83b0db0> >\n",
      "TIFF file saved successfully @ ../scratch/Irrigated/District/00/3560020/Oil palm/April.tiff\n",
      "../scratch/Irrigated/District/00/3560020/Oil palm/May.tiff\n",
      "<osgeo.gdal.Dataset; proxy of <Swig Object of type 'GDALDatasetShadow *' at 0x7fc8c83b0a20> >\n",
      "TIFF file saved successfully @ ../scratch/Irrigated/District/00/3560020/Oil palm/May.tiff\n",
      "../scratch/Irrigated/District/00/3560020/Oil palm/June.tiff\n",
      "<osgeo.gdal.Dataset; proxy of <Swig Object of type 'GDALDatasetShadow *' at 0x7fc8c83b0b70> >\n",
      "TIFF file saved successfully @ ../scratch/Irrigated/District/00/3560020/Oil palm/June.tiff\n",
      "../scratch/Irrigated/District/00/3560020/Oil palm/July.tiff\n",
      "<osgeo.gdal.Dataset; proxy of <Swig Object of type 'GDALDatasetShadow *' at 0x7fc8c83b1830> >\n",
      "TIFF file saved successfully @ ../scratch/Irrigated/District/00/3560020/Oil palm/July.tiff\n",
      "../scratch/Irrigated/District/00/3560020/Oil palm/August.tiff\n",
      "<osgeo.gdal.Dataset; proxy of <Swig Object of type 'GDALDatasetShadow *' at 0x7fc8c83b0c60> >\n",
      "TIFF file saved successfully @ ../scratch/Irrigated/District/00/3560020/Oil palm/August.tiff\n",
      "../scratch/Irrigated/District/00/3560020/Oil palm/September.tiff\n",
      "<osgeo.gdal.Dataset; proxy of <Swig Object of type 'GDALDatasetShadow *' at 0x7fc8c83b2ac0> >\n",
      "TIFF file saved successfully @ ../scratch/Irrigated/District/00/3560020/Oil palm/September.tiff\n",
      "../scratch/Irrigated/District/00/3560020/Oil palm/October.tiff\n",
      "<osgeo.gdal.Dataset; proxy of <Swig Object of type 'GDALDatasetShadow *' at 0x7fc8c83b2be0> >\n",
      "TIFF file saved successfully @ ../scratch/Irrigated/District/00/3560020/Oil palm/October.tiff\n",
      "../scratch/Irrigated/District/00/3560020/Oil palm/November.tiff\n",
      "<osgeo.gdal.Dataset; proxy of <Swig Object of type 'GDALDatasetShadow *' at 0x7fc8c83b2370> >\n",
      "TIFF file saved successfully @ ../scratch/Irrigated/District/00/3560020/Oil palm/November.tiff\n",
      "../scratch/Irrigated/District/00/3560020/Oil palm/December.tiff\n",
      "<osgeo.gdal.Dataset; proxy of <Swig Object of type 'GDALDatasetShadow *' at 0x7fc8c83b19e0> >\n",
      "TIFF file saved successfully @ ../scratch/Irrigated/District/00/3560020/Oil palm/December.tiff\n",
      "Iteration completed \n",
      "Area distributed after step 4: 694\n",
      "Iteration completed \n",
      "Area distributed after step 4: 449\n",
      "Iteration completed \n",
      "Area distributed after step 4: 207\n",
      "Iteration completed \n",
      "Area distributed after step 4: 44\n",
      "Iteration completed \n",
      "Area distributed after step 4: 36\n",
      "Iteration completed \n",
      "Area distributed after step 4: 3\n"
     ]
    },
    {
     "name": "stderr",
     "output_type": "stream",
     "text": [
      "/tmp/ipykernel_55/3896315690.py:62: RuntimeWarning: invalid value encountered in scalar divide\n",
      "  AD_ra2 = np.where(ATS_2<np.sum(Pot_ATS2),(ATS_2/np.sum(Pot_ATS2)), 1)\n"
     ]
    },
    {
     "name": "stdout",
     "output_type": "stream",
     "text": [
      "Iteration completed \n",
      "Area distributed after step 4: 0\n",
      "Iteration completed \n",
      "Area distributed after step 4: 0\n",
      "Iteration completed \n",
      "Area distributed after step 4: 0\n",
      "Iteration completed \n",
      "Area distributed after step 4: 0\n",
      "Iteration completed \n",
      "Area distributed after step 4: 0\n",
      "Iteration completed \n",
      "Area distributed after step 4: 0\n",
      "Iteration completed \n",
      "Area distributed after step 4: 0\n"
     ]
    },
    {
     "name": "stderr",
     "output_type": "stream",
     "text": [
      "/tmp/ipykernel_55/3896315690.py:62: RuntimeWarning: invalid value encountered in scalar divide\n",
      "  AD_ra2 = np.where(ATS_2<np.sum(Pot_ATS2),(ATS_2/np.sum(Pot_ATS2)), 1)\n"
     ]
    },
    {
     "name": "stdout",
     "output_type": "stream",
     "text": [
      "Iteration completed \n",
      "Area distributed after step 4: 0\n"
     ]
    },
    {
     "name": "stderr",
     "output_type": "stream",
     "text": [
      "/tmp/ipykernel_55/3896315690.py:62: RuntimeWarning: invalid value encountered in scalar divide\n",
      "  AD_ra2 = np.where(ATS_2<np.sum(Pot_ATS2),(ATS_2/np.sum(Pot_ATS2)), 1)\n"
     ]
    },
    {
     "name": "stdout",
     "output_type": "stream",
     "text": [
      "Iteration completed \n",
      "Area distributed after step 4: 0\n",
      "Iteration completed \n",
      "Area distributed after step 4: 0\n",
      "3560021\n"
     ]
    },
    {
     "name": "stderr",
     "output_type": "stream",
     "text": [
      "/tmp/ipykernel_55/3896315690.py:62: RuntimeWarning: invalid value encountered in scalar divide\n",
      "  AD_ra2 = np.where(ATS_2<np.sum(Pot_ATS2),(ATS_2/np.sum(Pot_ATS2)), 1)\n"
     ]
    },
    {
     "name": "stdout",
     "output_type": "stream",
     "text": [
      "Iteration completed \n",
      "Area distributed after step 4: 106524\n"
     ]
    },
    {
     "name": "stderr",
     "output_type": "stream",
     "text": [
      "/tmp/ipykernel_55/3896315690.py:62: RuntimeWarning: invalid value encountered in scalar divide\n",
      "  AD_ra2 = np.where(ATS_2<np.sum(Pot_ATS2),(ATS_2/np.sum(Pot_ATS2)), 1)\n"
     ]
    },
    {
     "name": "stdout",
     "output_type": "stream",
     "text": [
      "Iteration completed \n",
      "Area distributed after step 4: 106524\n"
     ]
    },
    {
     "name": "stderr",
     "output_type": "stream",
     "text": [
      "/tmp/ipykernel_55/3896315690.py:62: RuntimeWarning: invalid value encountered in scalar divide\n",
      "  AD_ra2 = np.where(ATS_2<np.sum(Pot_ATS2),(ATS_2/np.sum(Pot_ATS2)), 1)\n"
     ]
    },
    {
     "name": "stdout",
     "output_type": "stream",
     "text": [
      "Iteration completed \n",
      "Area distributed after step 4: 3988\n"
     ]
    },
    {
     "name": "stderr",
     "output_type": "stream",
     "text": [
      "/tmp/ipykernel_55/3896315690.py:62: RuntimeWarning: invalid value encountered in scalar divide\n",
      "  AD_ra2 = np.where(ATS_2<np.sum(Pot_ATS2),(ATS_2/np.sum(Pot_ATS2)), 1)\n"
     ]
    },
    {
     "name": "stdout",
     "output_type": "stream",
     "text": [
      "Iteration completed \n",
      "Area distributed after step 4: 3107\n"
     ]
    },
    {
     "name": "stderr",
     "output_type": "stream",
     "text": [
      "/tmp/ipykernel_55/3896315690.py:62: RuntimeWarning: invalid value encountered in scalar divide\n",
      "  AD_ra2 = np.where(ATS_2<np.sum(Pot_ATS2),(ATS_2/np.sum(Pot_ATS2)), 1)\n"
     ]
    },
    {
     "name": "stdout",
     "output_type": "stream",
     "text": [
      "Iteration completed \n",
      "Area distributed after step 4: 2030\n"
     ]
    },
    {
     "name": "stderr",
     "output_type": "stream",
     "text": [
      "/tmp/ipykernel_55/3896315690.py:62: RuntimeWarning: invalid value encountered in scalar divide\n",
      "  AD_ra2 = np.where(ATS_2<np.sum(Pot_ATS2),(ATS_2/np.sum(Pot_ATS2)), 1)\n"
     ]
    },
    {
     "name": "stdout",
     "output_type": "stream",
     "text": [
      "Iteration completed \n",
      "Area distributed after step 4: 1634\n"
     ]
    },
    {
     "name": "stderr",
     "output_type": "stream",
     "text": [
      "/tmp/ipykernel_55/3896315690.py:62: RuntimeWarning: invalid value encountered in scalar divide\n",
      "  AD_ra2 = np.where(ATS_2<np.sum(Pot_ATS2),(ATS_2/np.sum(Pot_ATS2)), 1)\n"
     ]
    },
    {
     "name": "stdout",
     "output_type": "stream",
     "text": [
      "Iteration completed \n",
      "Area distributed after step 4: 1250\n"
     ]
    },
    {
     "name": "stderr",
     "output_type": "stream",
     "text": [
      "/tmp/ipykernel_55/3896315690.py:62: RuntimeWarning: invalid value encountered in scalar divide\n",
      "  AD_ra2 = np.where(ATS_2<np.sum(Pot_ATS2),(ATS_2/np.sum(Pot_ATS2)), 1)\n"
     ]
    },
    {
     "name": "stdout",
     "output_type": "stream",
     "text": [
      "Iteration completed \n",
      "Area distributed after step 4: 942\n"
     ]
    },
    {
     "name": "stderr",
     "output_type": "stream",
     "text": [
      "/tmp/ipykernel_55/3896315690.py:62: RuntimeWarning: invalid value encountered in scalar divide\n",
      "  AD_ra2 = np.where(ATS_2<np.sum(Pot_ATS2),(ATS_2/np.sum(Pot_ATS2)), 1)\n"
     ]
    },
    {
     "name": "stdout",
     "output_type": "stream",
     "text": [
      "Iteration completed \n",
      "Area distributed after step 4: 92\n"
     ]
    },
    {
     "name": "stderr",
     "output_type": "stream",
     "text": [
      "/tmp/ipykernel_55/3896315690.py:62: RuntimeWarning: invalid value encountered in scalar divide\n",
      "  AD_ra2 = np.where(ATS_2<np.sum(Pot_ATS2),(ATS_2/np.sum(Pot_ATS2)), 1)\n"
     ]
    },
    {
     "name": "stdout",
     "output_type": "stream",
     "text": [
      "Iteration completed \n",
      "Area distributed after step 4: 41\n"
     ]
    },
    {
     "name": "stderr",
     "output_type": "stream",
     "text": [
      "/tmp/ipykernel_55/3896315690.py:62: RuntimeWarning: invalid value encountered in scalar divide\n",
      "  AD_ra2 = np.where(ATS_2<np.sum(Pot_ATS2),(ATS_2/np.sum(Pot_ATS2)), 1)\n"
     ]
    },
    {
     "name": "stdout",
     "output_type": "stream",
     "text": [
      "Iteration completed \n",
      "Area distributed after step 4: 33\n",
      "Iteration completed \n",
      "Area distributed after step 4: 24\n"
     ]
    },
    {
     "name": "stderr",
     "output_type": "stream",
     "text": [
      "/tmp/ipykernel_55/3896315690.py:62: RuntimeWarning: invalid value encountered in scalar divide\n",
      "  AD_ra2 = np.where(ATS_2<np.sum(Pot_ATS2),(ATS_2/np.sum(Pot_ATS2)), 1)\n"
     ]
    },
    {
     "name": "stdout",
     "output_type": "stream",
     "text": [
      "Iteration completed \n",
      "Area distributed after step 4: 12\n"
     ]
    },
    {
     "name": "stderr",
     "output_type": "stream",
     "text": [
      "/tmp/ipykernel_55/3896315690.py:62: RuntimeWarning: invalid value encountered in scalar divide\n",
      "  AD_ra2 = np.where(ATS_2<np.sum(Pot_ATS2),(ATS_2/np.sum(Pot_ATS2)), 1)\n"
     ]
    },
    {
     "name": "stdout",
     "output_type": "stream",
     "text": [
      "Iteration completed \n",
      "Area distributed after step 4: 10\n"
     ]
    },
    {
     "name": "stderr",
     "output_type": "stream",
     "text": [
      "/tmp/ipykernel_55/3896315690.py:62: RuntimeWarning: invalid value encountered in scalar divide\n",
      "  AD_ra2 = np.where(ATS_2<np.sum(Pot_ATS2),(ATS_2/np.sum(Pot_ATS2)), 1)\n"
     ]
    },
    {
     "name": "stdout",
     "output_type": "stream",
     "text": [
      "Iteration completed \n",
      "Area distributed after step 4: 8\n"
     ]
    },
    {
     "name": "stderr",
     "output_type": "stream",
     "text": [
      "/tmp/ipykernel_55/3896315690.py:62: RuntimeWarning: invalid value encountered in scalar divide\n",
      "  AD_ra2 = np.where(ATS_2<np.sum(Pot_ATS2),(ATS_2/np.sum(Pot_ATS2)), 1)\n"
     ]
    },
    {
     "name": "stdout",
     "output_type": "stream",
     "text": [
      "Iteration completed \n",
      "Area distributed after step 4: 2\n"
     ]
    },
    {
     "name": "stderr",
     "output_type": "stream",
     "text": [
      "/tmp/ipykernel_55/3896315690.py:62: RuntimeWarning: invalid value encountered in scalar divide\n",
      "  AD_ra2 = np.where(ATS_2<np.sum(Pot_ATS2),(ATS_2/np.sum(Pot_ATS2)), 1)\n"
     ]
    },
    {
     "name": "stdout",
     "output_type": "stream",
     "text": [
      "Iteration completed \n",
      "Area distributed after step 4: 1\n"
     ]
    },
    {
     "name": "stderr",
     "output_type": "stream",
     "text": [
      "/tmp/ipykernel_55/3896315690.py:62: RuntimeWarning: invalid value encountered in scalar divide\n",
      "  AD_ra2 = np.where(ATS_2<np.sum(Pot_ATS2),(ATS_2/np.sum(Pot_ATS2)), 1)\n",
      "/tmp/ipykernel_55/3896315690.py:62: RuntimeWarning: invalid value encountered in scalar divide\n",
      "  AD_ra2 = np.where(ATS_2<np.sum(Pot_ATS2),(ATS_2/np.sum(Pot_ATS2)), 1)\n"
     ]
    },
    {
     "name": "stdout",
     "output_type": "stream",
     "text": [
      "Iteration completed \n",
      "Area distributed after step 4: 0\n"
     ]
    },
    {
     "name": "stderr",
     "output_type": "stream",
     "text": [
      "/tmp/ipykernel_55/3896315690.py:62: RuntimeWarning: invalid value encountered in scalar divide\n",
      "  AD_ra2 = np.where(ATS_2<np.sum(Pot_ATS2),(ATS_2/np.sum(Pot_ATS2)), 1)\n"
     ]
    },
    {
     "name": "stdout",
     "output_type": "stream",
     "text": [
      "Iteration completed \n",
      "Area distributed after step 4: 0\n"
     ]
    },
    {
     "name": "stderr",
     "output_type": "stream",
     "text": [
      "/tmp/ipykernel_55/3896315690.py:62: RuntimeWarning: invalid value encountered in scalar divide\n",
      "  AD_ra2 = np.where(ATS_2<np.sum(Pot_ATS2),(ATS_2/np.sum(Pot_ATS2)), 1)\n"
     ]
    },
    {
     "name": "stdout",
     "output_type": "stream",
     "text": [
      "Iteration completed \n",
      "Area distributed after step 4: 0\n"
     ]
    },
    {
     "name": "stderr",
     "output_type": "stream",
     "text": [
      "/tmp/ipykernel_55/3896315690.py:62: RuntimeWarning: invalid value encountered in scalar divide\n",
      "  AD_ra2 = np.where(ATS_2<np.sum(Pot_ATS2),(ATS_2/np.sum(Pot_ATS2)), 1)\n"
     ]
    },
    {
     "name": "stdout",
     "output_type": "stream",
     "text": [
      "Iteration completed \n",
      "Area distributed after step 4: 0\n"
     ]
    },
    {
     "name": "stderr",
     "output_type": "stream",
     "text": [
      "/tmp/ipykernel_55/3896315690.py:62: RuntimeWarning: invalid value encountered in scalar divide\n",
      "  AD_ra2 = np.where(ATS_2<np.sum(Pot_ATS2),(ATS_2/np.sum(Pot_ATS2)), 1)\n"
     ]
    },
    {
     "name": "stdout",
     "output_type": "stream",
     "text": [
      "Iteration completed \n",
      "Area distributed after step 4: 0\n"
     ]
    },
    {
     "name": "stderr",
     "output_type": "stream",
     "text": [
      "/tmp/ipykernel_55/3896315690.py:62: RuntimeWarning: invalid value encountered in scalar divide\n",
      "  AD_ra2 = np.where(ATS_2<np.sum(Pot_ATS2),(ATS_2/np.sum(Pot_ATS2)), 1)\n"
     ]
    },
    {
     "name": "stdout",
     "output_type": "stream",
     "text": [
      "Iteration completed \n",
      "Area distributed after step 4: 0\n"
     ]
    },
    {
     "name": "stderr",
     "output_type": "stream",
     "text": [
      "/tmp/ipykernel_55/3896315690.py:62: RuntimeWarning: invalid value encountered in scalar divide\n",
      "  AD_ra2 = np.where(ATS_2<np.sum(Pot_ATS2),(ATS_2/np.sum(Pot_ATS2)), 1)\n"
     ]
    },
    {
     "name": "stdout",
     "output_type": "stream",
     "text": [
      "Iteration completed \n",
      "Area distributed after step 4: 0\n"
     ]
    },
    {
     "name": "stderr",
     "output_type": "stream",
     "text": [
      "/tmp/ipykernel_55/3896315690.py:62: RuntimeWarning: invalid value encountered in scalar divide\n",
      "  AD_ra2 = np.where(ATS_2<np.sum(Pot_ATS2),(ATS_2/np.sum(Pot_ATS2)), 1)\n"
     ]
    },
    {
     "name": "stdout",
     "output_type": "stream",
     "text": [
      "Iteration completed \n",
      "Area distributed after step 4: 0\n"
     ]
    },
    {
     "name": "stderr",
     "output_type": "stream",
     "text": [
      "/tmp/ipykernel_55/3896315690.py:62: RuntimeWarning: invalid value encountered in scalar divide\n",
      "  AD_ra2 = np.where(ATS_2<np.sum(Pot_ATS2),(ATS_2/np.sum(Pot_ATS2)), 1)\n",
      "/tmp/ipykernel_55/3896315690.py:62: RuntimeWarning: invalid value encountered in scalar divide\n",
      "  AD_ra2 = np.where(ATS_2<np.sum(Pot_ATS2),(ATS_2/np.sum(Pot_ATS2)), 1)\n"
     ]
    },
    {
     "name": "stdout",
     "output_type": "stream",
     "text": [
      "Iteration completed \n",
      "Area distributed after step 4: 0\n",
      "3560022\n",
      "Iteration completed \n",
      "Area distributed after step 4: 42957\n",
      "Iteration completed \n",
      "Area distributed after step 4: 42957\n",
      "Iteration completed \n",
      "Area distributed after step 4: 20448\n",
      "Iteration completed \n",
      "Area distributed after step 4: 7029\n"
     ]
    },
    {
     "name": "stderr",
     "output_type": "stream",
     "text": [
      "/tmp/ipykernel_55/3896315690.py:62: RuntimeWarning: invalid value encountered in scalar divide\n",
      "  AD_ra2 = np.where(ATS_2<np.sum(Pot_ATS2),(ATS_2/np.sum(Pot_ATS2)), 1)\n",
      "/tmp/ipykernel_55/3896315690.py:62: RuntimeWarning: invalid value encountered in scalar divide\n",
      "  AD_ra2 = np.where(ATS_2<np.sum(Pot_ATS2),(ATS_2/np.sum(Pot_ATS2)), 1)\n"
     ]
    },
    {
     "name": "stdout",
     "output_type": "stream",
     "text": [
      "Iteration completed \n",
      "Area distributed after step 4: 1664\n",
      "Iteration completed \n",
      "Area distributed after step 4: 1478\n",
      "Iteration completed \n",
      "Area distributed after step 4: 1052\n",
      "Iteration completed \n",
      "Area distributed after step 4: 791\n"
     ]
    },
    {
     "name": "stderr",
     "output_type": "stream",
     "text": [
      "/tmp/ipykernel_55/3896315690.py:62: RuntimeWarning: invalid value encountered in scalar divide\n",
      "  AD_ra2 = np.where(ATS_2<np.sum(Pot_ATS2),(ATS_2/np.sum(Pot_ATS2)), 1)\n",
      "/tmp/ipykernel_55/3896315690.py:62: RuntimeWarning: invalid value encountered in scalar divide\n",
      "  AD_ra2 = np.where(ATS_2<np.sum(Pot_ATS2),(ATS_2/np.sum(Pot_ATS2)), 1)\n",
      "/tmp/ipykernel_55/3896315690.py:62: RuntimeWarning: invalid value encountered in scalar divide\n",
      "  AD_ra2 = np.where(ATS_2<np.sum(Pot_ATS2),(ATS_2/np.sum(Pot_ATS2)), 1)\n"
     ]
    },
    {
     "name": "stdout",
     "output_type": "stream",
     "text": [
      "Iteration completed \n",
      "Area distributed after step 4: 606\n",
      "Iteration completed \n",
      "Area distributed after step 4: 276\n",
      "Iteration completed \n",
      "Area distributed after step 4: 52\n",
      "Iteration completed \n",
      "Area distributed after step 4: 26\n",
      "Iteration completed \n",
      "Area distributed after step 4: 22\n"
     ]
    },
    {
     "name": "stderr",
     "output_type": "stream",
     "text": [
      "/tmp/ipykernel_55/3896315690.py:62: RuntimeWarning: invalid value encountered in scalar divide\n",
      "  AD_ra2 = np.where(ATS_2<np.sum(Pot_ATS2),(ATS_2/np.sum(Pot_ATS2)), 1)\n",
      "/tmp/ipykernel_55/3896315690.py:62: RuntimeWarning: invalid value encountered in scalar divide\n",
      "  AD_ra2 = np.where(ATS_2<np.sum(Pot_ATS2),(ATS_2/np.sum(Pot_ATS2)), 1)\n",
      "/tmp/ipykernel_55/3896315690.py:62: RuntimeWarning: invalid value encountered in scalar divide\n",
      "  AD_ra2 = np.where(ATS_2<np.sum(Pot_ATS2),(ATS_2/np.sum(Pot_ATS2)), 1)\n",
      "/tmp/ipykernel_55/3896315690.py:62: RuntimeWarning: invalid value encountered in scalar divide\n",
      "  AD_ra2 = np.where(ATS_2<np.sum(Pot_ATS2),(ATS_2/np.sum(Pot_ATS2)), 1)\n",
      "/tmp/ipykernel_55/3896315690.py:62: RuntimeWarning: invalid value encountered in scalar divide\n",
      "  AD_ra2 = np.where(ATS_2<np.sum(Pot_ATS2),(ATS_2/np.sum(Pot_ATS2)), 1)\n"
     ]
    },
    {
     "name": "stdout",
     "output_type": "stream",
     "text": [
      "Iteration completed \n",
      "Area distributed after step 4: 7\n",
      "Iteration completed \n",
      "Area distributed after step 4: 6\n",
      "Iteration completed \n",
      "Area distributed after step 4: 5\n",
      "Iteration completed \n",
      "Area distributed after step 4: 4\n",
      "Iteration completed \n",
      "Area distributed after step 4: 2\n"
     ]
    },
    {
     "name": "stderr",
     "output_type": "stream",
     "text": [
      "/tmp/ipykernel_55/3896315690.py:62: RuntimeWarning: invalid value encountered in scalar divide\n",
      "  AD_ra2 = np.where(ATS_2<np.sum(Pot_ATS2),(ATS_2/np.sum(Pot_ATS2)), 1)\n",
      "/tmp/ipykernel_55/3896315690.py:62: RuntimeWarning: invalid value encountered in scalar divide\n",
      "  AD_ra2 = np.where(ATS_2<np.sum(Pot_ATS2),(ATS_2/np.sum(Pot_ATS2)), 1)\n",
      "/tmp/ipykernel_55/3896315690.py:62: RuntimeWarning: invalid value encountered in scalar divide\n",
      "  AD_ra2 = np.where(ATS_2<np.sum(Pot_ATS2),(ATS_2/np.sum(Pot_ATS2)), 1)\n",
      "/tmp/ipykernel_55/3896315690.py:62: RuntimeWarning: invalid value encountered in scalar divide\n",
      "  AD_ra2 = np.where(ATS_2<np.sum(Pot_ATS2),(ATS_2/np.sum(Pot_ATS2)), 1)\n",
      "/tmp/ipykernel_55/3896315690.py:62: RuntimeWarning: invalid value encountered in scalar divide\n",
      "  AD_ra2 = np.where(ATS_2<np.sum(Pot_ATS2),(ATS_2/np.sum(Pot_ATS2)), 1)\n"
     ]
    },
    {
     "name": "stdout",
     "output_type": "stream",
     "text": [
      "Iteration completed \n",
      "Area distributed after step 4: 1\n",
      "Iteration completed \n",
      "Area distributed after step 4: 0\n",
      "Iteration completed \n",
      "Area distributed after step 4: 0\n",
      "Iteration completed \n",
      "Area distributed after step 4: 0\n"
     ]
    },
    {
     "name": "stderr",
     "output_type": "stream",
     "text": [
      "/tmp/ipykernel_55/3896315690.py:62: RuntimeWarning: invalid value encountered in scalar divide\n",
      "  AD_ra2 = np.where(ATS_2<np.sum(Pot_ATS2),(ATS_2/np.sum(Pot_ATS2)), 1)\n",
      "/tmp/ipykernel_55/3896315690.py:62: RuntimeWarning: invalid value encountered in scalar divide\n",
      "  AD_ra2 = np.where(ATS_2<np.sum(Pot_ATS2),(ATS_2/np.sum(Pot_ATS2)), 1)\n",
      "/tmp/ipykernel_55/3896315690.py:62: RuntimeWarning: invalid value encountered in scalar divide\n",
      "  AD_ra2 = np.where(ATS_2<np.sum(Pot_ATS2),(ATS_2/np.sum(Pot_ATS2)), 1)\n",
      "/tmp/ipykernel_55/3896315690.py:62: RuntimeWarning: invalid value encountered in scalar divide\n",
      "  AD_ra2 = np.where(ATS_2<np.sum(Pot_ATS2),(ATS_2/np.sum(Pot_ATS2)), 1)\n",
      "/tmp/ipykernel_55/3896315690.py:62: RuntimeWarning: invalid value encountered in scalar divide\n",
      "  AD_ra2 = np.where(ATS_2<np.sum(Pot_ATS2),(ATS_2/np.sum(Pot_ATS2)), 1)\n"
     ]
    },
    {
     "name": "stdout",
     "output_type": "stream",
     "text": [
      "Iteration completed \n",
      "Area distributed after step 4: 0\n",
      "Iteration completed \n",
      "Area distributed after step 4: 0\n",
      "Iteration completed \n",
      "Area distributed after step 4: 0\n",
      "Iteration completed \n",
      "Area distributed after step 4: 0\n",
      "3560023\n"
     ]
    },
    {
     "name": "stderr",
     "output_type": "stream",
     "text": [
      "/tmp/ipykernel_55/3896315690.py:62: RuntimeWarning: invalid value encountered in scalar divide\n",
      "  AD_ra2 = np.where(ATS_2<np.sum(Pot_ATS2),(ATS_2/np.sum(Pot_ATS2)), 1)\n"
     ]
    },
    {
     "name": "stdout",
     "output_type": "stream",
     "text": [
      "Error Check Your Code! (full area not assigned)\n",
      "Area distributed after step 4: 45264\n",
      "Error Check Your Code! (full area not assigned)\n",
      "Area distributed after step 4: 45264\n",
      "Iteration completed \n",
      "Area distributed after step 4: 10092\n",
      "Iteration completed \n",
      "Area distributed after step 4: 6828\n",
      "Iteration completed \n",
      "Area distributed after step 4: 1810\n"
     ]
    },
    {
     "name": "stderr",
     "output_type": "stream",
     "text": [
      "/tmp/ipykernel_55/3896315690.py:62: RuntimeWarning: invalid value encountered in scalar divide\n",
      "  AD_ra2 = np.where(ATS_2<np.sum(Pot_ATS2),(ATS_2/np.sum(Pot_ATS2)), 1)\n",
      "/tmp/ipykernel_55/3896315690.py:62: RuntimeWarning: invalid value encountered in scalar divide\n",
      "  AD_ra2 = np.where(ATS_2<np.sum(Pot_ATS2),(ATS_2/np.sum(Pot_ATS2)), 1)\n",
      "/tmp/ipykernel_55/3896315690.py:62: RuntimeWarning: invalid value encountered in scalar divide\n",
      "  AD_ra2 = np.where(ATS_2<np.sum(Pot_ATS2),(ATS_2/np.sum(Pot_ATS2)), 1)\n",
      "/tmp/ipykernel_55/3896315690.py:62: RuntimeWarning: invalid value encountered in scalar divide\n",
      "  AD_ra2 = np.where(ATS_2<np.sum(Pot_ATS2),(ATS_2/np.sum(Pot_ATS2)), 1)\n"
     ]
    },
    {
     "name": "stdout",
     "output_type": "stream",
     "text": [
      "Iteration completed \n",
      "Area distributed after step 4: 1609\n",
      "Iteration completed \n",
      "Area distributed after step 4: 1514\n",
      "Iteration completed \n",
      "Area distributed after step 4: 1374\n",
      "Iteration completed \n",
      "Area distributed after step 4: 292\n",
      "Iteration completed \n",
      "Area distributed after step 4: 204\n"
     ]
    },
    {
     "name": "stderr",
     "output_type": "stream",
     "text": [
      "/tmp/ipykernel_55/3896315690.py:62: RuntimeWarning: invalid value encountered in scalar divide\n",
      "  AD_ra2 = np.where(ATS_2<np.sum(Pot_ATS2),(ATS_2/np.sum(Pot_ATS2)), 1)\n",
      "/tmp/ipykernel_55/3896315690.py:62: RuntimeWarning: invalid value encountered in scalar divide\n",
      "  AD_ra2 = np.where(ATS_2<np.sum(Pot_ATS2),(ATS_2/np.sum(Pot_ATS2)), 1)\n",
      "/tmp/ipykernel_55/3896315690.py:62: RuntimeWarning: invalid value encountered in scalar divide\n",
      "  AD_ra2 = np.where(ATS_2<np.sum(Pot_ATS2),(ATS_2/np.sum(Pot_ATS2)), 1)\n",
      "/tmp/ipykernel_55/3896315690.py:62: RuntimeWarning: invalid value encountered in scalar divide\n",
      "  AD_ra2 = np.where(ATS_2<np.sum(Pot_ATS2),(ATS_2/np.sum(Pot_ATS2)), 1)\n"
     ]
    },
    {
     "name": "stdout",
     "output_type": "stream",
     "text": [
      "Iteration completed \n",
      "Area distributed after step 4: 46\n",
      "Iteration completed \n",
      "Area distributed after step 4: 22\n",
      "Iteration completed \n",
      "Area distributed after step 4: 14\n",
      "Iteration completed \n",
      "Area distributed after step 4: 12\n",
      "Iteration completed \n",
      "Area distributed after step 4: 5\n"
     ]
    },
    {
     "name": "stderr",
     "output_type": "stream",
     "text": [
      "/tmp/ipykernel_55/3896315690.py:62: RuntimeWarning: invalid value encountered in scalar divide\n",
      "  AD_ra2 = np.where(ATS_2<np.sum(Pot_ATS2),(ATS_2/np.sum(Pot_ATS2)), 1)\n",
      "/tmp/ipykernel_55/3896315690.py:62: RuntimeWarning: invalid value encountered in scalar divide\n",
      "  AD_ra2 = np.where(ATS_2<np.sum(Pot_ATS2),(ATS_2/np.sum(Pot_ATS2)), 1)\n",
      "/tmp/ipykernel_55/3896315690.py:62: RuntimeWarning: invalid value encountered in scalar divide\n",
      "  AD_ra2 = np.where(ATS_2<np.sum(Pot_ATS2),(ATS_2/np.sum(Pot_ATS2)), 1)\n",
      "/tmp/ipykernel_55/3896315690.py:62: RuntimeWarning: invalid value encountered in scalar divide\n",
      "  AD_ra2 = np.where(ATS_2<np.sum(Pot_ATS2),(ATS_2/np.sum(Pot_ATS2)), 1)\n",
      "/tmp/ipykernel_55/3896315690.py:62: RuntimeWarning: invalid value encountered in scalar divide\n",
      "  AD_ra2 = np.where(ATS_2<np.sum(Pot_ATS2),(ATS_2/np.sum(Pot_ATS2)), 1)\n",
      "/tmp/ipykernel_55/3896315690.py:62: RuntimeWarning: invalid value encountered in scalar divide\n",
      "  AD_ra2 = np.where(ATS_2<np.sum(Pot_ATS2),(ATS_2/np.sum(Pot_ATS2)), 1)\n"
     ]
    },
    {
     "name": "stdout",
     "output_type": "stream",
     "text": [
      "Iteration completed \n",
      "Area distributed after step 4: 5\n",
      "Iteration completed \n",
      "Area distributed after step 4: 2\n",
      "Iteration completed \n",
      "Area distributed after step 4: 0\n",
      "Iteration completed \n",
      "Area distributed after step 4: 0\n",
      "Iteration completed \n",
      "Area distributed after step 4: 0\n"
     ]
    },
    {
     "name": "stderr",
     "output_type": "stream",
     "text": [
      "/tmp/ipykernel_55/3896315690.py:62: RuntimeWarning: invalid value encountered in scalar divide\n",
      "  AD_ra2 = np.where(ATS_2<np.sum(Pot_ATS2),(ATS_2/np.sum(Pot_ATS2)), 1)\n",
      "/tmp/ipykernel_55/3896315690.py:62: RuntimeWarning: invalid value encountered in scalar divide\n",
      "  AD_ra2 = np.where(ATS_2<np.sum(Pot_ATS2),(ATS_2/np.sum(Pot_ATS2)), 1)\n",
      "/tmp/ipykernel_55/3896315690.py:62: RuntimeWarning: invalid value encountered in scalar divide\n",
      "  AD_ra2 = np.where(ATS_2<np.sum(Pot_ATS2),(ATS_2/np.sum(Pot_ATS2)), 1)\n",
      "/tmp/ipykernel_55/3896315690.py:62: RuntimeWarning: invalid value encountered in scalar divide\n",
      "  AD_ra2 = np.where(ATS_2<np.sum(Pot_ATS2),(ATS_2/np.sum(Pot_ATS2)), 1)\n",
      "/tmp/ipykernel_55/3896315690.py:62: RuntimeWarning: invalid value encountered in scalar divide\n",
      "  AD_ra2 = np.where(ATS_2<np.sum(Pot_ATS2),(ATS_2/np.sum(Pot_ATS2)), 1)\n"
     ]
    },
    {
     "name": "stdout",
     "output_type": "stream",
     "text": [
      "Iteration completed \n",
      "Area distributed after step 4: 0\n",
      "Iteration completed \n",
      "Area distributed after step 4: 0\n",
      "Iteration completed \n",
      "Area distributed after step 4: 0\n",
      "Iteration completed \n",
      "Area distributed after step 4: 0\n",
      "Iteration completed \n",
      "Area distributed after step 4: 0\n"
     ]
    },
    {
     "name": "stderr",
     "output_type": "stream",
     "text": [
      "/tmp/ipykernel_55/3896315690.py:62: RuntimeWarning: invalid value encountered in scalar divide\n",
      "  AD_ra2 = np.where(ATS_2<np.sum(Pot_ATS2),(ATS_2/np.sum(Pot_ATS2)), 1)\n"
     ]
    },
    {
     "name": "stdout",
     "output_type": "stream",
     "text": [
      "Iteration completed \n",
      "Area distributed after step 4: 0\n",
      "3560024\n",
      "Error Check Your Code! (full area not assigned)\n",
      "Area distributed after step 4: 10256\n",
      "Error Check Your Code! (full area not assigned)\n",
      "Area distributed after step 4: 10256\n",
      "Error Check Your Code! (full area not assigned)\n",
      "Area distributed after step 4: 10246\n",
      "Error Check Your Code! (full area not assigned)\n",
      "Area distributed after step 4: 10236\n",
      "Error Check Your Code! (full area not assigned)\n",
      "Area distributed after step 4: 10152\n",
      "Iteration completed \n",
      "Area distributed after step 4: 8523\n",
      "Iteration completed \n",
      "Area distributed after step 4: 5419\n",
      "Iteration completed \n",
      "Area distributed after step 4: 1699\n",
      "Iteration completed \n",
      "Area distributed after step 4: 951\n"
     ]
    },
    {
     "name": "stderr",
     "output_type": "stream",
     "text": [
      "/tmp/ipykernel_55/3896315690.py:62: RuntimeWarning: invalid value encountered in scalar divide\n",
      "  AD_ra2 = np.where(ATS_2<np.sum(Pot_ATS2),(ATS_2/np.sum(Pot_ATS2)), 1)\n",
      "/tmp/ipykernel_55/3896315690.py:62: RuntimeWarning: invalid value encountered in scalar divide\n",
      "  AD_ra2 = np.where(ATS_2<np.sum(Pot_ATS2),(ATS_2/np.sum(Pot_ATS2)), 1)\n",
      "/tmp/ipykernel_55/3896315690.py:62: RuntimeWarning: invalid value encountered in scalar divide\n",
      "  AD_ra2 = np.where(ATS_2<np.sum(Pot_ATS2),(ATS_2/np.sum(Pot_ATS2)), 1)\n"
     ]
    },
    {
     "name": "stdout",
     "output_type": "stream",
     "text": [
      "Iteration completed \n",
      "Area distributed after step 4: 274\n",
      "Iteration completed \n",
      "Area distributed after step 4: 130\n",
      "Iteration completed \n",
      "Area distributed after step 4: 36\n",
      "Iteration completed \n",
      "Area distributed after step 4: 30\n"
     ]
    },
    {
     "name": "stderr",
     "output_type": "stream",
     "text": [
      "/tmp/ipykernel_55/3896315690.py:62: RuntimeWarning: invalid value encountered in scalar divide\n",
      "  AD_ra2 = np.where(ATS_2<np.sum(Pot_ATS2),(ATS_2/np.sum(Pot_ATS2)), 1)\n",
      "/tmp/ipykernel_55/3896315690.py:62: RuntimeWarning: invalid value encountered in scalar divide\n",
      "  AD_ra2 = np.where(ATS_2<np.sum(Pot_ATS2),(ATS_2/np.sum(Pot_ATS2)), 1)\n",
      "/tmp/ipykernel_55/3896315690.py:62: RuntimeWarning: invalid value encountered in scalar divide\n",
      "  AD_ra2 = np.where(ATS_2<np.sum(Pot_ATS2),(ATS_2/np.sum(Pot_ATS2)), 1)\n"
     ]
    },
    {
     "name": "stdout",
     "output_type": "stream",
     "text": [
      "Iteration completed \n",
      "Area distributed after step 4: 27\n",
      "Iteration completed \n",
      "Area distributed after step 4: 14\n",
      "Iteration completed \n",
      "Area distributed after step 4: 13\n",
      "Iteration completed \n",
      "Area distributed after step 4: 11\n",
      "Iteration completed \n",
      "Area distributed after step 4: 1\n"
     ]
    },
    {
     "name": "stderr",
     "output_type": "stream",
     "text": [
      "/tmp/ipykernel_55/3896315690.py:62: RuntimeWarning: invalid value encountered in scalar divide\n",
      "  AD_ra2 = np.where(ATS_2<np.sum(Pot_ATS2),(ATS_2/np.sum(Pot_ATS2)), 1)\n",
      "/tmp/ipykernel_55/3896315690.py:62: RuntimeWarning: invalid value encountered in scalar divide\n",
      "  AD_ra2 = np.where(ATS_2<np.sum(Pot_ATS2),(ATS_2/np.sum(Pot_ATS2)), 1)\n",
      "/tmp/ipykernel_55/3896315690.py:62: RuntimeWarning: invalid value encountered in scalar divide\n",
      "  AD_ra2 = np.where(ATS_2<np.sum(Pot_ATS2),(ATS_2/np.sum(Pot_ATS2)), 1)\n",
      "/tmp/ipykernel_55/3896315690.py:62: RuntimeWarning: invalid value encountered in scalar divide\n",
      "  AD_ra2 = np.where(ATS_2<np.sum(Pot_ATS2),(ATS_2/np.sum(Pot_ATS2)), 1)\n",
      "/tmp/ipykernel_55/3896315690.py:62: RuntimeWarning: invalid value encountered in scalar divide\n",
      "  AD_ra2 = np.where(ATS_2<np.sum(Pot_ATS2),(ATS_2/np.sum(Pot_ATS2)), 1)\n",
      "/tmp/ipykernel_55/3896315690.py:62: RuntimeWarning: invalid value encountered in scalar divide\n",
      "  AD_ra2 = np.where(ATS_2<np.sum(Pot_ATS2),(ATS_2/np.sum(Pot_ATS2)), 1)\n"
     ]
    },
    {
     "name": "stdout",
     "output_type": "stream",
     "text": [
      "Iteration completed \n",
      "Area distributed after step 4: 0\n",
      "Iteration completed \n",
      "Area distributed after step 4: 0\n",
      "Iteration completed \n",
      "Area distributed after step 4: 0\n",
      "Iteration completed \n",
      "Area distributed after step 4: 0\n",
      "Iteration completed \n",
      "Area distributed after step 4: 0\n"
     ]
    },
    {
     "name": "stderr",
     "output_type": "stream",
     "text": [
      "/tmp/ipykernel_55/3896315690.py:62: RuntimeWarning: invalid value encountered in scalar divide\n",
      "  AD_ra2 = np.where(ATS_2<np.sum(Pot_ATS2),(ATS_2/np.sum(Pot_ATS2)), 1)\n",
      "/tmp/ipykernel_55/3896315690.py:62: RuntimeWarning: invalid value encountered in scalar divide\n",
      "  AD_ra2 = np.where(ATS_2<np.sum(Pot_ATS2),(ATS_2/np.sum(Pot_ATS2)), 1)\n",
      "/tmp/ipykernel_55/3896315690.py:62: RuntimeWarning: invalid value encountered in scalar divide\n",
      "  AD_ra2 = np.where(ATS_2<np.sum(Pot_ATS2),(ATS_2/np.sum(Pot_ATS2)), 1)\n",
      "/tmp/ipykernel_55/3896315690.py:62: RuntimeWarning: invalid value encountered in scalar divide\n",
      "  AD_ra2 = np.where(ATS_2<np.sum(Pot_ATS2),(ATS_2/np.sum(Pot_ATS2)), 1)\n",
      "/tmp/ipykernel_55/3896315690.py:62: RuntimeWarning: invalid value encountered in scalar divide\n",
      "  AD_ra2 = np.where(ATS_2<np.sum(Pot_ATS2),(ATS_2/np.sum(Pot_ATS2)), 1)\n"
     ]
    },
    {
     "name": "stdout",
     "output_type": "stream",
     "text": [
      "Iteration completed \n",
      "Area distributed after step 4: 0\n",
      "Iteration completed \n",
      "Area distributed after step 4: 0\n",
      "Iteration completed \n",
      "Area distributed after step 4: 0\n",
      "3560025\n",
      "Error Check Your Code! (full area not assigned)\n",
      "Area distributed after step 4: 65367\n",
      "Error Check Your Code! (full area not assigned)\n",
      "Area distributed after step 4: 65367\n"
     ]
    },
    {
     "name": "stderr",
     "output_type": "stream",
     "text": [
      "/tmp/ipykernel_55/3896315690.py:62: RuntimeWarning: invalid value encountered in scalar divide\n",
      "  AD_ra2 = np.where(ATS_2<np.sum(Pot_ATS2),(ATS_2/np.sum(Pot_ATS2)), 1)\n"
     ]
    },
    {
     "name": "stdout",
     "output_type": "stream",
     "text": [
      "Iteration completed \n",
      "Area distributed after step 4: 32286\n",
      "Iteration completed \n",
      "Area distributed after step 4: 29481\n",
      "Iteration completed \n",
      "Area distributed after step 4: 17279\n",
      "Iteration completed \n",
      "Area distributed after step 4: 6588\n",
      "Iteration completed \n",
      "Area distributed after step 4: 5766\n"
     ]
    },
    {
     "name": "stderr",
     "output_type": "stream",
     "text": [
      "/tmp/ipykernel_55/3896315690.py:62: RuntimeWarning: invalid value encountered in scalar divide\n",
      "  AD_ra2 = np.where(ATS_2<np.sum(Pot_ATS2),(ATS_2/np.sum(Pot_ATS2)), 1)\n",
      "/tmp/ipykernel_55/3896315690.py:62: RuntimeWarning: invalid value encountered in scalar divide\n",
      "  AD_ra2 = np.where(ATS_2<np.sum(Pot_ATS2),(ATS_2/np.sum(Pot_ATS2)), 1)\n"
     ]
    },
    {
     "name": "stdout",
     "output_type": "stream",
     "text": [
      "Iteration completed \n",
      "Area distributed after step 4: 4311\n",
      "Iteration completed \n",
      "Area distributed after step 4: 1514\n",
      "Iteration completed \n",
      "Area distributed after step 4: 645\n",
      "Iteration completed \n",
      "Area distributed after step 4: 353\n",
      "Iteration completed \n",
      "Area distributed after step 4: 180\n"
     ]
    },
    {
     "name": "stderr",
     "output_type": "stream",
     "text": [
      "/tmp/ipykernel_55/3896315690.py:62: RuntimeWarning: invalid value encountered in scalar divide\n",
      "  AD_ra2 = np.where(ATS_2<np.sum(Pot_ATS2),(ATS_2/np.sum(Pot_ATS2)), 1)\n",
      "/tmp/ipykernel_55/3896315690.py:62: RuntimeWarning: invalid value encountered in scalar divide\n",
      "  AD_ra2 = np.where(ATS_2<np.sum(Pot_ATS2),(ATS_2/np.sum(Pot_ATS2)), 1)\n",
      "/tmp/ipykernel_55/3896315690.py:62: RuntimeWarning: invalid value encountered in scalar divide\n",
      "  AD_ra2 = np.where(ATS_2<np.sum(Pot_ATS2),(ATS_2/np.sum(Pot_ATS2)), 1)\n",
      "/tmp/ipykernel_55/3896315690.py:62: RuntimeWarning: invalid value encountered in scalar divide\n",
      "  AD_ra2 = np.where(ATS_2<np.sum(Pot_ATS2),(ATS_2/np.sum(Pot_ATS2)), 1)\n",
      "/tmp/ipykernel_55/3896315690.py:62: RuntimeWarning: invalid value encountered in scalar divide\n",
      "  AD_ra2 = np.where(ATS_2<np.sum(Pot_ATS2),(ATS_2/np.sum(Pot_ATS2)), 1)\n"
     ]
    },
    {
     "name": "stdout",
     "output_type": "stream",
     "text": [
      "Iteration completed \n",
      "Area distributed after step 4: 116\n",
      "Iteration completed \n",
      "Area distributed after step 4: 67\n",
      "Iteration completed \n",
      "Area distributed after step 4: 24\n",
      "Iteration completed \n",
      "Area distributed after step 4: 12\n",
      "Iteration completed \n",
      "Area distributed after step 4: 4\n"
     ]
    },
    {
     "name": "stderr",
     "output_type": "stream",
     "text": [
      "/tmp/ipykernel_55/3896315690.py:62: RuntimeWarning: invalid value encountered in scalar divide\n",
      "  AD_ra2 = np.where(ATS_2<np.sum(Pot_ATS2),(ATS_2/np.sum(Pot_ATS2)), 1)\n",
      "/tmp/ipykernel_55/3896315690.py:62: RuntimeWarning: invalid value encountered in scalar divide\n",
      "  AD_ra2 = np.where(ATS_2<np.sum(Pot_ATS2),(ATS_2/np.sum(Pot_ATS2)), 1)\n",
      "/tmp/ipykernel_55/3896315690.py:62: RuntimeWarning: invalid value encountered in scalar divide\n",
      "  AD_ra2 = np.where(ATS_2<np.sum(Pot_ATS2),(ATS_2/np.sum(Pot_ATS2)), 1)\n",
      "/tmp/ipykernel_55/3896315690.py:62: RuntimeWarning: invalid value encountered in scalar divide\n",
      "  AD_ra2 = np.where(ATS_2<np.sum(Pot_ATS2),(ATS_2/np.sum(Pot_ATS2)), 1)\n",
      "/tmp/ipykernel_55/3896315690.py:62: RuntimeWarning: invalid value encountered in scalar divide\n",
      "  AD_ra2 = np.where(ATS_2<np.sum(Pot_ATS2),(ATS_2/np.sum(Pot_ATS2)), 1)\n"
     ]
    },
    {
     "name": "stdout",
     "output_type": "stream",
     "text": [
      "Iteration completed \n",
      "Area distributed after step 4: 4\n",
      "Iteration completed \n",
      "Area distributed after step 4: 3\n",
      "Iteration completed \n",
      "Area distributed after step 4: 1\n",
      "Iteration completed \n",
      "Area distributed after step 4: 0\n"
     ]
    },
    {
     "name": "stderr",
     "output_type": "stream",
     "text": [
      "/tmp/ipykernel_55/3896315690.py:62: RuntimeWarning: invalid value encountered in scalar divide\n",
      "  AD_ra2 = np.where(ATS_2<np.sum(Pot_ATS2),(ATS_2/np.sum(Pot_ATS2)), 1)\n",
      "/tmp/ipykernel_55/3896315690.py:62: RuntimeWarning: invalid value encountered in scalar divide\n",
      "  AD_ra2 = np.where(ATS_2<np.sum(Pot_ATS2),(ATS_2/np.sum(Pot_ATS2)), 1)\n",
      "/tmp/ipykernel_55/3896315690.py:62: RuntimeWarning: invalid value encountered in scalar divide\n",
      "  AD_ra2 = np.where(ATS_2<np.sum(Pot_ATS2),(ATS_2/np.sum(Pot_ATS2)), 1)\n",
      "/tmp/ipykernel_55/3896315690.py:62: RuntimeWarning: invalid value encountered in scalar divide\n",
      "  AD_ra2 = np.where(ATS_2<np.sum(Pot_ATS2),(ATS_2/np.sum(Pot_ATS2)), 1)\n",
      "/tmp/ipykernel_55/3896315690.py:62: RuntimeWarning: invalid value encountered in scalar divide\n",
      "  AD_ra2 = np.where(ATS_2<np.sum(Pot_ATS2),(ATS_2/np.sum(Pot_ATS2)), 1)\n",
      "/tmp/ipykernel_55/3896315690.py:62: RuntimeWarning: invalid value encountered in scalar divide\n",
      "  AD_ra2 = np.where(ATS_2<np.sum(Pot_ATS2),(ATS_2/np.sum(Pot_ATS2)), 1)\n"
     ]
    },
    {
     "name": "stdout",
     "output_type": "stream",
     "text": [
      "Iteration completed \n",
      "Area distributed after step 4: 0\n",
      "Iteration completed \n",
      "Area distributed after step 4: 0\n",
      "Iteration completed \n",
      "Area distributed after step 4: 0\n",
      "Iteration completed \n",
      "Area distributed after step 4: 0\n"
     ]
    },
    {
     "name": "stderr",
     "output_type": "stream",
     "text": [
      "/tmp/ipykernel_55/3896315690.py:62: RuntimeWarning: invalid value encountered in scalar divide\n",
      "  AD_ra2 = np.where(ATS_2<np.sum(Pot_ATS2),(ATS_2/np.sum(Pot_ATS2)), 1)\n",
      "/tmp/ipykernel_55/3896315690.py:62: RuntimeWarning: invalid value encountered in scalar divide\n",
      "  AD_ra2 = np.where(ATS_2<np.sum(Pot_ATS2),(ATS_2/np.sum(Pot_ATS2)), 1)\n",
      "/tmp/ipykernel_55/3896315690.py:62: RuntimeWarning: invalid value encountered in scalar divide\n",
      "  AD_ra2 = np.where(ATS_2<np.sum(Pot_ATS2),(ATS_2/np.sum(Pot_ATS2)), 1)\n"
     ]
    },
    {
     "name": "stdout",
     "output_type": "stream",
     "text": [
      "Iteration completed \n",
      "Area distributed after step 4: 0\n",
      "3560026\n"
     ]
    },
    {
     "name": "stderr",
     "output_type": "stream",
     "text": [
      "/tmp/ipykernel_55/3896315690.py:62: RuntimeWarning: invalid value encountered in scalar divide\n",
      "  AD_ra2 = np.where(ATS_2<np.sum(Pot_ATS2),(ATS_2/np.sum(Pot_ATS2)), 1)\n"
     ]
    },
    {
     "name": "stdout",
     "output_type": "stream",
     "text": [
      "Iteration completed \n",
      "Area distributed after step 4: 33812\n"
     ]
    },
    {
     "name": "stderr",
     "output_type": "stream",
     "text": [
      "/tmp/ipykernel_55/3896315690.py:62: RuntimeWarning: invalid value encountered in scalar divide\n",
      "  AD_ra2 = np.where(ATS_2<np.sum(Pot_ATS2),(ATS_2/np.sum(Pot_ATS2)), 1)\n"
     ]
    },
    {
     "name": "stdout",
     "output_type": "stream",
     "text": [
      "Iteration completed \n",
      "Area distributed after step 4: 33812\n"
     ]
    },
    {
     "name": "stderr",
     "output_type": "stream",
     "text": [
      "/tmp/ipykernel_55/3896315690.py:62: RuntimeWarning: invalid value encountered in scalar divide\n",
      "  AD_ra2 = np.where(ATS_2<np.sum(Pot_ATS2),(ATS_2/np.sum(Pot_ATS2)), 1)\n"
     ]
    },
    {
     "name": "stdout",
     "output_type": "stream",
     "text": [
      "Iteration completed \n",
      "Area distributed after step 4: 27797\n"
     ]
    },
    {
     "name": "stderr",
     "output_type": "stream",
     "text": [
      "/tmp/ipykernel_55/3896315690.py:62: RuntimeWarning: invalid value encountered in scalar divide\n",
      "  AD_ra2 = np.where(ATS_2<np.sum(Pot_ATS2),(ATS_2/np.sum(Pot_ATS2)), 1)\n"
     ]
    },
    {
     "name": "stdout",
     "output_type": "stream",
     "text": [
      "Iteration completed \n",
      "Area distributed after step 4: 27518\n"
     ]
    },
    {
     "name": "stderr",
     "output_type": "stream",
     "text": [
      "/tmp/ipykernel_55/3896315690.py:62: RuntimeWarning: invalid value encountered in scalar divide\n",
      "  AD_ra2 = np.where(ATS_2<np.sum(Pot_ATS2),(ATS_2/np.sum(Pot_ATS2)), 1)\n"
     ]
    },
    {
     "name": "stdout",
     "output_type": "stream",
     "text": [
      "Iteration completed \n",
      "Area distributed after step 4: 11005\n",
      "Iteration completed \n",
      "Area distributed after step 4: 9590\n"
     ]
    },
    {
     "name": "stderr",
     "output_type": "stream",
     "text": [
      "/tmp/ipykernel_55/3896315690.py:62: RuntimeWarning: invalid value encountered in scalar divide\n",
      "  AD_ra2 = np.where(ATS_2<np.sum(Pot_ATS2),(ATS_2/np.sum(Pot_ATS2)), 1)\n"
     ]
    },
    {
     "name": "stdout",
     "output_type": "stream",
     "text": [
      "Iteration completed \n",
      "Area distributed after step 4: 5430\n"
     ]
    },
    {
     "name": "stderr",
     "output_type": "stream",
     "text": [
      "/tmp/ipykernel_55/3896315690.py:62: RuntimeWarning: invalid value encountered in scalar divide\n",
      "  AD_ra2 = np.where(ATS_2<np.sum(Pot_ATS2),(ATS_2/np.sum(Pot_ATS2)), 1)\n"
     ]
    },
    {
     "name": "stdout",
     "output_type": "stream",
     "text": [
      "Iteration completed \n",
      "Area distributed after step 4: 4553\n"
     ]
    },
    {
     "name": "stderr",
     "output_type": "stream",
     "text": [
      "/tmp/ipykernel_55/3896315690.py:62: RuntimeWarning: invalid value encountered in scalar divide\n",
      "  AD_ra2 = np.where(ATS_2<np.sum(Pot_ATS2),(ATS_2/np.sum(Pot_ATS2)), 1)\n"
     ]
    },
    {
     "name": "stdout",
     "output_type": "stream",
     "text": [
      "Iteration completed \n",
      "Area distributed after step 4: 941\n"
     ]
    },
    {
     "name": "stderr",
     "output_type": "stream",
     "text": [
      "/tmp/ipykernel_55/3896315690.py:62: RuntimeWarning: invalid value encountered in scalar divide\n",
      "  AD_ra2 = np.where(ATS_2<np.sum(Pot_ATS2),(ATS_2/np.sum(Pot_ATS2)), 1)\n"
     ]
    },
    {
     "name": "stdout",
     "output_type": "stream",
     "text": [
      "Iteration completed \n",
      "Area distributed after step 4: 182\n"
     ]
    },
    {
     "name": "stderr",
     "output_type": "stream",
     "text": [
      "/tmp/ipykernel_55/3896315690.py:62: RuntimeWarning: invalid value encountered in scalar divide\n",
      "  AD_ra2 = np.where(ATS_2<np.sum(Pot_ATS2),(ATS_2/np.sum(Pot_ATS2)), 1)\n"
     ]
    },
    {
     "name": "stdout",
     "output_type": "stream",
     "text": [
      "Iteration completed \n",
      "Area distributed after step 4: 152\n"
     ]
    },
    {
     "name": "stderr",
     "output_type": "stream",
     "text": [
      "/tmp/ipykernel_55/3896315690.py:62: RuntimeWarning: invalid value encountered in scalar divide\n",
      "  AD_ra2 = np.where(ATS_2<np.sum(Pot_ATS2),(ATS_2/np.sum(Pot_ATS2)), 1)\n"
     ]
    },
    {
     "name": "stdout",
     "output_type": "stream",
     "text": [
      "Iteration completed \n",
      "Area distributed after step 4: 144\n"
     ]
    },
    {
     "name": "stderr",
     "output_type": "stream",
     "text": [
      "/tmp/ipykernel_55/3896315690.py:62: RuntimeWarning: invalid value encountered in scalar divide\n",
      "  AD_ra2 = np.where(ATS_2<np.sum(Pot_ATS2),(ATS_2/np.sum(Pot_ATS2)), 1)\n"
     ]
    },
    {
     "name": "stdout",
     "output_type": "stream",
     "text": [
      "Iteration completed \n",
      "Area distributed after step 4: 27\n"
     ]
    },
    {
     "name": "stderr",
     "output_type": "stream",
     "text": [
      "/tmp/ipykernel_55/3896315690.py:62: RuntimeWarning: invalid value encountered in scalar divide\n",
      "  AD_ra2 = np.where(ATS_2<np.sum(Pot_ATS2),(ATS_2/np.sum(Pot_ATS2)), 1)\n"
     ]
    },
    {
     "name": "stdout",
     "output_type": "stream",
     "text": [
      "Iteration completed \n",
      "Area distributed after step 4: 20\n",
      "Iteration completed \n",
      "Area distributed after step 4: 9\n"
     ]
    },
    {
     "name": "stderr",
     "output_type": "stream",
     "text": [
      "/tmp/ipykernel_55/3896315690.py:62: RuntimeWarning: invalid value encountered in scalar divide\n",
      "  AD_ra2 = np.where(ATS_2<np.sum(Pot_ATS2),(ATS_2/np.sum(Pot_ATS2)), 1)\n"
     ]
    },
    {
     "name": "stdout",
     "output_type": "stream",
     "text": [
      "Iteration completed \n",
      "Area distributed after step 4: 4\n"
     ]
    },
    {
     "name": "stderr",
     "output_type": "stream",
     "text": [
      "/tmp/ipykernel_55/3896315690.py:62: RuntimeWarning: invalid value encountered in scalar divide\n",
      "  AD_ra2 = np.where(ATS_2<np.sum(Pot_ATS2),(ATS_2/np.sum(Pot_ATS2)), 1)\n"
     ]
    },
    {
     "name": "stdout",
     "output_type": "stream",
     "text": [
      "Iteration completed \n",
      "Area distributed after step 4: 1\n"
     ]
    },
    {
     "name": "stderr",
     "output_type": "stream",
     "text": [
      "/tmp/ipykernel_55/3896315690.py:62: RuntimeWarning: invalid value encountered in scalar divide\n",
      "  AD_ra2 = np.where(ATS_2<np.sum(Pot_ATS2),(ATS_2/np.sum(Pot_ATS2)), 1)\n"
     ]
    },
    {
     "name": "stdout",
     "output_type": "stream",
     "text": [
      "Iteration completed \n",
      "Area distributed after step 4: 1\n"
     ]
    },
    {
     "name": "stderr",
     "output_type": "stream",
     "text": [
      "/tmp/ipykernel_55/3896315690.py:62: RuntimeWarning: invalid value encountered in scalar divide\n",
      "  AD_ra2 = np.where(ATS_2<np.sum(Pot_ATS2),(ATS_2/np.sum(Pot_ATS2)), 1)\n",
      "/tmp/ipykernel_55/3896315690.py:62: RuntimeWarning: invalid value encountered in scalar divide\n",
      "  AD_ra2 = np.where(ATS_2<np.sum(Pot_ATS2),(ATS_2/np.sum(Pot_ATS2)), 1)\n"
     ]
    },
    {
     "name": "stdout",
     "output_type": "stream",
     "text": [
      "Iteration completed \n",
      "Area distributed after step 4: 0\n"
     ]
    },
    {
     "name": "stderr",
     "output_type": "stream",
     "text": [
      "/tmp/ipykernel_55/3896315690.py:62: RuntimeWarning: invalid value encountered in scalar divide\n",
      "  AD_ra2 = np.where(ATS_2<np.sum(Pot_ATS2),(ATS_2/np.sum(Pot_ATS2)), 1)\n"
     ]
    },
    {
     "name": "stdout",
     "output_type": "stream",
     "text": [
      "Iteration completed \n",
      "Area distributed after step 4: 0\n"
     ]
    },
    {
     "name": "stderr",
     "output_type": "stream",
     "text": [
      "/tmp/ipykernel_55/3896315690.py:62: RuntimeWarning: invalid value encountered in scalar divide\n",
      "  AD_ra2 = np.where(ATS_2<np.sum(Pot_ATS2),(ATS_2/np.sum(Pot_ATS2)), 1)\n"
     ]
    },
    {
     "name": "stdout",
     "output_type": "stream",
     "text": [
      "Iteration completed \n",
      "Area distributed after step 4: 0\n"
     ]
    },
    {
     "name": "stderr",
     "output_type": "stream",
     "text": [
      "/tmp/ipykernel_55/3896315690.py:62: RuntimeWarning: invalid value encountered in scalar divide\n",
      "  AD_ra2 = np.where(ATS_2<np.sum(Pot_ATS2),(ATS_2/np.sum(Pot_ATS2)), 1)\n"
     ]
    },
    {
     "name": "stdout",
     "output_type": "stream",
     "text": [
      "Iteration completed \n",
      "Area distributed after step 4: 0\n"
     ]
    },
    {
     "name": "stderr",
     "output_type": "stream",
     "text": [
      "/tmp/ipykernel_55/3896315690.py:62: RuntimeWarning: invalid value encountered in scalar divide\n",
      "  AD_ra2 = np.where(ATS_2<np.sum(Pot_ATS2),(ATS_2/np.sum(Pot_ATS2)), 1)\n"
     ]
    },
    {
     "name": "stdout",
     "output_type": "stream",
     "text": [
      "Iteration completed \n",
      "Area distributed after step 4: 0\n"
     ]
    },
    {
     "name": "stderr",
     "output_type": "stream",
     "text": [
      "/tmp/ipykernel_55/3896315690.py:62: RuntimeWarning: invalid value encountered in scalar divide\n",
      "  AD_ra2 = np.where(ATS_2<np.sum(Pot_ATS2),(ATS_2/np.sum(Pot_ATS2)), 1)\n"
     ]
    },
    {
     "name": "stdout",
     "output_type": "stream",
     "text": [
      "Iteration completed \n",
      "Area distributed after step 4: 0\n"
     ]
    },
    {
     "name": "stderr",
     "output_type": "stream",
     "text": [
      "/tmp/ipykernel_55/3896315690.py:62: RuntimeWarning: invalid value encountered in scalar divide\n",
      "  AD_ra2 = np.where(ATS_2<np.sum(Pot_ATS2),(ATS_2/np.sum(Pot_ATS2)), 1)\n"
     ]
    },
    {
     "name": "stdout",
     "output_type": "stream",
     "text": [
      "Iteration completed \n",
      "Area distributed after step 4: 0\n"
     ]
    },
    {
     "name": "stderr",
     "output_type": "stream",
     "text": [
      "/tmp/ipykernel_55/3896315690.py:62: RuntimeWarning: invalid value encountered in scalar divide\n",
      "  AD_ra2 = np.where(ATS_2<np.sum(Pot_ATS2),(ATS_2/np.sum(Pot_ATS2)), 1)\n"
     ]
    },
    {
     "name": "stdout",
     "output_type": "stream",
     "text": [
      "Iteration completed \n",
      "Area distributed after step 4: 0\n",
      "3560027\n"
     ]
    },
    {
     "name": "stderr",
     "output_type": "stream",
     "text": [
      "/tmp/ipykernel_55/3896315690.py:62: RuntimeWarning: invalid value encountered in scalar divide\n",
      "  AD_ra2 = np.where(ATS_2<np.sum(Pot_ATS2),(ATS_2/np.sum(Pot_ATS2)), 1)\n"
     ]
    },
    {
     "name": "stdout",
     "output_type": "stream",
     "text": [
      "Iteration completed \n",
      "Area distributed after step 4: 563\n"
     ]
    },
    {
     "name": "stderr",
     "output_type": "stream",
     "text": [
      "/tmp/ipykernel_55/3896315690.py:62: RuntimeWarning: invalid value encountered in scalar divide\n",
      "  AD_ra2 = np.where(ATS_2<np.sum(Pot_ATS2),(ATS_2/np.sum(Pot_ATS2)), 1)\n"
     ]
    },
    {
     "name": "stdout",
     "output_type": "stream",
     "text": [
      "Iteration completed \n",
      "Area distributed after step 4: 563\n"
     ]
    },
    {
     "name": "stderr",
     "output_type": "stream",
     "text": [
      "/tmp/ipykernel_55/3896315690.py:62: RuntimeWarning: invalid value encountered in scalar divide\n",
      "  AD_ra2 = np.where(ATS_2<np.sum(Pot_ATS2),(ATS_2/np.sum(Pot_ATS2)), 1)\n"
     ]
    },
    {
     "name": "stdout",
     "output_type": "stream",
     "text": [
      "Iteration completed \n",
      "Area distributed after step 4: 45\n"
     ]
    },
    {
     "name": "stderr",
     "output_type": "stream",
     "text": [
      "/tmp/ipykernel_55/3896315690.py:62: RuntimeWarning: invalid value encountered in scalar divide\n",
      "  AD_ra2 = np.where(ATS_2<np.sum(Pot_ATS2),(ATS_2/np.sum(Pot_ATS2)), 1)\n"
     ]
    },
    {
     "name": "stdout",
     "output_type": "stream",
     "text": [
      "Iteration completed \n",
      "Area distributed after step 4: 1\n"
     ]
    },
    {
     "name": "stderr",
     "output_type": "stream",
     "text": [
      "/tmp/ipykernel_55/3896315690.py:62: RuntimeWarning: invalid value encountered in scalar divide\n",
      "  AD_ra2 = np.where(ATS_2<np.sum(Pot_ATS2),(ATS_2/np.sum(Pot_ATS2)), 1)\n"
     ]
    },
    {
     "name": "stdout",
     "output_type": "stream",
     "text": [
      "Iteration completed \n",
      "Area distributed after step 4: 0\n"
     ]
    },
    {
     "name": "stderr",
     "output_type": "stream",
     "text": [
      "/tmp/ipykernel_55/3896315690.py:62: RuntimeWarning: invalid value encountered in scalar divide\n",
      "  AD_ra2 = np.where(ATS_2<np.sum(Pot_ATS2),(ATS_2/np.sum(Pot_ATS2)), 1)\n",
      "/tmp/ipykernel_55/3896315690.py:62: RuntimeWarning: invalid value encountered in scalar divide\n",
      "  AD_ra2 = np.where(ATS_2<np.sum(Pot_ATS2),(ATS_2/np.sum(Pot_ATS2)), 1)\n"
     ]
    },
    {
     "name": "stdout",
     "output_type": "stream",
     "text": [
      "Iteration completed \n",
      "Area distributed after step 4: 0\n"
     ]
    },
    {
     "name": "stderr",
     "output_type": "stream",
     "text": [
      "/tmp/ipykernel_55/3896315690.py:62: RuntimeWarning: invalid value encountered in scalar divide\n",
      "  AD_ra2 = np.where(ATS_2<np.sum(Pot_ATS2),(ATS_2/np.sum(Pot_ATS2)), 1)\n",
      "/tmp/ipykernel_55/3896315690.py:62: RuntimeWarning: invalid value encountered in scalar divide\n",
      "  AD_ra2 = np.where(ATS_2<np.sum(Pot_ATS2),(ATS_2/np.sum(Pot_ATS2)), 1)\n"
     ]
    },
    {
     "name": "stdout",
     "output_type": "stream",
     "text": [
      "Iteration completed \n",
      "Area distributed after step 4: 0\n"
     ]
    },
    {
     "name": "stderr",
     "output_type": "stream",
     "text": [
      "/tmp/ipykernel_55/3896315690.py:62: RuntimeWarning: invalid value encountered in scalar divide\n",
      "  AD_ra2 = np.where(ATS_2<np.sum(Pot_ATS2),(ATS_2/np.sum(Pot_ATS2)), 1)\n",
      "/tmp/ipykernel_55/3896315690.py:62: RuntimeWarning: invalid value encountered in scalar divide\n",
      "  AD_ra2 = np.where(ATS_2<np.sum(Pot_ATS2),(ATS_2/np.sum(Pot_ATS2)), 1)\n"
     ]
    },
    {
     "name": "stdout",
     "output_type": "stream",
     "text": [
      "Iteration completed \n",
      "Area distributed after step 4: 0\n"
     ]
    },
    {
     "name": "stderr",
     "output_type": "stream",
     "text": [
      "/tmp/ipykernel_55/3896315690.py:62: RuntimeWarning: invalid value encountered in scalar divide\n",
      "  AD_ra2 = np.where(ATS_2<np.sum(Pot_ATS2),(ATS_2/np.sum(Pot_ATS2)), 1)\n",
      "/tmp/ipykernel_55/3896315690.py:62: RuntimeWarning: invalid value encountered in scalar divide\n",
      "  AD_ra2 = np.where(ATS_2<np.sum(Pot_ATS2),(ATS_2/np.sum(Pot_ATS2)), 1)\n"
     ]
    },
    {
     "name": "stdout",
     "output_type": "stream",
     "text": [
      "Iteration completed \n",
      "Area distributed after step 4: 0\n"
     ]
    },
    {
     "name": "stderr",
     "output_type": "stream",
     "text": [
      "/tmp/ipykernel_55/3896315690.py:62: RuntimeWarning: invalid value encountered in scalar divide\n",
      "  AD_ra2 = np.where(ATS_2<np.sum(Pot_ATS2),(ATS_2/np.sum(Pot_ATS2)), 1)\n"
     ]
    },
    {
     "name": "stdout",
     "output_type": "stream",
     "text": [
      "Iteration completed \n",
      "Area distributed after step 4: 0\n"
     ]
    },
    {
     "name": "stderr",
     "output_type": "stream",
     "text": [
      "/tmp/ipykernel_55/3896315690.py:62: RuntimeWarning: invalid value encountered in scalar divide\n",
      "  AD_ra2 = np.where(ATS_2<np.sum(Pot_ATS2),(ATS_2/np.sum(Pot_ATS2)), 1)\n"
     ]
    },
    {
     "name": "stdout",
     "output_type": "stream",
     "text": [
      "Iteration completed \n",
      "Area distributed after step 4: 0\n"
     ]
    },
    {
     "name": "stderr",
     "output_type": "stream",
     "text": [
      "/tmp/ipykernel_55/3896315690.py:62: RuntimeWarning: invalid value encountered in scalar divide\n",
      "  AD_ra2 = np.where(ATS_2<np.sum(Pot_ATS2),(ATS_2/np.sum(Pot_ATS2)), 1)\n",
      "/tmp/ipykernel_55/3896315690.py:62: RuntimeWarning: invalid value encountered in scalar divide\n",
      "  AD_ra2 = np.where(ATS_2<np.sum(Pot_ATS2),(ATS_2/np.sum(Pot_ATS2)), 1)\n"
     ]
    },
    {
     "name": "stdout",
     "output_type": "stream",
     "text": [
      "Iteration completed \n",
      "Area distributed after step 4: 0\n"
     ]
    },
    {
     "name": "stderr",
     "output_type": "stream",
     "text": [
      "/tmp/ipykernel_55/3896315690.py:62: RuntimeWarning: invalid value encountered in scalar divide\n",
      "  AD_ra2 = np.where(ATS_2<np.sum(Pot_ATS2),(ATS_2/np.sum(Pot_ATS2)), 1)\n",
      "/tmp/ipykernel_55/3896315690.py:62: RuntimeWarning: invalid value encountered in scalar divide\n",
      "  AD_ra2 = np.where(ATS_2<np.sum(Pot_ATS2),(ATS_2/np.sum(Pot_ATS2)), 1)\n"
     ]
    },
    {
     "name": "stdout",
     "output_type": "stream",
     "text": [
      "Iteration completed \n",
      "Area distributed after step 4: 0\n"
     ]
    },
    {
     "name": "stderr",
     "output_type": "stream",
     "text": [
      "/tmp/ipykernel_55/3896315690.py:62: RuntimeWarning: invalid value encountered in scalar divide\n",
      "  AD_ra2 = np.where(ATS_2<np.sum(Pot_ATS2),(ATS_2/np.sum(Pot_ATS2)), 1)\n"
     ]
    },
    {
     "name": "stdout",
     "output_type": "stream",
     "text": [
      "Iteration completed \n",
      "Area distributed after step 4: 0\n"
     ]
    },
    {
     "name": "stderr",
     "output_type": "stream",
     "text": [
      "/tmp/ipykernel_55/3896315690.py:62: RuntimeWarning: invalid value encountered in scalar divide\n",
      "  AD_ra2 = np.where(ATS_2<np.sum(Pot_ATS2),(ATS_2/np.sum(Pot_ATS2)), 1)\n"
     ]
    },
    {
     "name": "stdout",
     "output_type": "stream",
     "text": [
      "Iteration completed \n",
      "Area distributed after step 4: 0\n"
     ]
    },
    {
     "name": "stderr",
     "output_type": "stream",
     "text": [
      "/tmp/ipykernel_55/3896315690.py:62: RuntimeWarning: invalid value encountered in scalar divide\n",
      "  AD_ra2 = np.where(ATS_2<np.sum(Pot_ATS2),(ATS_2/np.sum(Pot_ATS2)), 1)\n"
     ]
    },
    {
     "name": "stdout",
     "output_type": "stream",
     "text": [
      "Iteration completed \n",
      "Area distributed after step 4: 0\n"
     ]
    },
    {
     "name": "stderr",
     "output_type": "stream",
     "text": [
      "/tmp/ipykernel_55/3896315690.py:62: RuntimeWarning: invalid value encountered in scalar divide\n",
      "  AD_ra2 = np.where(ATS_2<np.sum(Pot_ATS2),(ATS_2/np.sum(Pot_ATS2)), 1)\n"
     ]
    },
    {
     "name": "stdout",
     "output_type": "stream",
     "text": [
      "Iteration completed \n",
      "Area distributed after step 4: 0\n"
     ]
    },
    {
     "name": "stderr",
     "output_type": "stream",
     "text": [
      "/tmp/ipykernel_55/3896315690.py:62: RuntimeWarning: invalid value encountered in scalar divide\n",
      "  AD_ra2 = np.where(ATS_2<np.sum(Pot_ATS2),(ATS_2/np.sum(Pot_ATS2)), 1)\n",
      "/tmp/ipykernel_55/3896315690.py:62: RuntimeWarning: invalid value encountered in scalar divide\n",
      "  AD_ra2 = np.where(ATS_2<np.sum(Pot_ATS2),(ATS_2/np.sum(Pot_ATS2)), 1)\n"
     ]
    },
    {
     "name": "stdout",
     "output_type": "stream",
     "text": [
      "Iteration completed \n",
      "Area distributed after step 4: 0\n"
     ]
    },
    {
     "name": "stderr",
     "output_type": "stream",
     "text": [
      "/tmp/ipykernel_55/3896315690.py:62: RuntimeWarning: invalid value encountered in scalar divide\n",
      "  AD_ra2 = np.where(ATS_2<np.sum(Pot_ATS2),(ATS_2/np.sum(Pot_ATS2)), 1)\n"
     ]
    },
    {
     "name": "stdout",
     "output_type": "stream",
     "text": [
      "Iteration completed \n",
      "Area distributed after step 4: 0\n"
     ]
    },
    {
     "name": "stderr",
     "output_type": "stream",
     "text": [
      "/tmp/ipykernel_55/3896315690.py:62: RuntimeWarning: invalid value encountered in scalar divide\n",
      "  AD_ra2 = np.where(ATS_2<np.sum(Pot_ATS2),(ATS_2/np.sum(Pot_ATS2)), 1)\n"
     ]
    },
    {
     "name": "stdout",
     "output_type": "stream",
     "text": [
      "Iteration completed \n",
      "Area distributed after step 4: 0\n"
     ]
    },
    {
     "name": "stderr",
     "output_type": "stream",
     "text": [
      "/tmp/ipykernel_55/3896315690.py:62: RuntimeWarning: invalid value encountered in scalar divide\n",
      "  AD_ra2 = np.where(ATS_2<np.sum(Pot_ATS2),(ATS_2/np.sum(Pot_ATS2)), 1)\n"
     ]
    },
    {
     "name": "stdout",
     "output_type": "stream",
     "text": [
      "Iteration completed \n",
      "Area distributed after step 4: 0\n"
     ]
    },
    {
     "name": "stderr",
     "output_type": "stream",
     "text": [
      "/tmp/ipykernel_55/3896315690.py:62: RuntimeWarning: invalid value encountered in scalar divide\n",
      "  AD_ra2 = np.where(ATS_2<np.sum(Pot_ATS2),(ATS_2/np.sum(Pot_ATS2)), 1)\n"
     ]
    },
    {
     "name": "stdout",
     "output_type": "stream",
     "text": [
      "Iteration completed \n",
      "Area distributed after step 4: 0\n"
     ]
    },
    {
     "name": "stderr",
     "output_type": "stream",
     "text": [
      "/tmp/ipykernel_55/3896315690.py:62: RuntimeWarning: invalid value encountered in scalar divide\n",
      "  AD_ra2 = np.where(ATS_2<np.sum(Pot_ATS2),(ATS_2/np.sum(Pot_ATS2)), 1)\n"
     ]
    },
    {
     "name": "stdout",
     "output_type": "stream",
     "text": [
      "Iteration completed \n",
      "Area distributed after step 4: 0\n"
     ]
    },
    {
     "name": "stderr",
     "output_type": "stream",
     "text": [
      "/tmp/ipykernel_55/3896315690.py:62: RuntimeWarning: invalid value encountered in scalar divide\n",
      "  AD_ra2 = np.where(ATS_2<np.sum(Pot_ATS2),(ATS_2/np.sum(Pot_ATS2)), 1)\n",
      "/tmp/ipykernel_55/3896315690.py:62: RuntimeWarning: invalid value encountered in scalar divide\n",
      "  AD_ra2 = np.where(ATS_2<np.sum(Pot_ATS2),(ATS_2/np.sum(Pot_ATS2)), 1)\n"
     ]
    },
    {
     "name": "stdout",
     "output_type": "stream",
     "text": [
      "Iteration completed \n",
      "Area distributed after step 4: 0\n"
     ]
    },
    {
     "name": "stderr",
     "output_type": "stream",
     "text": [
      "/tmp/ipykernel_55/3896315690.py:62: RuntimeWarning: invalid value encountered in scalar divide\n",
      "  AD_ra2 = np.where(ATS_2<np.sum(Pot_ATS2),(ATS_2/np.sum(Pot_ATS2)), 1)\n",
      "/tmp/ipykernel_55/3896315690.py:62: RuntimeWarning: invalid value encountered in scalar divide\n",
      "  AD_ra2 = np.where(ATS_2<np.sum(Pot_ATS2),(ATS_2/np.sum(Pot_ATS2)), 1)\n",
      "/tmp/ipykernel_55/3896315690.py:62: RuntimeWarning: invalid value encountered in scalar divide\n",
      "  AD_ra2 = np.where(ATS_2<np.sum(Pot_ATS2),(ATS_2/np.sum(Pot_ATS2)), 1)\n"
     ]
    },
    {
     "name": "stdout",
     "output_type": "stream",
     "text": [
      "Iteration completed \n",
      "Area distributed after step 4: 0\n"
     ]
    },
    {
     "name": "stderr",
     "output_type": "stream",
     "text": [
      "/tmp/ipykernel_55/3896315690.py:62: RuntimeWarning: invalid value encountered in scalar divide\n",
      "  AD_ra2 = np.where(ATS_2<np.sum(Pot_ATS2),(ATS_2/np.sum(Pot_ATS2)), 1)\n",
      "/tmp/ipykernel_55/3896315690.py:62: RuntimeWarning: invalid value encountered in scalar divide\n",
      "  AD_ra2 = np.where(ATS_2<np.sum(Pot_ATS2),(ATS_2/np.sum(Pot_ATS2)), 1)\n"
     ]
    },
    {
     "name": "stdout",
     "output_type": "stream",
     "text": [
      "Iteration completed \n",
      "Area distributed after step 4: 0\n",
      "3560028\n",
      "Iteration completed \n",
      "Area distributed after step 4: 1894\n",
      "Iteration completed \n",
      "Area distributed after step 4: 1894\n"
     ]
    },
    {
     "name": "stderr",
     "output_type": "stream",
     "text": [
      "/tmp/ipykernel_55/3896315690.py:62: RuntimeWarning: invalid value encountered in scalar divide\n",
      "  AD_ra2 = np.where(ATS_2<np.sum(Pot_ATS2),(ATS_2/np.sum(Pot_ATS2)), 1)\n",
      "/tmp/ipykernel_55/3896315690.py:62: RuntimeWarning: invalid value encountered in scalar divide\n",
      "  AD_ra2 = np.where(ATS_2<np.sum(Pot_ATS2),(ATS_2/np.sum(Pot_ATS2)), 1)\n",
      "/tmp/ipykernel_55/3896315690.py:62: RuntimeWarning: invalid value encountered in scalar divide\n",
      "  AD_ra2 = np.where(ATS_2<np.sum(Pot_ATS2),(ATS_2/np.sum(Pot_ATS2)), 1)\n"
     ]
    },
    {
     "name": "stdout",
     "output_type": "stream",
     "text": [
      "Iteration completed \n",
      "Area distributed after step 4: 95\n",
      "Iteration completed \n",
      "Area distributed after step 4: 9\n",
      "Iteration completed \n",
      "Area distributed after step 4: 7\n"
     ]
    },
    {
     "name": "stderr",
     "output_type": "stream",
     "text": [
      "/tmp/ipykernel_55/3896315690.py:62: RuntimeWarning: invalid value encountered in scalar divide\n",
      "  AD_ra2 = np.where(ATS_2<np.sum(Pot_ATS2),(ATS_2/np.sum(Pot_ATS2)), 1)\n",
      "/tmp/ipykernel_55/3896315690.py:62: RuntimeWarning: invalid value encountered in scalar divide\n",
      "  AD_ra2 = np.where(ATS_2<np.sum(Pot_ATS2),(ATS_2/np.sum(Pot_ATS2)), 1)\n",
      "/tmp/ipykernel_55/3896315690.py:62: RuntimeWarning: invalid value encountered in scalar divide\n",
      "  AD_ra2 = np.where(ATS_2<np.sum(Pot_ATS2),(ATS_2/np.sum(Pot_ATS2)), 1)\n"
     ]
    },
    {
     "name": "stdout",
     "output_type": "stream",
     "text": [
      "Iteration completed \n",
      "Area distributed after step 4: 7\n",
      "Iteration completed \n",
      "Area distributed after step 4: 3\n"
     ]
    },
    {
     "name": "stderr",
     "output_type": "stream",
     "text": [
      "/tmp/ipykernel_55/3896315690.py:62: RuntimeWarning: invalid value encountered in scalar divide\n",
      "  AD_ra2 = np.where(ATS_2<np.sum(Pot_ATS2),(ATS_2/np.sum(Pot_ATS2)), 1)\n",
      "/tmp/ipykernel_55/3896315690.py:62: RuntimeWarning: invalid value encountered in scalar divide\n",
      "  AD_ra2 = np.where(ATS_2<np.sum(Pot_ATS2),(ATS_2/np.sum(Pot_ATS2)), 1)\n",
      "/tmp/ipykernel_55/3896315690.py:62: RuntimeWarning: invalid value encountered in scalar divide\n",
      "  AD_ra2 = np.where(ATS_2<np.sum(Pot_ATS2),(ATS_2/np.sum(Pot_ATS2)), 1)\n"
     ]
    },
    {
     "name": "stdout",
     "output_type": "stream",
     "text": [
      "Iteration completed \n",
      "Area distributed after step 4: 2\n",
      "Iteration completed \n",
      "Area distributed after step 4: 0\n",
      "Iteration completed \n",
      "Area distributed after step 4: 0\n"
     ]
    },
    {
     "name": "stderr",
     "output_type": "stream",
     "text": [
      "/tmp/ipykernel_55/3896315690.py:62: RuntimeWarning: invalid value encountered in scalar divide\n",
      "  AD_ra2 = np.where(ATS_2<np.sum(Pot_ATS2),(ATS_2/np.sum(Pot_ATS2)), 1)\n",
      "/tmp/ipykernel_55/3896315690.py:62: RuntimeWarning: invalid value encountered in scalar divide\n",
      "  AD_ra2 = np.where(ATS_2<np.sum(Pot_ATS2),(ATS_2/np.sum(Pot_ATS2)), 1)\n",
      "/tmp/ipykernel_55/3896315690.py:62: RuntimeWarning: invalid value encountered in scalar divide\n",
      "  AD_ra2 = np.where(ATS_2<np.sum(Pot_ATS2),(ATS_2/np.sum(Pot_ATS2)), 1)\n"
     ]
    },
    {
     "name": "stdout",
     "output_type": "stream",
     "text": [
      "Iteration completed \n",
      "Area distributed after step 4: 0\n",
      "Iteration completed \n",
      "Area distributed after step 4: 0\n"
     ]
    },
    {
     "name": "stderr",
     "output_type": "stream",
     "text": [
      "/tmp/ipykernel_55/3896315690.py:62: RuntimeWarning: invalid value encountered in scalar divide\n",
      "  AD_ra2 = np.where(ATS_2<np.sum(Pot_ATS2),(ATS_2/np.sum(Pot_ATS2)), 1)\n",
      "/tmp/ipykernel_55/3896315690.py:62: RuntimeWarning: invalid value encountered in scalar divide\n",
      "  AD_ra2 = np.where(ATS_2<np.sum(Pot_ATS2),(ATS_2/np.sum(Pot_ATS2)), 1)\n"
     ]
    },
    {
     "name": "stdout",
     "output_type": "stream",
     "text": [
      "Iteration completed \n",
      "Area distributed after step 4: 0\n",
      "Iteration completed \n",
      "Area distributed after step 4: 0\n"
     ]
    },
    {
     "name": "stderr",
     "output_type": "stream",
     "text": [
      "/tmp/ipykernel_55/3896315690.py:62: RuntimeWarning: invalid value encountered in scalar divide\n",
      "  AD_ra2 = np.where(ATS_2<np.sum(Pot_ATS2),(ATS_2/np.sum(Pot_ATS2)), 1)\n",
      "/tmp/ipykernel_55/3896315690.py:62: RuntimeWarning: invalid value encountered in scalar divide\n",
      "  AD_ra2 = np.where(ATS_2<np.sum(Pot_ATS2),(ATS_2/np.sum(Pot_ATS2)), 1)\n"
     ]
    },
    {
     "name": "stdout",
     "output_type": "stream",
     "text": [
      "Iteration completed \n",
      "Area distributed after step 4: 0\n",
      "Iteration completed \n",
      "Area distributed after step 4: 0\n",
      "Iteration completed \n",
      "Area distributed after step 4: 0\n"
     ]
    },
    {
     "name": "stderr",
     "output_type": "stream",
     "text": [
      "/tmp/ipykernel_55/3896315690.py:62: RuntimeWarning: invalid value encountered in scalar divide\n",
      "  AD_ra2 = np.where(ATS_2<np.sum(Pot_ATS2),(ATS_2/np.sum(Pot_ATS2)), 1)\n",
      "/tmp/ipykernel_55/3896315690.py:62: RuntimeWarning: invalid value encountered in scalar divide\n",
      "  AD_ra2 = np.where(ATS_2<np.sum(Pot_ATS2),(ATS_2/np.sum(Pot_ATS2)), 1)\n",
      "/tmp/ipykernel_55/3896315690.py:62: RuntimeWarning: invalid value encountered in scalar divide\n",
      "  AD_ra2 = np.where(ATS_2<np.sum(Pot_ATS2),(ATS_2/np.sum(Pot_ATS2)), 1)\n"
     ]
    },
    {
     "name": "stdout",
     "output_type": "stream",
     "text": [
      "Iteration completed \n",
      "Area distributed after step 4: 0\n",
      "Iteration completed \n",
      "Area distributed after step 4: 0\n"
     ]
    },
    {
     "name": "stderr",
     "output_type": "stream",
     "text": [
      "/tmp/ipykernel_55/3896315690.py:62: RuntimeWarning: invalid value encountered in scalar divide\n",
      "  AD_ra2 = np.where(ATS_2<np.sum(Pot_ATS2),(ATS_2/np.sum(Pot_ATS2)), 1)\n",
      "/tmp/ipykernel_55/3896315690.py:62: RuntimeWarning: invalid value encountered in scalar divide\n",
      "  AD_ra2 = np.where(ATS_2<np.sum(Pot_ATS2),(ATS_2/np.sum(Pot_ATS2)), 1)\n"
     ]
    },
    {
     "name": "stdout",
     "output_type": "stream",
     "text": [
      "Iteration completed \n",
      "Area distributed after step 4: 0\n",
      "Iteration completed \n",
      "Area distributed after step 4: 0\n",
      "Iteration completed \n",
      "Area distributed after step 4: 0\n"
     ]
    },
    {
     "name": "stderr",
     "output_type": "stream",
     "text": [
      "/tmp/ipykernel_55/3896315690.py:62: RuntimeWarning: invalid value encountered in scalar divide\n",
      "  AD_ra2 = np.where(ATS_2<np.sum(Pot_ATS2),(ATS_2/np.sum(Pot_ATS2)), 1)\n",
      "/tmp/ipykernel_55/3896315690.py:62: RuntimeWarning: invalid value encountered in scalar divide\n",
      "  AD_ra2 = np.where(ATS_2<np.sum(Pot_ATS2),(ATS_2/np.sum(Pot_ATS2)), 1)\n",
      "/tmp/ipykernel_55/3896315690.py:62: RuntimeWarning: invalid value encountered in scalar divide\n",
      "  AD_ra2 = np.where(ATS_2<np.sum(Pot_ATS2),(ATS_2/np.sum(Pot_ATS2)), 1)\n"
     ]
    },
    {
     "name": "stdout",
     "output_type": "stream",
     "text": [
      "Iteration completed \n",
      "Area distributed after step 4: 0\n",
      "Iteration completed \n",
      "Area distributed after step 4: 0\n"
     ]
    },
    {
     "name": "stderr",
     "output_type": "stream",
     "text": [
      "/tmp/ipykernel_55/3896315690.py:62: RuntimeWarning: invalid value encountered in scalar divide\n",
      "  AD_ra2 = np.where(ATS_2<np.sum(Pot_ATS2),(ATS_2/np.sum(Pot_ATS2)), 1)\n",
      "/tmp/ipykernel_55/3896315690.py:62: RuntimeWarning: invalid value encountered in scalar divide\n",
      "  AD_ra2 = np.where(ATS_2<np.sum(Pot_ATS2),(ATS_2/np.sum(Pot_ATS2)), 1)\n",
      "/tmp/ipykernel_55/3896315690.py:62: RuntimeWarning: invalid value encountered in scalar divide\n",
      "  AD_ra2 = np.where(ATS_2<np.sum(Pot_ATS2),(ATS_2/np.sum(Pot_ATS2)), 1)\n",
      "/tmp/ipykernel_55/3896315690.py:62: RuntimeWarning: invalid value encountered in scalar divide\n",
      "  AD_ra2 = np.where(ATS_2<np.sum(Pot_ATS2),(ATS_2/np.sum(Pot_ATS2)), 1)\n",
      "/tmp/ipykernel_55/3896315690.py:62: RuntimeWarning: invalid value encountered in scalar divide\n",
      "  AD_ra2 = np.where(ATS_2<np.sum(Pot_ATS2),(ATS_2/np.sum(Pot_ATS2)), 1)\n"
     ]
    },
    {
     "name": "stdout",
     "output_type": "stream",
     "text": [
      "Iteration completed \n",
      "Area distributed after step 4: 0\n",
      "Iteration completed \n",
      "Area distributed after step 4: 0\n",
      "3560029\n",
      "Iteration completed \n",
      "Area distributed after step 4: 1410\n",
      "Iteration completed \n",
      "Area distributed after step 4: 1410\n",
      "Iteration completed \n",
      "Area distributed after step 4: 19\n",
      "Iteration completed \n",
      "Area distributed after step 4: 2\n",
      "Iteration completed \n",
      "Area distributed after step 4: 0\n",
      "Iteration completed \n",
      "Area distributed after step 4: 0\n",
      "Iteration completed \n",
      "Area distributed after step 4: 0\n",
      "Iteration completed \n",
      "Area distributed after step 4: 0\n"
     ]
    },
    {
     "name": "stderr",
     "output_type": "stream",
     "text": [
      "/tmp/ipykernel_55/3896315690.py:62: RuntimeWarning: invalid value encountered in scalar divide\n",
      "  AD_ra2 = np.where(ATS_2<np.sum(Pot_ATS2),(ATS_2/np.sum(Pot_ATS2)), 1)\n"
     ]
    },
    {
     "name": "stdout",
     "output_type": "stream",
     "text": [
      "Iteration completed \n",
      "Area distributed after step 4: 0\n",
      "Iteration completed \n",
      "Area distributed after step 4: 0\n",
      "Iteration completed \n",
      "Area distributed after step 4: 0\n",
      "Iteration completed \n",
      "Area distributed after step 4: 0\n",
      "Iteration completed \n",
      "Area distributed after step 4: 0\n",
      "Iteration completed \n",
      "Area distributed after step 4: 0\n",
      "Iteration completed \n",
      "Area distributed after step 4: 0\n",
      "Iteration completed \n",
      "Area distributed after step 4: 0\n",
      "Iteration completed \n",
      "Area distributed after step 4: 0\n"
     ]
    },
    {
     "name": "stderr",
     "output_type": "stream",
     "text": [
      "/tmp/ipykernel_55/3896315690.py:62: RuntimeWarning: invalid value encountered in scalar divide\n",
      "  AD_ra2 = np.where(ATS_2<np.sum(Pot_ATS2),(ATS_2/np.sum(Pot_ATS2)), 1)\n"
     ]
    },
    {
     "name": "stdout",
     "output_type": "stream",
     "text": [
      "Iteration completed \n",
      "Area distributed after step 4: 0\n",
      "Iteration completed \n",
      "Area distributed after step 4: 0\n",
      "Iteration completed \n",
      "Area distributed after step 4: 0\n",
      "Iteration completed \n",
      "Area distributed after step 4: 0\n",
      "Iteration completed \n",
      "Area distributed after step 4: 0\n",
      "Iteration completed \n",
      "Area distributed after step 4: 0\n",
      "Iteration completed \n",
      "Area distributed after step 4: 0\n",
      "Iteration completed \n",
      "Area distributed after step 4: 0\n",
      "Iteration completed \n",
      "Area distributed after step 4: 0\n",
      "3560030\n",
      "Iteration completed \n",
      "Area distributed after step 4: 1196\n",
      "Iteration completed \n",
      "Area distributed after step 4: 1196\n",
      "Iteration completed \n",
      "Area distributed after step 4: 324\n",
      "Iteration completed \n",
      "Area distributed after step 4: 30\n",
      "Iteration completed \n",
      "Area distributed after step 4: 1\n",
      "Iteration completed \n",
      "Area distributed after step 4: 1\n",
      "Iteration completed \n",
      "Area distributed after step 4: 1\n",
      "Iteration completed \n",
      "Area distributed after step 4: 0\n",
      "Iteration completed \n",
      "Area distributed after step 4: 0\n",
      "Iteration completed \n",
      "Area distributed after step 4: 0\n",
      "Iteration completed \n",
      "Area distributed after step 4: 0\n",
      "Iteration completed \n",
      "Area distributed after step 4: 0\n",
      "Iteration completed \n",
      "Area distributed after step 4: 0\n"
     ]
    },
    {
     "name": "stderr",
     "output_type": "stream",
     "text": [
      "/tmp/ipykernel_55/3896315690.py:62: RuntimeWarning: invalid value encountered in scalar divide\n",
      "  AD_ra2 = np.where(ATS_2<np.sum(Pot_ATS2),(ATS_2/np.sum(Pot_ATS2)), 1)\n",
      "/tmp/ipykernel_55/3896315690.py:62: RuntimeWarning: invalid value encountered in scalar divide\n",
      "  AD_ra2 = np.where(ATS_2<np.sum(Pot_ATS2),(ATS_2/np.sum(Pot_ATS2)), 1)\n",
      "/tmp/ipykernel_55/3896315690.py:62: RuntimeWarning: invalid value encountered in scalar divide\n",
      "  AD_ra2 = np.where(ATS_2<np.sum(Pot_ATS2),(ATS_2/np.sum(Pot_ATS2)), 1)\n"
     ]
    },
    {
     "name": "stdout",
     "output_type": "stream",
     "text": [
      "Iteration completed \n",
      "Area distributed after step 4: 0\n",
      "Iteration completed \n",
      "Area distributed after step 4: 0\n",
      "Iteration completed \n",
      "Area distributed after step 4: 0\n",
      "Iteration completed \n",
      "Area distributed after step 4: 0\n",
      "Iteration completed \n",
      "Area distributed after step 4: 0\n",
      "Iteration completed \n",
      "Area distributed after step 4: 0\n",
      "Iteration completed \n",
      "Area distributed after step 4: 0\n"
     ]
    },
    {
     "name": "stderr",
     "output_type": "stream",
     "text": [
      "/tmp/ipykernel_55/3896315690.py:62: RuntimeWarning: invalid value encountered in scalar divide\n",
      "  AD_ra2 = np.where(ATS_2<np.sum(Pot_ATS2),(ATS_2/np.sum(Pot_ATS2)), 1)\n"
     ]
    },
    {
     "name": "stdout",
     "output_type": "stream",
     "text": [
      "Iteration completed \n",
      "Area distributed after step 4: 0\n",
      "Iteration completed \n",
      "Area distributed after step 4: 0\n",
      "Iteration completed \n",
      "Area distributed after step 4: 0\n",
      "Iteration completed \n",
      "Area distributed after step 4: 0\n",
      "Iteration completed \n",
      "Area distributed after step 4: 0\n",
      "Iteration completed \n",
      "Area distributed after step 4: 0\n",
      "3560031\n",
      "Iteration completed \n",
      "Area distributed after step 4: 5812\n",
      "Iteration completed \n",
      "Area distributed after step 4: 5812\n",
      "Iteration completed \n",
      "Area distributed after step 4: 159\n",
      "[11 12  1  2  3]\n",
      "../scratch/Irrigated/District/00/3560031/Rapeseed/November.tiff\n",
      "<osgeo.gdal.Dataset; proxy of <Swig Object of type 'GDALDatasetShadow *' at 0x7fc8c834d7d0> >\n",
      "TIFF file saved successfully @ ../scratch/Irrigated/District/00/3560031/Rapeseed/November.tiff\n",
      "../scratch/Irrigated/District/00/3560031/Rapeseed/December.tiff\n",
      "<osgeo.gdal.Dataset; proxy of <Swig Object of type 'GDALDatasetShadow *' at 0x7fc8c834c840> >\n",
      "TIFF file saved successfully @ ../scratch/Irrigated/District/00/3560031/Rapeseed/December.tiff\n",
      "../scratch/Irrigated/District/00/3560031/Rapeseed/January.tiff\n",
      "<osgeo.gdal.Dataset; proxy of <Swig Object of type 'GDALDatasetShadow *' at 0x7fc8c834c0c0> >\n",
      "TIFF file saved successfully @ ../scratch/Irrigated/District/00/3560031/Rapeseed/January.tiff\n",
      "../scratch/Irrigated/District/00/3560031/Rapeseed/February.tiff\n",
      "<osgeo.gdal.Dataset; proxy of <Swig Object of type 'GDALDatasetShadow *' at 0x7fc8c834d830> >\n",
      "TIFF file saved successfully @ ../scratch/Irrigated/District/00/3560031/Rapeseed/February.tiff\n",
      "../scratch/Irrigated/District/00/3560031/Rapeseed/March.tiff\n",
      "<osgeo.gdal.Dataset; proxy of <Swig Object of type 'GDALDatasetShadow *' at 0x7fc8c834d0b0> >\n",
      "TIFF file saved successfully @ ../scratch/Irrigated/District/00/3560031/Rapeseed/March.tiff\n",
      "Iteration completed \n",
      "Area distributed after step 4: 22\n",
      "Iteration completed \n",
      "Area distributed after step 4: 7\n",
      "Iteration completed \n",
      "Area distributed after step 4: 6\n",
      "Iteration completed \n",
      "Area distributed after step 4: 0\n"
     ]
    },
    {
     "name": "stderr",
     "output_type": "stream",
     "text": [
      "/tmp/ipykernel_55/3896315690.py:62: RuntimeWarning: invalid value encountered in scalar divide\n",
      "  AD_ra2 = np.where(ATS_2<np.sum(Pot_ATS2),(ATS_2/np.sum(Pot_ATS2)), 1)\n"
     ]
    },
    {
     "name": "stdout",
     "output_type": "stream",
     "text": [
      "Iteration completed \n",
      "Area distributed after step 4: 0\n",
      "Iteration completed \n",
      "Area distributed after step 4: 0\n",
      "Iteration completed \n",
      "Area distributed after step 4: 0\n"
     ]
    },
    {
     "name": "stderr",
     "output_type": "stream",
     "text": [
      "/tmp/ipykernel_55/3896315690.py:62: RuntimeWarning: invalid value encountered in scalar divide\n",
      "  AD_ra2 = np.where(ATS_2<np.sum(Pot_ATS2),(ATS_2/np.sum(Pot_ATS2)), 1)\n"
     ]
    },
    {
     "name": "stdout",
     "output_type": "stream",
     "text": [
      "Iteration completed \n",
      "Area distributed after step 4: 0\n",
      "Iteration completed \n",
      "Area distributed after step 4: 0\n",
      "Iteration completed \n",
      "Area distributed after step 4: 0\n",
      "Iteration completed \n",
      "Area distributed after step 4: 0\n",
      "Iteration completed \n",
      "Area distributed after step 4: 0\n",
      "Iteration completed \n",
      "Area distributed after step 4: 0\n",
      "Iteration completed \n",
      "Area distributed after step 4: 0\n"
     ]
    },
    {
     "name": "stderr",
     "output_type": "stream",
     "text": [
      "/tmp/ipykernel_55/3896315690.py:62: RuntimeWarning: invalid value encountered in scalar divide\n",
      "  AD_ra2 = np.where(ATS_2<np.sum(Pot_ATS2),(ATS_2/np.sum(Pot_ATS2)), 1)\n"
     ]
    },
    {
     "name": "stdout",
     "output_type": "stream",
     "text": [
      "Iteration completed \n",
      "Area distributed after step 4: 0\n",
      "Iteration completed \n",
      "Area distributed after step 4: 0\n",
      "Iteration completed \n",
      "Area distributed after step 4: 0\n",
      "Iteration completed \n",
      "Area distributed after step 4: 0\n",
      "Iteration completed \n",
      "Area distributed after step 4: 0\n",
      "Iteration completed \n",
      "Area distributed after step 4: 0\n",
      "Iteration completed \n",
      "Area distributed after step 4: 0\n",
      "Iteration completed \n",
      "Area distributed after step 4: 0\n",
      "3560032\n",
      "Iteration completed \n",
      "Area distributed after step 4: 563\n",
      "Iteration completed \n",
      "Area distributed after step 4: 563\n",
      "Iteration completed \n",
      "Area distributed after step 4: 27\n"
     ]
    },
    {
     "name": "stderr",
     "output_type": "stream",
     "text": [
      "/tmp/ipykernel_55/3896315690.py:62: RuntimeWarning: invalid value encountered in scalar divide\n",
      "  AD_ra2 = np.where(ATS_2<np.sum(Pot_ATS2),(ATS_2/np.sum(Pot_ATS2)), 1)\n",
      "/tmp/ipykernel_55/3896315690.py:62: RuntimeWarning: invalid value encountered in scalar divide\n",
      "  AD_ra2 = np.where(ATS_2<np.sum(Pot_ATS2),(ATS_2/np.sum(Pot_ATS2)), 1)\n",
      "/tmp/ipykernel_55/3896315690.py:62: RuntimeWarning: invalid value encountered in scalar divide\n",
      "  AD_ra2 = np.where(ATS_2<np.sum(Pot_ATS2),(ATS_2/np.sum(Pot_ATS2)), 1)\n",
      "/tmp/ipykernel_55/3896315690.py:62: RuntimeWarning: invalid value encountered in scalar divide\n",
      "  AD_ra2 = np.where(ATS_2<np.sum(Pot_ATS2),(ATS_2/np.sum(Pot_ATS2)), 1)\n",
      "/tmp/ipykernel_55/3896315690.py:62: RuntimeWarning: invalid value encountered in scalar divide\n",
      "  AD_ra2 = np.where(ATS_2<np.sum(Pot_ATS2),(ATS_2/np.sum(Pot_ATS2)), 1)\n"
     ]
    },
    {
     "name": "stdout",
     "output_type": "stream",
     "text": [
      "Iteration completed \n",
      "Area distributed after step 4: 5\n",
      "Iteration completed \n",
      "Area distributed after step 4: 1\n",
      "Iteration completed \n",
      "Area distributed after step 4: 1\n",
      "Iteration completed \n",
      "Area distributed after step 4: 0\n",
      "Iteration completed \n",
      "Area distributed after step 4: 0\n",
      "Iteration completed \n",
      "Area distributed after step 4: 0\n"
     ]
    },
    {
     "name": "stderr",
     "output_type": "stream",
     "text": [
      "/tmp/ipykernel_55/3896315690.py:62: RuntimeWarning: invalid value encountered in scalar divide\n",
      "  AD_ra2 = np.where(ATS_2<np.sum(Pot_ATS2),(ATS_2/np.sum(Pot_ATS2)), 1)\n",
      "/tmp/ipykernel_55/3896315690.py:62: RuntimeWarning: invalid value encountered in scalar divide\n",
      "  AD_ra2 = np.where(ATS_2<np.sum(Pot_ATS2),(ATS_2/np.sum(Pot_ATS2)), 1)\n",
      "/tmp/ipykernel_55/3896315690.py:62: RuntimeWarning: invalid value encountered in scalar divide\n",
      "  AD_ra2 = np.where(ATS_2<np.sum(Pot_ATS2),(ATS_2/np.sum(Pot_ATS2)), 1)\n",
      "/tmp/ipykernel_55/3896315690.py:62: RuntimeWarning: invalid value encountered in scalar divide\n",
      "  AD_ra2 = np.where(ATS_2<np.sum(Pot_ATS2),(ATS_2/np.sum(Pot_ATS2)), 1)\n",
      "/tmp/ipykernel_55/3896315690.py:62: RuntimeWarning: invalid value encountered in scalar divide\n",
      "  AD_ra2 = np.where(ATS_2<np.sum(Pot_ATS2),(ATS_2/np.sum(Pot_ATS2)), 1)\n",
      "/tmp/ipykernel_55/3896315690.py:62: RuntimeWarning: invalid value encountered in scalar divide\n",
      "  AD_ra2 = np.where(ATS_2<np.sum(Pot_ATS2),(ATS_2/np.sum(Pot_ATS2)), 1)\n",
      "/tmp/ipykernel_55/3896315690.py:62: RuntimeWarning: invalid value encountered in scalar divide\n",
      "  AD_ra2 = np.where(ATS_2<np.sum(Pot_ATS2),(ATS_2/np.sum(Pot_ATS2)), 1)\n",
      "/tmp/ipykernel_55/3896315690.py:62: RuntimeWarning: invalid value encountered in scalar divide\n",
      "  AD_ra2 = np.where(ATS_2<np.sum(Pot_ATS2),(ATS_2/np.sum(Pot_ATS2)), 1)\n"
     ]
    },
    {
     "name": "stdout",
     "output_type": "stream",
     "text": [
      "Iteration completed \n",
      "Area distributed after step 4: 0\n",
      "Iteration completed \n",
      "Area distributed after step 4: 0\n",
      "Iteration completed \n",
      "Area distributed after step 4: 0\n",
      "Iteration completed \n",
      "Area distributed after step 4: 0\n"
     ]
    },
    {
     "name": "stderr",
     "output_type": "stream",
     "text": [
      "/tmp/ipykernel_55/3896315690.py:62: RuntimeWarning: invalid value encountered in scalar divide\n",
      "  AD_ra2 = np.where(ATS_2<np.sum(Pot_ATS2),(ATS_2/np.sum(Pot_ATS2)), 1)\n",
      "/tmp/ipykernel_55/3896315690.py:62: RuntimeWarning: invalid value encountered in scalar divide\n",
      "  AD_ra2 = np.where(ATS_2<np.sum(Pot_ATS2),(ATS_2/np.sum(Pot_ATS2)), 1)\n",
      "/tmp/ipykernel_55/3896315690.py:62: RuntimeWarning: invalid value encountered in scalar divide\n",
      "  AD_ra2 = np.where(ATS_2<np.sum(Pot_ATS2),(ATS_2/np.sum(Pot_ATS2)), 1)\n",
      "/tmp/ipykernel_55/3896315690.py:62: RuntimeWarning: invalid value encountered in scalar divide\n",
      "  AD_ra2 = np.where(ATS_2<np.sum(Pot_ATS2),(ATS_2/np.sum(Pot_ATS2)), 1)\n",
      "/tmp/ipykernel_55/3896315690.py:62: RuntimeWarning: invalid value encountered in scalar divide\n",
      "  AD_ra2 = np.where(ATS_2<np.sum(Pot_ATS2),(ATS_2/np.sum(Pot_ATS2)), 1)\n",
      "/tmp/ipykernel_55/3896315690.py:62: RuntimeWarning: invalid value encountered in scalar divide\n",
      "  AD_ra2 = np.where(ATS_2<np.sum(Pot_ATS2),(ATS_2/np.sum(Pot_ATS2)), 1)\n"
     ]
    },
    {
     "name": "stdout",
     "output_type": "stream",
     "text": [
      "Iteration completed \n",
      "Area distributed after step 4: 0\n",
      "Iteration completed \n",
      "Area distributed after step 4: 0\n",
      "Iteration completed \n",
      "Area distributed after step 4: 0\n",
      "Iteration completed \n",
      "Area distributed after step 4: 0\n",
      "Iteration completed \n",
      "Area distributed after step 4: 0\n",
      "Iteration completed \n",
      "Area distributed after step 4: 0\n"
     ]
    },
    {
     "name": "stderr",
     "output_type": "stream",
     "text": [
      "/tmp/ipykernel_55/3896315690.py:62: RuntimeWarning: invalid value encountered in scalar divide\n",
      "  AD_ra2 = np.where(ATS_2<np.sum(Pot_ATS2),(ATS_2/np.sum(Pot_ATS2)), 1)\n",
      "/tmp/ipykernel_55/3896315690.py:62: RuntimeWarning: invalid value encountered in scalar divide\n",
      "  AD_ra2 = np.where(ATS_2<np.sum(Pot_ATS2),(ATS_2/np.sum(Pot_ATS2)), 1)\n",
      "/tmp/ipykernel_55/3896315690.py:62: RuntimeWarning: invalid value encountered in scalar divide\n",
      "  AD_ra2 = np.where(ATS_2<np.sum(Pot_ATS2),(ATS_2/np.sum(Pot_ATS2)), 1)\n",
      "/tmp/ipykernel_55/3896315690.py:62: RuntimeWarning: invalid value encountered in scalar divide\n",
      "  AD_ra2 = np.where(ATS_2<np.sum(Pot_ATS2),(ATS_2/np.sum(Pot_ATS2)), 1)\n",
      "/tmp/ipykernel_55/3896315690.py:62: RuntimeWarning: invalid value encountered in scalar divide\n",
      "  AD_ra2 = np.where(ATS_2<np.sum(Pot_ATS2),(ATS_2/np.sum(Pot_ATS2)), 1)\n",
      "/tmp/ipykernel_55/3896315690.py:62: RuntimeWarning: invalid value encountered in scalar divide\n",
      "  AD_ra2 = np.where(ATS_2<np.sum(Pot_ATS2),(ATS_2/np.sum(Pot_ATS2)), 1)\n"
     ]
    },
    {
     "name": "stdout",
     "output_type": "stream",
     "text": [
      "Iteration completed \n",
      "Area distributed after step 4: 0\n",
      "Iteration completed \n",
      "Area distributed after step 4: 0\n",
      "Iteration completed \n",
      "Area distributed after step 4: 0\n",
      "Iteration completed \n",
      "Area distributed after step 4: 0\n",
      "Iteration completed \n",
      "Area distributed after step 4: 0\n"
     ]
    },
    {
     "name": "stderr",
     "output_type": "stream",
     "text": [
      "/tmp/ipykernel_55/3896315690.py:62: RuntimeWarning: invalid value encountered in scalar divide\n",
      "  AD_ra2 = np.where(ATS_2<np.sum(Pot_ATS2),(ATS_2/np.sum(Pot_ATS2)), 1)\n",
      "/tmp/ipykernel_55/3896315690.py:62: RuntimeWarning: invalid value encountered in scalar divide\n",
      "  AD_ra2 = np.where(ATS_2<np.sum(Pot_ATS2),(ATS_2/np.sum(Pot_ATS2)), 1)\n",
      "/tmp/ipykernel_55/3896315690.py:62: RuntimeWarning: invalid value encountered in scalar divide\n",
      "  AD_ra2 = np.where(ATS_2<np.sum(Pot_ATS2),(ATS_2/np.sum(Pot_ATS2)), 1)\n",
      "/tmp/ipykernel_55/3896315690.py:62: RuntimeWarning: invalid value encountered in scalar divide\n",
      "  AD_ra2 = np.where(ATS_2<np.sum(Pot_ATS2),(ATS_2/np.sum(Pot_ATS2)), 1)\n"
     ]
    },
    {
     "name": "stdout",
     "output_type": "stream",
     "text": [
      "Iteration completed \n",
      "Area distributed after step 4: 0\n",
      "Iteration completed \n",
      "Area distributed after step 4: 0\n",
      "3560033\n"
     ]
    },
    {
     "name": "stderr",
     "output_type": "stream",
     "text": [
      "/tmp/ipykernel_55/3896315690.py:62: RuntimeWarning: invalid value encountered in scalar divide\n",
      "  AD_ra2 = np.where(ATS_2<np.sum(Pot_ATS2),(ATS_2/np.sum(Pot_ATS2)), 1)\n"
     ]
    },
    {
     "name": "stdout",
     "output_type": "stream",
     "text": [
      "Iteration completed \n",
      "Area distributed after step 4: 563\n"
     ]
    },
    {
     "name": "stderr",
     "output_type": "stream",
     "text": [
      "/tmp/ipykernel_55/3896315690.py:62: RuntimeWarning: invalid value encountered in scalar divide\n",
      "  AD_ra2 = np.where(ATS_2<np.sum(Pot_ATS2),(ATS_2/np.sum(Pot_ATS2)), 1)\n"
     ]
    },
    {
     "name": "stdout",
     "output_type": "stream",
     "text": [
      "Iteration completed \n",
      "Area distributed after step 4: 563\n"
     ]
    },
    {
     "name": "stderr",
     "output_type": "stream",
     "text": [
      "/tmp/ipykernel_55/3896315690.py:62: RuntimeWarning: invalid value encountered in scalar divide\n",
      "  AD_ra2 = np.where(ATS_2<np.sum(Pot_ATS2),(ATS_2/np.sum(Pot_ATS2)), 1)\n"
     ]
    },
    {
     "name": "stdout",
     "output_type": "stream",
     "text": [
      "Iteration completed \n",
      "Area distributed after step 4: 45\n"
     ]
    },
    {
     "name": "stderr",
     "output_type": "stream",
     "text": [
      "/tmp/ipykernel_55/3896315690.py:62: RuntimeWarning: invalid value encountered in scalar divide\n",
      "  AD_ra2 = np.where(ATS_2<np.sum(Pot_ATS2),(ATS_2/np.sum(Pot_ATS2)), 1)\n"
     ]
    },
    {
     "name": "stdout",
     "output_type": "stream",
     "text": [
      "Iteration completed \n",
      "Area distributed after step 4: 7\n"
     ]
    },
    {
     "name": "stderr",
     "output_type": "stream",
     "text": [
      "/tmp/ipykernel_55/3896315690.py:62: RuntimeWarning: invalid value encountered in scalar divide\n",
      "  AD_ra2 = np.where(ATS_2<np.sum(Pot_ATS2),(ATS_2/np.sum(Pot_ATS2)), 1)\n"
     ]
    },
    {
     "name": "stdout",
     "output_type": "stream",
     "text": [
      "Iteration completed \n",
      "Area distributed after step 4: 1\n"
     ]
    },
    {
     "name": "stderr",
     "output_type": "stream",
     "text": [
      "/tmp/ipykernel_55/3896315690.py:62: RuntimeWarning: invalid value encountered in scalar divide\n",
      "  AD_ra2 = np.where(ATS_2<np.sum(Pot_ATS2),(ATS_2/np.sum(Pot_ATS2)), 1)\n"
     ]
    },
    {
     "name": "stdout",
     "output_type": "stream",
     "text": [
      "Iteration completed \n",
      "Area distributed after step 4: 0\n"
     ]
    },
    {
     "name": "stderr",
     "output_type": "stream",
     "text": [
      "/tmp/ipykernel_55/3896315690.py:62: RuntimeWarning: invalid value encountered in scalar divide\n",
      "  AD_ra2 = np.where(ATS_2<np.sum(Pot_ATS2),(ATS_2/np.sum(Pot_ATS2)), 1)\n"
     ]
    },
    {
     "name": "stdout",
     "output_type": "stream",
     "text": [
      "Iteration completed \n",
      "Area distributed after step 4: 0\n"
     ]
    },
    {
     "name": "stderr",
     "output_type": "stream",
     "text": [
      "/tmp/ipykernel_55/3896315690.py:62: RuntimeWarning: invalid value encountered in scalar divide\n",
      "  AD_ra2 = np.where(ATS_2<np.sum(Pot_ATS2),(ATS_2/np.sum(Pot_ATS2)), 1)\n"
     ]
    },
    {
     "name": "stdout",
     "output_type": "stream",
     "text": [
      "Iteration completed \n",
      "Area distributed after step 4: 0\n"
     ]
    },
    {
     "name": "stderr",
     "output_type": "stream",
     "text": [
      "/tmp/ipykernel_55/3896315690.py:62: RuntimeWarning: invalid value encountered in scalar divide\n",
      "  AD_ra2 = np.where(ATS_2<np.sum(Pot_ATS2),(ATS_2/np.sum(Pot_ATS2)), 1)\n"
     ]
    },
    {
     "name": "stdout",
     "output_type": "stream",
     "text": [
      "Iteration completed \n",
      "Area distributed after step 4: 0\n"
     ]
    },
    {
     "name": "stderr",
     "output_type": "stream",
     "text": [
      "/tmp/ipykernel_55/3896315690.py:62: RuntimeWarning: invalid value encountered in scalar divide\n",
      "  AD_ra2 = np.where(ATS_2<np.sum(Pot_ATS2),(ATS_2/np.sum(Pot_ATS2)), 1)\n",
      "/tmp/ipykernel_55/3896315690.py:62: RuntimeWarning: invalid value encountered in scalar divide\n",
      "  AD_ra2 = np.where(ATS_2<np.sum(Pot_ATS2),(ATS_2/np.sum(Pot_ATS2)), 1)\n"
     ]
    },
    {
     "name": "stdout",
     "output_type": "stream",
     "text": [
      "Iteration completed \n",
      "Area distributed after step 4: 0\n"
     ]
    },
    {
     "name": "stderr",
     "output_type": "stream",
     "text": [
      "/tmp/ipykernel_55/3896315690.py:62: RuntimeWarning: invalid value encountered in scalar divide\n",
      "  AD_ra2 = np.where(ATS_2<np.sum(Pot_ATS2),(ATS_2/np.sum(Pot_ATS2)), 1)\n"
     ]
    },
    {
     "name": "stdout",
     "output_type": "stream",
     "text": [
      "Iteration completed \n",
      "Area distributed after step 4: 0\n"
     ]
    },
    {
     "name": "stderr",
     "output_type": "stream",
     "text": [
      "/tmp/ipykernel_55/3896315690.py:62: RuntimeWarning: invalid value encountered in scalar divide\n",
      "  AD_ra2 = np.where(ATS_2<np.sum(Pot_ATS2),(ATS_2/np.sum(Pot_ATS2)), 1)\n"
     ]
    },
    {
     "name": "stdout",
     "output_type": "stream",
     "text": [
      "Iteration completed \n",
      "Area distributed after step 4: 0\n"
     ]
    },
    {
     "name": "stderr",
     "output_type": "stream",
     "text": [
      "/tmp/ipykernel_55/3896315690.py:62: RuntimeWarning: invalid value encountered in scalar divide\n",
      "  AD_ra2 = np.where(ATS_2<np.sum(Pot_ATS2),(ATS_2/np.sum(Pot_ATS2)), 1)\n"
     ]
    },
    {
     "name": "stdout",
     "output_type": "stream",
     "text": [
      "Iteration completed \n",
      "Area distributed after step 4: 0\n"
     ]
    },
    {
     "name": "stderr",
     "output_type": "stream",
     "text": [
      "/tmp/ipykernel_55/3896315690.py:62: RuntimeWarning: invalid value encountered in scalar divide\n",
      "  AD_ra2 = np.where(ATS_2<np.sum(Pot_ATS2),(ATS_2/np.sum(Pot_ATS2)), 1)\n"
     ]
    },
    {
     "name": "stdout",
     "output_type": "stream",
     "text": [
      "Iteration completed \n",
      "Area distributed after step 4: 0\n"
     ]
    },
    {
     "name": "stderr",
     "output_type": "stream",
     "text": [
      "/tmp/ipykernel_55/3896315690.py:62: RuntimeWarning: invalid value encountered in scalar divide\n",
      "  AD_ra2 = np.where(ATS_2<np.sum(Pot_ATS2),(ATS_2/np.sum(Pot_ATS2)), 1)\n"
     ]
    },
    {
     "name": "stdout",
     "output_type": "stream",
     "text": [
      "Iteration completed \n",
      "Area distributed after step 4: 0\n"
     ]
    },
    {
     "name": "stderr",
     "output_type": "stream",
     "text": [
      "/tmp/ipykernel_55/3896315690.py:62: RuntimeWarning: invalid value encountered in scalar divide\n",
      "  AD_ra2 = np.where(ATS_2<np.sum(Pot_ATS2),(ATS_2/np.sum(Pot_ATS2)), 1)\n"
     ]
    },
    {
     "name": "stdout",
     "output_type": "stream",
     "text": [
      "Iteration completed \n",
      "Area distributed after step 4: 0\n"
     ]
    },
    {
     "name": "stderr",
     "output_type": "stream",
     "text": [
      "/tmp/ipykernel_55/3896315690.py:62: RuntimeWarning: invalid value encountered in scalar divide\n",
      "  AD_ra2 = np.where(ATS_2<np.sum(Pot_ATS2),(ATS_2/np.sum(Pot_ATS2)), 1)\n"
     ]
    },
    {
     "name": "stdout",
     "output_type": "stream",
     "text": [
      "Iteration completed \n",
      "Area distributed after step 4: 0\n"
     ]
    },
    {
     "name": "stderr",
     "output_type": "stream",
     "text": [
      "/tmp/ipykernel_55/3896315690.py:62: RuntimeWarning: invalid value encountered in scalar divide\n",
      "  AD_ra2 = np.where(ATS_2<np.sum(Pot_ATS2),(ATS_2/np.sum(Pot_ATS2)), 1)\n",
      "/tmp/ipykernel_55/3896315690.py:62: RuntimeWarning: invalid value encountered in scalar divide\n",
      "  AD_ra2 = np.where(ATS_2<np.sum(Pot_ATS2),(ATS_2/np.sum(Pot_ATS2)), 1)\n"
     ]
    },
    {
     "name": "stdout",
     "output_type": "stream",
     "text": [
      "Iteration completed \n",
      "Area distributed after step 4: 0\n"
     ]
    },
    {
     "name": "stderr",
     "output_type": "stream",
     "text": [
      "/tmp/ipykernel_55/3896315690.py:62: RuntimeWarning: invalid value encountered in scalar divide\n",
      "  AD_ra2 = np.where(ATS_2<np.sum(Pot_ATS2),(ATS_2/np.sum(Pot_ATS2)), 1)\n"
     ]
    },
    {
     "name": "stdout",
     "output_type": "stream",
     "text": [
      "Iteration completed \n",
      "Area distributed after step 4: 0\n"
     ]
    },
    {
     "name": "stderr",
     "output_type": "stream",
     "text": [
      "/tmp/ipykernel_55/3896315690.py:62: RuntimeWarning: invalid value encountered in scalar divide\n",
      "  AD_ra2 = np.where(ATS_2<np.sum(Pot_ATS2),(ATS_2/np.sum(Pot_ATS2)), 1)\n"
     ]
    },
    {
     "name": "stdout",
     "output_type": "stream",
     "text": [
      "Iteration completed \n",
      "Area distributed after step 4: 0\n"
     ]
    },
    {
     "name": "stderr",
     "output_type": "stream",
     "text": [
      "/tmp/ipykernel_55/3896315690.py:62: RuntimeWarning: invalid value encountered in scalar divide\n",
      "  AD_ra2 = np.where(ATS_2<np.sum(Pot_ATS2),(ATS_2/np.sum(Pot_ATS2)), 1)\n"
     ]
    },
    {
     "name": "stdout",
     "output_type": "stream",
     "text": [
      "Iteration completed \n",
      "Area distributed after step 4: 0\n"
     ]
    },
    {
     "name": "stderr",
     "output_type": "stream",
     "text": [
      "/tmp/ipykernel_55/3896315690.py:62: RuntimeWarning: invalid value encountered in scalar divide\n",
      "  AD_ra2 = np.where(ATS_2<np.sum(Pot_ATS2),(ATS_2/np.sum(Pot_ATS2)), 1)\n"
     ]
    },
    {
     "name": "stdout",
     "output_type": "stream",
     "text": [
      "Iteration completed \n",
      "Area distributed after step 4: 0\n"
     ]
    },
    {
     "name": "stderr",
     "output_type": "stream",
     "text": [
      "/tmp/ipykernel_55/3896315690.py:62: RuntimeWarning: invalid value encountered in scalar divide\n",
      "  AD_ra2 = np.where(ATS_2<np.sum(Pot_ATS2),(ATS_2/np.sum(Pot_ATS2)), 1)\n"
     ]
    },
    {
     "name": "stdout",
     "output_type": "stream",
     "text": [
      "Iteration completed \n",
      "Area distributed after step 4: 0\n"
     ]
    },
    {
     "name": "stderr",
     "output_type": "stream",
     "text": [
      "/tmp/ipykernel_55/3896315690.py:62: RuntimeWarning: invalid value encountered in scalar divide\n",
      "  AD_ra2 = np.where(ATS_2<np.sum(Pot_ATS2),(ATS_2/np.sum(Pot_ATS2)), 1)\n",
      "/tmp/ipykernel_55/3896315690.py:62: RuntimeWarning: invalid value encountered in scalar divide\n",
      "  AD_ra2 = np.where(ATS_2<np.sum(Pot_ATS2),(ATS_2/np.sum(Pot_ATS2)), 1)\n"
     ]
    },
    {
     "name": "stdout",
     "output_type": "stream",
     "text": [
      "Iteration completed \n",
      "Area distributed after step 4: 0\n"
     ]
    },
    {
     "name": "stderr",
     "output_type": "stream",
     "text": [
      "/tmp/ipykernel_55/3896315690.py:62: RuntimeWarning: invalid value encountered in scalar divide\n",
      "  AD_ra2 = np.where(ATS_2<np.sum(Pot_ATS2),(ATS_2/np.sum(Pot_ATS2)), 1)\n",
      "/tmp/ipykernel_55/3896315690.py:62: RuntimeWarning: invalid value encountered in scalar divide\n",
      "  AD_ra2 = np.where(ATS_2<np.sum(Pot_ATS2),(ATS_2/np.sum(Pot_ATS2)), 1)\n"
     ]
    },
    {
     "name": "stdout",
     "output_type": "stream",
     "text": [
      "Iteration completed \n",
      "Area distributed after step 4: 0\n"
     ]
    },
    {
     "name": "stderr",
     "output_type": "stream",
     "text": [
      "/tmp/ipykernel_55/3896315690.py:62: RuntimeWarning: invalid value encountered in scalar divide\n",
      "  AD_ra2 = np.where(ATS_2<np.sum(Pot_ATS2),(ATS_2/np.sum(Pot_ATS2)), 1)\n"
     ]
    },
    {
     "name": "stdout",
     "output_type": "stream",
     "text": [
      "Iteration completed \n",
      "Area distributed after step 4: 0\n",
      "3560034\n",
      "Iteration completed \n",
      "Area distributed after step 4: 1764\n",
      "Iteration completed \n",
      "Area distributed after step 4: 1764\n"
     ]
    },
    {
     "name": "stderr",
     "output_type": "stream",
     "text": [
      "/tmp/ipykernel_55/3896315690.py:62: RuntimeWarning: invalid value encountered in scalar divide\n",
      "  AD_ra2 = np.where(ATS_2<np.sum(Pot_ATS2),(ATS_2/np.sum(Pot_ATS2)), 1)\n",
      "/tmp/ipykernel_55/3896315690.py:62: RuntimeWarning: invalid value encountered in scalar divide\n",
      "  AD_ra2 = np.where(ATS_2<np.sum(Pot_ATS2),(ATS_2/np.sum(Pot_ATS2)), 1)\n",
      "/tmp/ipykernel_55/3896315690.py:62: RuntimeWarning: invalid value encountered in scalar divide\n",
      "  AD_ra2 = np.where(ATS_2<np.sum(Pot_ATS2),(ATS_2/np.sum(Pot_ATS2)), 1)\n"
     ]
    },
    {
     "name": "stdout",
     "output_type": "stream",
     "text": [
      "Iteration completed \n",
      "Area distributed after step 4: 0\n",
      "Iteration completed \n",
      "Area distributed after step 4: 0\n",
      "Iteration completed \n",
      "Area distributed after step 4: 0\n"
     ]
    },
    {
     "name": "stderr",
     "output_type": "stream",
     "text": [
      "/tmp/ipykernel_55/3896315690.py:62: RuntimeWarning: invalid value encountered in scalar divide\n",
      "  AD_ra2 = np.where(ATS_2<np.sum(Pot_ATS2),(ATS_2/np.sum(Pot_ATS2)), 1)\n",
      "/tmp/ipykernel_55/3896315690.py:62: RuntimeWarning: invalid value encountered in scalar divide\n",
      "  AD_ra2 = np.where(ATS_2<np.sum(Pot_ATS2),(ATS_2/np.sum(Pot_ATS2)), 1)\n",
      "/tmp/ipykernel_55/3896315690.py:62: RuntimeWarning: invalid value encountered in scalar divide\n",
      "  AD_ra2 = np.where(ATS_2<np.sum(Pot_ATS2),(ATS_2/np.sum(Pot_ATS2)), 1)\n"
     ]
    },
    {
     "name": "stdout",
     "output_type": "stream",
     "text": [
      "Iteration completed \n",
      "Area distributed after step 4: 0\n",
      "Iteration completed \n",
      "Area distributed after step 4: 0\n"
     ]
    },
    {
     "name": "stderr",
     "output_type": "stream",
     "text": [
      "/tmp/ipykernel_55/3896315690.py:62: RuntimeWarning: invalid value encountered in scalar divide\n",
      "  AD_ra2 = np.where(ATS_2<np.sum(Pot_ATS2),(ATS_2/np.sum(Pot_ATS2)), 1)\n",
      "/tmp/ipykernel_55/3896315690.py:62: RuntimeWarning: invalid value encountered in scalar divide\n",
      "  AD_ra2 = np.where(ATS_2<np.sum(Pot_ATS2),(ATS_2/np.sum(Pot_ATS2)), 1)\n",
      "/tmp/ipykernel_55/3896315690.py:62: RuntimeWarning: invalid value encountered in scalar divide\n",
      "  AD_ra2 = np.where(ATS_2<np.sum(Pot_ATS2),(ATS_2/np.sum(Pot_ATS2)), 1)\n"
     ]
    },
    {
     "name": "stdout",
     "output_type": "stream",
     "text": [
      "Iteration completed \n",
      "Area distributed after step 4: 0\n",
      "Iteration completed \n",
      "Area distributed after step 4: 0\n"
     ]
    },
    {
     "name": "stderr",
     "output_type": "stream",
     "text": [
      "/tmp/ipykernel_55/3896315690.py:62: RuntimeWarning: invalid value encountered in scalar divide\n",
      "  AD_ra2 = np.where(ATS_2<np.sum(Pot_ATS2),(ATS_2/np.sum(Pot_ATS2)), 1)\n",
      "/tmp/ipykernel_55/3896315690.py:62: RuntimeWarning: invalid value encountered in scalar divide\n",
      "  AD_ra2 = np.where(ATS_2<np.sum(Pot_ATS2),(ATS_2/np.sum(Pot_ATS2)), 1)\n"
     ]
    },
    {
     "name": "stdout",
     "output_type": "stream",
     "text": [
      "Iteration completed \n",
      "Area distributed after step 4: 0\n",
      "Iteration completed \n",
      "Area distributed after step 4: 0\n",
      "Iteration completed \n",
      "Area distributed after step 4: 0\n"
     ]
    },
    {
     "name": "stderr",
     "output_type": "stream",
     "text": [
      "/tmp/ipykernel_55/3896315690.py:62: RuntimeWarning: invalid value encountered in scalar divide\n",
      "  AD_ra2 = np.where(ATS_2<np.sum(Pot_ATS2),(ATS_2/np.sum(Pot_ATS2)), 1)\n",
      "/tmp/ipykernel_55/3896315690.py:62: RuntimeWarning: invalid value encountered in scalar divide\n",
      "  AD_ra2 = np.where(ATS_2<np.sum(Pot_ATS2),(ATS_2/np.sum(Pot_ATS2)), 1)\n",
      "/tmp/ipykernel_55/3896315690.py:62: RuntimeWarning: invalid value encountered in scalar divide\n",
      "  AD_ra2 = np.where(ATS_2<np.sum(Pot_ATS2),(ATS_2/np.sum(Pot_ATS2)), 1)\n"
     ]
    },
    {
     "name": "stdout",
     "output_type": "stream",
     "text": [
      "Iteration completed \n",
      "Area distributed after step 4: 0\n",
      "Iteration completed \n",
      "Area distributed after step 4: 0\n"
     ]
    },
    {
     "name": "stderr",
     "output_type": "stream",
     "text": [
      "/tmp/ipykernel_55/3896315690.py:62: RuntimeWarning: invalid value encountered in scalar divide\n",
      "  AD_ra2 = np.where(ATS_2<np.sum(Pot_ATS2),(ATS_2/np.sum(Pot_ATS2)), 1)\n",
      "/tmp/ipykernel_55/3896315690.py:62: RuntimeWarning: invalid value encountered in scalar divide\n",
      "  AD_ra2 = np.where(ATS_2<np.sum(Pot_ATS2),(ATS_2/np.sum(Pot_ATS2)), 1)\n",
      "/tmp/ipykernel_55/3896315690.py:62: RuntimeWarning: invalid value encountered in scalar divide\n",
      "  AD_ra2 = np.where(ATS_2<np.sum(Pot_ATS2),(ATS_2/np.sum(Pot_ATS2)), 1)\n"
     ]
    },
    {
     "name": "stdout",
     "output_type": "stream",
     "text": [
      "Iteration completed \n",
      "Area distributed after step 4: 0\n",
      "Iteration completed \n",
      "Area distributed after step 4: 0\n",
      "Iteration completed \n",
      "Area distributed after step 4: 0\n"
     ]
    },
    {
     "name": "stderr",
     "output_type": "stream",
     "text": [
      "/tmp/ipykernel_55/3896315690.py:62: RuntimeWarning: invalid value encountered in scalar divide\n",
      "  AD_ra2 = np.where(ATS_2<np.sum(Pot_ATS2),(ATS_2/np.sum(Pot_ATS2)), 1)\n",
      "/tmp/ipykernel_55/3896315690.py:62: RuntimeWarning: invalid value encountered in scalar divide\n",
      "  AD_ra2 = np.where(ATS_2<np.sum(Pot_ATS2),(ATS_2/np.sum(Pot_ATS2)), 1)\n",
      "/tmp/ipykernel_55/3896315690.py:62: RuntimeWarning: invalid value encountered in scalar divide\n",
      "  AD_ra2 = np.where(ATS_2<np.sum(Pot_ATS2),(ATS_2/np.sum(Pot_ATS2)), 1)\n"
     ]
    },
    {
     "name": "stdout",
     "output_type": "stream",
     "text": [
      "Iteration completed \n",
      "Area distributed after step 4: 0\n",
      "Iteration completed \n",
      "Area distributed after step 4: 0\n"
     ]
    },
    {
     "name": "stderr",
     "output_type": "stream",
     "text": [
      "/tmp/ipykernel_55/3896315690.py:62: RuntimeWarning: invalid value encountered in scalar divide\n",
      "  AD_ra2 = np.where(ATS_2<np.sum(Pot_ATS2),(ATS_2/np.sum(Pot_ATS2)), 1)\n",
      "/tmp/ipykernel_55/3896315690.py:62: RuntimeWarning: invalid value encountered in scalar divide\n",
      "  AD_ra2 = np.where(ATS_2<np.sum(Pot_ATS2),(ATS_2/np.sum(Pot_ATS2)), 1)\n",
      "/tmp/ipykernel_55/3896315690.py:62: RuntimeWarning: invalid value encountered in scalar divide\n",
      "  AD_ra2 = np.where(ATS_2<np.sum(Pot_ATS2),(ATS_2/np.sum(Pot_ATS2)), 1)\n"
     ]
    },
    {
     "name": "stdout",
     "output_type": "stream",
     "text": [
      "Iteration completed \n",
      "Area distributed after step 4: 0\n",
      "Iteration completed \n",
      "Area distributed after step 4: 0\n",
      "Iteration completed \n",
      "Area distributed after step 4: 0\n"
     ]
    },
    {
     "name": "stderr",
     "output_type": "stream",
     "text": [
      "/tmp/ipykernel_55/3896315690.py:62: RuntimeWarning: invalid value encountered in scalar divide\n",
      "  AD_ra2 = np.where(ATS_2<np.sum(Pot_ATS2),(ATS_2/np.sum(Pot_ATS2)), 1)\n",
      "/tmp/ipykernel_55/3896315690.py:62: RuntimeWarning: invalid value encountered in scalar divide\n",
      "  AD_ra2 = np.where(ATS_2<np.sum(Pot_ATS2),(ATS_2/np.sum(Pot_ATS2)), 1)\n",
      "/tmp/ipykernel_55/3896315690.py:62: RuntimeWarning: invalid value encountered in scalar divide\n",
      "  AD_ra2 = np.where(ATS_2<np.sum(Pot_ATS2),(ATS_2/np.sum(Pot_ATS2)), 1)\n"
     ]
    },
    {
     "name": "stdout",
     "output_type": "stream",
     "text": [
      "Iteration completed \n",
      "Area distributed after step 4: 0\n",
      "Iteration completed \n",
      "Area distributed after step 4: 0\n",
      "Iteration completed \n",
      "Area distributed after step 4: 0\n"
     ]
    },
    {
     "name": "stderr",
     "output_type": "stream",
     "text": [
      "/tmp/ipykernel_55/3896315690.py:62: RuntimeWarning: invalid value encountered in scalar divide\n",
      "  AD_ra2 = np.where(ATS_2<np.sum(Pot_ATS2),(ATS_2/np.sum(Pot_ATS2)), 1)\n",
      "/tmp/ipykernel_55/3896315690.py:62: RuntimeWarning: invalid value encountered in scalar divide\n",
      "  AD_ra2 = np.where(ATS_2<np.sum(Pot_ATS2),(ATS_2/np.sum(Pot_ATS2)), 1)\n"
     ]
    },
    {
     "name": "stdout",
     "output_type": "stream",
     "text": [
      "Iteration completed \n",
      "Area distributed after step 4: 0\n",
      "3560035\n"
     ]
    },
    {
     "name": "stderr",
     "output_type": "stream",
     "text": [
      "/tmp/ipykernel_55/3896315690.py:62: RuntimeWarning: invalid value encountered in scalar divide\n",
      "  AD_ra2 = np.where(ATS_2<np.sum(Pot_ATS2),(ATS_2/np.sum(Pot_ATS2)), 1)\n",
      "/tmp/ipykernel_55/3896315690.py:62: RuntimeWarning: invalid value encountered in scalar divide\n",
      "  AD_ra2 = np.where(ATS_2<np.sum(Pot_ATS2),(ATS_2/np.sum(Pot_ATS2)), 1)\n"
     ]
    },
    {
     "name": "stdout",
     "output_type": "stream",
     "text": [
      "Iteration completed \n",
      "Area distributed after step 4: 1865\n",
      "Iteration completed \n",
      "Area distributed after step 4: 1865\n"
     ]
    },
    {
     "name": "stderr",
     "output_type": "stream",
     "text": [
      "/tmp/ipykernel_55/3896315690.py:62: RuntimeWarning: invalid value encountered in scalar divide\n",
      "  AD_ra2 = np.where(ATS_2<np.sum(Pot_ATS2),(ATS_2/np.sum(Pot_ATS2)), 1)\n",
      "/tmp/ipykernel_55/3896315690.py:62: RuntimeWarning: invalid value encountered in scalar divide\n",
      "  AD_ra2 = np.where(ATS_2<np.sum(Pot_ATS2),(ATS_2/np.sum(Pot_ATS2)), 1)\n"
     ]
    },
    {
     "name": "stdout",
     "output_type": "stream",
     "text": [
      "Iteration completed \n",
      "Area distributed after step 4: 996\n",
      "Iteration completed \n",
      "Area distributed after step 4: 203\n"
     ]
    },
    {
     "name": "stderr",
     "output_type": "stream",
     "text": [
      "/tmp/ipykernel_55/3896315690.py:62: RuntimeWarning: invalid value encountered in scalar divide\n",
      "  AD_ra2 = np.where(ATS_2<np.sum(Pot_ATS2),(ATS_2/np.sum(Pot_ATS2)), 1)\n"
     ]
    },
    {
     "name": "stdout",
     "output_type": "stream",
     "text": [
      "Iteration completed \n",
      "Area distributed after step 4: 176\n"
     ]
    },
    {
     "name": "stderr",
     "output_type": "stream",
     "text": [
      "/tmp/ipykernel_55/3896315690.py:62: RuntimeWarning: invalid value encountered in scalar divide\n",
      "  AD_ra2 = np.where(ATS_2<np.sum(Pot_ATS2),(ATS_2/np.sum(Pot_ATS2)), 1)\n"
     ]
    },
    {
     "name": "stdout",
     "output_type": "stream",
     "text": [
      "Iteration completed \n",
      "Area distributed after step 4: 93\n"
     ]
    },
    {
     "name": "stderr",
     "output_type": "stream",
     "text": [
      "/tmp/ipykernel_55/3896315690.py:62: RuntimeWarning: invalid value encountered in scalar divide\n",
      "  AD_ra2 = np.where(ATS_2<np.sum(Pot_ATS2),(ATS_2/np.sum(Pot_ATS2)), 1)\n"
     ]
    },
    {
     "name": "stdout",
     "output_type": "stream",
     "text": [
      "Iteration completed \n",
      "Area distributed after step 4: 68\n"
     ]
    },
    {
     "name": "stderr",
     "output_type": "stream",
     "text": [
      "/tmp/ipykernel_55/3896315690.py:62: RuntimeWarning: invalid value encountered in scalar divide\n",
      "  AD_ra2 = np.where(ATS_2<np.sum(Pot_ATS2),(ATS_2/np.sum(Pot_ATS2)), 1)\n",
      "/tmp/ipykernel_55/3896315690.py:62: RuntimeWarning: invalid value encountered in scalar divide\n",
      "  AD_ra2 = np.where(ATS_2<np.sum(Pot_ATS2),(ATS_2/np.sum(Pot_ATS2)), 1)\n"
     ]
    },
    {
     "name": "stdout",
     "output_type": "stream",
     "text": [
      "Iteration completed \n",
      "Area distributed after step 4: 0\n",
      "Iteration completed \n",
      "Area distributed after step 4: 0\n"
     ]
    },
    {
     "name": "stderr",
     "output_type": "stream",
     "text": [
      "/tmp/ipykernel_55/3896315690.py:62: RuntimeWarning: invalid value encountered in scalar divide\n",
      "  AD_ra2 = np.where(ATS_2<np.sum(Pot_ATS2),(ATS_2/np.sum(Pot_ATS2)), 1)\n",
      "/tmp/ipykernel_55/3896315690.py:62: RuntimeWarning: invalid value encountered in scalar divide\n",
      "  AD_ra2 = np.where(ATS_2<np.sum(Pot_ATS2),(ATS_2/np.sum(Pot_ATS2)), 1)\n"
     ]
    },
    {
     "name": "stdout",
     "output_type": "stream",
     "text": [
      "Iteration completed \n",
      "Area distributed after step 4: 0\n",
      "Iteration completed \n",
      "Area distributed after step 4: 0\n"
     ]
    },
    {
     "name": "stderr",
     "output_type": "stream",
     "text": [
      "/tmp/ipykernel_55/3896315690.py:62: RuntimeWarning: invalid value encountered in scalar divide\n",
      "  AD_ra2 = np.where(ATS_2<np.sum(Pot_ATS2),(ATS_2/np.sum(Pot_ATS2)), 1)\n",
      "/tmp/ipykernel_55/3896315690.py:62: RuntimeWarning: invalid value encountered in scalar divide\n",
      "  AD_ra2 = np.where(ATS_2<np.sum(Pot_ATS2),(ATS_2/np.sum(Pot_ATS2)), 1)\n"
     ]
    },
    {
     "name": "stdout",
     "output_type": "stream",
     "text": [
      "Iteration completed \n",
      "Area distributed after step 4: 0\n"
     ]
    },
    {
     "name": "stderr",
     "output_type": "stream",
     "text": [
      "/tmp/ipykernel_55/3896315690.py:62: RuntimeWarning: invalid value encountered in scalar divide\n",
      "  AD_ra2 = np.where(ATS_2<np.sum(Pot_ATS2),(ATS_2/np.sum(Pot_ATS2)), 1)\n",
      "/tmp/ipykernel_55/3896315690.py:62: RuntimeWarning: invalid value encountered in scalar divide\n",
      "  AD_ra2 = np.where(ATS_2<np.sum(Pot_ATS2),(ATS_2/np.sum(Pot_ATS2)), 1)\n"
     ]
    },
    {
     "name": "stdout",
     "output_type": "stream",
     "text": [
      "Iteration completed \n",
      "Area distributed after step 4: 0\n",
      "Iteration completed \n",
      "Area distributed after step 4: 0\n"
     ]
    },
    {
     "name": "stderr",
     "output_type": "stream",
     "text": [
      "/tmp/ipykernel_55/3896315690.py:62: RuntimeWarning: invalid value encountered in scalar divide\n",
      "  AD_ra2 = np.where(ATS_2<np.sum(Pot_ATS2),(ATS_2/np.sum(Pot_ATS2)), 1)\n",
      "/tmp/ipykernel_55/3896315690.py:62: RuntimeWarning: invalid value encountered in scalar divide\n",
      "  AD_ra2 = np.where(ATS_2<np.sum(Pot_ATS2),(ATS_2/np.sum(Pot_ATS2)), 1)\n"
     ]
    },
    {
     "name": "stdout",
     "output_type": "stream",
     "text": [
      "Iteration completed \n",
      "Area distributed after step 4: 0\n",
      "Iteration completed \n",
      "Area distributed after step 4: 0\n"
     ]
    },
    {
     "name": "stderr",
     "output_type": "stream",
     "text": [
      "/tmp/ipykernel_55/3896315690.py:62: RuntimeWarning: invalid value encountered in scalar divide\n",
      "  AD_ra2 = np.where(ATS_2<np.sum(Pot_ATS2),(ATS_2/np.sum(Pot_ATS2)), 1)\n"
     ]
    },
    {
     "name": "stdout",
     "output_type": "stream",
     "text": [
      "Iteration completed \n",
      "Area distributed after step 4: 0\n"
     ]
    },
    {
     "name": "stderr",
     "output_type": "stream",
     "text": [
      "/tmp/ipykernel_55/3896315690.py:62: RuntimeWarning: invalid value encountered in scalar divide\n",
      "  AD_ra2 = np.where(ATS_2<np.sum(Pot_ATS2),(ATS_2/np.sum(Pot_ATS2)), 1)\n",
      "/tmp/ipykernel_55/3896315690.py:62: RuntimeWarning: invalid value encountered in scalar divide\n",
      "  AD_ra2 = np.where(ATS_2<np.sum(Pot_ATS2),(ATS_2/np.sum(Pot_ATS2)), 1)\n"
     ]
    },
    {
     "name": "stdout",
     "output_type": "stream",
     "text": [
      "Iteration completed \n",
      "Area distributed after step 4: 0\n",
      "Iteration completed \n",
      "Area distributed after step 4: 0\n"
     ]
    },
    {
     "name": "stderr",
     "output_type": "stream",
     "text": [
      "/tmp/ipykernel_55/3896315690.py:62: RuntimeWarning: invalid value encountered in scalar divide\n",
      "  AD_ra2 = np.where(ATS_2<np.sum(Pot_ATS2),(ATS_2/np.sum(Pot_ATS2)), 1)\n",
      "/tmp/ipykernel_55/3896315690.py:62: RuntimeWarning: invalid value encountered in scalar divide\n",
      "  AD_ra2 = np.where(ATS_2<np.sum(Pot_ATS2),(ATS_2/np.sum(Pot_ATS2)), 1)\n"
     ]
    },
    {
     "name": "stdout",
     "output_type": "stream",
     "text": [
      "Iteration completed \n",
      "Area distributed after step 4: 0\n",
      "Iteration completed \n",
      "Area distributed after step 4: 0\n"
     ]
    },
    {
     "name": "stderr",
     "output_type": "stream",
     "text": [
      "/tmp/ipykernel_55/3896315690.py:62: RuntimeWarning: invalid value encountered in scalar divide\n",
      "  AD_ra2 = np.where(ATS_2<np.sum(Pot_ATS2),(ATS_2/np.sum(Pot_ATS2)), 1)\n",
      "/tmp/ipykernel_55/3896315690.py:62: RuntimeWarning: invalid value encountered in scalar divide\n",
      "  AD_ra2 = np.where(ATS_2<np.sum(Pot_ATS2),(ATS_2/np.sum(Pot_ATS2)), 1)\n"
     ]
    },
    {
     "name": "stdout",
     "output_type": "stream",
     "text": [
      "Iteration completed \n",
      "Area distributed after step 4: 0\n",
      "Iteration completed \n",
      "Area distributed after step 4: 0\n"
     ]
    },
    {
     "name": "stderr",
     "output_type": "stream",
     "text": [
      "/tmp/ipykernel_55/3896315690.py:62: RuntimeWarning: invalid value encountered in scalar divide\n",
      "  AD_ra2 = np.where(ATS_2<np.sum(Pot_ATS2),(ATS_2/np.sum(Pot_ATS2)), 1)\n",
      "/tmp/ipykernel_55/3896315690.py:62: RuntimeWarning: invalid value encountered in scalar divide\n",
      "  AD_ra2 = np.where(ATS_2<np.sum(Pot_ATS2),(ATS_2/np.sum(Pot_ATS2)), 1)\n"
     ]
    },
    {
     "name": "stdout",
     "output_type": "stream",
     "text": [
      "Iteration completed \n",
      "Area distributed after step 4: 0\n"
     ]
    },
    {
     "name": "stderr",
     "output_type": "stream",
     "text": [
      "/tmp/ipykernel_55/3896315690.py:62: RuntimeWarning: invalid value encountered in scalar divide\n",
      "  AD_ra2 = np.where(ATS_2<np.sum(Pot_ATS2),(ATS_2/np.sum(Pot_ATS2)), 1)\n",
      "/tmp/ipykernel_55/3896315690.py:62: RuntimeWarning: invalid value encountered in scalar divide\n",
      "  AD_ra2 = np.where(ATS_2<np.sum(Pot_ATS2),(ATS_2/np.sum(Pot_ATS2)), 1)\n"
     ]
    },
    {
     "name": "stdout",
     "output_type": "stream",
     "text": [
      "Iteration completed \n",
      "Area distributed after step 4: 0\n",
      "Iteration completed \n",
      "Area distributed after step 4: 0\n",
      "{'df_cumulative': 0        0.0\n",
      "1        0.0\n",
      "2        0.0\n",
      "3        0.0\n",
      "4        0.0\n",
      "        ... \n",
      "40567    0.0\n",
      "40568    0.0\n",
      "40569    0.0\n",
      "40570    0.0\n",
      "40571    0.0\n",
      "Length: 40572, dtype: float64, 'AD_area': array([[0., 0., 0., ..., 0., 0., 0.],\n",
      "       [0., 0., 0., ..., 0., 0., 0.],\n",
      "       [0., 0., 0., ..., 0., 0., 0.],\n",
      "       ...,\n",
      "       [0., 0., 0., ..., 0., 0., 0.],\n",
      "       [0., 0., 0., ..., 0., 0., 0.],\n",
      "       [0., 0., 0., ..., 0., 0., 0.]]), 'df_mon':        Month\n",
      "0          1\n",
      "1          2\n",
      "2          3\n",
      "3          4\n",
      "4          5\n",
      "...      ...\n",
      "40567      8\n",
      "40568      9\n",
      "40569     10\n",
      "40570     11\n",
      "40571     12\n",
      "\n",
      "[40572 rows x 1 columns], 'ATS_2': 0.0, 'df_tot':        Month  Total_st1\n",
      "0          1        0.0\n",
      "1          2        0.0\n",
      "2          3        0.0\n",
      "3          4        0.0\n",
      "4          5        0.0\n",
      "...      ...        ...\n",
      "40567      8        0.0\n",
      "40568      9        0.0\n",
      "40569     10        0.0\n",
      "40570     11        0.0\n",
      "40571     12        0.0\n",
      "\n",
      "[40572 rows x 2 columns], 'c_s': 49, 'r_s': 69}\n"
     ]
    }
   ],
   "source": [
    "\n",
    "\n",
    "allcrops = {'Barley':'Bar', 'Cassava':'Cas', 'Cotton':'Cot', 'Fodder':'Fod', 'Groundnuts':'Gro',\n",
    "            'Maize':'Maz', 'Millet':'Mil', 'Oil palm':'Olp', 'Others annual':'Otha', 'Others perennial':'Othp',\n",
    "            'Potatoes':'Pot', 'Pulses':'Pul', 'Rapeseed':'Rap', 'Rice':'Ric', 'Rye':'Rye', 'Sorghum':'Sor',\n",
    "            'Soybeans':'Soy', 'Coffee':'Stm', 'Cocoa':'Stm', 'Sugar beet':'Sub', 'Sugar cane':'Sug', 'Sunflower':'Sun', \n",
    "            'Wheat':'Whe'}\n",
    "dist_array = {}\n",
    "irri_totals = {}\n",
    "\n",
    "year = \"00\" # \"05\"\n",
    "\n",
    "\n",
    "# GET ALL unique UNIT CODE\n",
    "unit_codes = np.unique(np.array([os.path.splitext(os.path.basename(tiff_file))[0] for tiff_file in glob.glob(\"../{}/*/**.tif\".format(root_folder), recursive=True)]))\n",
    "\n",
    "for unit_code in unit_codes:\n",
    "  print(unit_code)  \n",
    " \n",
    "  # Get the crop-specific rainfed growing area and crop calendar of the unit code district\n",
    "  ranked_df_unitcode = ranked_df.loc[(ranked_df['unit_code'] == int(unit_code))]\n",
    "  # print(ranked_df_unitcode)\n",
    "  # SKIP UNIT CODES NOT IN RANKED DATA\n",
    "  if not ranked_df_unitcode.shape[0]:\n",
    "    # print(\"Unit code {} is not in ranked_df\".format(unit_code))\n",
    "    continue\n",
    "\n",
    "  # LOAD THE AEI, ARA, AND CLE\n",
    "  for aac in [\"AEI\", \"Ara\",\"CLE\"]:\n",
    "    tiff_file_aac = os.path.join(\"../{}\".format(root_folder), \"{}_{}\".format(aac, year), \"{}.tif\".format(unit_code))\n",
    "    # print(tiff_file_aac)\n",
    "    dist_array[\"dist_array_{}\".format(aac.lower())] = gdal.Open(tiff_file_aac, gdal.GA_ReadOnly).ReadAsArray()\n",
    " \n",
    "   # Loop through the crops by rank while allocating area in the seven steps\n",
    "  for j in range(1, int(np.max(ranked_df_unitcode['rank']) + 1)):\n",
    "    ranked_df_rank = ranked_df_unitcode.loc[(ranked_df_unitcode['rank'] == j)]\n",
    "    # print(ranked_df_rank)\n",
    "    # Extract array data for crop type and assign to corresponding variable in crop_dict\n",
    "    crop_name = ranked_df_rank.Crop.tolist()[0]\n",
    "\n",
    "\n",
    "    # GET the TIFF FILE FOR THE CROP\n",
    "    tiff_file = None\n",
    "    for k in allcrops.keys():\n",
    "      if k in crop_name:\n",
    "        tiff_file = os.path.join(\"../{}\".format(root_folder), \"{}_{}\".format(allcrops[k], year), \"{}.tif\".format(unit_code))\n",
    "        # print(\"FOUND\")\n",
    "        break\n",
    "    # SKIP THE ROW IF CROP NOT IN ALL CROPS\n",
    "    if not tiff_file:\n",
    "      # print(\"Crop {} is not in allcrops dictionary\".format(crop_name))\n",
    "      break\n",
    "    # print(tiff_file)\n",
    "\n",
    "    \n",
    "    AH_array = gdal.Open(tiff_file, gdal.GA_ReadOnly).ReadAsArray()\n",
    "    AH_array[AH_array < 0] = 0  \n",
    "\n",
    "      \n",
    "    # CALL THE STEPS ONE AT A TIME WITH THE DATA  AND FIX THE ERRORS\n",
    "    step1 = step00(step=1, ranked_df_rank = ranked_df_rank, dist_array = dist_array, AH_array = AH_array,\n",
    "                   df_tot = None, ATS_2 = None, AD_area = None, df_cumulative=None,\n",
    "                   df_mon=None, TAD_12=None)\n",
    "\n",
    "      # {\"df_cumulative\":df_cumulative, \"AD_area\" : AD_area1, \"ATS_2\": ATS_2, \"df_tot\":df_tot}\n",
    "    step2 = step00(step=2, ranked_df_rank = ranked_df_rank, dist_array = dist_array, AH_array = AH_array,\n",
    "                  df_tot = step1['df_tot'],  ATS_2 = step1['ATS_2'], AD_area = step1['AD_area'], \n",
    "                  df_cumulative=step1['df_cumulative'], df_mon=step1['df_mon'],\n",
    "                  c_s=step1['c_s'], r_s=step1['r_s'],\n",
    "                  TAD_12=None)\n",
    "    \n",
    "    step3 = step00(step=3, ranked_df_rank = ranked_df_rank, dist_array = dist_array, AH_array = AH_array,\n",
    "                  df_tot = step2['df_tot'],  ATS_2 = step2['ATS_2'], AD_area = step2['AD_area'], \n",
    "                  df_cumulative=step2['df_cumulative'], df_mon=step2['df_mon'],\n",
    "                  c_s=step2['c_s'], r_s=step2['r_s'],\n",
    "                  TAD_12=None)\n",
    "    \n",
    "    step4 = step00(step=4, ranked_df_rank = ranked_df_rank, dist_array = dist_array, AH_array = AH_array,\n",
    "                  df_tot = step3['df_tot'],  ATS_2 = step3['ATS_2'], AD_area = step3['AD_area'], \n",
    "                  df_cumulative=step3['df_cumulative'], df_mon=step3['df_mon'],\n",
    "                  c_s=step3['c_s'], r_s=step3['r_s'],\n",
    "                  TAD_12=None,\n",
    "                  template_tiff= tiff_file)\n",
    "print(step4)\n"
   ]
  },
  {
   "cell_type": "code",
   "execution_count": 28,
   "id": "161d91c1-61cf-467e-a8d7-8207eb6505b8",
   "metadata": {},
   "outputs": [
    {
     "data": {
      "text/plain": [
       "0.0"
      ]
     },
     "execution_count": 28,
     "metadata": {},
     "output_type": "execute_result"
    }
   ],
   "source": [
    "step2['AD_area'].sum()"
   ]
  },
  {
   "cell_type": "code",
   "execution_count": null,
   "id": "8caa1e8b-ad2b-4f11-98c7-2585b5bd7b45",
   "metadata": {},
   "outputs": [],
   "source": []
  },
  {
   "cell_type": "code",
   "execution_count": null,
   "id": "dfd6b8be-5a95-45fd-b636-a30869292c7b",
   "metadata": {},
   "outputs": [],
   "source": []
  },
  {
   "cell_type": "code",
   "execution_count": null,
   "id": "1d42a13e-cafe-44d8-8715-78fa2f3a6a06",
   "metadata": {},
   "outputs": [],
   "source": []
  },
  {
   "cell_type": "code",
   "execution_count": 22,
   "id": "dfc6bf7a-caa3-4083-9f42-8e3887cd3e48",
   "metadata": {},
   "outputs": [],
   "source": [
    "# def step0(step, ranked_df, df_tot_st1, listcom, r_s, c_s, \n",
    "#           dist_array, AH_array, AD_step1, ATS_2, AD_area1, i, df_mon, TAD_12=0):\n",
    "#   #$$$$$$$$\n",
    "#   #$$$$$$$$\n",
    "#   # (Filter the total dataframe for a month in which crop grow)\n",
    "#   # Get the months between planting and Maturity for the crop\n",
    "#   if not step in [1]:\n",
    "#       # Dataframe with the AEI left from the previous step for each month for the\n",
    "#       df_max_filt = df_tot_st1[df_tot_st1[\"Month\"].isin(listcom)]\n",
    "      \n",
    "#       # Group the cell values\n",
    "#       # \n",
    "#       n = len(df_max_filt) // (r_s * c_s)\n",
    "  \n",
    "  \n",
    "#   # Select the maximum total area assigned for the month in which this crop grow\n",
    "#   df_max = df_max_filt.groupby(np.arange(len(df_max_filt)) // n).max()\n",
    "  \n",
    "#   # Change it to array\n",
    "#   max_step2 = np.array(df_max[\"Total_st1\"]).reshape(r_s, c_s) # \"Total_st\" + step\n",
    "\n",
    "#  #################################\n",
    "#   # if step in [\"6\"]:\n",
    "#   ##Detrmine the free AEI cell\n",
    "#   # if ranked_df_rf[\"Crop\"][i_rf] in Annual:\n",
    "#   #   AEI_fr_ce_6 = np.where(dist_array[\"dist_array_aei\"] > max_step6, (dist_array[\"dist_array_aei\"]-max_step6), 0)\n",
    "#   #   Pot_ATS5=Pot_ATS6=np.where(dist_array[\"dist_array_cle\"]>0,(AEI_fr_ce_6), 0)\n",
    "#   # else:\n",
    "#   #   area_95_=0.95*dist_array[\"dist_array_area\"]\n",
    "#   #   free_area_95=np.where(area_95_> max_step6, (area_95_-max_step6), 0)\n",
    "#   #   Pot_ATS6=np.where(dist_array[\"dist_array_cle\"]>dist_array[\"dist_array_aei\"],(free_area_95), 0)\n",
    "#  #################################\n",
    "  \n",
    "#   AEI_fr_ce_2 = np.where(dist_array[\"dist_array_aei\"] > max_step2, \n",
    "#                          (dist_array[\"dist_array_aei\"]-max_step2), 0)\n",
    "#  ################\n",
    "#  # if step in [\"3\", \"4\"]:\n",
    "#  # AEI_fr_ce_3 = np.maximum(dist_array[\"dist_array_aei\"] - max_step3, 0)\n",
    "#  ################\n",
    "  \n",
    "#   # Determine the AH_free_cell\n",
    "#   AH_fr_ce_2 = np.maximum(AH_array - AD_step1, 0)\n",
    "  \n",
    "#   # Potential area to be distributed in this step\n",
    "#   Pot_ATS2 = np.minimum(AEI_fr_ce_2, AH_fr_ce_2)\n",
    "\n",
    "#  #########\n",
    "#  # if step == 3:\n",
    "#  # Pot_ATS3 = np.where(dist_array[\"dist_array_cle\"]>0,(AEI_fr_ce_3), 0)\n",
    "#  #########\n",
    "#  #########\n",
    "#  # if step == 4:\n",
    "#  # Pot_ATS4 = np.where(dist_array[\"dist_array_cle\"] == 0, AEI_fr_ce_4, 0)\n",
    "#  #########\n",
    "#  #########\n",
    "#  # if step == \"5\":\n",
    "#  # ATS_5=ranked_df_rf.Growing_area[i_rf]\n",
    "#  # CE_fr_ce_5 = np.where(dist_array[\"dist_array_cle\"] > max_step5, \n",
    "#  #                       (dist_array[\"dist_array_cle\"]-max_step5), 0)\n",
    "#  # Pot_ATS5=CE_fr_ce_5 if ATS_5 in Annual else np.where(dist_array[\"dist_array_cle\"] > \\\n",
    "#  #                                                      dist_array[\"dist_array_aei\"],\n",
    "#  #                                                      (CE_fr_ce_5), 0)\n",
    "#  #########\n",
    "#   ############################\n",
    "#   # if step == 7:\n",
    "#   ##Detrmine the 95% of cell area\n",
    "#   # area_95_=0.95*dist_array[\"dist_array_area\"]\n",
    "#   # free_area_95=np.where(area_95_> max_step7, (area_95_-max_step7), 0)\n",
    "\n",
    "#   # Pot_ATS7=np.where(((dist_array[\"dist_array_cle\"]>0)|(dist_array[\"dist_array_aei\"]>0)),\n",
    "#   #                   (free_area_95), 0)\n",
    "#   #################################\n",
    "              \n",
    "#   # Determine the distribution ratio as the ratio of ATS and Pot_ATS\n",
    "#   with np.errstate(divide='ignore'):\n",
    "#     AD_ra2 = np.where(ATS_2<np.sum(Pot_ATS2),(ATS_2/np.sum(Pot_ATS2)), 1)\n",
    "    \n",
    "#   AD_area2= Pot_ATS2*AD_ra2 if ATS_2>0 else 0\n",
    "#   TAD_12=TAD_12 + AD_area1 + AD_area2\n",
    "#  #########\n",
    "#  # if step == 3:\n",
    "#  # TAD_13=AD_area1+AD_area2+AD_area3\n",
    "#  #########\n",
    "#  #########\n",
    "#  # if step == 4:\n",
    "#  # TAD_14=AD_area1+AD_area2+AD_area3+AD_area4\n",
    "#  #########\n",
    "#  #########\n",
    "#  # if step == \"5\":\n",
    "#  # AD_area5=Pot_ATS5*AD_ra5\n",
    "#  # TAD_5=AD_area5\n",
    "#  #########\n",
    "#  #########\n",
    "#  # if step == 6:\n",
    "#  # TAD_56=AD_area5+AD_area6 if ATS_6>0 else AD_area5\n",
    "#  #########\n",
    "\n",
    "#   #########################\n",
    "#   # Can it be done in Numpy or pandas\n",
    "#   ########################\n",
    "#   for row in range(TAD_12.shape[0]):\n",
    "#     for col in range(TAD_12.shape[1]):\n",
    "#       if TAD_12[row, col] <= dist_array[\"dist_array_area\"][row, col]:\n",
    "#         TAD_12[row, col] = TAD_12[row, col]\n",
    "#       else:\n",
    "#         ratio = dist_array[\"dist_array_area\"][row, col] / TAD_12[row, col]\n",
    "#         TAD_12[row, col] *= ratio\n",
    "  \n",
    "#   if round(np.sum(TAD_12),2) <= (ranked_df.Growing_area[i]):\n",
    "#     ATS_3= (ranked_df.Growing_area[i])-round(np.sum(TAD_12),2)\n",
    "#     AD_step2=TAD_12\n",
    "#     ###\n",
    "#     # if step == 4 and (round(np.sum(TAD_14),2) < (ranked_df.Growing_area[i])):\n",
    "#     #   raise SyntaxError(\"Error Check Your Code!\")\n",
    "#         # print(\"Iteration completed \")\n",
    "#     ########\n",
    "    \n",
    "#   else:\n",
    "#     rGai = ranked_df.Growing_area[i]\n",
    "#     AD_area2= AD_area2*0 if rGai == 0 else TAD_12*(rGai /np.sum(TAD_12)) if rGai > 0 else AD_area2\n",
    "#     ATS_3= 0\n",
    "    \n",
    "#   # Create array for step 2\n",
    "#   ###\n",
    "#   # if step == 3:\n",
    "#   # step = \"3\"\n",
    "#   ########\n",
    "#   array_name2 = \"Array_\" + ranked_df.Crop[i][:3] + ranked_df.Crop[i][-1] + \"2\" #+ step \n",
    "#   arr2 = TAD_12\n",
    "\n",
    "#   # Repeat array for 12 months\n",
    "#   arr2_re = np.repeat(arr2, 12)\n",
    "#   #########################################\n",
    "#   # if step == \"5\":\n",
    "#   #Change the array to dataframe\n",
    "#   # c_s = len(arr2[0])\n",
    "#   # r_s = len(arr2)\n",
    "#   # df_month = pd.DataFrame(np.arange(1, 13), columns=['Month'])\n",
    "#   # df_mon = pd.concat([df_month] * c_s * r_s, ignore_index=True)\n",
    "#   #########################################\n",
    "#   # Convert array to dataframe\n",
    "#   df_2 = pd.DataFrame(arr2_re, index=np.arange(len(df_mon)), columns=[array_name2])\n",
    "    \n",
    "#   # Merge month and array dataframes\n",
    "#   df_area2 = pd.concat([df_mon, df_2], axis=1)\n",
    "    \n",
    "#   # Filter the months when the crop grows\n",
    "#   crop_1 = df_area2[(df_area2[\"Month\"].isin(listcom))]\n",
    "    \n",
    "#   # Filter the months when the crop doesn't grow\n",
    "#   crop_not = df_area2[(~df_area2[\"Month\"].isin(listcom))]\n",
    "    \n",
    "#   # Set the value of the array to 0 for months when the crop doesn't grow\n",
    "#   crop_not[array_name2].values[:] = 0\n",
    "\n",
    "#   ###\n",
    "#   # if step in [\"5\", \"7\"]:\n",
    "#   # for col in crop_not.columns:\n",
    "#   #   crop_not[array_name7].values[:] = 0\n",
    "#   ########\n",
    "    \n",
    "#   # Concatenate the two dataframes and sort by index\n",
    "#   #####################################################\n",
    "#   # UNNESSESARY LINE\n",
    "#   df_name2 = ranked_df.Crop[i][:3] + ranked_df.Crop[i][-1] + \"_step2\" #  + \"_step\" + step\n",
    "#   #####################################################\n",
    "#   df_name2 = pd.concat([crop_1, crop_not])\n",
    "#   df_name2 = df_name2.sort_index()\n",
    "    \n",
    "#   # Add the dataframe to the list\n",
    "#   df_list = []\n",
    "#   df_list.append(df_name2[array_name2])\n",
    "    \n",
    "#   # Concatenate all the dataframes in the list into a single array\n",
    "#   Step_2 = pd.concat(df_list, axis=1).sum(axis=1)\n",
    "#     ###\n",
    "#   # if step == 7:\n",
    "#   # Step_7 = Step_6 + pd.concat(df_list, axis=1).sum(axis=1)\n",
    "#   ########  \n",
    "#   ###########\n",
    "#   # if step == \"4\":\n",
    "#     # step4_finalarray(ranked_df, df_mon, Step_4, irri_totals, tiff_ir, \n",
    "#     #                listcom, r_s, c_s, output_folder, i)\n",
    "#   ########\n",
    "              \n",
    "  \n",
    "              \n",
    "#   # Create a dataframe from the final array\n",
    "#   df_tot_st2 = pd.concat([df_mon, Step_2], axis=1)\n",
    "#   df_tot_st2.columns = ['Month', 'Total_st2']\n",
    "#   # print(\"Total Step2:\", df_tot_st2.head(24))\n",
    "#   return({\"df_tot_st2\":df_tot_st2, \"dist_array\":dist_array, \n",
    "#             \"AH_array\":AH_array, \"AD_step1\":AD_step1, \n",
    "#             \"ATS_2\":ATS_2, \"AD_area1\":AD_area1, \"TAD_13\":TAD_13})\n"
   ]
  },
  {
   "cell_type": "code",
   "execution_count": null,
   "id": "10e0812f-8eb0-462b-b94f-ba4f316f8fb8",
   "metadata": {},
   "outputs": [],
   "source": []
  },
  {
   "cell_type": "code",
   "execution_count": null,
   "id": "42578ea6-ea5f-4862-8599-82299361b5bf",
   "metadata": {},
   "outputs": [],
   "source": []
  },
  {
   "cell_type": "code",
   "execution_count": null,
   "id": "0a7e1324-dd83-4636-afcd-d564237bc7f8",
   "metadata": {},
   "outputs": [],
   "source": []
  },
  {
   "cell_type": "code",
   "execution_count": 93,
   "id": "c4499a7f-7b7b-48ab-a9ca-81b000516e02",
   "metadata": {},
   "outputs": [
    {
     "data": {
      "text/plain": [
       "'data/Clipped_2000'"
      ]
     },
     "execution_count": 93,
     "metadata": {},
     "output_type": "execute_result"
    }
   ],
   "source": [
    "root_folder"
   ]
  },
  {
   "cell_type": "code",
   "execution_count": null,
   "id": "049da086-34da-4d09-b3eb-04f54052c92b",
   "metadata": {},
   "outputs": [],
   "source": []
  },
  {
   "cell_type": "code",
   "execution_count": 64,
   "id": "1e92d594-d4c9-4341-88ec-806ad65e4583",
   "metadata": {},
   "outputs": [],
   "source": [
    "# Load the unit code files\n",
    "\n",
    "\n",
    "\n",
    "tiff_files = glob.glob(\"../{}/*/*.tif\".format(root_folder), recursive=True)  #glob.glob(\"{}/**/*.tif\".format(raster_folder), recursive=True)  \n",
    "allcrops = {\"Rice\":\"Ric\", \"Wheat\":\"Whe\"}\n",
    "dist_array = {}\n",
    "irri_totals = {}\n",
    "\n",
    "year = \"00\" # \"05\"\n",
    "\n",
    "# for unit_code in ranked_df['unit_code'].unique():\n",
    "dist_array[\"dist_array_area\"] = None\n",
    "  # (Filter and extract TIFF files that correspond to the selected unit_code)\n",
    "\n",
    "\n",
    "\n",
    "# for tiff_file in tiff_files: #[:2]\n",
    "#   # print(tiff_file)\n",
    "#   # Open the tiff file \n",
    "#   # \n",
    "#   folder_path = os.path.dirname(tiff_file)\n",
    "#   main_folder_path, subfolder_name = os.path.split(folder_path)\n",
    "#   print(subfolder_name ) \n",
    "  \n",
    "#   if subfolder_name in [\"AEI_{}\".format(year), \"Ara_{}\".format(year),\"CLE_{}\".format(year)]:\n",
    "#     print(subfolder_name )\n",
    "#     next\n",
    "\n",
    "#   # IF IT IS A CROP SUBFOLDER\n",
    "#   if subfolder_name in [\"{}_{}\".format(ii, year)for ii in allcrops.values()]:\n",
    "#     print(1)\n",
    "#     print(subfolder_name )\n",
    "#     next\n",
    "    \n",
    "  # # Get the Unit code from the tiff file: basename    \n",
    "  # unit_code = os.path.splitext(os.path.basename(tiff_file))[0] \n",
    "  # # print(tiff_file)\n",
    "  # # with open_tiff_file(tiff_file) as array:\n",
    "  # #   print(array)\n",
    "  # #   array = np.where(np.logical_or(np.isnan(array), np.isinf(array)), 0, array)\n",
    "  # array = gdal.Open(tiff_file, gdal.GA_ReadOnly).ReadAsArray()\n",
    "  # # if  array.sum():\n",
    "  # #   print(array.sum())\n",
    "  # # print(unit_code )\n",
    "      \n",
    "  #  # # Get the Unit code from the tiff file: basename    \n",
    "  # # unit_code = os.path.splitext(os.path.basename(tiff_file))[0] \n",
    "  # #   # (#os.path.basename(tiff_file)[:-4])\n",
    "\n",
    "  # #       #$$$$$$$$$$$$$$$$$$$$$$$$$$$$$$$$$$%%%%%%%%%%%%%%%%%^&^^^^^^^^^^^^^^\n",
    "\n",
    "  # # # Get the crop-specific rainfed growing area and crop calendar of the unit code district\n",
    "  # ranked_df_unitcode = ranked_df.loc[(ranked_df['unit_code'] == int(unit_code))]\n",
    "  # # print(ranked_df_unitcode)\n",
    "  #  # Loop through the crops by rank while allocating area in the seven steps\n",
    "  # for j in range(1, int(np.max(ranked_df_unitcode['rank']) + 1)):\n",
    "  #   ranked_df_rank = ranked_df_unitcode.loc[(ranked_df_unitcode['rank'] == j)]\n",
    "  #   print(ranked_df_rank)\n",
    "\n",
    "  #   # CAN WE MOVE THE \"AEI_05\" \"Ara_05\" AND \"CLE_05\" OPERATIONS TO A SEPARATE FUNCTION\n",
    "  #     # WHAT ARE THE CONNECTIONS TO THE AREA SEPARATION\n",
    "  #   for i, row in ranked_df_rank.iterrows():\n",
    "  #     p = ranked_df_rank.Planting_Month[i]\n",
    "  #     m = ranked_df_rank.Maturity_Month[i]\n",
    "  #     listcom = getListcom(p, m)\n",
    "  #     if subfolder_name == \"AEI_05\":\n",
    "  #       tiff_ir = tiff_file\n",
    "  #       dist_array[\"dist_array_aei\"] = array\n",
    "  #     elif subfolder_name == \"Ara_05\":\n",
    "  #       dist_array[\"dist_array_area\"] = array\n",
    "  #     elif subfolder_name == \"CLE_05\":\n",
    "  #       dist_array[\"dist_array_cle\"] = array\n",
    "      \n",
    "\n",
    "        \n",
    "  #     else:\n",
    "  #       # Extract array data for crop type and assign to corresponding variable in crop_dict\n",
    "  #       crop_name = ranked_df.Crop[i]\n",
    "  #       dist_array[crop_name] = array\n",
    "  #       AH_array = dist_array[crop_name]\n",
    "  #       AD_step1 = np.where(dist_array[\"dist_array_area\"] > 0,\n",
    "  #                           (AH_array * dist_array[\"dist_array_aei\"]) / dist_array[\"dist_array_area\"], 0)\n",
    "\n",
    "    \n",
    "  #     # CALL THE STEPS ONE ATA A TIME WITH THE DATA  AND FIX THE ERRORS\n",
    "  #     step1 = step0(ranked_df = ranked_df_rank, df_tot_st1 = None, \n",
    "  #                   listcom = listcom, r_s = None, c_s = None, \n",
    "  #                   dist_array = dist_array, AH_array = AH_array, \n",
    "  #                   AD_step1 = AD_step1, ATS_2 = None, AD_area1 = None, \n",
    "  #                   i=i, df_mon=None, TAD_12=None)\n",
    "  #     step1\n",
    "      # ADDRESS ISSUE OF SEPARATE RAIFED AND IRRIGATED ALLOCATION\n",
    "\n",
    "  # break"
   ]
  },
  {
   "cell_type": "code",
   "execution_count": null,
   "id": "16c4c9a8-9754-4cb9-abc5-8768d2b8b0be",
   "metadata": {},
   "outputs": [],
   "source": [
    "\n",
    "\n",
    "    \n",
    "  #   # CAN WE MOVE THE \"AEI_05\" \"Ara_05\" AND \"CLE_05\" OPERATIONS TO A SEPARATE FUNCTION\n",
    "  #     # WHAT ARE THE CONNECTIONS TO THE AREA SEPARATION\n",
    "  #   for i, row in ranked_df_rank.iterrows():\n",
    "  #     p = ranked_df_rank.Planting_Month[i]\n",
    "  #     m = ranked_df_rank.Maturity_Month[i]\n",
    "  #     listcom = getListcom(p, m)\n",
    "  #     if subfolder_name == \"AEI_05\":\n",
    "  #       tiff_ir = tiff_file\n",
    "  #       dist_array[\"dist_array_aei\"] = array\n",
    "  #     elif subfolder_name == \"Ara_05\":\n",
    "  #       dist_array[\"dist_array_area\"] = array\n",
    "  #     elif subfolder_name == \"CLE_05\":\n",
    "  #       dist_array[\"dist_array_cle\"] = array\n",
    "  #     else:\n",
    "  #       # Extract array data for crop type and assign to corresponding variable in crop_dict\n",
    "  #       crop_name = ranked_df.Crop[i]\n",
    "  #       dist_array[crop_name] = array\n",
    "  #       AH_array = dist_array[crop_name]\n",
    "  #       AD_step1 = np.where(dist_array[\"dist_array_area\"] > 0,\n",
    "  #                           (AH_array * dist_array[\"dist_array_aei\"]) / dist_array[\"dist_array_area\"], 0)\n",
    "  #     # CALL THE STEPS ONE ATA A TIME WITH THE DATA  AND FIX THE ERRORS\n",
    "  #     step1 = step0(ranked_df = ranked_df_rank, df_tot_st1 = None, \n",
    "  #                   listcom = listcom, r_s = None, c_s = None, \n",
    "  #                   dist_array = dist_array, AH_array = AH_array, \n",
    "  #                   AD_step1 = AD_step1, ATS_2 = None, AD_area1 = None, \n",
    "  #                   i=i, df_mon=None, TAD_12=None)\n",
    "  #     step1\n",
    "      # ADDRESS ISSUE OF SEPARATE RAIFED AND IRRIGATED ALLOCATION"
   ]
  },
  {
   "cell_type": "code",
   "execution_count": null,
   "id": "07ffb432-67f4-4f22-9c87-820cb28bb1e2",
   "metadata": {},
   "outputs": [],
   "source": [
    "def step4_finalarray(ranked_df, df_mon, Step_4, unit_code,\n",
    "                     irri_totals, tiff_ir, listcom, r_s, c_s, output_folder, i):\n",
    "  # Create a dataframe from the final array\n",
    "  for crop_ir in ranked_df['Crop'].unique():\n",
    "    df_crop_ir = ranked_df[ranked_df['Crop'] == crop_ir]\n",
    "    # df_tot_st4 = pd.concat([df_mon, pd.DataFrame(Step_4, columns=['Total_st4'], index=df_crop_ir.index)], axis=1)\n",
    "    df_tot_st4 = pd.concat([df_mon, Step_4], axis=1)\n",
    "    df_tot_st4.columns = ['Month', 'Total_st4']\n",
    "    irri_totals[crop_ir] = df_tot_st4\n",
    "    # print(np.sum(irri_totals[crop]))\n",
    "    # print(np.sum(irri_totals[crop]))\n",
    "    # print(df_tot_st4.head(24))\n",
    "    with rasterio.open(tiff_ir) as src:\n",
    "      xmin, ymin, xmax, ymax = src.bounds\n",
    "      xres, yres = src.res\n",
    "      pixel_width, pixel_height = src.res\n",
    "      crs = src.crs\n",
    "\n",
    "      for k in listcom:\n",
    "        file_name = ranked_df.Crop[i][:3] + ranked_df.Crop[i][-1] + str(unit_code)+\"_tot\"\n",
    "        df_max_filt4 = df_tot_st4[(df_tot_st4[\"Month\"] == k)]\n",
    "        arr_filenam = np.array(df_max_filt4[\"Total_st4\"]).reshape(r_s, c_s)\n",
    "        arr_filenam = np.where(np.logical_or(np.isnan(arr_filenam), np.isinf(arr_filenam)), 0, arr_filenam)\n",
    "        arr_filenam = arr_filenam.astype(rasterio.float32)  # ensure data type is compatible with output GeoTIFF\n",
    "        Ras_filena = ranked_df.Crop[i][:3] + ranked_df.Crop[i][-1] + \"_\" + str(unit_code) + \"_ir\" + \"_\" + str(k)\n",
    "        transform = rasterio.transform.from_origin(xmin, ymax, pixel_width, pixel_height)\n",
    "        profile = {\n",
    "          'driver': 'GTiff',\n",
    "          'dtype': arr_filenam.dtype,\n",
    "          'count': 1,\n",
    "          'height': arr_filenam.shape[0],\n",
    "          'width': arr_filenam.shape[1],\n",
    "          'transform': transform,\n",
    "          'crs': crs,\n",
    "          'nodata': 0\n",
    "        }\n",
    "        \n",
    "        with rasterio.open(os.path.join(output_folder, Ras_filena + '.tif'), 'w', **profile) as dst:\n",
    "          dst.write(arr_filenam, 1)\n"
   ]
  },
  {
   "cell_type": "code",
   "execution_count": null,
   "id": "299a9ce4-c0d7-46d8-bff9-4bdc81e68f55",
   "metadata": {},
   "outputs": [],
   "source": [
    "def rasteriosave7(ranked_df, tiff_ir, unit_code, listcom, output_folder):\n",
    "  with rasterio.open(tiff_ir) as src:\n",
    "    xmin, ymin, xmax, ymax = src.bounds\n",
    "    xres, yres = src.res\n",
    "    pixel_width, pixel_height = src.res\n",
    "    crs = src.crs\n",
    "      \n",
    "    for k in listcom:\n",
    "      file_name = ranked_df.Crop[i][:3] + ranked_df.Crop[i][-1] + str(unit_code)+\"_tot\"\n",
    "      df_max_filt4 = df_tot_st4[(df_tot_st4[\"Month\"] == k)]\n",
    "      arr_filenam = np.array(df_max_filt4[\"Total_st4\"]).reshape(r_s, c_s)\n",
    "      arr_filenam = np.where(np.logical_or(np.isnan(arr_filenam), \n",
    "                                           np.isinf(arr_filenam)), 0, arr_filenam)\n",
    "      arr_filenam = arr_filenam.astype(rasterio.float32)  # ensure data type is compatible with output GeoTIFF\n",
    "      Ras_filena = ranked_df.Crop[i][:3] + ranked_df.Crop[i][-1] + \"_\" + str(unit_code) + \"_ir\" + \"_\" + str(k)\n",
    "      transform = rasterio.transform.from_origin(xmin, ymax, pixel_width, pixel_height)\n",
    "      profile = {\n",
    "          'driver': 'GTiff',\n",
    "          'dtype': arr_filenam.dtype,\n",
    "          'count': 1,\n",
    "          'height': arr_filenam.shape[0],\n",
    "          'width': arr_filenam.shape[1],\n",
    "          'transform': transform,\n",
    "          'crs': crs,\n",
    "          'nodata': 0\n",
    "        }\n",
    "        \n",
    "      with rasterio.open(os.path.join(output_folder, Ras_filena + '.tif'), \n",
    "                         'w', **profile) as dst:\n",
    "          dst.write(arr_filenam, 1)"
   ]
  },
  {
   "cell_type": "code",
   "execution_count": null,
   "id": "fc44e860-9916-4b6b-ac16-c4d2d8ee8d30",
   "metadata": {},
   "outputs": [],
   "source": []
  },
  {
   "cell_type": "code",
   "execution_count": null,
   "id": "dab14fa9-9ff8-49a9-b780-9f500e1d55ee",
   "metadata": {},
   "outputs": [],
   "source": [
    "\n"
   ]
  }
 ],
 "metadata": {
  "kernelspec": {
   "display_name": "Python 3 (ipykernel)",
   "language": "python",
   "name": "python3"
  },
  "language_info": {
   "codemirror_mode": {
    "name": "ipython",
    "version": 3
   },
   "file_extension": ".py",
   "mimetype": "text/x-python",
   "name": "python",
   "nbconvert_exporter": "python",
   "pygments_lexer": "ipython3",
   "version": "3.10.12"
  }
 },
 "nbformat": 4,
 "nbformat_minor": 5
}
